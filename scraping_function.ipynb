{
 "cells": [
  {
   "cell_type": "code",
   "execution_count": 1,
   "metadata": {},
   "outputs": [],
   "source": [
    "import requests\n",
    "import pandas as pd\n",
    "import json\n",
    "\n",
    "def EarningsCallTranscript (company, sym):\n",
    "\n",
    "    url = \"https://seeking-alpha.p.rapidapi.com/transcripts/v2/list\"\n",
    "\n",
    "    # Change company_name and symbol according to the company you are interested in\n",
    "    company_name = company\n",
    "    symbol = sym\n",
    "\n",
    "    #Size controls the number of transcript details returned (not all of them are earnings call transcripts), max size is 40\n",
    "    querystring = {\"id\":symbol ,\"size\":\"40\"}\n",
    "\n",
    "    headers = {\n",
    "\t    \"X-RapidAPI-Key\": \"f8098453cfmsh6e41a696fe434f9p10d68djsn76fb3704f8dc\", #enter your key between the double quotes here\n",
    "\t    \"X-RapidAPI-Host\": \"seeking-alpha.p.rapidapi.com\"\n",
    "    }\n",
    "\n",
    "    response = requests.get(url, headers=headers, params=querystring)\n",
    "    transcripts_list = response.json()\n",
    "\n",
    "    transcripts_list_idtitle = []\n",
    "\n",
    "    for item in transcripts_list['data']:\n",
    "        transcripts_list_idtitle.append({'id': item['id'], 'Title': item['attributes']['title']})\n",
    "\n",
    "    transcripts_list_df = pd.DataFrame(transcripts_list_idtitle)\n",
    "\n",
    "    transcripts_useful = transcripts_list_df.loc[transcripts_list_df['Title'].str.find('Earnings Call Transcript')>=0]\n",
    "\n",
    "    url = \"https://seeking-alpha.p.rapidapi.com/transcripts/v2/get-details\"\n",
    "\n",
    "    headers = {\n",
    "\t    \"X-RapidAPI-Key\": \"f8098453cfmsh6e41a696fe434f9p10d68djsn76fb3704f8dc\", #enter your key between the double quotes here\n",
    "\t    \"X-RapidAPI-Host\": \"seeking-alpha.p.rapidapi.com\"\n",
    "    }\n",
    "\n",
    "    for ind in transcripts_useful.index:\n",
    "\t    response = requests.get(url, headers=headers, params={\"id\": transcripts_useful['id'][ind]} )\n",
    "\t    filename = transcripts_useful['Title'][ind]\n",
    "\t    f = open(company_name+'/'+filename, 'w')\n",
    "\t    json.dump(response.json(), f)\n",
    "\t    f.close()\n",
    "\n",
    "    min_date = str(transcripts_list['meta']['page']['minmaxPublishOn']['min'] - 1)\n",
    "     \n",
    "    #The function returns the starting point for the next iteration\n",
    "    return min_date "
   ]
  },
  {
   "cell_type": "code",
   "execution_count": 3,
   "metadata": {},
   "outputs": [
    {
     "data": {
      "text/plain": [
       "1575400281"
      ]
     },
     "execution_count": 3,
     "metadata": {},
     "output_type": "execute_result"
    }
   ],
   "source": [
    "#Example: Note that you still need to create a folder with name 'Texas Instrument Incorporated' in the same directory as this scraping file\n",
    "EarningsCallTranscript('Texas Instrument Incorporated', 'txn')"
   ]
  },
  {
   "cell_type": "code",
   "execution_count": 4,
   "metadata": {},
   "outputs": [],
   "source": [
    "#This function is used for repetition since we can only get 40 documents at one time\n",
    "def EarningsCallTranscriptRepeat (company, sym, before):\n",
    "    url = \"https://seeking-alpha.p.rapidapi.com/transcripts/v2/list\"\n",
    "\n",
    "    # Change company_name and symbol according to the company you are interested in\n",
    "    company_name = company\n",
    "    symbol = sym\n",
    "\n",
    "    #Size controls the number of transcript details returned (not all of them are earnings call transcripts), max size is 40\n",
    "    querystring = {\"id\":symbol ,\"size\":\"40\", \"until\":before}\n",
    "\n",
    "    headers = {\n",
    "\t    \"X-RapidAPI-Key\": \"f8098453cfmsh6e41a696fe434f9p10d68djsn76fb3704f8dc\", #enter your key between the double quotes here\n",
    "\t    \"X-RapidAPI-Host\": \"seeking-alpha.p.rapidapi.com\"\n",
    "    }\n",
    "\n",
    "    response = requests.get(url, headers=headers, params=querystring)\n",
    "    transcripts_list = response.json()\n",
    "\n",
    "    transcripts_list_idtitle = []\n",
    "\n",
    "    for item in transcripts_list['data']:\n",
    "        transcripts_list_idtitle.append({'id': item['id'], 'Title': item['attributes']['title']})\n",
    "\n",
    "    transcripts_list_df = pd.DataFrame(transcripts_list_idtitle)\n",
    "\n",
    "    transcripts_useful = transcripts_list_df.loc[transcripts_list_df['Title'].str.find('Earnings Call Transcript')>=0]\n",
    "    transcripts_useful = transcripts_useful.loc[transcripts_useful['Title'].str.find(sym.upper())>=0]\n",
    "\n",
    "    url = \"https://seeking-alpha.p.rapidapi.com/transcripts/v2/get-details\"\n",
    "\n",
    "    headers = {\n",
    "\t    \"X-RapidAPI-Key\": \"f8098453cfmsh6e41a696fe434f9p10d68djsn76fb3704f8dc\", #enter your key between the double quotes here\n",
    "\t    \"X-RapidAPI-Host\": \"seeking-alpha.p.rapidapi.com\"\n",
    "    }\n",
    "\n",
    "    for ind in transcripts_useful.index:\n",
    "\t    response = requests.get(url, headers=headers, params={\"id\": transcripts_useful['id'][ind]} )\n",
    "\t    filename = transcripts_useful['Title'][ind]\n",
    "\t    f = open(company_name+'/'+filename, 'w')\n",
    "\t    json.dump(response.json(), f)\n",
    "\t    f.close()\n",
    "\n",
    "    min_date = transcripts_list['meta']['page']['minmaxPublishOn']['min'] - 1\n",
    "     \n",
    "    return min_date"
   ]
  },
  {
   "cell_type": "code",
   "execution_count": 5,
   "metadata": {},
   "outputs": [
    {
     "data": {
      "text/plain": [
       "1384917304"
      ]
     },
     "execution_count": 5,
     "metadata": {},
     "output_type": "execute_result"
    }
   ],
   "source": [
    "#Example of repetition\n",
    "EarningsCallTranscriptRepeat ('Texas Instrument Incorporated', 'txn', '1575400281')"
   ]
  },
  {
   "cell_type": "code",
   "execution_count": null,
   "metadata": {},
   "outputs": [],
   "source": []
  }
 ],
 "metadata": {
  "kernelspec": {
   "display_name": "base",
   "language": "python",
   "name": "python3"
  },
  "language_info": {
   "codemirror_mode": {
    "name": "ipython",
    "version": 3
   },
   "file_extension": ".py",
   "mimetype": "text/x-python",
   "name": "python",
   "nbconvert_exporter": "python",
   "pygments_lexer": "ipython3",
   "version": "3.10.9"
  }
 },
 "nbformat": 4,
 "nbformat_minor": 2
}
