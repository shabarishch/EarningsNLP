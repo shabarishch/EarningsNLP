{
 "cells": [
  {
   "cell_type": "markdown",
   "id": "d0febe85-0bf8-4963-a5e2-23898669e87f",
   "metadata": {},
   "source": [
    "# Stock price change (and other features) on Earnings Dates"
   ]
  },
  {
   "cell_type": "code",
   "execution_count": 218,
   "id": "fedfed90-1fbf-4341-a094-802d44a7dee2",
   "metadata": {},
   "outputs": [],
   "source": [
    "import pandas as pd\n",
    "import requests\n",
    "import numpy as np\n",
    "import matplotlib.pyplot as plt\n",
    "import re\n",
    "from datetime import datetime\n",
    "\n",
    "\n",
    "from seaborn import set_style\n",
    "set_style(\"whitegrid\")\n",
    "\n",
    "import os\n",
    "\n",
    "from bs4 import BeautifulSoup"
   ]
  },
  {
   "cell_type": "code",
   "execution_count": 219,
   "id": "4f5a4399-7320-4152-9d2b-56e5fa9dc7c4",
   "metadata": {},
   "outputs": [
    {
     "name": "stdout",
     "output_type": "stream",
     "text": [
      "File: config, Ticker: Ticker Symbol Not Found, Date and Time: Date and Time Not Found\n",
      "File: description, Ticker: Ticker Symbol Not Found, Date and Time: Date and Time Not Found\n",
      "File: FETCH_HEAD, Ticker: Ticker Symbol Not Found, Date and Time: Date and Time Not Found\n",
      "File: HEAD, Ticker: Ticker Symbol Not Found, Date and Time: Date and Time Not Found\n"
     ]
    },
    {
     "name": "stderr",
     "output_type": "stream",
     "text": [
      "C:\\Users\\spatan5\\AppData\\Local\\Temp\\ipykernel_9212\\1373160396.py:28: MarkupResemblesLocatorWarning: The input looks more like a filename than markup. You may want to open this file and pass the filehandle into Beautiful Soup.\n",
      "  soup = BeautifulSoup(content, 'html.parser')\n",
      "Some characters could not be decoded, and were replaced with REPLACEMENT CHARACTER.\n"
     ]
    },
    {
     "name": "stdout",
     "output_type": "stream",
     "text": [
      "File: index, Ticker: Ticker Symbol Not Found, Date and Time: Date and Time Not Found\n",
      "File: packed-refs, Ticker: Ticker Symbol Not Found, Date and Time: Date and Time Not Found\n",
      "File: scraping_guide-checkpoint.ipynb, Ticker: Ticker Symbol Not Found, Date and Time: Date and Time Not Found\n",
      "File: Alphabet (GOOG) Q1 2016 Results - Earnings Call Transcript, Ticker: GOOG, Date and Time: April 21, 2016 4:30 PM ET\n",
      "File: Alphabet (GOOG) Q1 2017 Results - Earnings Call Transcript, Ticker: GOOG, Date and Time: April 27, 2017 4:30 PM ET\n",
      "File: Alphabet (GOOG) Q2 2016 Results - Earnings Call Transcript, Ticker: GOOG, Date and Time: July 28, 2016 4:30 PM ET\n",
      "File: Alphabet (GOOG) Q3 2015 Results - Earnings Call Transcript, Ticker: GOOG, Date and Time: October 22, 2015 4:30 PM ET\n",
      "File: Alphabet (GOOG) Q3 2016 Results - Earnings Call Transcript, Ticker: GOOG, Date and Time: October 27, 2016 4:30 PM ET\n",
      "File: Alphabet (GOOG) Q3 2017 Results - Earnings Call Transcript, Ticker: GOOG, Date and Time: October 26, 2017 4:30 PM ET\n",
      "File: Alphabet (GOOG) Q3 2018 Results - Earnings Call Transcript, Ticker: GOOG, Date and Time: October 25, 2018 4:30 PM ET\n",
      "File: Alphabet (GOOG) Q4 2015 Results - Earnings Call Transcript, Ticker: GOOG, Date and Time: February 1, 2016 4:30 PM ET\n",
      "File: Alphabet (GOOG) Q4 2016 Results - Earnings Call Transcript, Ticker: GOOG, Date and Time: January 26, 2017 4:30 PM ET\n",
      "File: Alphabet Inc. (GOOG) CEO Sundar Pichai on Q1 2020 Results - Earnings Call Transcript, Ticker: GOOG, Date and Time: April 28, 2020 4:30 PM ET\n",
      "File: Alphabet Inc. (GOOG) CEO Sundar Pichai on Q2 2018 Results - Earnings Call Transcript, Ticker: GOOG, Date and Time: July 23, 2018 4:30 PM ET\n",
      "File: Alphabet Inc. (GOOG) CEO Sundar Pichai on Q2 2022 Results - Earnings Call Transcript, Ticker: GOOG, Date and Time: July 26, 2022 5:00 PM ET\n",
      "File: Alphabet Inc. (GOOG) CEO Sundar Pichai on Q3 2020 Results - Earnings Call Transcript, Ticker: GOOG, Date and Time: October 29, 2020 4:30 PM ET\n",
      "File: Alphabet Inc. (GOOG) CEO Sundar Pichai on Q4 2019 Results - Earnings Call Transcript, Ticker: GOOG, Date and Time: February 3, 2020 5:00 PM ET\n",
      "File: Alphabet Inc. (GOOG) Q1 2023 Earnings Call Transcript, Ticker: GOOG, Date and Time: April 25, 2023 5:00 PM ET\n",
      "File: Alphabet Inc. (GOOG) Q2 2019 Results - Earnings Call Transcript, Ticker: GOOG, Date and Time: July 25, 2019 4:30 PM ET\n",
      "File: Alphabet Inc. (GOOG) Q2 2023 Earnings Call Transcript, Ticker: GOOG, Date and Time: July 25, 2023 5:00 PM ET\n",
      "File: Alphabet Inc. (GOOG) Q3 2019 Results - Earnings Call Transcript, Ticker: GOOG, Date and Time: October 28, 2019 5:00 PM ET\n",
      "File: Alphabet Inc. (GOOG) Q3 2022 Earnings Call Transcript, Ticker: GOOG, Date and Time: October 25, 2022 5:00 PM ET\n",
      "File: Alphabet Inc. (GOOG) Q3 2023 Earnings Call Transcript, Ticker: GOOG, Date and Time: October 24, 2023 4:30 PM ET\n",
      "File: Alphabet Inc. (GOOG) Q3 CEO Sundar Pichai on 2021 Results - Earnings Call Transcript, Ticker: GOOG, Date and Time: October 26, 2021 4:30 PM ET\n",
      "File: Alphabet Inc. (GOOG) Q4 2022 Earnings Call Transcript, Ticker: GOOG, Date and Time: February 2, 2023 4:30 PM ET\n",
      "File: Alphabet Inc. (GOOG) Q4 2023 Earnings Call Transcript, Ticker: GOOG, Date and Time: January 30, 2024 4:30 PM ET\n",
      "File: Alphabet Inc.'s (GOOG) CEO Sundar Pichai on Q1 2019 Results - Earnings Call Transcript, Ticker: GOOG, Date and Time: April 29, 2019 4:30 PM ET\n",
      "File: Alphabet Inc.'s (GOOG) CEO Sundar Pichai on Q1 2021 Results - Earnings Call Transcript, Ticker: GOOG, Date and Time: April 27, 2021 5:00 PM ET\n",
      "File: Alphabet Inc.'s (GOOG) CEO Sundar Pichai on Q1 2022 Results - Earnings Call Transcript, Ticker: GOOG, Date and Time: April 26, 2022 5:00 PM ET\n",
      "File: Alphabet Inc.'s (GOOG) CEO Sundar Pichai on Q2 2021 Results - Earnings Call Transcript, Ticker: GOOG, Date and Time: July 27, 2021 4:30 PM ET\n",
      "File: Alphabet Inc.'s (GOOG) CEO Sundar Pichai on Q4 2021 Results - Earnings Call Transcript, Ticker: GOOG, Date and Time: February 1, 2022 5:00 PM ET\n",
      "File: Alphabet's (GOOG) CEO Sundar Pichai on Q1 2018 Results - Earnings Call Transcript, Ticker: GOOG, Date and Time: April 23, 2018 4:30 PM ET\n",
      "File: Alphabet's (GOOG) CEO Sundar Pichai On Q2 2017 Results - Earnings Call Transcript, Ticker: GOOG, Date and Time: July 24, 2017 5:00 PM ET\n",
      "File: Alphabet's (GOOG) CEO Sundar Pichai on Q4 2017 Results - Earnings Call Transcript, Ticker: GOOG, Date and Time: February 2, 2018 4:30 AM ET\n",
      "File: Alphabet, Inc. (GOOG) CEO Sundar Pichai on Q2 2020 Results - Earnings Call Transcript, Ticker: GOOG, Date and Time: July 30, 2020 4:30 PM ET\n",
      "File: Alphabet, Inc. (GOOG) CEO Sundar Pichai on Q4 2020 Results - Earnings Call Transcript, Ticker: GOOG, Date and Time: February 2, 2021 5:00 PM ET\n",
      "File: Alphabet, Inc. Cl C (GOOG) CEO Sundar Pichai On Q4 2018 Results - Earnings Call Transcript, Ticker: GOOG, Date and Time: February 4, 2019 4:30 PM ET\n",
      "File: Google (GOOG) Q2 2014 Results - Earnings Call Transcript, Ticker: GOOG, Date and Time: January 1, 0000 5:38 PM ET\n",
      "File: Google (GOOG) Q3 2014 Results - Earnings Call Transcript, Ticker: GOOG, Date and Time: October 16, 2014 4:30 PM ET\n",
      "File: Google (GOOG) Q4 2014 Results - Earnings Call Transcript, Ticker: GOOG, Date and Time: January 29, 2015 4:30 PM ET\n",
      "File: Google CEO Discusses Q3 2010 Results - Earnings Call Transcript, Ticker: GOOG, Date and Time: October 14, 2010 4:30 PM ET\n",
      "File: Google Inc (GOOG) CEO Discusses Q2 2013 Results - Earnings Call Transcript, Ticker: GOOG, Date and Time: July 18, 2013 4:30 PM ET\n",
      "File: Google Inc. Q1 2010 Earnings Call Transcript, Ticker: GOOG, Date and Time: April 15, 2010 4:30 PM ET\n",
      "File: Google Inc. Q2 2010 Earnings Call Transcript, Ticker: GOOG, Date and Time: July 15, 2010 4:30 PM ET\n",
      "File: Google Inc. Q3 2009 Earnings Call Transcript, Ticker: GOOG, Date and Time: October 15, 2009 4:30 PM ET\n",
      "File: Google Inc. Q4 2009 Earnings Call Transcript, Ticker: GOOG, Date and Time: January 21, 2010 4:30 PM ET\n",
      "File: Google Inc. Q4 2009 Q&A Earnings Call Transcript, Ticker: GOOG, Date and Time: January 21, 2010 6:00 PM ET\n",
      "File: Google Management Discusses Q1 2012 Results - Earnings Call Transcript, Ticker: GOOG, Date and Time: April 12, 2012 4:30 PM ET\n",
      "File: Google Management Discusses Q3 2011 Results - Earnings Call Transcript, Ticker: GOOG, Date and Time: October 13, 2011 4:30 PM ET\n",
      "File: Google Management Discusses Q4 2011 Results - Earnings Call Transcript, Ticker: GOOG, Date and Time: January 19, 2012 4:30 PM ET\n",
      "File: Google's (GOOG) Management Discusses on Q2 2015 Results - Earnings Call Transcript, Ticker: GOOG, Date and Time: July 16, 2015 4:30 PM ET\n",
      "File: Google's (GOOG) Management on Q1 2015 Results - Earnings Call Transcript, Ticker: GOOG, Date and Time: April 23, 2015 4:30 PM ET\n",
      "File: Google's CEO Discusses Q1 2011 Results - Earnings Call Transcript, Ticker: GOOG, Date and Time: April 14, 2011 4:30 PM ET\n",
      "File: Google's CEO Discusses Q1 2013 Results - Earnings Call Transcript, Ticker: GOOG, Date and Time: April 18, 2013 4:30 PM ET\n",
      "File: Google's CEO Discusses Q2 2011 Results - Earnings Call Transcript, Ticker: GOOG, Date and Time: July 14, 2011 4:30 PM ET\n",
      "File: Google's CEO Discusses Q3 2012 Results - Earnings Call Transcript, Ticker: GOOG, Date and Time: October 18, 2012 4:30 AM ET\n",
      "File: Google's CEO Discusses Q3 2013 Results - Earnings Call Transcript, Ticker: GOOG, Date and Time: October 17, 2013 4:30 PM ET\n",
      "File: Google's CEO Discusses Q4 2010 Results - Earnings Call Transcript, Ticker: GOOG, Date and Time: January 20, 2011 4:30 PM ET\n",
      "File: Google's CEO Discusses Q4 2012 Results - Earnings Call Transcript, Ticker: GOOG, Date and Time: January 22, 2013 4:30 PM ET\n",
      "File: Google's Management Discusses Q1 2014 Results - Earnings Call Transcript, Ticker: GOOG, Date and Time: April 16, 2014 4:30 PM ET\n",
      "File: Google's Management Discusses Q2 2012 Results - Earnings Call Transcript, Ticker: GOOG, Date and Time: July 19, 2012 4:30 PM ET\n",
      "File: Google's Management Discusses Q4 2013 Results - Earnings Call Transcript, Ticker: GOOG, Date and Time: January 30, 2014 4:30 PM ET\n",
      "File: Amazon.com (AMZN) Management on Q4 2015 Results - Earnings Call Transcript, Ticker: AMZN, Date and Time: January 28, 2016 5:00 PM ET\n",
      "File: Amazon.com (AMZN) Q1 2016 Results - Earnings Call Transcript, Ticker: AMZN, Date and Time: April 28, 2016 5:00 PM ET\n",
      "File: Amazon.com (AMZN) Q1 2017 Results - Earnings Call Transcript, Ticker: AMZN, Date and Time: April 27, 2017 5:30 PM ET\n",
      "File: Amazon.com (AMZN) Q1 2018 Results - Earnings Call Transcript, Ticker: AMZN, Date and Time: April 26, 2018 5:30 PM ET\n",
      "File: Amazon.com (AMZN) Q2 2015 Results - Earnings Call Transcript, Ticker: AMZN, Date and Time: July 23, 2015 5:00 PM ET\n",
      "File: Amazon.com (AMZN) Q2 2016 Results - Earnings Call Transcript, Ticker: AMZN, Date and Time: July 28, 2016 5:30 PM ET\n",
      "File: Amazon.com (AMZN) Q2 2017 Results - Earnings Call Transcript, Ticker: AMZN, Date and Time: July 27, 2017 5:30 PM ET\n",
      "File: Amazon.com (AMZN) Q2 2018 Results - Earnings Call Transcript, Ticker: AMZN, Date and Time: July 26, 2018 5:30 PM ET\n",
      "File: Amazon.com (AMZN) Q3 2014 Results - Earnings Call Transcript, Ticker: AMZN, Date and Time: October 23, 2014 5:00 PM ET\n",
      "File: Amazon.com (AMZN) Q3 2015 Results - Earnings Call Transcript, Ticker: AMZN, Date and Time: October 22, 2015 5:00 PM ET\n",
      "File: Amazon.com (AMZN) Q3 2016 Results - Earnings Call Transcript, Ticker: AMZN, Date and Time: October 27, 2016 5:30 PM ET\n",
      "File: Amazon.com (AMZN) Q3 2017 Results - Earnings Call Transcript, Ticker: AMZN, Date and Time: October 26, 2017 5:30 PM ET\n",
      "File: Amazon.com (AMZN) Q3 2018 Results - Earnings Call Transcript, Ticker: AMZN, Date and Time: October 25, 2018 5:30 PM ET\n",
      "File: Amazon.com (AMZN) Q4 2016 Results - Earnings Call Transcript, Ticker: AMZN, Date and Time: February 2, 2017 5:30 PM ET\n",
      "File: Amazon.com's (AMZN) Management On Q2 2014 Results - Earnings Call Transcript, Ticker: AMZN, Date and Time: July 24, 2014 5:00 PM ET\n",
      "File: Amazon.com's (AMZN) Management on Q2 2020 Results - Earnings Call Transcript, Ticker: AMZN, Date and Time: July 30, 2020 5:30 PM ET\n",
      "File: Amazon.com's (AMZN) on Q4 2017 Results - Earnings Call Transcript, Ticker: AMZN, Date and Time: February 1, 2018 5:30 PM ET\n",
      "File: Amazon.com's (AMZN) Q1 2015 Results - Earnings Call Transcript, Ticker: AMZN, Date and Time: April 23, 2015 5:30 PM ET\n",
      "File: Amazon.com's (AMZN) Q3 2020 Results - Earnings Call Transcript, Ticker: AMZN, Date and Time: October 29, 2020 5:30 PM ET\n",
      "File: Amazon.com's (AMZN) Q4 2014 Results - Earnings Call Transcript, Ticker: AMZN, Date and Time: January 29, 2015 5:00 PM ET\n",
      "File: Amazon.com's Management Discusses Q1 2014 Results - Earnings Call Transcript, Ticker: AMZN, Date and Time: April 24, 2014 5:00 PM ET\n",
      "File: Amazon.com's Management Discusses Q3 2013 Results - Earnings Call Transcript, Ticker: AMZN, Date and Time: October 24, 2013 5:00 PM ET\n",
      "File: Amazon.com's Management Discusses Q4 2013 Results - Earnings Call Transcript, Ticker: AMZN, Date and Time: January 30, 2014 5:00 PM ET\n",
      "File: Amazon.com, Inc. (AMZN) Management on Q4 2019 Results - Earnings Call Transcript, Ticker: AMZN, Date and Time: January 30, 2020 5:30 PM ET\n",
      "File: Amazon.com, Inc. (AMZN) on Q3 2019 Results - Earnings Call Transcript, Ticker: AMZN, Date and Time: October 24, 2019 5:30 AM ET\n",
      "File: Amazon.com, Inc. (AMZN) Q1 2019 Results - Earnings Call Transcript, Ticker: AMZN, Date and Time: April 25, 2019 5:30 PM ET\n",
      "File: Amazon.com, Inc. (AMZN) Q1 2020 Results - Earnings Call Transcript, Ticker: AMZN, Date and Time: April 30, 2020 5:30 PM ET\n",
      "File: Amazon.com, Inc. (AMZN) Q1 2023 Earnings Call Transcript, Ticker: AMZN, Date and Time: April 27, 2023 5:30 PM ET\n",
      "File: Amazon.com, Inc. (AMZN) Q2 2019 Results - Earnings Call Transcript, Ticker: AMZN, Date and Time: July 25, 2019 5:30 PM ET\n",
      "File: Amazon.com, Inc. (AMZN) Q2 2021 Results - Earnings Call Transcript, Ticker: AMZN, Date and Time: July 29, 2021 5:30 PM ET\n",
      "File: Amazon.com, Inc. (AMZN) Q2 2022 Results - Earnings Call Transcript, Ticker: AMZN, Date and Time: July 28, 2022 5:30 PM ET\n",
      "File: Amazon.com, Inc. (AMZN) Q2 2023 Earnings Call Transcript, Ticker: AMZN, Date and Time: August 3, 2023 5:30 PM ET\n",
      "File: Amazon.com, Inc. (AMZN) Q3 2021 Results - Earnings Call Transcript, Ticker: AMZN, Date and Time: October 28, 2021 5:30 PM ET\n",
      "File: Amazon.com, Inc. (AMZN) Q3 2022 Earnings Call Transcript, Ticker: AMZN, Date and Time: October 27, 2022 5:30 PM ET\n",
      "File: Amazon.com, Inc. (AMZN) Q3 2023 Earnings Call Transcript, Ticker: AMZN, Date and Time: October 26, 2023 5:30 PM ET\n",
      "File: Amazon.com, Inc. (AMZN) Q4 2018 Results - Earnings Call Transcript, Ticker: AMZN, Date and Time: January 31, 2019 5:30 PM ET\n",
      "File: Amazon.com, Inc. (AMZN) Q4 2020 Results - Earnings Call Transcript, Ticker: AMZN, Date and Time: February 2, 2021 5:30 PM ET\n",
      "File: Amazon.com, Inc. (AMZN) Q4 2022 Earnings Call Transcript, Ticker: AMZN, Date and Time: February 2, 2023 5:30 PM ET\n",
      "File: Amazon.com, Inc. (AMZN) Q4 2023 Earnings Call Transcript, Ticker: AMZN, Date and Time: February 1, 2024 5:30 PM ET\n",
      "File: Amazon.com, Inc.'s (AMZN) Management on Q1 2021 Results - Earnings Call Transcript, Ticker: AMZN, Date and Time: April 29, 2021 5:30 PM ET\n",
      "File: Amazon.com, Inc.'s (AMZN) Management on Q1 2022 Results - Earnings Call Transcript, Ticker: AMZN, Date and Time: April 28, 2022 5:30 PM ET\n",
      "File: Amazon.com, Inc.'s (AMZN) Management on Q4 2021 Results - Earnings Call Transcript, Ticker: AMZN, Date and Time: February 3, 2022 5:30 PM ET\n",
      "File: Apple (AAPL) Q1 2017 Results - Earnings Call Transcript, Ticker: AAPL, Date and Time: January 31, 2017 5:00 PM ET\n",
      "File: Apple (AAPL) Q2 2017 Results - Earnings Call Transcript, Ticker: AAPL, Date and Time: May 2, 2017 5:00 PM ET\n",
      "File: Apple (AAPL) Q2 2018 Results - Earnings Call Transcript, Ticker: AAPL, Date and Time: May 1, 2018 5:00 PM ET\n",
      "File: Apple (AAPL) Q2 2023 Earnings Call Transcript, Ticker: AAPL, Date and Time: May 4, 2023 5:00 PM ET\n",
      "File: Apple (AAPL) Q3 2016 Results - Earnings Call Transcript, Ticker: AAPL, Date and Time: July 26, 2016 5:00 PM ET\n",
      "File: Apple (AAPL) Q3 2017 Results - Earnings Call Transcript, Ticker: AAPL, Date and Time: August 1, 2017 5:00 PM ET\n",
      "File: Apple (AAPL) Q3 2018 Results - Earnings Call Transcript, Ticker: AAPL, Date and Time: July 31, 2018 5:00 PM ET\n",
      "File: Apple (AAPL) Q4 2016 Results - Earnings Call Transcript, Ticker: AAPL, Date and Time: October 25, 2016 5:00 PM ET\n",
      "File: Apple (AAPL) Q4 2017 Results - Earnings Call Transcript, Ticker: AAPL, Date and Time: November 2, 2017 5:00 PM ET\n",
      "File: Apple (AAPL) Q4 2018 Results - Earnings Call Transcript, Ticker: AAPL, Date and Time: November 1, 2018 5:00 PM ET\n",
      "File: Apple (AAPL) Timothy D. Cook on Q3 2015 Results - Earnings Call Transcript, Ticker: AAPL, Date and Time: July 21, 2015 5:00 PM ET\n",
      "File: Apple (AAPL) Timothy Donald Cook on Q2 2016 Results - Earnings Call Transcript, Ticker: AAPL, Date and Time: April 26, 2016 5:00 PM ET\n",
      "File: Apple Inc. (AAPL) CEO Tim Cook on Q1 2019 Results - Earnings Call Transcript, Ticker: AAPL, Date and Time: January 29, 2019 5:00 PM ET\n",
      "File: Apple Inc. (AAPL) CEO Tim Cook on Q1 2020 Results - Earnings Call Transcript, Ticker: AAPL, Date and Time: January 28, 2020 5:00 PM ET\n",
      "File: Apple Inc. (AAPL) CEO Tim Cook on Q1 2021 Results - Earnings Call Transcript, Ticker: AAPL, Date and Time: January 27, 2021 5:00 PM ET\n",
      "File: Apple Inc. (AAPL) CEO Tim Cook on Q1 2022 Results - Earnings Call Transcript, Ticker: AAPL, Date and Time: January 27, 2022 5:00 PM ET\n",
      "File: Apple Inc. (AAPL) CEO Tim Cook on Q2 2020 Results - Earnings Call Transcript, Ticker: AAPL, Date and Time: April 30, 2020 5:00 PM ET\n",
      "File: Apple Inc. (AAPL) CEO Tim Cook on Q2 2021 Results - Earnings Call Transcript, Ticker: AAPL, Date and Time: April 28, 2021 5:00 PM ET\n",
      "File: Apple Inc. (AAPL) CEO Tim Cook on Q2 2022 Results - Earnings Call Transcript, Ticker: AAPL, Date and Time: April 28, 2022 5:00 PM ET\n",
      "File: Apple Inc. (AAPL) CEO Tim Cook on Q3 2020 Results - Earnings Call Transcript, Ticker: AAPL, Date and Time: July 30, 2020 5:00 PM ET\n",
      "File: Apple Inc. (AAPL) CEO Tim Cook on Q3 2021 Results - Earnings Call Transcript, Ticker: AAPL, Date and Time: July 27, 2021 5:00 PM ET\n",
      "File: Apple Inc. (AAPL) CEO Tim Cook on Q4 2019 Results - Earnings Call Transcript, Ticker: AAPL, Date and Time: October 30, 2019 5:00 PM ET\n",
      "File: Apple Inc. (AAPL) CEO Tim Cook on Q4 2020 Results - Earnings Call Transcript, Ticker: AAPL, Date and Time: October 29, 2020 5:00 PM ET\n",
      "File: Apple Inc. (AAPL) CEO Tim Cook on Q4 2021 Results - Earnings Call Transcript, Ticker: AAPL, Date and Time: October 28, 2021 5:00 PM ET\n",
      "File: Apple Inc. (AAPL) Q1 2024 Earnings Call Transcript, Ticker: AAPL, Date and Time: February 1, 2024 5:00 PM ET\n",
      "File: Apple Inc. (AAPL) Q3 2023 Earnings Call Transcript, Ticker: AAPL, Date and Time: August 3, 2023 5:00 PM ET\n",
      "File: Apple Inc. (AAPL) Q4 2022 Earnings Call Transcript, Ticker: AAPL, Date and Time: October 27, 2022 5:00 PM ET\n",
      "File: Apple Inc. (AAPL) Q4 2023 Earnings Call Transcript, Ticker: AAPL, Date and Time: November 2, 2023 5:00 PM ET\n",
      "File: Apple's (AAPL) CEO Tim Cook on Q1 2015 Results - Earnings Call Transcript, Ticker: AAPL, Date and Time: January 27, 2015 5:00 PM ET\n",
      "File: Apple's (AAPL) CEO Tim Cook On Q1 2016 Results - Earnings Call Transcript, Ticker: AAPL, Date and Time: January 26, 2016 5:00 PM ET\n",
      "File: Apple's (AAPL) CEO Tim Cook On Q1 2018 Results - Earnings Call Transcript, Ticker: AAPL, Date and Time: February 1, 2018 5:00 PM ET\n",
      "File: Apple's (AAPL) CEO Tim Cook on Q2 2015 Results - Earnings Call Transcript, Ticker: AAPL, Date and Time: April 27, 2015 5:00 PM ET\n",
      "File: Apple's (AAPL) CEO Tim Cook On Q3 2014 Results - Earnings Call Transcript, Ticker: AAPL, Date and Time: July 22, 2014 5:00 AM ET\n",
      "File: Apple's (AAPL) CEO Tim Cook On Q4 2014 Results - Earnings Call Transcript, Ticker: AAPL, Date and Time: October 20, 2014 5:00 PM ET\n",
      "File: Apple's (AAPL) CEO Tim Cook on Q4 2015 Results - Earnings Call Transcript, Ticker: AAPL, Date and Time: October 27, 2015 5:00 PM ET\n",
      "File: Apple, Inc. (AAPL) CEO Tim Cook on Q2 2019 Results - Earnings Call Transcript, Ticker: AAPL, Date and Time: April 30, 2019 5:00 PM ET\n",
      "File: Apple, Inc. (AAPL) CEO Tim Cook On Q3 2019 Results - Earnings Call Transcript, Ticker: AAPL, Date and Time: July 30, 2019 5:00 PM ET\n",
      "File: Apple, Inc. (AAPL) CEO Tim Cook on Q3 2022 Results - Earnings Call Transcript, Ticker: AAPL, Date and Time: July 28, 2022 5:00 PM ET\n",
      "File: Apple, Inc. (AAPL) Q1 2023 Earnings Call Transcript, Ticker: AAPL, Date and Time: February 2, 2023 5:00 PM ET\n",
      "File: Applied Materials (AMAT) Gary E. Dickerson on Q1 2016 Results - Earnings Call Transcript, Ticker: AMAT, Date and Time: February 18, 2016 4:30 PM ET\n",
      "File: Applied Materials (AMAT) Gary E. Dickerson on Q2 2015 Results - Earnings Call Transcript, Ticker: AMAT, Date and Time: May 14, 2015 4:30 PM ET\n",
      "File: Applied Materials (AMAT) Gary E. Dickerson on Q3 2015 Results - Earnings Call Transcript, Ticker: AMAT, Date and Time: August 13, 2015 4:30 PM ET\n",
      "File: Applied Materials (AMAT) Gary E. Dickerson on Q4 2015 Results - Earnings Call Transcript, Ticker: AMAT, Date and Time: November 12, 2015 4:30 PM ET\n",
      "File: Applied Materials (AMAT) Q1 2015 Results - Earnings Call Transcript, Ticker: AMAT, Date and Time: February 11, 2015 4:30 PM ET\n",
      "File: Applied Materials (AMAT) Q1 2017 Results - Earnings Call Transcript, Ticker: AMAT, Date and Time: February 15, 2017 4:30 PM ET\n",
      "File: Applied Materials (AMAT) Q1 2018 Results - Earnings Call Transcript, Ticker: AMAT, Date and Time: February 14, 2018 4:30 PM ET\n",
      "File: Applied Materials (AMAT) Q3 2020 Results - Earnings Call Transcript, Ticker: AMAT, Date and Time: August 13, 2020 4:30 PM ET\n",
      "File: Applied Materials (AMAT) Q4 2014 Results - Earnings Call Transcript, Ticker: AMAT, Date and Time: November 13, 2014 4:30 PM ET\n",
      "File: Applied Materials (AMAT) Q4 2017 Results - Earnings Call Transcript, Ticker: AMAT, Date and Time: November 16, 2017 4:30 PM ET\n",
      "File: Applied Materials Inc (AMAT) CEO Gary Dickerson on Q4 2019 Results - Earnings Call Transcript, Ticker: AMAT, Date and Time: November 14, 2019 4:30 PM ET\n",
      "File: Applied Materials' (AMAT) CEO Gary Dickerson on F2Q 2014 Results - Earnings Call Transcript, Ticker: AMAT, Date and Time: May 15, 2014 4:30 PM ET\n",
      "File: Applied Materials' (AMAT) CEO Gary Dickerson on Q2 2016 Results - Earnings Call Transcript, Ticker: AMAT, Date and Time: May 19, 2016 4:30 PM ET\n",
      "File: Applied Materials' (AMAT) CEO Gary Dickerson on Q2 2017 Results - Earnings Call Transcript, Ticker: AMAT, Date and Time: May 18, 2017 4:30 PM ET\n",
      "File: Applied Materials' (AMAT) CEO Gary Dickerson on Q2 2018 Results - Earnings Call Transcript, Ticker: AMAT, Date and Time: May 17, 2018 4:30 PM ET\n",
      "File: Applied Materials' (AMAT) CEO Gary Dickerson on Q2 2019 Results - Earnings Call Transcript, Ticker: AMAT, Date and Time: May 16, 2019 4:30 PM ET\n",
      "File: Applied Materials' (AMAT) CEO Gary Dickerson on Q2 2020 Results - Earnings Call Transcript, Ticker: AMAT, Date and Time: May 14, 2020 4:30 PM ET\n",
      "File: Applied Materials' (AMAT) CEO Gary Dickerson on Q3 2014 Results - Earnings Call Transcript, Ticker: AMAT, Date and Time: August 14, 2014 4:30 PM ET\n",
      "File: Applied Materials' (AMAT) CEO Gary Dickerson on Q3 2016 Results - Earnings Call Transcript, Ticker: AMAT, Date and Time: August 18, 2016 4:30 PM ET\n",
      "File: Applied Materials' (AMAT) CEO Gary Dickerson on Q3 2017 Results - Earnings Call Transcript, Ticker: AMAT, Date and Time: August 17, 2017 4:30 PM ET\n",
      "File: Applied Materials' (AMAT) CEO Gary Dickerson on Q4 2016 Results - Earnings Call Transcript, Ticker: AMAT, Date and Time: November 17, 2016 4:30 PM ET\n",
      "File: Applied Materials' (AMAT) CEO Gary Dickerson on Q4 2020 Results - Earnings Call Transcript, Ticker: AMAT, Date and Time: November 12, 2020 4:30 PM ET\n",
      "File: Applied Materials, Inc. (AMAT) CEO Gary Dickerson on Q1 2019 Results - Earnings Call Transcript, Ticker: AMAT, Date and Time: February 14, 2019 4:30 PM ET\n",
      "File: Applied Materials, Inc. (AMAT) CEO Gary Dickerson on Q1 2020 Results - Earnings Call Transcript, Ticker: AMAT, Date and Time: February 12, 2020 4:30 PM ET\n",
      "File: Applied Materials, Inc. (AMAT) CEO Gary Dickerson on Q2 2022 Results - Earnings Call Transcript, Ticker: AMAT, Date and Time: May 19, 2022 4:30 PM ET\n",
      "File: Applied Materials, Inc. (AMAT) CEO Gary Dickerson on Q3 2018 Results - Earnings Call Transcript, Ticker: AMAT, Date and Time: August 16, 2018 4:30 PM ET\n",
      "File: Applied Materials, Inc. (AMAT) CEO Gary Dickerson on Q3 2019 Results - Earnings Call Transcript, Ticker: AMAT, Date and Time: August 15, 2019 4:30 PM ET\n",
      "File: Applied Materials, Inc. (AMAT) CEO Gary Dickerson on Q3 2021 Results - Earnings Call Transcript, Ticker: AMAT, Date and Time: August 19, 2021 4:30 PM ET\n",
      "File: Applied Materials, Inc. (AMAT) CEO Gary Dickerson on Q4 2018 Results - Earnings Call Transcript, Ticker: AMAT, Date and Time: November 15, 2018 4:30 PM ET\n",
      "File: Applied Materials, Inc. (AMAT) CEO Gary Dickerson on Q4 Fiscal 2021 Result - Earnings Call Transcript, Ticker: AMAT, Date and Time: January 1, 0000 5:31 PM ET\n",
      "File: Applied Materials, Inc. (AMAT) Q1 2023 Earnings Call Transcript, Ticker: AMAT, Date and Time: February 16, 2023 4:30 PM ET\n",
      "File: Applied Materials, Inc. (AMAT) Q1 2024 Earnings Call Transcript, Ticker: AMAT, Date and Time: February 15, 2024 4:30 PM ET\n",
      "File: Applied Materials, Inc. (AMAT) Q2 2023 Earnings Call Transcript, Ticker: AMAT, Date and Time: May 18, 2023 4:30 PM ET\n",
      "File: Applied Materials, Inc. (AMAT) Q3 2023 Earnings Call Transcript, Ticker: AMAT, Date and Time: August 17, 2023 4:30 PM ET\n",
      "File: Applied Materials, Inc. (AMAT) Q4 2022 Earnings Call Transcript, Ticker: AMAT, Date and Time: November 17, 2022 4:30 PM ET\n",
      "File: Applied Materials, Inc. (AMAT) Q4 2023 Earnings Call Transcript, Ticker: AMAT, Date and Time: November 16, 2023 4:30 PM ET\n",
      "File: Applied Materials, Inc.'s (AMAT) CEO Gary Dickerson on Q1 2021 Results - Earnings Call Transcript, Ticker: AMAT, Date and Time: February 18, 2021 4:30 PM ET\n",
      "File: Applied Materials, Inc.'s (AMAT) CEO Gary Dickerson on Q1 2022 Results - Earnings Call Transcript, Ticker: AMAT, Date and Time: February 16, 2022 4:30 PM ET\n",
      "File: Applied Materials, Inc.'s (AMAT) CEO Gary Dickerson on Q2 2021 Results - Earnings Call Transcript, Ticker: AMAT, Date and Time: May 20, 2021 4:30 PM ET\n",
      "File: Applied Materials, Inc.'s (AMAT) CEO Gary Dickerson on Q3 2022 Results - Earnings Call Transcript, Ticker: AMAT, Date and Time: August 18, 2022 4:30 PM ET\n",
      "File: Danaher (DHR) Q4 2016 Results - Earnings Call Transcript, Ticker: Ticker Symbol Not Found, Date and Time: January 31, 2017 7:30 AM ET\n",
      "File: Danaher (DHR) Thomas P. Joyce on Q2 2015 Results - Earnings Call Transcript, Ticker: Ticker Symbol Not Found, Date and Time: July 23, 2015 8:00 AM ET\n",
      "File: Danaher (DHR) Thomas Patrick Joyce on Q1 2016 Results - Earnings Call Transcript, Ticker: Ticker Symbol Not Found, Date and Time: April 21, 2016 8:00 AM ET\n",
      "File: Danaher (DHR) Thomas Patrick Joyce on Q2 2016 Results - Earnings Call Transcript, Ticker: Ticker Symbol Not Found, Date and Time: July 25, 2016 8:00 AM ET\n",
      "File: Danaher (DHR) Thomas Patrick Joyce on Q3 2015 Results - Earnings Call Transcript, Ticker: Ticker Symbol Not Found, Date and Time: October 22, 2015 8:00 AM ET\n",
      "File: Danaher (DHR) Thomas Patrick Joyce on Q4 2015 Results - Earnings Call Transcript, Ticker: Ticker Symbol Not Found, Date and Time: January 26, 2016 8:00 AM ET\n",
      "File: Danaher Corporation (DHR) CEO Discusses Q2 2013 Results - Earnings Call Transcript, Ticker: Ticker Symbol Not Found, Date and Time: July 18, 2013 8:00 AM ET\n",
      "File: Danaher Corporation (DHR) CEO Rainer Blair on Q1 2021 Results - Earnings Call Transcript, Ticker: Ticker Symbol Not Found, Date and Time: April 22, 2021 8:00 AM ET\n",
      "File: Danaher Corporation (DHR) CEO Rainer Blair on Q1 2022 Results - Earnings Call Transcript, Ticker: Ticker Symbol Not Found, Date and Time: April 21, 2022 8:00 AM ET\n",
      "File: Danaher Corporation (DHR) CEO Rainer Blair on Q2 2021 Results - Earnings Call Transcript, Ticker: Ticker Symbol Not Found, Date and Time: July 22, 2021 8:00 AM ET\n",
      "File: Danaher Corporation (DHR) CEO Rainer Blair on Q3 2020 Results - Earnings Call Transcript, Ticker: Ticker Symbol Not Found, Date and Time: October 22, 2020 8:00 AM ET\n",
      "File: Danaher Corporation (DHR) CEO Rainer Blair on Q3 2021 Results - Earnings Call Transcript, Ticker: Ticker Symbol Not Found, Date and Time: October 21, 2021 8:00 AM ET\n",
      "File: Danaher Corporation (DHR) CEO Rainer Blair on Q4 2020 Results - Earnings Call Transcript, Ticker: Ticker Symbol Not Found, Date and Time: January 28, 2021 8:00 AM ET\n",
      "File: Danaher Corporation (DHR) CEO Rainer Blair on Q4 2021 Results - Earnings Call Transcript, Ticker: Ticker Symbol Not Found, Date and Time: January 27, 2022 8:00 AM ET\n",
      "File: Danaher Corporation (DHR) CEO Thomas Joyce, Jr. on Q3 2019 Results - Earnings Call Transcript, Ticker: Ticker Symbol Not Found, Date and Time: October 24, 2019 8:00 AM ET\n",
      "File: Danaher Corporation (DHR) CEO Tom Jo on Q2 2019 Results - Earnings Call Transcript, Ticker: Ticker Symbol Not Found, Date and Time: July 18, 2019 8:00 AM ET\n",
      "File: Danaher Corporation (DHR) CEO Tom Joyce on Q1 2019 Results - Earnings Call Transcript, Ticker: Ticker Symbol Not Found, Date and Time: April 18, 2019 8:00 AM ET\n",
      "File: Danaher Corporation (DHR) CEO Tom Joyce on Q1 2020 Results - Earnings Call Transcript, Ticker: Ticker Symbol Not Found, Date and Time: May 7, 2020 8:00 AM ET\n",
      "File: Danaher Corporation (DHR) CEO Tom Joyce on Q2 2018 Results - Earnings Call Transcript, Ticker: Ticker Symbol Not Found, Date and Time: July 19, 2018 8:00 AM ET\n",
      "File: Danaher Corporation (DHR) CEO Tom Joyce on Q2 2020 Results - Earnings Call Transcript, Ticker: Ticker Symbol Not Found, Date and Time: July 23, 2020 8:00 AM ET\n",
      "File: Danaher Corporation (DHR) CEO Tom Joyce on Q4 2019 Results - Earnings Call Transcript, Ticker: Ticker Symbol Not Found, Date and Time: January 30, 2020 7:30 AM ET\n",
      "File: Danaher Corporation (DHR) Q1 2023 Earnings Call Transcript, Ticker: Ticker Symbol Not Found, Date and Time: April 25, 2023 8:00 AM ET\n",
      "File: Danaher Corporation (DHR) Q2 2023 Earnings Call Transcript, Ticker: Ticker Symbol Not Found, Date and Time: July 25, 2023 8:00 AM ET\n",
      "File: Danaher Corporation (DHR) Q3 2022 Earnings Call Transcript, Ticker: Ticker Symbol Not Found, Date and Time: October 20, 2022 8:00 AM ET\n",
      "File: Danaher Corporation (DHR) Q3 2023 Earnings Call Transcript, Ticker: Ticker Symbol Not Found, Date and Time: October 24, 2023 8:00 AM ET\n",
      "File: Danaher Corporation (DHR) Q4 2022 Earnings Call Transcript, Ticker: Ticker Symbol Not Found, Date and Time: January 24, 2023 8:00 AM ET\n",
      "File: Danaher Corporation (DHR) Q4 2023 Earnings Call Transcript, Ticker: Ticker Symbol Not Found, Date and Time: January 30, 2024 8:00 AM ET\n",
      "File: Danaher Corporation's (DHR) CEO Rainer Blair on Q2 2022 Results - Earnings Call Transcript, Ticker: Ticker Symbol Not Found, Date and Time: July 21, 2022 8:00 AM ET\n",
      "File: Danaher Corporation's (DHR) CEO Thomas Joyce on Q3 2017 Results - Earnings Call Transcript, Ticker: Ticker Symbol Not Found, Date and Time: October 19, 2017 8:00 AM ET\n",
      "File: Danaher Corporation's (DHR) CEO Thomas Patrick Joyce on Q2 2017 Results - Earnings Call Transcript, Ticker: Ticker Symbol Not Found, Date and Time: July 20, 2017 8:00 AM ET\n",
      "File: Danaher Corporation's (DHR) CEO Tom Joyce on Q4 2018 Results - Earnings Call Transcript, Ticker: Ticker Symbol Not Found, Date and Time: January 29, 2019 8:00 AM ET\n",
      "File: Danaher's (DHR) CEO Larry Culp on Q2 2014 Results - Earnings Call Transcript, Ticker: Ticker Symbol Not Found, Date and Time: July 17, 2014 8:00 AM ET\n",
      "File: Danaher's (DHR) CEO Tom Joyce on Q1 2015 Results - Earnings Call Transcript, Ticker: Ticker Symbol Not Found, Date and Time: April 23, 2015 8:00 AM ET\n",
      "File: Danaher's (DHR) CEO Tom Joyce on Q1 2017 Results - Earnings Call Transcript, Ticker: Ticker Symbol Not Found, Date and Time: April 20, 2017 8:00 AM ET\n",
      "File: Danaher's (DHR) CEO Tom Joyce on Q1 2018 Results - Earnings Call Transcript, Ticker: Ticker Symbol Not Found, Date and Time: April 19, 2018 8:00 AM ET\n",
      "File: Danaher's (DHR) CEO Tom Joyce on Q3 2014 Results - Earnings Call Transcript, Ticker: Ticker Symbol Not Found, Date and Time: October 16, 2014 8:00 AM ET\n",
      "File: Danaher's (DHR) CEO Tom Joyce on Q3 2016 Results - Earnings Call Transcript, Ticker: Ticker Symbol Not Found, Date and Time: October 20, 2016 8:00 AM ET\n",
      "File: Danaher's (DHR) CEO Tom Joyce on Q4 2014 Results - Earnings Call Transcript, Ticker: Ticker Symbol Not Found, Date and Time: January 27, 2015 8:00 AM ET\n",
      "File: Danaher's (DHR) CEO Tom Joyce on Q4 2017 Results - Earnings Call Transcript, Ticker: Ticker Symbol Not Found, Date and Time: January 30, 2018 8:00 AM ET\n",
      "File: Facebook (FB) Mark Elliot Zuckerberg on Q1 2015 Results - Earnings Call Transcript, Ticker: Ticker Symbol Not Found, Date and Time: April 22, 2015 5:00 PM ET\n",
      "File: Facebook (FB) Mark Elliot Zuckerberg on Q1 2016 Results - Earnings Call Transcript, Ticker: Ticker Symbol Not Found, Date and Time: April 27, 2016 5:00 PM ET\n",
      "File: Facebook (FB) Mark Elliot Zuckerberg on Q2 2015 Results - Earnings Call Transcript, Ticker: Ticker Symbol Not Found, Date and Time: July 29, 2015 5:00 PM ET\n",
      "File: Facebook (FB) Mark Elliot Zuckerberg on Q2 2016 Results - Earnings Call Transcript, Ticker: Ticker Symbol Not Found, Date and Time: July 27, 2016 5:00 PM ET\n",
      "File: Facebook (FB) Mark Elliot Zuckerberg on Q3 2015 Results - Earnings Call Transcript, Ticker: Ticker Symbol Not Found, Date and Time: November 4, 2015 5:00 PM ET\n",
      "File: Facebook (FB) Q1 2017 Results - Earnings Call Transcript, Ticker: Ticker Symbol Not Found, Date and Time: May 3, 2017 5:00 PM ET\n",
      "File: Facebook (FB) Q1 2018 Results - Earnings Call Transcript, Ticker: Ticker Symbol Not Found, Date and Time: April 25, 2018 5:00 PM ET\n",
      "File: Facebook (FB) Q2 2017 Results - Earnings Call Transcript, Ticker: Ticker Symbol Not Found, Date and Time: July 26, 2017 5:00 PM ET\n",
      "File: Facebook (FB) Q2 2018 Results - Earnings Call Transcript, Ticker: Ticker Symbol Not Found, Date and Time: July 25, 2018 5:00 PM ET\n",
      "File: Facebook (FB) Q3 2016 Results - Earnings Call Transcript, Ticker: Ticker Symbol Not Found, Date and Time: November 2, 2016 5:00 PM ET\n",
      "File: Facebook (FB) Q3 2017 Results - Earnings Call Transcript, Ticker: Ticker Symbol Not Found, Date and Time: November 1, 2017 5:00 PM ET\n",
      "File: Facebook (FB) Q3 2018 Results - Earnings Call Transcript, Ticker: Ticker Symbol Not Found, Date and Time: October 30, 2018 5:00 PM ET\n",
      "File: Facebook (FB) Q4 2016 Results - Earnings Call Transcript, Ticker: Ticker Symbol Not Found, Date and Time: February 1, 2017 5:00 PM ET\n",
      "File: Facebook's (FB) CEO Mark Zuckerberg on Q1 2019 Results - Earnings Call Transcript, Ticker: Ticker Symbol Not Found, Date and Time: April 24, 2019 5:00 PM ET\n",
      "File: Facebook's (FB) CEO Mark Zuckerberg on Q2 2019 Results - Earnings Call Transcript, Ticker: Ticker Symbol Not Found, Date and Time: July 24, 2019 5:00 PM ET\n",
      "File: Facebook's (FB) CEO Mark Zuckerberg on Q3 2020 Results - Earnings Call Transcript, Ticker: Ticker Symbol Not Found, Date and Time: October 29, 2020 6:00 PM ET\n",
      "File: Facebook's (FB) CEO Mark Zuckerberg on Q4 2014 Results - Earnings Call Transcript, Ticker: Ticker Symbol Not Found, Date and Time: January 28, 2015 5:00 PM ET\n",
      "File: Facebook's (FB) CEO Mark Zuckerberg on Q4 2015 Results - Earnings Call Transcript, Ticker: Ticker Symbol Not Found, Date and Time: January 27, 2016 5:00 PM ET\n",
      "File: Facebook's (FB) CEO Mark Zuckerberg on Q4 2017 Results - Earnings Call Transcript, Ticker: Ticker Symbol Not Found, Date and Time: January 31, 2018 5:00 PM ET\n",
      "File: Facebook, Inc. (FB) CEO Mark Zuckerberg on Q1 2020 Results - Earnings Call Transcript, Ticker: Ticker Symbol Not Found, Date and Time: April 29, 2020 5:00 PM ET\n",
      "File: Facebook, Inc. (FB) CEO Mark Zuckerberg on Q1 2021 Results - Earnings Call Transcript, Ticker: Ticker Symbol Not Found, Date and Time: April 28, 2021 5:00 PM ET\n",
      "File: Facebook, Inc. (FB) CEO Mark Zuckerberg on Q2 2020 Results - Earnings Call Transcript, Ticker: Ticker Symbol Not Found, Date and Time: July 30, 2020 6:00 PM ET\n",
      "File: Facebook, Inc. (FB) CEO Mark Zuckerberg on Q2 2021 Results - Earnings Call Transcript, Ticker: Ticker Symbol Not Found, Date and Time: July 28, 2021 5:00 PM ET\n",
      "File: Facebook, Inc. (FB) CEO Mark Zuckerberg on Q3 2019 Results - Earnings Call Transcript, Ticker: Ticker Symbol Not Found, Date and Time: October 30, 2019 5:00 PM ET\n",
      "File: Facebook, Inc. (FB) CEO Mark Zuckerberg on Q3 2021 Results - Earning Call Transcript, Ticker: Ticker Symbol Not Found, Date and Time: October 25, 2021 5:00 PM ET\n",
      "File: Facebook, Inc. (FB) CEO Mark Zuckerberg on Q4 2018 Results - Earnings Call Transcript, Ticker: Ticker Symbol Not Found, Date and Time: January 30, 2019 5:00 PM ET\n",
      "File: Facebook, Inc. (FB) CEO Mark Zuckerberg on Q4 2019 Results - Earnings Call Transcript, Ticker: Ticker Symbol Not Found, Date and Time: January 29, 2020 5:00 PM ET\n",
      "File: Facebook, Inc. (FB) CEO Mark Zuckerberg on Q4 2020 Results - Earnings Call Transcript, Ticker: Ticker Symbol Not Found, Date and Time: January 27, 2021 5:00 PM ET\n",
      "File: Meta Platforms, Inc. (META) CEO Mark Zuckerberg on Q2 2022 Results - Earnings Call Transcript, Ticker: META, Date and Time: July 27, 2022 5:00 PM ET\n",
      "File: Meta Platforms, Inc. (META) Q1 2023 Earnings Call Transcript, Ticker: META, Date and Time: April 26, 2023 5:00 PM ET\n",
      "File: Meta Platforms, Inc. (META) Q2 2023 Earnings Call Transcript, Ticker: META, Date and Time: July 26, 2023 5:00 PM ET\n",
      "File: Meta Platforms, Inc. (META) Q3 2022 Earnings Call Transcript, Ticker: META, Date and Time: October 26, 2022 5:00 PM ET\n",
      "File: Meta Platforms, Inc. (META) Q3 2023 Earnings Call Transcript, Ticker: META, Date and Time: October 25, 2023 5:00 PM ET\n",
      "File: Meta Platforms, Inc. (META) Q4 2022 Earnings Call Transcript, Ticker: META, Date and Time: February 1, 2023 5:00 PM ET\n",
      "File: Meta Platforms, Inc. (META) Q4 2023 Earnings Call Transcript, Ticker: META, Date and Time: February 1, 2024 4:30 PM ET\n",
      "File: Meta Platforms, Inc.'s (FB) CEO Mark Zuckerberg on Q1 2022 Results - Earnings Call Transcript, Ticker: Ticker Symbol Not Found, Date and Time: April 27, 2022 5:00 PM ET\n",
      "File: Meta Platforms, Inc.'s (FB) CEO Mark Zuckerberg on Q4 2021 Results - Earning Call Transcript, Ticker: Ticker Symbol Not Found, Date and Time: February 2, 2022 5:00 PM ET\n",
      "File: Microsoft (MSFT) Q1 2016 Results - Earnings Call Transcript, Ticker: MSFT, Date and Time: October 22, 2015 5:30 PM ET\n",
      "File: Microsoft (MSFT) Q1 2018 Results - Earnings Call Transcript, Ticker: MSFT, Date and Time: October 26, 2017 5:30 PM ET\n",
      "File: Microsoft (MSFT) Q1 2019 Results - Earnings Call Transcript, Ticker: MSFT, Date and Time: October 24, 2018 5:30 PM ET\n",
      "File: Microsoft (MSFT) Q2 2016 Results - Earnings Call Transcript, Ticker: MSFT, Date and Time: January 28, 2016 5:30 PM ET\n",
      "File: Microsoft (MSFT) Q2 2017 Results - Earnings Call Transcript, Ticker: MSFT, Date and Time: January 26, 2017 5:30 PM ET\n",
      "File: Microsoft (MSFT) Q3 2016 Results - Earnings Call Transcript, Ticker: MSFT, Date and Time: April 21, 2016 5:30 PM ET\n",
      "File: Microsoft (MSFT) Q3 2017 Results - Earnings Call Transcript, Ticker: MSFT, Date and Time: April 27, 2017 5:30 PM ET\n",
      "File: Microsoft (MSFT) Q3 2018 Results - Earnings Call Transcript, Ticker: MSFT, Date and Time: April 26, 2018 5:30 PM ET\n",
      "File: Microsoft (MSFT) Q4 2015 Results - Earnings Call Transcript, Ticker: MSFT, Date and Time: July 21, 2015 5:30 PM ET\n",
      "File: Microsoft (MSFT) Q4 2016 Results - Earnings Call Transcript, Ticker: MSFT, Date and Time: July 19, 2016 5:30 PM ET\n",
      "File: Microsoft Corp (MSFT) CEO Satya Nadella on Q2 2019 Results - Earnings Call Transcript, Ticker: MSFT, Date and Time: January 30, 2019 5:30 PM ET\n",
      "File: Microsoft Corp (MSFT) CEO Satya Nadella on Q3 2020 Results - Earnings Call Transcript, Ticker: MSFT, Date and Time: April 29, 2020 5:30 PM ET\n",
      "File: Microsoft Corp. (MSFT) CEO Satya Nadella on Q1 2020 Results - Earnings Call Transcript, Ticker: MSFT, Date and Time: October 23, 2019 5:30 PM ET\n",
      "File: Microsoft Corp. (MSFT) CEO Satya Nadella on Q4 2020 Results - Earnings Call Transcript, Ticker: MSFT, Date and Time: July 22, 2020 5:30 PM ET\n",
      "File: Microsoft Corporation (MSFT) CEO Satya Nadella on Q1 2021 Results - Earnings Call Transcript, Ticker: MSFT, Date and Time: October 27, 2020 5:30 PM ET\n",
      "File: Microsoft Corporation (MSFT) CEO Satya Nadella on Q1 Fiscal 2022 Results - Earnings Call Transcript, Ticker: MSFT, Date and Time: October 26, 2021 5:30 PM ET\n",
      "File: Microsoft Corporation (MSFT) CEO Satya Nadella on Q2 2020 Results - Earnings Call Transcript, Ticker: MSFT, Date and Time: January 29, 2020 5:30 PM ET\n",
      "File: Microsoft Corporation (MSFT) CEO Satya Nadella on Q3 2019 Results - Earnings Call Transcript, Ticker: MSFT, Date and Time: April 24, 2019 5:30 PM ET\n",
      "File: Microsoft Corporation (MSFT) CEO Satya Nadella on Q4 2018 Results - Earnings Call Transcript, Ticker: MSFT, Date and Time: July 19, 2018 5:30 PM ET\n",
      "File: Microsoft Corporation (MSFT) CEO Satya Nadella on Q4 2019 Results - Earnings Call Transcript, Ticker: MSFT, Date and Time: July 18, 2019 5:30 PM ET\n",
      "File: Microsoft Corporation (MSFT) CEO Satya Nadella on Q4 2021 Results - Earnings Call Transcript, Ticker: MSFT, Date and Time: July 27, 2021 5:00 PM ET\n",
      "File: Microsoft Corporation (MSFT) CEO Satya Nadella on Q4 2022 Results - Earnings Call Transcript, Ticker: MSFT, Date and Time: July 26, 2022 5:30 PM ET\n",
      "File: Microsoft Corporation (MSFT) Management Discusses F4Q 2013 Results - Earnings Call Transcript, Ticker: MSFT, Date and Time: July 18, 2013 5:30 PM ET\n",
      "File: Microsoft Corporation (MSFT) Q1 2023 Earnings Call Transcript, Ticker: MSFT, Date and Time: October 25, 2022 5:30 PM ET\n",
      "File: Microsoft Corporation (MSFT) Q1 2024 Earnings Call Transcript, Ticker: MSFT, Date and Time: October 24, 2023 5:30 PM ET\n",
      "File: Microsoft Corporation (MSFT) Q2 2023 Earnings Call Transcript, Ticker: MSFT, Date and Time: January 24, 2023 5:30 PM ET\n",
      "File: Microsoft Corporation (MSFT) Q2 2024 Earnings Call Transcript, Ticker: MSFT, Date and Time: January 30, 2024 5:30 PM ET\n",
      "File: Microsoft Corporation (MSFT) Q3 2023 Earnings Call Transcript, Ticker: MSFT, Date and Time: April 25, 2023 5:30 PM ET\n",
      "File: Microsoft Corporation (MSFT) Q4 2023 Earnings Call Transcript, Ticker: MSFT, Date and Time: July 25, 2023 5:30 PM ET\n",
      "File: Microsoft Corporation's (MSFT) CEO Satya Nadella on Q2 2021 Results - Earnings Call Transcript, Ticker: MSFT, Date and Time: January 26, 2021 5:30 PM ET\n",
      "File: Microsoft Corporation's (MSFT) CEO Satya Nadella on Q2 2022 Results - Earnings Call Transcript, Ticker: MSFT, Date and Time: January 25, 2022 5:30 PM ET\n",
      "File: Microsoft Corporation's (MSFT) CEO Satya Nadella on Q3 2021 Results - Earnings Call Transcript, Ticker: MSFT, Date and Time: April 27, 2021 5:30 PM ET\n",
      "File: Microsoft's (MSFT) CEO Satya Nadella on Q1 2015 Results - Earnings Call Transcript, Ticker: MSFT, Date and Time: October 23, 2014 5:30 PM ET\n",
      "File: Microsoft's (MSFT) CEO Satya Nadella on Q1 2017 Results - Earnings Call Transcript, Ticker: MSFT, Date and Time: October 20, 2016 5:30 PM ET\n",
      "File: Microsoft's (MSFT) CEO Satya Nadella on Q2 2015 Results - Earnings Call Transcript, Ticker: MSFT, Date and Time: January 26, 2015 5:30 PM ET\n",
      "File: Microsoft's (MSFT) CEO Satya Nadella on Q2 2018 Results - Earnings Call Transcript, Ticker: MSFT, Date and Time: January 31, 2018 5:30 PM ET\n",
      "File: Microsoft's (MSFT) CEO Satya Nadella on Q3 2015 Results - Earnings Call Transcript, Ticker: MSFT, Date and Time: April 23, 2015 5:30 PM ET\n",
      "File: Microsoft's (MSFT) CEO Satya Nadella on Q3 2022 Results - Earnings Call Transcript, Ticker: MSFT, Date and Time: April 26, 2022 5:30 PM ET\n",
      "File: Microsoft's (MSFT) CEO Satya Nadella on Q4 2014 Results - Earnings Call Transcript, Ticker: MSFT, Date and Time: July 22, 2014 5:30 PM ET\n",
      "File: Microsoft's (MSFT) CEO Satya Nadella on Q4 2017 Results - Earnings Call Transcript, Ticker: MSFT, Date and Time: July 20, 2017 5:30 PM ET\n",
      "File: NVIDIA (NVDA) Jen-Hsun Huang on Q1 2016 Results - Earnings Call Transcript, Ticker: NVDA, Date and Time: May 7, 2015 5:00 PM ET\n",
      "File: NVIDIA (NVDA) Jen-Hsun Huang on Q1 2017 Results - Earnings Call Transcript, Ticker: NVDA, Date and Time: May 12, 2016 5:00 PM ET\n",
      "File: NVIDIA (NVDA) Jen-Hsun Huang on Q2 2016 Results - Earnings Call Transcript, Ticker: NVDA, Date and Time: August 6, 2015 5:00 PM ET\n",
      "File: NVIDIA (NVDA) Jen-Hsun Huang on Q2 2017 Results - Earnings Call Transcript, Ticker: NVDA, Date and Time: August 11, 2016 5:00 PM ET\n",
      "File: NVIDIA (NVDA) Jen-Hsun Huang on Q3 2016 Results - Earnings Call Transcript, Ticker: NVDA, Date and Time: November 5, 2015 5:00 PM ET\n",
      "File: NVIDIA (NVDA) Jen-Hsun Huang on Q4 2016 Results - Earnings Call Transcript, Ticker: NVDA, Date and Time: February 17, 2016 5:00 PM ET\n",
      "File: NVIDIA (NVDA) Q1 2018 Results - Earnings Call Transcript, Ticker: NVDA, Date and Time: May 9, 2017 5:00 PM ET\n",
      "File: NVIDIA (NVDA) Q1 2019 Results - Earnings Call Transcript, Ticker: NVDA, Date and Time: May 10, 2018 5:00 PM ET\n",
      "File: NVIDIA (NVDA) Q2 2018 Results - Earnings Call Transcript, Ticker: NVDA, Date and Time: August 10, 2017 5:00 PM ET\n",
      "File: NVIDIA (NVDA) Q3 2017 Results - Earnings Call Transcript, Ticker: NVDA, Date and Time: November 10, 2016 5:00 PM ET\n",
      "File: NVIDIA (NVDA) Q4 2015 Results - Earnings Call Transcript, Ticker: NVDA, Date and Time: February 11, 2015 5:00 PM ET\n",
      "File: NVIDIA (NVDA) Q4 2017 Results - Earnings Call Transcript, Ticker: NVDA, Date and Time: February 9, 2017 5:00 PM ET\n",
      "File: NVIDIA Corp (NVDA) CEO Jen-Hsun Huang on Q3 2018 Results - Earnings Call Transcript, Ticker: NVDA, Date and Time: November 15, 2018 5:30 PM ET\n",
      "File: NVIDIA Corp (NVDA) CEO Jensen Huang on Q1 2021 Results - Earnings Call Transcript, Ticker: NVDA, Date and Time: May 21, 2020 5:30 PM ET\n",
      "File: NVIDIA Corp. (NVDA) Q1 2024 Earnings Call Transcript, Ticker: NVDA, Date and Time: May 24, 2023 5:00 PM ET\n",
      "File: NVIDIA Corp. (NVDA) Q2 2024 Earnings Call Transcript, Ticker: NVDA, Date and Time: August 23, 2023 5:00 PM ET\n",
      "File: NVIDIA Corp. (NVDA) Q4 2023 Earnings Call Transcript, Ticker: NVDA, Date and Time: February 22, 2023 5:00 PM ET\n",
      "File: NVIDIA Corp.'s (NVDA) CEO Jensen Huang on Q3 2020 Results - Earnings Call Transcript, Ticker: NVDA, Date and Time: November 14, 2019 5:30 PM ET\n",
      "File: NVIDIA Corporation (NVDA) CEO Jen-Hsun Huang on Q1 2020 Results - Earnings Call Transcript, Ticker: NVDA, Date and Time: May 16, 2019 5:30 PM ET\n",
      "File: NVIDIA Corporation (NVDA) CEO Jen-Hsun Huang on Q2 2020 Results - Earnings Call Transcript, Ticker: NVDA, Date and Time: August 15, 2019 5:30 PM ET\n",
      "File: NVIDIA Corporation (NVDA) CEO Jen-Hsun Huang on Q3 2015 Results - Earnings Call Transcript, Ticker: NVDA, Date and Time: November 6, 2014 5:00 PM ET\n",
      "File: NVIDIA Corporation (NVDA) CEO Jen-Hsun Huang on Q4 2019 Results - Earnings Call Transcript, Ticker: NVDA, Date and Time: February 14, 2019 5:30 PM ET\n",
      "File: NVIDIA Corporation (NVDA) CEO Jensen Huang On Q1 2023 Results - Earnings Call Transcript, Ticker: NVDA, Date and Time: May 25, 2022 5:00 PM ET\n",
      "File: NVIDIA Corporation (NVDA) CEO Jensen Huang on Q2 2019 Results - Earnings Call Transcript, Ticker: NVDA, Date and Time: August 16, 2018 5:30 PM ET\n",
      "File: NVIDIA Corporation (NVDA) CEO Jensen Huang on Q2 2021 Results - Earnings Call Transcript, Ticker: NVDA, Date and Time: August 19, 2020 5:00 PM ET\n",
      "File: NVIDIA Corporation (NVDA) CEO Jensen Huang on Q2 2022 Results - Earnings Call Transcript, Ticker: NVDA, Date and Time: August 18, 2021 5:00 PM ET\n",
      "File: NVIDIA Corporation (NVDA) CEO Jensen Huang on Q2 2023 Results - Earnings Call Transcript, Ticker: NVDA, Date and Time: August 24, 2022 5:00 PM ET\n",
      "File: NVIDIA Corporation (NVDA) CEO Jensen Huang on Q3 2021 Results - Earnings Call Transcript, Ticker: NVDA, Date and Time: November 18, 2020 5:00 PM ET\n",
      "File: NVIDIA Corporation (NVDA) CEO Jensen Huang on Q4 2020 Results - Earnings Call Transcript, Ticker: NVDA, Date and Time: February 13, 2020 5:30 PM ET\n",
      "File: NVIDIA Corporation (NVDA) Q3 2023 Earnings Call Transcript, Ticker: NVDA, Date and Time: November 16, 2022 5:00 PM ET\n",
      "File: NVIDIA Corporation (NVDA) Q3 2024 Earnings Call Transcript, Ticker: NVDA, Date and Time: November 21, 2023 5:00 PM ET\n",
      "File: NVIDIA Corporation (NVDA) Q4 2024 Earnings Call Transcript, Ticker: NVDA, Date and Time: February 21, 2024 5:00 PM ET\n",
      "File: NVIDIA Corporation's (NVDA) CEO Jensen Huang on Q1 2022 Results - Earnings Call Transcript, Ticker: NVDA, Date and Time: May 26, 2021 5:00 PM ET\n",
      "File: NVIDIA Corporation's (NVDA) CEO Jensen Huang on Q4 2021 Results - Earnings Call Transcript, Ticker: NVDA, Date and Time: February 24, 2021 5:00 PM ET\n",
      "File: NVIDIA Corporation's (NVDA) CEO Jensen Huang on Q4 2022 Results - Earnings Call Transcript, Ticker: NVDA, Date and Time: February 16, 2022 5:30 PM ET\n",
      "File: NVIDIA Management Discusses Q3 2013 Results - Earnings Call Transcript, Ticker: NVDA, Date and Time: November 8, 2012 5:00 PM ET\n",
      "File: NVIDIA Q1 2011 Earnings Call Transcript, Ticker: NVDA, Date and Time: May 13, 2010 5:00 PM ET\n",
      "File: NVIDIA'S (NVDA) CEO Jen-Hsun Huang on Q1 2015 Results - Earnings Call Transcript, Ticker: NVDA, Date and Time: May 8, 2014 5:00 PM ET\n",
      "File: NVIDIA's (NVDA) CEO Jen-Hsun Huang on Q2 2015 Results - Earnings Call Transcript, Ticker: NVDA, Date and Time: August 7, 2014 5:00 PM ET\n",
      "File: NVIDIA's (NVDA) CEO Jen-Hsun Huang on Q3 2018 Results - Earnings Call Transcript, Ticker: NVDA, Date and Time: November 9, 2017 5:00 PM ET\n",
      "File: NVIDIA's (NVDA) CEO Jen-Hsun Huang on Q4 2018 Results - Earnings Call Transcript, Ticker: NVDA, Date and Time: February 8, 2018 5:00 AM ET\n",
      "File: NVIDIA's CEO Discusses F3Q 2014 Results - Earnings Call Transcript, Ticker: NVDA, Date and Time: November 7, 2013 5:00 PM ET\n",
      "File: NVIDIA's CEO Discusses F4Q 2014 Results - Earnings Call Transcript, Ticker: NVDA, Date and Time: February 12, 2014 5:00 PM ET\n",
      "File: NVIDIA's CEO Discusses Q1 2012 Results - Earnings Call Transcript, Ticker: NVDA, Date and Time: May 12, 2011 5:00 PM ET\n",
      "File: NVIDIA's CEO Discusses Q1 2013 Results - Earnings Call Transcript, Ticker: NVDA, Date and Time: May 11, 2012 8:00 AM ET\n",
      "File: NVIDIA's CEO Discusses Q2 2012 Results - Earnings Call Transcript, Ticker: NVDA, Date and Time: August 11, 2011 5:00 PM ET\n",
      "File: NVIDIA's CEO Discusses Q3 2012 Results - Earnings Call Transcript, Ticker: NVDA, Date and Time: November 10, 2011 5:00 PM ET\n",
      "File: NVIDIA's CEO Discusses Q4 2011 Results - Earnings Call Transcript, Ticker: NVDA, Date and Time: February 16, 2011 5:00 PM ET\n",
      "File: NVIDIA's CEO Discusses Q4 2012 Results - Earnings Call Transcript, Ticker: NVDA, Date and Time: February 15, 2012 5:00 PM ET\n",
      "File: Parker Hannifin Corporation (PH) Q4 2023 Earnings Call Transcript, Ticker: Ticker Symbol Not Found, Date and Time: August 3, 2023 11:00 AM ET\n",
      "File: Parker Hannifin's (PH) CEO Thomas Williams on Q2 2015 Results - Earnings Call Transcript, Ticker: Ticker Symbol Not Found, Date and Time: January 27, 2015 11:00 AM ET\n",
      "File: Parker-Hannifin (PH) Q1 2019 Results - Earnings Call Transcript, Ticker: Ticker Symbol Not Found, Date and Time: November 1, 2018 11:00 AM ET\n",
      "File: Parker-Hannifin (PH) Q3 2017 Results - Earnings Call Transcript, Ticker: Ticker Symbol Not Found, Date and Time: April 27, 2017 11:00 AM ET\n",
      "File: Parker-Hannifin (PH) Q3 2018 Results - Earnings Call Transcript, Ticker: Ticker Symbol Not Found, Date and Time: April 26, 2018 11:00 AM ET\n",
      "File: Parker-Hannifin (PH) Q4 2017 Results - Earnings Call Transcript, Ticker: Ticker Symbol Not Found, Date and Time: August 3, 2017 11:00 AM ET\n",
      "File: Parker-Hannifin (PH) Q4 2018 Results - Earnings Call Transcript, Ticker: Ticker Symbol Not Found, Date and Time: August 2, 2018 11:00 AM ET\n",
      "File: Parker-Hannifin (PH) Thomas L. Williams on Q1 2016 Results - Earnings Call Transcript, Ticker: Ticker Symbol Not Found, Date and Time: October 22, 2015 10:00 AM ET\n",
      "File: Parker-Hannifin (PH) Thomas L. Williams on Q2 2016 Results - Earnings Call Transcript, Ticker: Ticker Symbol Not Found, Date and Time: January 26, 2016 11:00 AM ET\n",
      "File: Parker-Hannifin (PH) Thomas L. Williams on Q4 2016 Results - Earnings Call Transcript, Ticker: Ticker Symbol Not Found, Date and Time: August 4, 2016 11:00 AM ET\n",
      "File: Parker-Hannifin Corp (PH) CEO Thomas Williams on Q1 2021 Results - Earnings Call Transcript, Ticker: Ticker Symbol Not Found, Date and Time: November 5, 2020 11:00 AM ET\n",
      "File: Parker-Hannifin Corp (PH) CEO Tom Williams on Q2 2021 Results - Earnings Call Transcript, Ticker: Ticker Symbol Not Found, Date and Time: February 4, 2021 11:00 AM ET\n",
      "File: Parker-Hannifin Corp. (PH) CEO Thomas Williams on Q1 Fiscal 2022 Results - Earnings Call Transcript, Ticker: Ticker Symbol Not Found, Date and Time: November 4, 2021 11:00 AM ET\n",
      "File: Parker-Hannifin Corp. (PH) CEO Tom Williams on Q2 2019 Results - Earnings Call Transcript, Ticker: Ticker Symbol Not Found, Date and Time: January 8, 2019 11:00 AM ET\n",
      "File: Parker-Hannifin Corp. (PH) CEO Tom Williams on Q3 2021 Results - Earnings Call Transcript, Ticker: Ticker Symbol Not Found, Date and Time: April 29, 2021 11:00 AM ET\n",
      "File: Parker-Hannifin Corporation (PH) CEO Tom Williams on Q2 2020 Results - Earnings Call Transcript, Ticker: Ticker Symbol Not Found, Date and Time: January 30, 2020 11:00 AM ET\n",
      "File: Parker-Hannifin Corporation (PH) CEO Tom Williams on Q2 2022 Results - Earnings Call Transcript, Ticker: Ticker Symbol Not Found, Date and Time: February 3, 2022 11:00 AM ET\n",
      "File: Parker-Hannifin Corporation (PH) CEO Tom Williams on Q3 2020 Results - Earnings Call Transcript, Ticker: Ticker Symbol Not Found, Date and Time: April 30, 2020 11:00 AM ET\n",
      "File: Parker-Hannifin Corporation (PH) CEO Tom Williams on Q3 2022 Results - Earnings Call Transcript, Ticker: Ticker Symbol Not Found, Date and Time: May 5, 2022 11:00 AM ET\n",
      "File: Parker-Hannifin Corporation (PH) CEO Tom Williams on Q4 2019 Results - Earnings Call Transcript, Ticker: Ticker Symbol Not Found, Date and Time: August 1, 2019 11:00 AM ET\n",
      "File: Parker-Hannifin Corporation (PH) CEO Tom Williams on Q4 2020 Results - Earnings Call Transcript, Ticker: Ticker Symbol Not Found, Date and Time: August 6, 2020 12:00 PM ET\n",
      "File: Parker-Hannifin Corporation (PH) CEO Tom Williams on Q4 2021 Results - Earnings Call Transcript, Ticker: Ticker Symbol Not Found, Date and Time: August 5, 2021 11:00 AM ET\n",
      "File: Parker-Hannifin Corporation (PH) CEO Tom Williams on Q4 2022 Results - Earnings Call Transcript, Ticker: Ticker Symbol Not Found, Date and Time: August 4, 2022 11:00 AM ET\n",
      "File: Parker-Hannifin Corporation (PH) Q1 2023 Earnings Call Transcript, Ticker: Ticker Symbol Not Found, Date and Time: November 3, 2022 11:00 AM ET\n",
      "File: Parker-Hannifin Corporation (PH) Q1 2024 Earnings Call Transcript, Ticker: Ticker Symbol Not Found, Date and Time: November 2, 2023 11:00 AM ET\n",
      "File: Parker-Hannifin Corporation (PH) Q2 2023 Earnings Call Transcript, Ticker: Ticker Symbol Not Found, Date and Time: February 2, 2023 11:00 AM ET\n",
      "File: Parker-Hannifin Corporation (PH) Q2 2024 Earnings Call Transcript, Ticker: Ticker Symbol Not Found, Date and Time: January 1, 0000 11:49 AM ET\n",
      "File: Parker-Hannifin Corporation (PH) Q3 2023 Earnings Call Transcript, Ticker: Ticker Symbol Not Found, Date and Time: May 4, 2023 11:00 AM ET\n",
      "File: Parker-Hannifin Corporation's (PH) CEO Tom Williams on Q1 2020 Results - Earnings Call Transcript, Ticker: Ticker Symbol Not Found, Date and Time: October 31, 2019 11:00 AM ET\n",
      "File: Parker-Hannifin Corporation's (PH) CEO Tom Williams on Q4 2015 Results - Earnings Call Transcript, Ticker: Ticker Symbol Not Found, Date and Time: August 4, 2015 11:00 AM ET\n",
      "File: Parker-Hannifin's (PH) CEO Don Washkewicz on Q1 2015 Results - Earnings Call Transcript, Ticker: Ticker Symbol Not Found, Date and Time: October 28, 2014 10:00 AM ET\n",
      "File: Parker-Hannifin's (PH) CEO Thomas Williams on Q1 2018 Results - Earnings Call Transcript, Ticker: Ticker Symbol Not Found, Date and Time: November 2, 2017 11:00 AM ET\n",
      "File: Parker-Hannifin's (PH) CEO Thomas Williams on Q3 2015 Results - Earnings Call Transcript, Ticker: Ticker Symbol Not Found, Date and Time: April 28, 2015 11:00 AM ET\n",
      "File: Parker-Hannifin's (PH) CEO Tom Williams on Q1 2017 Results - Earnings Call Transcript, Ticker: Ticker Symbol Not Found, Date and Time: October 21, 2016 11:00 AM ET\n",
      "File: Parker-Hannifin's (PH) CEO Tom Williams on Q2 2017 Results - Earnings Call Transcript, Ticker: Ticker Symbol Not Found, Date and Time: February 2, 2017 11:00 AM ET\n",
      "File: Parker-Hannifin's (PH) CEO Tom Williams on Q2 2018 Results - Earnings Call Transcript, Ticker: Ticker Symbol Not Found, Date and Time: February 1, 2018 11:00 AM ET\n",
      "File: Parker-Hannifin's (PH) CEO Tom Williams on Q3 2019 Results - Earnings Call Transcript, Ticker: Ticker Symbol Not Found, Date and Time: May 2, 2019 11:00 AM ET\n",
      "File: Parker-Hannifin's (PH) Thomas L. Williams on Q3 2016 Results - Earnings Call Transcript, Ticker: Ticker Symbol Not Found, Date and Time: April 26, 2016 11:00 AM ET\n",
      "File: ServiceNow (NOW) CEO John Donahoe on Q3 2017 Results - Earnings Call Transcript, Ticker: Ticker Symbol Not Found, Date and Time: October 25, 2017 5:00 PM ET\n",
      "File: ServiceNow (NOW) Frank Slootman on Q2 2015 Results - Earnings Call Transcript, Ticker: Ticker Symbol Not Found, Date and Time: July 29, 2015 5:00 PM ET\n",
      "File: ServiceNow (NOW) Frank Slootman on Q3 2015 Results - Earnings Call Transcript, Ticker: Ticker Symbol Not Found, Date and Time: October 21, 2015 5:00 PM ET\n",
      "File: ServiceNow (NOW) Frank Slootman on Q4 2015 Results - Earnings Call Transcript, Ticker: Ticker Symbol Not Found, Date and Time: January 27, 2016 5:00 PM ET\n",
      "File: ServiceNow (NOW) Q1 2017 Results - Earnings Call Transcript, Ticker: Ticker Symbol Not Found, Date and Time: April 26, 2017 5:00 PM ET\n",
      "File: ServiceNow (NOW) Q1 2018 Results - Earnings Call Transcript, Ticker: Ticker Symbol Not Found, Date and Time: April 25, 2018 5:00 PM ET\n",
      "File: ServiceNow (NOW) Q2 2016 Results - Earnings Call Transcript, Ticker: Ticker Symbol Not Found, Date and Time: July 27, 2016 5:00 PM ET\n",
      "File: ServiceNow (NOW) Q2 2017 Results - Earnings Call Transcript, Ticker: Ticker Symbol Not Found, Date and Time: July 26, 2017 5:00 PM ET\n",
      "File: ServiceNow (NOW) Q2 2018 Results - Earnings Call Transcript, Ticker: Ticker Symbol Not Found, Date and Time: July 25, 2018 5:00 PM ET\n",
      "File: ServiceNow (NOW) Q3 2016 Results - Earnings Call Transcript, Ticker: Ticker Symbol Not Found, Date and Time: October 26, 2016 5:00 PM ET\n",
      "File: ServiceNow (NOW) Q3 2018 Results - Earnings Call Transcript, Ticker: Ticker Symbol Not Found, Date and Time: October 24, 2018 5:00 PM ET\n",
      "File: ServiceNow Inc.'s (NOW) CEO Bill McDermott on Q4 2020 Results - Earnings Call Transcript, Ticker: Ticker Symbol Not Found, Date and Time: January 27, 2021 5:00 PM ET\n",
      "File: ServiceNow's (NOW) CEO Bill McDermott on Q4 2021 Results - Earnings Call Transcript, Ticker: Ticker Symbol Not Found, Date and Time: January 26, 2022 5:00 PM ET\n",
      "File: ServiceNow's (NOW) CEO Frank Slootman on Q1 2016 Results - Earnings Call Transcript, Ticker: Ticker Symbol Not Found, Date and Time: April 20, 2016 5:00 PM ET\n",
      "File: ServiceNow's (NOW) CEO Frank Slootman on Q2 2014 Results - Earnings Call Transcript, Ticker: Ticker Symbol Not Found, Date and Time: July 30, 2014 5:00 PM ET\n",
      "File: ServiceNow's (NOW) CEO Frank Slootman on Q3 2014 Results - Earnings Call Transcript, Ticker: Ticker Symbol Not Found, Date and Time: October 22, 2014 5:00 PM ET\n",
      "File: ServiceNow's (NOW) CEO Frank Slootman on Q4 2014 Results - Earnings Call Transcript, Ticker: Ticker Symbol Not Found, Date and Time: January 28, 2015 5:00 PM ET\n",
      "File: ServiceNow's (NOW) CEO John Donahoe on Q4 2017 Results - Earnings Call Transcript, Ticker: Ticker Symbol Not Found, Date and Time: January 31, 2018 5:00 PM ET\n",
      "File: ServiceNow's (NOW) CEO John Donahoe on Q4 2018 Results - Earnings Call Transcript, Ticker: Ticker Symbol Not Found, Date and Time: January 30, 2019 5:00 PM ET\n",
      "File: ServiceNow's [NOW] CEO Frank Slootman on Q4 2016 Results - Earnings Call Transcript, Ticker: Ticker Symbol Not Found, Date and Time: January 25, 2017 5:00 PM ET\n",
      "File: ServiceNow's(NOW) CEO Frank Slootmanon Q1 2015Results - Earnings Call Transcript, Ticker: Ticker Symbol Not Found, Date and Time: April 16, 2015 5:00 PM ET\n",
      "File: ServiceNow, Inc. (NOW) CEO Bill McDermott on Q1 2020 Results - Earnings Call Transcript, Ticker: Ticker Symbol Not Found, Date and Time: April 29, 2020 5:00 PM ET\n",
      "File: ServiceNow, Inc. (NOW) CEO Bill McDermott on Q1 2022 Results - Earnings Call Transcript, Ticker: Ticker Symbol Not Found, Date and Time: April 27, 2022 5:00 PM ET\n",
      "File: ServiceNow, Inc. (NOW) CEO Bill McDermott on Q2 2020 Results - Earnings Call Transcript, Ticker: Ticker Symbol Not Found, Date and Time: July 29, 2020 5:00 PM ET\n",
      "File: ServiceNow, Inc. (NOW) CEO Bill McDermott on Q2 2022 Results - Earnings Call Transcript, Ticker: Ticker Symbol Not Found, Date and Time: July 27, 2022 5:00 PM ET\n",
      "File: ServiceNow, Inc. (NOW) CEO Bill McDermott on Q3 2020 Results - Earnings Call Transcript, Ticker: Ticker Symbol Not Found, Date and Time: October 28, 2020 5:00 PM ET\n",
      "File: ServiceNow, Inc. (NOW) CEO Bill McDermott on Q3 2021 Results - Earnings Call Transcript, Ticker: Ticker Symbol Not Found, Date and Time: October 27, 2021 5:00 PM ET\n",
      "File: ServiceNow, Inc. (NOW) CEO Bill McDermott on Q4 2019 Results - Earnings Call Transcript, Ticker: Ticker Symbol Not Found, Date and Time: January 29, 2020 5:00 PM ET\n",
      "File: ServiceNow, Inc. (NOW) CEO John Donahoe on Q1 2019 Results - Earnings Call Transcript, Ticker: Ticker Symbol Not Found, Date and Time: April 24, 2019 5:00 PM ET\n",
      "File: ServiceNow, Inc. (NOW) CEO John Donahoe on Q2 2019 Results - Earnings Call Transcript, Ticker: Ticker Symbol Not Found, Date and Time: July 24, 2019 5:00 PM ET\n",
      "File: ServiceNow, Inc. (NOW) CEO John Donahoe on Q3 2019 Results - Earnings Call Transcript, Ticker: Ticker Symbol Not Found, Date and Time: October 23, 2019 5:00 PM ET\n",
      "File: ServiceNow, Inc. (NOW) Q1 2023 Earnings Call Transcript, Ticker: Ticker Symbol Not Found, Date and Time: April 26, 2023 5:00 PM ET\n",
      "File: ServiceNow, Inc. (NOW) Q2 2023 Earnings Call Transcript, Ticker: Ticker Symbol Not Found, Date and Time: July 26, 2023 5:00 PM ET\n",
      "File: ServiceNow, Inc. (NOW) Q3 2022 Earnings Call Transcript, Ticker: Ticker Symbol Not Found, Date and Time: October 26, 2022 5:00 PM ET\n",
      "File: ServiceNow, Inc. (NOW) Q3 2023 Earnings Call Transcript, Ticker: Ticker Symbol Not Found, Date and Time: October 25, 2023 5:00 PM ET\n",
      "File: ServiceNow, Inc. (NOW) Q4 2022 Earnings Call Transcript, Ticker: Ticker Symbol Not Found, Date and Time: January 25, 2023 5:00 PM ET\n",
      "File: ServiceNow, Inc. (NOW) Q4 2023 Earnings Call Transcript, Ticker: Ticker Symbol Not Found, Date and Time: January 24, 2024 5:00 PM ET\n",
      "File: ServiceNow, Inc.'s (NOW) CEO Bill McDermott on Q2 2021 Results - Earnings Call Transcript, Ticker: Ticker Symbol Not Found, Date and Time: July 28, 2021 5:00 PM ET\n",
      "File: ServiceNow, Inc.'s (NOW) CEO William McDermott on Q1 2021 Results - Earnings Call Transcript, Ticker: Ticker Symbol Not Found, Date and Time: April 28, 2021 5:00 PM ET\n",
      "File: Texas Instruments (TXN) on Q2 2018 Results - Earnings Call Transcript, Ticker: TXN, Date and Time: July 24, 2018 4:30 PM ET\n",
      "File: Texas Instruments (TXN) Q1 2015 Results - Earnings Call Transcript, Ticker: TXN, Date and Time: April 22, 2015 5:30 PM ET\n",
      "File: Texas Instruments (TXN) Q1 2018 Results - Earnings Call Transcript, Ticker: Ticker Symbol Not Found, Date and Time: April 24, 2018 4:30 PM ET\n",
      "File: Texas Instruments (TXN) Q2 2017 Results - Earnings Call Transcript, Ticker: TXN, Date and Time: July 25, 2017 5:00 PM ET\n",
      "File: Texas Instruments (TXN) Q3 2018 Results - Earnings Call Transcript, Ticker: TXN, Date and Time: October 23, 2018 4:30 PM ET\n",
      "File: Texas Instruments (TXN) Q4 2016 Results - Earnings Call Transcript, Ticker: TXN, Date and Time: January 24, 2017 5:30 PM ET\n",
      "File: Texas Instruments Incorporated (TXN) CEO Rich Templeton on Q1 2020 Results - Earnings Call Transcript, Ticker: TXN, Date and Time: April 21, 2020 4:30 PM ET\n",
      "File: Texas Instruments Incorporated (TXN) Management on Q1 2022 Results - Earnings Call Transcript, Ticker: TXN, Date and Time: April 26, 2022 4:30 PM ET\n",
      "File: Texas Instruments Incorporated (TXN) Management on Q4 2018 Results - Earnings Call Transcript, Ticker: TXN, Date and Time: January 23, 2019 4:30 PM ET\n",
      "File: Texas Instruments Incorporated (TXN) Management on Q4 2021 Results - Earnings Call Transcript, Ticker: TXN, Date and Time: January 25, 2022 4:15 PM ET\n",
      "File: Texas Instruments Incorporated (TXN) on Q1 2019 Results - Earnings Call Transcript, Ticker: TXN, Date and Time: April 23, 2019 4:30 PM ET\n",
      "File: Texas Instruments Incorporated (TXN) on Q2 2019 Results - Earnings Call Transcript, Ticker: TXN, Date and Time: July 23, 2019 4:30 PM ET\n",
      "File: Texas Instruments Incorporated (TXN) on Q2 2020 Results - Earnings Call Transcript, Ticker: TXN, Date and Time: July 21, 2020 4:30 PM ET\n",
      "File: Texas Instruments Incorporated (TXN) Q1 2017 Results - Earnings Call Transcript, Ticker: TXN, Date and Time: April 25, 2017 5:30 PM ET\n",
      "File: Texas Instruments Incorporated (TXN) Q1 2021 Results - Earnings Call Transcript, Ticker: TXN, Date and Time: April 27, 2021 4:30 PM ET\n",
      "File: Texas Instruments Incorporated (TXN) Q1 2023 Earnings Call Transcript, Ticker: TXN, Date and Time: April 25, 2023 4:30 PM ET\n",
      "File: Texas Instruments Incorporated (TXN) Q2 2021 Results - Earnings Call Transcript, Ticker: TXN, Date and Time: July 21, 2021 4:30 PM ET\n",
      "File: Texas Instruments Incorporated (TXN) Q2 2022 Results - Earnings Call Transcript, Ticker: TXN, Date and Time: July 26, 2022 4:30 PM ET\n",
      "File: Texas Instruments Incorporated (TXN) Q2 2023 Earnings Call Transcript, Ticker: TXN, Date and Time: July 25, 2023 4:30 PM ET\n",
      "File: Texas Instruments Incorporated (TXN) Q3 2017 Results - Earnings Call Transcript, Ticker: TXN, Date and Time: October 24, 2017 5:00 PM ET\n",
      "File: Texas Instruments Incorporated (TXN) Q3 2019 Results - Earnings Call Transcript, Ticker: TXN, Date and Time: October 22, 2019 4:30 PM ET\n",
      "File: Texas Instruments Incorporated (TXN) Q3 2020 Results - Earnings Call Transcript, Ticker: TXN, Date and Time: October 20, 2020 4:30 PM ET\n",
      "File: Texas Instruments Incorporated (TXN) Q3 2021 Results - Earnings Call Transcript, Ticker: TXN, Date and Time: October 26, 2021 4:30 PM ET\n",
      "File: Texas Instruments Incorporated (TXN) Q3 2022 Earnings Call Transcript, Ticker: TXN, Date and Time: October 25, 2022 4:30 PM ET\n",
      "File: Texas Instruments Incorporated (TXN) Q3 2023 Earnings Call Transcript, Ticker: TXN, Date and Time: October 24, 2023 4:30 PM ET\n",
      "File: Texas Instruments Incorporated (TXN) Q4 2022 Earnings Call Transcript, Ticker: TXN, Date and Time: January 24, 2023 4:30 PM ET\n",
      "File: Texas Instruments Incorporated (TXN) Q4 2023 Earnings Call Transcript, Ticker: TXN, Date and Time: January 23, 2024 4:30 PM ET\n",
      "File: Texas Instruments' (TXN) Management on Q1 2016 Results - Earnings Call Transcript, Ticker: TXN, Date and Time: April 27, 2016 5:30 PM ET\n",
      "File: Texas Instruments' (TXN) Management on Q2 2014 Results - Earnings Call Transcript, Ticker: TXN, Date and Time: July 21, 2014 5:30 PM ET\n",
      "File: Texas Instruments' (TXN) Management on Q3 2014 Results - Earnings Call Transcript, Ticker: TXN, Date and Time: October 20, 2014 5:30 PM ET\n",
      "File: Texas Instruments' (TXN) Management on Q4 2020 Results - Earnings Call Transcript, Ticker: TXN, Date and Time: January 26, 2021 4:30 PM ET\n",
      "File: Texas Instruments' (TXN) on Q3 2016 Results - Earnings Call Transcript, Ticker: TXN, Date and Time: October 26, 2016 5:30 PM ET\n",
      "File: Texas Instruments' (TXN) Q4 2014 Results - Earnings Call Transcript, Ticker: TXN, Date and Time: January 26, 2015 5:30 PM ET\n",
      "File: Texas Instruments' (TXN) Q4 2017 Results - Earnings Call Transcript, Ticker: TXN, Date and Time: January 23, 2018 4:30 PM ET\n",
      "File: Texas Instruments, Inc. (TXN) on Q4 2019 Results - Earnings Call Transcript, Ticker: TXN, Date and Time: January 22, 2020 4:30 PM ET\n",
      "File: Texas Instruments, Incorporated. (TXN) Q2 2015 Results - Earnings Call Transcript, Ticker: TXN, Date and Time: July 22, 2015 5:30 PM ET\n",
      "File: Texas Instruments, Incorporated. (TXN) Q2 2016 Results - Earnings Call Transcript, Ticker: TXN, Date and Time: July 25, 2016 5:30 PM ET\n",
      "File: Texas Instruments, Incorporated. (TXN) Q3 2015 Results - Earnings Call Transcript, Ticker: TXN, Date and Time: October 21, 2015 5:30 PM ET\n",
      "File: Texas Instruments, Incorporated. (TXN) Q4 2015 Results - Earnings Call Transcript, Ticker: TXN, Date and Time: January 27, 2016 5:30 PM ET\n",
      "File: Uber Technologies' (UBER) CEO Dara Khosrowshahi on Q2 2019 Results - Earnings Call Transcript, Ticker: Ticker Symbol Not Found, Date and Time: August 8, 2019 5:00 PM ET\n",
      "File: Uber Technologies' (UBER) CEO Dara Khosrowshahi on Q2 2020 Results - Earnings Call Transcript, Ticker: Ticker Symbol Not Found, Date and Time: August 6, 2020 4:30 PM ET\n",
      "File: Uber Technologies' (UBER) CEO Dara Khosrowshahi on Q4 2019 Results - Earnings Call Transcript, Ticker: Ticker Symbol Not Found, Date and Time: February 6, 2020 4:30 PM ET\n",
      "File: Uber Technologies, Inc (UBER) CEO Dara Khosrowshahi on Q3 2019 Results - Earnings Call Transcript, Ticker: Ticker Symbol Not Found, Date and Time: November 4, 2019 5:00 PM ET\n",
      "File: Uber Technologies, Inc. (UBER) CEO Dara Khosrowshahi on Q1 2020 Results - Earnings Call Transcript, Ticker: Ticker Symbol Not Found, Date and Time: May 7, 2020 4:30 PM ET\n",
      "File: Uber Technologies, Inc. (UBER) CEO Dara Khosrowshahi on Q1 2021 Results - Earnings Call Transcript, Ticker: Ticker Symbol Not Found, Date and Time: May 5, 2021 4:30 PM ET\n",
      "File: Uber Technologies, Inc. (UBER) CEO Dara Khosrowshahi on Q1 2022 Results - Earnings Call Transcript, Ticker: Ticker Symbol Not Found, Date and Time: May 4, 2022 8:00 AM ET\n",
      "File: Uber Technologies, Inc. (UBER) CEO Dara Khosrowshahi on Q2 2021 Results - Earnings Call Transcript, Ticker: Ticker Symbol Not Found, Date and Time: August 4, 2021 4:30 PM ET\n",
      "File: Uber Technologies, Inc. (UBER) CEO Dara Khosrowshahi on Q2 2022 Results - Earnings Call Transcript, Ticker: Ticker Symbol Not Found, Date and Time: August 2, 2022 8:00 AM ET\n",
      "File: Uber Technologies, Inc. (UBER) CEO Dara Khosrowshahi on Q3 2020 Results - Earnings Call Transcript, Ticker: Ticker Symbol Not Found, Date and Time: November 5, 2020 4:30 PM ET\n",
      "File: Uber Technologies, Inc. (UBER) CEO Dara Khosrowshahi on Q3 2021 Results - Earnings Call Transcript, Ticker: Ticker Symbol Not Found, Date and Time: November 4, 2021 5:00 PM ET\n",
      "File: Uber Technologies, Inc. (UBER) CEO Dara Khosrowshahi on Q4 2021 Results - Earnings Call Transcript, Ticker: Ticker Symbol Not Found, Date and Time: February 9, 2022 5:00 PM ET\n",
      "File: Uber Technologies, Inc. (UBER) Q1 2023 Earnings Call Transcript, Ticker: Ticker Symbol Not Found, Date and Time: May 2, 2023 8:00 AM ET\n",
      "File: Uber Technologies, Inc. (UBER) Q2 2023 Earnings Call Transcript, Ticker: Ticker Symbol Not Found, Date and Time: August 1, 2023 8:00 AM ET\n",
      "File: Uber Technologies, Inc. (UBER) Q3 2022 Earnings Call Transcript, Ticker: Ticker Symbol Not Found, Date and Time: November 1, 2022 8:00 AM ET\n",
      "File: Uber Technologies, Inc. (UBER) Q3 2023 Earnings Call Transcript, Ticker: Ticker Symbol Not Found, Date and Time: November 7, 2023 8:00 AM ET\n",
      "File: Uber Technologies, Inc. (UBER) Q4 2022 Earnings Call Transcript, Ticker: Ticker Symbol Not Found, Date and Time: February 8, 2023 8:00 AM ET\n",
      "File: Uber Technologies, Inc. (UBER) Q4 2023 Earnings Call Transcript, Ticker: Ticker Symbol Not Found, Date and Time: February 7, 2024 8:00 AM ET\n",
      "File: Uber Technologies, Inc.'s (UBER) CEO Dara Khosrowshahi on Q1 2019 Results - Earnings Call Transcript, Ticker: Ticker Symbol Not Found, Date and Time: May 30, 2019 4:30 PM ET\n",
      "File: Uber Technologies, Inc.'s (UBER) CEO Dara Khosrowshahi on Q4 2020 Results - Earnings Call Transcript, Ticker: Ticker Symbol Not Found, Date and Time: February 10, 2021 4:30 PM ET\n",
      "File: Union Pacific (UNP) Lance Fritz Q2 2016 Results - Earnings Call Transcript, Ticker: Ticker Symbol Not Found, Date and Time: Date and Time Not Found\n",
      "File: Union Pacific (UNP) Q1 2016 Results - Earnings Call Transcript, Ticker: Ticker Symbol Not Found, Date and Time: April 21, 2016 8:45 AM ET\n",
      "File: Union Pacific (UNP) Q1 2017 Results - Earnings Call Transcript, Ticker: Ticker Symbol Not Found, Date and Time: April 27, 2017 8:45 AM ET\n",
      "File: Union Pacific (UNP) Q1 2018 Results - Earnings Call Transcript, Ticker: Ticker Symbol Not Found, Date and Time: April 26, 2018 8:45 AM ET\n",
      "File: Union Pacific (UNP) Q3 2017 Results - Earnings Call Transcript, Ticker: Ticker Symbol Not Found, Date and Time: October 26, 2017 8:45 AM ET\n",
      "File: Union Pacific (UNP) Q3 2018 Results - Earnings Call Transcript, Ticker: Ticker Symbol Not Found, Date and Time: October 25, 2018 8:45 AM ET\n",
      "File: Union Pacific Corp (UNP) CEO Lance Fritz on Q2 2020 Results - Earnings Call Transcript, Ticker: Ticker Symbol Not Found, Date and Time: July 23, 2020 8:45 AM ET\n",
      "File: Union Pacific Corporation (UNP) CEO Lance Fritz on Q1 2015 Results -- Earnings Call Transcript, Ticker: Ticker Symbol Not Found, Date and Time: April 23, 2015 8:45 AM ET\n",
      "File: Union Pacific Corporation (UNP) CEO Lance Fritz on Q1 2019 Results - Earnings Call Transcript, Ticker: Ticker Symbol Not Found, Date and Time: April 18, 2019 8:45 AM ET\n",
      "File: Union Pacific Corporation (UNP) CEO Lance Fritz on Q1 2020 Results - Earnings Call Transcript, Ticker: Ticker Symbol Not Found, Date and Time: April 23, 2020 8:45 AM ET\n",
      "File: Union Pacific Corporation (UNP) CEO Lance Fritz on Q1 2021 Results - Earnings Call Transcript, Ticker: Ticker Symbol Not Found, Date and Time: April 22, 2021 8:45 AM ET\n",
      "File: Union Pacific Corporation (UNP) CEO Lance Fritz on Q1 2022 Results - Earnings Call Transcript, Ticker: Ticker Symbol Not Found, Date and Time: April 21, 2022 8:45 AM ET\n",
      "File: Union Pacific Corporation (UNP) CEO Lance Fritz on Q2 2018 Results - Earnings Call Transcript, Ticker: Ticker Symbol Not Found, Date and Time: July 19, 2018 8:45 AM ET\n",
      "File: Union Pacific Corporation (UNP) CEO Lance Fritz on Q2 2019 Results - Earnings Call Transcript, Ticker: Ticker Symbol Not Found, Date and Time: July 18, 2019 8:45 AM ET\n",
      "File: Union Pacific Corporation (UNP) CEO Lance Fritz on Q3 2020 Results - Earnings Call Transcript, Ticker: Ticker Symbol Not Found, Date and Time: October 22, 2020 8:45 AM ET\n",
      "File: Union Pacific Corporation (UNP) CEO Lance Fritz on Q3 2021 Results - Earnings Call Transcript, Ticker: Ticker Symbol Not Found, Date and Time: October 21, 2021 8:45 AM ET\n",
      "File: Union Pacific Corporation (UNP) CEO Lance Fritz on Q4 2018 Results - Earnings Call Transcript, Ticker: Ticker Symbol Not Found, Date and Time: January 24, 2019 8:45 AM ET\n",
      "File: Union Pacific Corporation (UNP) CEO Lance Fritz on Q4 2021 Results - Earnings Call Transcript, Ticker: Ticker Symbol Not Found, Date and Time: January 20, 2021 8:45 AM ET\n",
      "File: Union Pacific Corporation (UNP) Q1 2023 Earnings Call Transcript, Ticker: Ticker Symbol Not Found, Date and Time: April 20, 2023 8:45 AM ET\n",
      "File: Union Pacific Corporation (UNP) Q2 2023 Earnings Call Transcript, Ticker: Ticker Symbol Not Found, Date and Time: July 26, 2023 8:45 AM ET\n",
      "File: Union Pacific Corporation (UNP) Q3 2022 Earnings Call Transcript, Ticker: Ticker Symbol Not Found, Date and Time: October 20, 2022 8:45 AM ET\n",
      "File: Union Pacific Corporation (UNP) Q3 2023 Earnings Call Transcript, Ticker: Ticker Symbol Not Found, Date and Time: October 19, 2023 8:45 AM ET\n",
      "File: Union Pacific Corporation (UNP) Q4 2022 Earnings Call Transcript, Ticker: Ticker Symbol Not Found, Date and Time: January 24, 2023 8:45 AM ET\n",
      "File: Union Pacific Corporation (UNP) Q4 2023 Earnings Call Transcript, Ticker: Ticker Symbol Not Found, Date and Time: January 25, 2024 8:45 AM ET\n",
      "File: Union Pacific Corporation's (UNP) CEO Lance Fritz on Q2 2021 Results - Earnings Call Transcript, Ticker: Ticker Symbol Not Found, Date and Time: July 22, 2021 8:45 AM ET\n",
      "File: Union Pacific Corporation's (UNP) CEO Lance Fritz on Q2 2022 Results - Earnings Call Transcript, Ticker: Ticker Symbol Not Found, Date and Time: July 21, 2022 8:45 AM ET\n",
      "File: Union Pacific Corporation's (UNP) CEO Lance Fritz on Q3 2019 Results - Earnings Call Transcript, Ticker: Ticker Symbol Not Found, Date and Time: October 17, 2019 8:45 AM ET\n",
      "File: Union Pacific Corporation's (UNP) CEO Lance Fritz on Q4 2019 Results - Earnings Call Transcript, Ticker: Ticker Symbol Not Found, Date and Time: January 23, 2020 8:45 AM ET\n",
      "File: Union Pacific Corporation's (UNP) CEO Lance Fritz on Q4 2020 Results - Earnings Call Transcript, Ticker: Ticker Symbol Not Found, Date and Time: January 21, 2021 8:45 AM ET\n",
      "File: Union Pacific's (UNP) CEO John Koraleski on Q3 2014 Results - Earnings Call Transcript, Ticker: Ticker Symbol Not Found, Date and Time: Date and Time Not Found\n",
      "File: Union Pacific's (UNP) CEO John Koraleski on Q4 2014 Earnings Results - Earnings Call Transcript, Ticker: Ticker Symbol Not Found, Date and Time: Date and Time Not Found\n",
      "File: Union Pacific's (UNP) CEO Lance Fritz on Q2 2015 Results - Earnings Call Transcript, Ticker: Ticker Symbol Not Found, Date and Time: July 23, 2015 8:45 AM ET\n",
      "File: Union Pacific's (UNP) CEO Lance Fritz on Q2 2017 Results - Earnings Call Transcript, Ticker: Ticker Symbol Not Found, Date and Time: July 20, 2017 8:45 AM ET\n",
      "File: Union Pacific's (UNP) CEO Lance Fritz on Q3 2015 Results - Earnings Call Transcript, Ticker: Ticker Symbol Not Found, Date and Time: October 22, 2015 8:45 AM ET\n",
      "File: Union Pacific's (UNP) CEO Lance Fritz on Q4 2015 Results - Earnings Call Transcript, Ticker: Ticker Symbol Not Found, Date and Time: January 20, 2016 8:45 AM ET\n",
      "File: Union Pacific's (UNP) CEO Lance Fritz on Q4 2016 Results - Earnings Call Transcript, Ticker: Ticker Symbol Not Found, Date and Time: January 19, 2017 8:45 AM ET\n",
      "File: Union Pacific's (UNP) CEO Lance Fritz on Q4 2017 Results - Earnings Call Transcript, Ticker: Ticker Symbol Not Found, Date and Time: January 25, 2017 8:45 PM ET\n",
      "File: Union Pacific's (UNP) CEO Lance Fritz Q3 2016 Results - Earnings Call Transcript, Ticker: Ticker Symbol Not Found, Date and Time: October 20, 2016 8:45 AM ET\n",
      "File: Verizon (VZ) Q4 2014 Results - Earnings Call Transcript, Ticker: Ticker Symbol Not Found, Date and Time: January 22, 2015 8:30 AM ET\n",
      "File: Verizon Communications (VZ) CEO Lowell McAdam on Q2 2018 Results - Earnings Call Transcript, Ticker: Ticker Symbol Not Found, Date and Time: July 24, 2018 8:30 AM ET\n",
      "File: Verizon Communications (VZ) CEO Lowell McAdam on Q4 2017 Results - Earnings Call Transcript, Ticker: Ticker Symbol Not Found, Date and Time: January 23, 2018 8:30 AM ET\n",
      "File: Verizon Communications (VZ) Lowell C. McAdam on Q2 2016 Results - Earnings Call Transcript, Ticker: Ticker Symbol Not Found, Date and Time: July 26, 2016 8:30 AM ET\n",
      "File: Verizon Communications (VZ) on Q1 2018 Results - Earnings Call Transcript, Ticker: Ticker Symbol Not Found, Date and Time: April 24, 2018 8:30 AM ET\n",
      "File: Verizon Communications (VZ) on Q4 2015 Results - Earnings Call Transcript, Ticker: Ticker Symbol Not Found, Date and Time: January 21, 2016 8:30 AM ET\n",
      "File: Verizon Communications (VZ) Q1 2016 Results - Earnings Call Transcript, Ticker: Ticker Symbol Not Found, Date and Time: April 21, 2016 8:30 AM ET\n",
      "File: Verizon Communications (VZ) Q1 2017 Results - Earnings Call Transcript, Ticker: Ticker Symbol Not Found, Date and Time: April 20, 2017 8:30 AM ET\n",
      "File: Verizon Communications (VZ) Q2 2015 Results - Earnings Call Transcript, Ticker: Ticker Symbol Not Found, Date and Time: July 21, 2015 8:30 AM ET\n",
      "File: Verizon Communications (VZ) Q2 2017 Results - Earnings Call Transcript, Ticker: Ticker Symbol Not Found, Date and Time: July 27, 2017 8:30 AM ET\n",
      "File: Verizon Communications (VZ) Q3 2014 Results - Earnings Call Transcript, Ticker: Ticker Symbol Not Found, Date and Time: October 21, 2014 8:30 AM ET\n",
      "File: Verizon Communications (VZ) Q3 2015 Results - Earnings Call Transcript, Ticker: Ticker Symbol Not Found, Date and Time: October 20, 2015 8:30 AM ET\n",
      "File: Verizon Communications (VZ) Q3 2017 Results - Earnings Call Transcript, Ticker: Ticker Symbol Not Found, Date and Time: October 19, 2017 8:30 AM ET\n",
      "File: Verizon Communications (VZ) Q4 2016 Results - Earnings Call Transcript, Ticker: Ticker Symbol Not Found, Date and Time: January 24, 2017 8:30 AM ET\n",
      "File: Verizon Communications Inc. (VZ) CEO Discusses Q2 2013 Results - Earnings Call Transcript, Ticker: Ticker Symbol Not Found, Date and Time: July 18, 2013 8:30 AM ET\n",
      "File: Verizon Communications Inc. (VZ) CEO Hans Vestberg on Q1 2019 Results - Earnings Call Transcript, Ticker: Ticker Symbol Not Found, Date and Time: April 23, 2019 8:30 AM ET\n",
      "File: Verizon Communications Inc. (VZ) CEO Hans Vestberg on Q1 2020 Results - Earnings Call Transcript, Ticker: Ticker Symbol Not Found, Date and Time: April 24, 2020 8:30 AM ET\n",
      "File: Verizon Communications Inc. (VZ) CEO Hans Vestberg on Q2 2019 Results - Earnings Call Transcript, Ticker: Ticker Symbol Not Found, Date and Time: August 1, 2019 8:30 AM ET\n",
      "File: Verizon Communications Inc. (VZ) CEO Hans Vestberg on Q2 2020 Results - Earnings Call Transcript, Ticker: Ticker Symbol Not Found, Date and Time: July 24, 2020 8:30 AM ET\n",
      "File: Verizon Communications Inc. (VZ) CEO Hans Vestberg on Q2 2021 Results - Earnings Call Transcript, Ticker: Ticker Symbol Not Found, Date and Time: July 21, 2021 8:30 AM ET\n",
      "File: Verizon Communications Inc. (VZ) CEO Hans Vestberg on Q2 2022 Results - Earnings Call Transcript, Ticker: Ticker Symbol Not Found, Date and Time: July 22, 2022 8:30 AM ET\n",
      "File: Verizon Communications Inc. (VZ) CEO Hans Vestberg on Q3 2020 Results - Earnings Call Transcript, Ticker: Ticker Symbol Not Found, Date and Time: October 21, 2020 8:30 AM ET\n",
      "File: Verizon Communications Inc. (VZ) CEO Hans Vestberg on Q4 2018 Results - Earnings Call Transcript, Ticker: Ticker Symbol Not Found, Date and Time: January 29, 2019 8:30 AM ET\n",
      "File: Verizon Communications Inc. (VZ) CEO Hans Vestberg on Q4 2019 Results - Earnings Call Transcript, Ticker: Ticker Symbol Not Found, Date and Time: January 30, 2020 8:30 AM ET\n",
      "File: Verizon Communications Inc. (VZ) CEO Hans Vestberg on Q4 2020 Results - Earnings Call Transcript, Ticker: Ticker Symbol Not Found, Date and Time: January 26, 2021 8:30 AM ET\n",
      "File: Verizon Communications Inc. (VZ) CEO Hans Vestberg on Q4 2021 Results - Earnings Call Transcript, Ticker: Ticker Symbol Not Found, Date and Time: January 25, 2022 8:30 AM ET\n",
      "File: Verizon Communications Inc. (VZ) Q1 2023 Earnings Call Transcript, Ticker: Ticker Symbol Not Found, Date and Time: April 25, 2023 8:30 AM ET\n",
      "File: Verizon Communications Inc. (VZ) Q2 2023 Earnings Call Transcript, Ticker: Ticker Symbol Not Found, Date and Time: July 25, 2023 8:30 AM ET\n",
      "File: Verizon Communications Inc. (VZ) Q3 2018 Results - Earnings Call Transcript, Ticker: Ticker Symbol Not Found, Date and Time: October 23, 2018 8:30 AM ET\n",
      "File: Verizon Communications Inc. (VZ) Q3 2022 Earnings Call Transcript, Ticker: Ticker Symbol Not Found, Date and Time: October 21, 2022 8:30 AM ET\n",
      "File: Verizon Communications Inc. (VZ) Q3 2023 Earnings Call Transcript, Ticker: Ticker Symbol Not Found, Date and Time: October 24, 2023 8:30 AM ET\n",
      "File: Verizon Communications Inc. (VZ) Q4 2022 Earnings Call Transcript, Ticker: Ticker Symbol Not Found, Date and Time: January 24, 2023 8:30 AM ET\n",
      "File: Verizon Communications Inc. (VZ) Q4 2023 Earnings Call Transcript, Ticker: Ticker Symbol Not Found, Date and Time: January 23, 2024 8:30 AM ET\n",
      "File: Verizon Communications Inc.'s (VZ) CEO Hans Vestberg on Q1 2021 Results - Earnings Call Transcript, Ticker: Ticker Symbol Not Found, Date and Time: April 21, 2021 8:30 AM ET\n",
      "File: Verizon Communications Inc.'s (VZ) CEO Hans Vestberg on Q1 2022 Results - Earnings Call Transcript, Ticker: Ticker Symbol Not Found, Date and Time: April 22, 2022 8:30 AM ET\n",
      "File: Verizon Communications Inc.'s (VZ) CEO Hans Vestberg on Q3 2021 Results - Earnings Call Transcript, Ticker: Ticker Symbol Not Found, Date and Time: October 20, 2021 8:30 AM ET\n",
      "File: Verizon Communications' (VZ) Management on Q3 2016 Results - Earnings Call Transcript, Ticker: Ticker Symbol Not Found, Date and Time: October 20, 2016 8:30 AM ET\n",
      "File: Verizon Communications' (VZ) Q1 2015 Results - Earnings Call Transcript, Ticker: Ticker Symbol Not Found, Date and Time: April 21, 2015 8:30 AM ET\n",
      "File: Verizon Communications, Inc. (VZ) CEO Hans Vestberg on Q3 2019 Results - Earnings Call Transcript, Ticker: Ticker Symbol Not Found, Date and Time: October 25, 2019 8:30 AM ET\n"
     ]
    }
   ],
   "source": [
    "def extract_earnings_call_info(content):\n",
    "    # Updated regex pattern\n",
    "    ticker_pattern = re.compile(r'\\(NASDAQ:(.*?)\\)')\n",
    "    # Non-capturing groups for date alternation, separate capturing groups for date and time\n",
    "    date_time_pattern = re.compile(r'(?:\\b\\d{1,2} [A-Za-z]+|\\b[A-Za-z]+ \\d{1,2}), \\d{4}\\s+(\\d{1,2}[:.]\\d{2} [AP]M)\\s*(ET|PT)')\n",
    "    \n",
    "    ticker_search = ticker_pattern.search(content)\n",
    "    ticker = ticker_search.group(1) if ticker_search else \"Ticker Symbol Not Found\"\n",
    "    \n",
    "    date_time_search = date_time_pattern.search(content)\n",
    "    if date_time_search:\n",
    "        date_time = date_time_search.group(0)\n",
    "    else:\n",
    "        date_time = \"Date and Time Not Found\"\n",
    "    \n",
    "    return ticker, date_time\n",
    "\n",
    "base_path = r\"C:\\Users\\spatan5\\Desktop\\EarningsNLP\"\n",
    "\n",
    "for company_folder in os.listdir(base_path):\n",
    "    company_path = os.path.join(base_path, company_folder)\n",
    "    if os.path.isdir(company_path):\n",
    "        for file_name in os.listdir(company_path):\n",
    "            file_path = os.path.join(company_path, file_name)\n",
    "            if os.path.isfile(file_path):\n",
    "                with open(file_path, 'rb') as file:\n",
    "                    content = file.read()\n",
    "                    soup = BeautifulSoup(content, 'html.parser')\n",
    "                    text_content = soup.get_text()\n",
    "                    ticker, date_time = extract_earnings_call_info(text_content)\n",
    "                    print(f\"File: {file_name}, Ticker: {ticker}, Date and Time: {date_time}\")\n"
   ]
  },
  {
   "cell_type": "code",
   "execution_count": 220,
   "id": "2bd259b5-09f9-4a3c-b0bd-90d9052f584e",
   "metadata": {},
   "outputs": [],
   "source": [
    "## Load Coca-Cola Data\n",
    "#file_path = '/Users/tejaswitripathi/Documents/GitHub/Project_Spring_2024/Data/Coca-Cola Company'\n",
    "with open('C:/Users/spatan5/Desktop/EarningsNLP/Microsoft/Microsoft (MSFT) Q1 2016 Results - Earnings Call Transcript', 'r') as file:\n",
    "    cola = file.read()"
   ]
  },
  {
   "cell_type": "code",
   "execution_count": 221,
   "id": "9dfca607-e558-45bb-96f9-8b95d1c235a0",
   "metadata": {},
   "outputs": [],
   "source": [
    "soup = BeautifulSoup(cola, 'html.parser')"
   ]
  },
  {
   "cell_type": "code",
   "execution_count": 222,
   "id": "aa468ba7-ea75-4fbe-8168-41907065c25b",
   "metadata": {},
   "outputs": [],
   "source": [
    "text_content = soup.get_text()"
   ]
  },
  {
   "cell_type": "code",
   "execution_count": 223,
   "id": "d6e46ff7-3670-47b3-b472-129fb4d38a74",
   "metadata": {},
   "outputs": [
    {
     "name": "stdout",
     "output_type": "stream",
     "text": [
      "('MSFT', 'October 22, 2015 5:30 PM ET')\n"
     ]
    }
   ],
   "source": [
    "print(extract_earnings_call_info(text_content))"
   ]
  },
  {
   "cell_type": "code",
   "execution_count": 224,
   "id": "28034b7c-9b91-4f2c-bb1b-0dc66e3dfec1",
   "metadata": {},
   "outputs": [],
   "source": [
    "import yfinance as yf"
   ]
  },
  {
   "cell_type": "code",
   "execution_count": 227,
   "id": "cfcbe266-0529-4c6e-88ad-a5953af4bb91",
   "metadata": {},
   "outputs": [
    {
     "name": "stderr",
     "output_type": "stream",
     "text": [
      "[*********************100%%**********************]  1 of 1 completed\n",
      "[*********************100%%**********************]  1 of 1 completed\n",
      "\n",
      "1 Failed download:\n",
      "['NVDA']: Exception('%ticker%: No price data found, symbol may be delisted (1d 2024-02-19 -> 2024-02-20)')\n",
      "[*********************100%%**********************]  1 of 1 completed\n",
      "\n",
      "1 Failed download:\n",
      "['NVDA']: Exception('%ticker%: No price data found, symbol may be delisted (1d 2024-02-18 -> 2024-02-19)')\n",
      "[*********************100%%**********************]  1 of 1 completed\n",
      "\n",
      "1 Failed download:\n",
      "['NVDA']: Exception('%ticker%: No price data found, symbol may be delisted (1d 2024-02-17 -> 2024-02-18)')\n",
      "[*********************100%%**********************]  1 of 1 completed\n"
     ]
    },
    {
     "ename": "AttributeError",
     "evalue": "'float' object has no attribute 'round'",
     "output_type": "error",
     "traceback": [
      "\u001b[1;31m---------------------------------------------------------------------------\u001b[0m",
      "\u001b[1;31mAttributeError\u001b[0m                            Traceback (most recent call last)",
      "Cell \u001b[1;32mIn[227], line 73\u001b[0m\n\u001b[0;32m     69\u001b[0m earnings_datetime_str \u001b[38;5;241m=\u001b[39m \u001b[38;5;124m\"\u001b[39m\u001b[38;5;124mFebruary 21, 2024 5:00 PM ET\u001b[39m\u001b[38;5;124m\"\u001b[39m\n\u001b[0;32m     71\u001b[0m day_after_high, day_before_avg \u001b[38;5;241m=\u001b[39m get_stock_prices(ticker, earnings_datetime_str)\n\u001b[1;32m---> 73\u001b[0m \u001b[38;5;28mprint\u001b[39m(\u001b[38;5;124mf\u001b[39m\u001b[38;5;124m\"\u001b[39m\u001b[38;5;124mHighest price on the day after earnings release: \u001b[39m\u001b[38;5;132;01m{\u001b[39;00mday_after_high\u001b[38;5;241m.\u001b[39mround(\u001b[38;5;241m2\u001b[39m)\u001b[38;5;132;01m}\u001b[39;00m\u001b[38;5;124m\"\u001b[39m)\n\u001b[0;32m     74\u001b[0m \u001b[38;5;28mprint\u001b[39m(\u001b[38;5;124mf\u001b[39m\u001b[38;5;124m\"\u001b[39m\u001b[38;5;124mAverage price on the day before earnings release: \u001b[39m\u001b[38;5;132;01m{\u001b[39;00mday_before_avg\u001b[38;5;241m.\u001b[39mround(\u001b[38;5;241m2\u001b[39m)\u001b[38;5;132;01m}\u001b[39;00m\u001b[38;5;124m\"\u001b[39m)\n",
      "\u001b[1;31mAttributeError\u001b[0m: 'float' object has no attribute 'round'"
     ]
    }
   ],
   "source": [
    "import pandas as pd\n",
    "import yfinance as yf\n",
    "from datetime import datetime, timedelta\n",
    "\n",
    "def adjust_for_weekend(target_date):\n",
    "    \"\"\"\n",
    "    Adjusts a date to ensure it falls on a weekday, shifting to the previous Friday if it falls on a weekend.\n",
    "    \"\"\"\n",
    "    weekday = target_date.weekday()\n",
    "    if weekday == 5:  # Saturday\n",
    "        return target_date - timedelta(days=1)\n",
    "    elif weekday == 6:  # Sunday\n",
    "        return target_date - timedelta(days=2)\n",
    "    return target_date\n",
    "\n",
    "def get_stock_prices(ticker, earnings_datetime_str):\n",
    "    if ticker == \"Ticker Symbol Not Found\" or earnings_datetime_str == \"Date and Time Not Found\":\n",
    "        return \"Data not available due to missing information\", \"Data not available due to missing information\"\n",
    "    \n",
    "    try:\n",
    "        earnings_datetime = datetime.strptime(earnings_datetime_str, \"%B %d, %Y %I:%M %p ET\")\n",
    "    except ValueError:\n",
    "        return \"Data not available due to incorrect date/time format\", \"Data not available due to incorrect date/time format\"\n",
    "    \n",
    "    if earnings_datetime.hour >= 16:  # After market close\n",
    "        start_date = earnings_datetime + timedelta(days=1)\n",
    "        end_date = earnings_datetime - timedelta(days=1)\n",
    "    else:  # Before market close\n",
    "        start_date = earnings_datetime\n",
    "        end_date = earnings_datetime - timedelta(days=2)\n",
    "    \n",
    "    # Adjust for weekends\n",
    "    start_date = adjust_for_weekend(start_date)\n",
    "    end_date = adjust_for_weekend(end_date)\n",
    "\n",
    "    # Try to fetch day_after_high up to 4 times\n",
    "    attempts = 0\n",
    "    day_after_high = \"Data not available after multiple attempts\"\n",
    "    while attempts < 4:\n",
    "        start_date_str = start_date.strftime('%Y-%m-%d')\n",
    "        try:\n",
    "            data_after = yf.download(ticker, start=start_date_str, end=(start_date + timedelta(days=1)).strftime('%Y-%m-%d'))\n",
    "            if not data_after.empty:\n",
    "                day_after_high = data_after['High'].max()\n",
    "                break\n",
    "        except Exception:\n",
    "            break\n",
    "        start_date += timedelta(days=1)  # Move to next day if data is not available\n",
    "        attempts += 1\n",
    "\n",
    "    # Try to fetch day_before_avg up to 4 times\n",
    "    attempts = 0\n",
    "    day_before_avg = \"Data not available after multiple attempts\"\n",
    "    while attempts < 4:\n",
    "        end_date_str = end_date.strftime('%Y-%m-%d')\n",
    "        try:\n",
    "            data_before = yf.download(ticker, start=(end_date - timedelta(days=1)).strftime('%Y-%m-%d'), end=end_date_str)\n",
    "            if not data_before.empty:\n",
    "                day_before_avg = (data_before['High'] + data_before['Low']).mean() / 2\n",
    "                break\n",
    "        except Exception:\n",
    "            break\n",
    "        end_date -= timedelta(days=1)  # Move back one day if data is not available\n",
    "        attempts += 1\n",
    "\n",
    "    return day_after_high, day_before_avg\n"
   ]
  },
  {
   "cell_type": "code",
   "execution_count": 228,
   "id": "31a1e01f-0b61-47a0-861f-8eea403da62e",
   "metadata": {},
   "outputs": [
    {
     "name": "stdout",
     "output_type": "stream",
     "text": [
      "Ticker: Ticker Symbol Not Found, Date and Time: Date and Time Not Found\n",
      "Highest price on the day after earnings release: Data not available due to missing information\n",
      "Average price on the day before earnings release: Data not available due to missing information\n",
      "Ticker: Ticker Symbol Not Found, Date and Time: Date and Time Not Found\n",
      "Highest price on the day after earnings release: Data not available due to missing information\n",
      "Average price on the day before earnings release: Data not available due to missing information\n",
      "Ticker: Ticker Symbol Not Found, Date and Time: Date and Time Not Found\n",
      "Highest price on the day after earnings release: Data not available due to missing information\n",
      "Average price on the day before earnings release: Data not available due to missing information\n",
      "Ticker: Ticker Symbol Not Found, Date and Time: Date and Time Not Found\n",
      "Highest price on the day after earnings release: Data not available due to missing information\n",
      "Average price on the day before earnings release: Data not available due to missing information\n"
     ]
    },
    {
     "name": "stderr",
     "output_type": "stream",
     "text": [
      "C:\\Users\\spatan5\\AppData\\Local\\Temp\\ipykernel_9212\\614123346.py:11: MarkupResemblesLocatorWarning: The input looks more like a filename than markup. You may want to open this file and pass the filehandle into Beautiful Soup.\n",
      "  soup = BeautifulSoup(content, 'html.parser')\n",
      "Some characters could not be decoded, and were replaced with REPLACEMENT CHARACTER.\n"
     ]
    },
    {
     "name": "stdout",
     "output_type": "stream",
     "text": [
      "Ticker: Ticker Symbol Not Found, Date and Time: Date and Time Not Found\n",
      "Highest price on the day after earnings release: Data not available due to missing information\n",
      "Average price on the day before earnings release: Data not available due to missing information\n",
      "Ticker: Ticker Symbol Not Found, Date and Time: Date and Time Not Found\n",
      "Highest price on the day after earnings release: Data not available due to missing information\n",
      "Average price on the day before earnings release: Data not available due to missing information\n",
      "Ticker: Ticker Symbol Not Found, Date and Time: Date and Time Not Found\n",
      "Highest price on the day after earnings release: Data not available due to missing information\n",
      "Average price on the day before earnings release: Data not available due to missing information\n",
      "Ticker: GOOG, Date and Time: April 21, 2016 4:30 PM ET\n"
     ]
    },
    {
     "name": "stderr",
     "output_type": "stream",
     "text": [
      "[*********************100%%**********************]  1 of 1 completed\n",
      "[*********************100%%**********************]  1 of 1 completed\n"
     ]
    },
    {
     "name": "stdout",
     "output_type": "stream",
     "text": [
      "Highest price on the day after earnings release: 36.81\n",
      "Average price on the day before earnings release: 37.98\n",
      "Percentage change on earnings day: -3.08%\n",
      "Ticker: GOOG, Date and Time: April 27, 2017 4:30 PM ET\n"
     ]
    },
    {
     "name": "stderr",
     "output_type": "stream",
     "text": [
      "[*********************100%%**********************]  1 of 1 completed\n",
      "[*********************100%%**********************]  1 of 1 completed\n",
      "[*********************100%%**********************]  1 of 1 completed\n",
      "[*********************100%%**********************]  1 of 1 completed\n"
     ]
    },
    {
     "name": "stdout",
     "output_type": "stream",
     "text": [
      "Highest price on the day after earnings release: 45.84\n",
      "Average price on the day before earnings release: 43.45\n",
      "Percentage change on earnings day: 5.5%\n",
      "Ticker: GOOG, Date and Time: July 28, 2016 4:30 PM ET\n",
      "Highest price on the day after earnings release: 38.93\n",
      "Average price on the day before earnings release: 36.9\n",
      "Percentage change on earnings day: 5.5%\n",
      "Ticker: GOOG, Date and Time: October 22, 2015 4:30 PM ET\n"
     ]
    },
    {
     "name": "stderr",
     "output_type": "stream",
     "text": [
      "[*********************100%%**********************]  1 of 1 completed\n",
      "[*********************100%%**********************]  1 of 1 completed\n",
      "[*********************100%%**********************]  1 of 1 completed"
     ]
    },
    {
     "name": "stdout",
     "output_type": "stream",
     "text": [
      "Highest price on the day after earnings release: 36.5\n",
      "Average price on the day before earnings release: 32.72\n",
      "Percentage change on earnings day: 11.55%\n",
      "Ticker: GOOG, Date and Time: October 27, 2016 4:30 PM ET\n"
     ]
    },
    {
     "name": "stderr",
     "output_type": "stream",
     "text": [
      "\n",
      "[*********************100%%**********************]  1 of 1 completed\n",
      "[*********************100%%**********************]  1 of 1 completed\n",
      "[*********************100%%**********************]  1 of 1 completed\n"
     ]
    },
    {
     "name": "stdout",
     "output_type": "stream",
     "text": [
      "Highest price on the day after earnings release: 40.77\n",
      "Average price on the day before earnings release: 40.55\n",
      "Percentage change on earnings day: 0.54%\n",
      "Ticker: GOOG, Date and Time: October 26, 2017 4:30 PM ET\n",
      "Highest price on the day after earnings release: 52.42\n",
      "Average price on the day before earnings release: 48.33\n",
      "Percentage change on earnings day: 8.46%\n",
      "Ticker: GOOG, Date and Time: October 25, 2018 4:30 PM ET\n"
     ]
    },
    {
     "name": "stderr",
     "output_type": "stream",
     "text": [
      "[*********************100%%**********************]  1 of 1 completed\n",
      "[*********************100%%**********************]  1 of 1 completed\n",
      "[*********************100%%**********************]  1 of 1 completed\n",
      "[*********************100%%**********************]  1 of 1 completed\n"
     ]
    },
    {
     "name": "stdout",
     "output_type": "stream",
     "text": [
      "Highest price on the day after earnings release: 55.33\n",
      "Average price on the day before earnings release: 54.45\n",
      "Percentage change on earnings day: 1.62%\n",
      "Ticker: GOOG, Date and Time: February 1, 2016 4:30 PM ET\n",
      "Highest price on the day after earnings release: 39.49\n",
      "Average price on the day before earnings release: 36.15\n",
      "Percentage change on earnings day: 9.24%\n"
     ]
    },
    {
     "name": "stderr",
     "output_type": "stream",
     "text": [
      "[*********************100%%**********************]  1 of 1 completed\n",
      "[*********************100%%**********************]  1 of 1 completed\n"
     ]
    },
    {
     "name": "stdout",
     "output_type": "stream",
     "text": [
      "Ticker: GOOG, Date and Time: January 26, 2017 4:30 PM ET\n",
      "Highest price on the day after earnings release: 42.1\n",
      "Average price on the day before earnings release: 41.09\n",
      "Percentage change on earnings day: 2.46%\n",
      "Ticker: GOOG, Date and Time: April 28, 2020 4:30 PM ET\n"
     ]
    },
    {
     "name": "stderr",
     "output_type": "stream",
     "text": [
      "[*********************100%%**********************]  1 of 1 completed\n",
      "[*********************100%%**********************]  1 of 1 completed\n",
      "\n",
      "1 Failed download:\n",
      "['GOOG']: Exception('%ticker%: No price data found, symbol may be delisted (1d 2020-04-26 -> 2020-04-27)')\n",
      "[*********************100%%**********************]  1 of 1 completed\n",
      "\n",
      "1 Failed download:\n",
      "['GOOG']: Exception('%ticker%: No price data found, symbol may be delisted (1d 2020-04-25 -> 2020-04-26)')\n",
      "[*********************100%%**********************]  1 of 1 completed\n",
      "[*********************100%%**********************]  1 of 1 completed\n",
      "[*********************100%%**********************]  1 of 1 completed"
     ]
    },
    {
     "name": "stdout",
     "output_type": "stream",
     "text": [
      "Highest price on the day after earnings release: 68.0\n",
      "Average price on the day before earnings release: 63.25\n",
      "Percentage change on earnings day: 7.51%\n",
      "Ticker: GOOG, Date and Time: July 23, 2018 4:30 PM ET\n",
      "Highest price on the day after earnings release: 63.3\n",
      "Average price on the day before earnings release: 59.58\n",
      "Percentage change on earnings day: 6.24%\n",
      "Ticker: GOOG, Date and Time: July 26, 2022 5:00 PM ET\n"
     ]
    },
    {
     "name": "stderr",
     "output_type": "stream",
     "text": [
      "\n",
      "[*********************100%%**********************]  1 of 1 completed\n",
      "[*********************100%%**********************]  1 of 1 completed\n",
      "\n",
      "1 Failed download:\n",
      "['GOOG']: Exception('%ticker%: No price data found, symbol may be delisted (1d 2022-07-24 -> 2022-07-25)')\n",
      "[*********************100%%**********************]  1 of 1 completed\n",
      "\n",
      "1 Failed download:\n",
      "['GOOG']: Exception('%ticker%: No price data found, symbol may be delisted (1d 2022-07-23 -> 2022-07-24)')\n",
      "[*********************100%%**********************]  1 of 1 completed\n"
     ]
    },
    {
     "name": "stdout",
     "output_type": "stream",
     "text": [
      "Highest price on the day after earnings release: 114.4\n",
      "Average price on the day before earnings release: 110.39\n",
      "Percentage change on earnings day: 3.63%\n",
      "Ticker: GOOG, Date and Time: October 29, 2020 4:30 PM ET\n"
     ]
    },
    {
     "name": "stderr",
     "output_type": "stream",
     "text": [
      "[*********************100%%**********************]  1 of 1 completed\n",
      "[*********************100%%**********************]  1 of 1 completed\n",
      "[*********************100%%**********************]  1 of 1 completed"
     ]
    },
    {
     "name": "stdout",
     "output_type": "stream",
     "text": [
      "Highest price on the day after earnings release: 84.35\n",
      "Average price on the day before earnings release: 79.74\n",
      "Percentage change on earnings day: 5.78%\n",
      "Ticker: GOOG, Date and Time: February 3, 2020 5:00 PM ET\n"
     ]
    },
    {
     "name": "stderr",
     "output_type": "stream",
     "text": [
      "\n",
      "[*********************100%%**********************]  1 of 1 completed\n",
      "[*********************100%%**********************]  1 of 1 completed"
     ]
    },
    {
     "name": "stdout",
     "output_type": "stream",
     "text": [
      "Highest price on the day after earnings release: 73.47\n",
      "Average price on the day before earnings release: 72.34\n",
      "Percentage change on earnings day: 1.56%\n",
      "Ticker: GOOG, Date and Time: April 25, 2023 5:00 PM ET\n"
     ]
    },
    {
     "name": "stderr",
     "output_type": "stream",
     "text": [
      "\n",
      "[*********************100%%**********************]  1 of 1 completed\n",
      "\n",
      "1 Failed download:\n",
      "['GOOG']: Exception('%ticker%: No price data found, symbol may be delisted (1d 2023-04-23 -> 2023-04-24)')\n",
      "[*********************100%%**********************]  1 of 1 completed\n",
      "\n",
      "1 Failed download:\n",
      "['GOOG']: Exception('%ticker%: No price data found, symbol may be delisted (1d 2023-04-22 -> 2023-04-23)')\n",
      "[*********************100%%**********************]  1 of 1 completed\n",
      "[*********************100%%**********************]  1 of 1 completed\n"
     ]
    },
    {
     "name": "stdout",
     "output_type": "stream",
     "text": [
      "Highest price on the day after earnings release: 107.02\n",
      "Average price on the day before earnings release: 106.06\n",
      "Percentage change on earnings day: 0.91%\n",
      "Ticker: GOOG, Date and Time: July 25, 2019 4:30 PM ET\n"
     ]
    },
    {
     "name": "stderr",
     "output_type": "stream",
     "text": [
      "[*********************100%%**********************]  1 of 1 completed\n",
      "[*********************100%%**********************]  1 of 1 completed"
     ]
    },
    {
     "name": "stdout",
     "output_type": "stream",
     "text": [
      "Highest price on the day after earnings release: 63.28\n",
      "Average price on the day before earnings release: 56.97\n",
      "Percentage change on earnings day: 11.08%\n",
      "Ticker: GOOG, Date and Time: July 25, 2023 5:00 PM ET\n"
     ]
    },
    {
     "name": "stderr",
     "output_type": "stream",
     "text": [
      "\n",
      "[*********************100%%**********************]  1 of 1 completed\n",
      "\n",
      "1 Failed download:\n",
      "['GOOG']: Exception('%ticker%: No price data found, symbol may be delisted (1d 2023-07-23 -> 2023-07-24)')\n",
      "[*********************100%%**********************]  1 of 1 completed\n",
      "\n",
      "1 Failed download:\n",
      "['GOOG']: Exception('%ticker%: No price data found, symbol may be delisted (1d 2023-07-22 -> 2023-07-23)')\n",
      "[*********************100%%**********************]  1 of 1 completed\n",
      "[*********************100%%**********************]  1 of 1 completed\n",
      "[*********************100%%**********************]  1 of 1 completed\n"
     ]
    },
    {
     "name": "stdout",
     "output_type": "stream",
     "text": [
      "Highest price on the day after earnings release: 131.37\n",
      "Average price on the day before earnings release: 120.19\n",
      "Percentage change on earnings day: 9.3%\n",
      "Ticker: GOOG, Date and Time: October 28, 2019 5:00 PM ET\n",
      "Highest price on the day after earnings release: 64.08\n",
      "Average price on the day before earnings release: 62.94\n",
      "Percentage change on earnings day: 1.81%\n",
      "Ticker: GOOG, Date and Time: October 25, 2022 5:00 PM ET\n"
     ]
    },
    {
     "name": "stderr",
     "output_type": "stream",
     "text": [
      "[*********************100%%**********************]  1 of 1 completed\n",
      "[*********************100%%**********************]  1 of 1 completed\n",
      "\n",
      "1 Failed download:\n",
      "['GOOG']: Exception('%ticker%: No price data found, symbol may be delisted (1d 2022-10-23 -> 2022-10-24)')\n",
      "[*********************100%%**********************]  1 of 1 completed\n",
      "\n",
      "1 Failed download:\n",
      "['GOOG']: Exception('%ticker%: No price data found, symbol may be delisted (1d 2022-10-22 -> 2022-10-23)')\n",
      "[*********************100%%**********************]  1 of 1 completed\n",
      "[*********************100%%**********************]  1 of 1 completed"
     ]
    },
    {
     "name": "stdout",
     "output_type": "stream",
     "text": [
      "Highest price on the day after earnings release: 98.54\n",
      "Average price on the day before earnings release: 99.93\n",
      "Percentage change on earnings day: -1.39%\n",
      "Ticker: GOOG, Date and Time: October 24, 2023 4:30 PM ET\n"
     ]
    },
    {
     "name": "stderr",
     "output_type": "stream",
     "text": [
      "\n",
      "[*********************100%%**********************]  1 of 1 completed\n",
      "\n",
      "1 Failed download:\n",
      "['GOOG']: Exception('%ticker%: No price data found, symbol may be delisted (1d 2023-10-22 -> 2023-10-23)')\n",
      "[*********************100%%**********************]  1 of 1 completed\n",
      "\n",
      "1 Failed download:\n",
      "['GOOG']: Exception('%ticker%: No price data found, symbol may be delisted (1d 2023-10-21 -> 2023-10-22)')\n",
      "[*********************100%%**********************]  1 of 1 completed\n",
      "[*********************100%%**********************]  1 of 1 completed\n"
     ]
    },
    {
     "name": "stdout",
     "output_type": "stream",
     "text": [
      "Highest price on the day after earnings release: 130.1\n",
      "Average price on the day before earnings release: 137.64\n",
      "Percentage change on earnings day: -5.48%\n",
      "Ticker: GOOG, Date and Time: October 26, 2021 4:30 PM ET\n"
     ]
    },
    {
     "name": "stderr",
     "output_type": "stream",
     "text": [
      "[*********************100%%**********************]  1 of 1 completed\n",
      "\n",
      "1 Failed download:\n",
      "['GOOG']: Exception('%ticker%: No price data found, symbol may be delisted (1d 2021-10-24 -> 2021-10-25)')\n",
      "[*********************100%%**********************]  1 of 1 completed\n",
      "\n",
      "1 Failed download:\n",
      "['GOOG']: Exception('%ticker%: No price data found, symbol may be delisted (1d 2021-10-23 -> 2021-10-24)')\n",
      "[*********************100%%**********************]  1 of 1 completed\n",
      "[*********************100%%**********************]  1 of 1 completed\n",
      "[*********************100%%**********************]  1 of 1 completed"
     ]
    },
    {
     "name": "stdout",
     "output_type": "stream",
     "text": [
      "Highest price on the day after earnings release: 149.12\n",
      "Average price on the day before earnings release: 139.36\n",
      "Percentage change on earnings day: 7.0%\n",
      "Ticker: GOOG, Date and Time: February 2, 2023 4:30 PM ET\n"
     ]
    },
    {
     "name": "stderr",
     "output_type": "stream",
     "text": [
      "\n",
      "[*********************100%%**********************]  1 of 1 completed\n",
      "[*********************100%%**********************]  1 of 1 completed\n",
      "\n",
      "1 Failed download:\n",
      "['GOOG']: Exception('%ticker%: No price data found, symbol may be delisted (1d 2024-01-28 -> 2024-01-29)')\n"
     ]
    },
    {
     "name": "stdout",
     "output_type": "stream",
     "text": [
      "Highest price on the day after earnings release: 108.02\n",
      "Average price on the day before earnings release: 98.85\n",
      "Percentage change on earnings day: 9.28%\n",
      "Ticker: GOOG, Date and Time: January 30, 2024 4:30 PM ET\n"
     ]
    },
    {
     "name": "stderr",
     "output_type": "stream",
     "text": [
      "[*********************100%%**********************]  1 of 1 completed\n",
      "\n",
      "1 Failed download:\n",
      "['GOOG']: Exception('%ticker%: No price data found, symbol may be delisted (1d 2024-01-27 -> 2024-01-28)')\n",
      "[*********************100%%**********************]  1 of 1 completed\n",
      "[*********************100%%**********************]  1 of 1 completed\n",
      "[*********************100%%**********************]  1 of 1 completed"
     ]
    },
    {
     "name": "stdout",
     "output_type": "stream",
     "text": [
      "Highest price on the day after earnings release: 145.59\n",
      "Average price on the day before earnings release: 153.46\n",
      "Percentage change on earnings day: -5.13%\n",
      "Ticker: GOOG, Date and Time: April 29, 2019 4:30 PM ET\n",
      "Highest price on the day after earnings release: 59.64\n",
      "Average price on the day before earnings release: 62.99\n",
      "Percentage change on earnings day: -5.32%\n",
      "Ticker: GOOG, Date and Time: April 27, 2021 5:00 PM ET\n"
     ]
    },
    {
     "name": "stderr",
     "output_type": "stream",
     "text": [
      "\n",
      "[*********************100%%**********************]  1 of 1 completed\n",
      "[*********************100%%**********************]  1 of 1 completed\n",
      "\n",
      "1 Failed download:\n",
      "['GOOG']: Exception('%ticker%: No price data found, symbol may be delisted (1d 2021-04-25 -> 2021-04-26)')\n",
      "[*********************100%%**********************]  1 of 1 completed\n",
      "\n",
      "1 Failed download:\n",
      "['GOOG']: Exception('%ticker%: No price data found, symbol may be delisted (1d 2021-04-24 -> 2021-04-25)')\n",
      "[*********************100%%**********************]  1 of 1 completed\n",
      "[*********************100%%**********************]  1 of 1 completed\n",
      "[*********************100%%**********************]  1 of 1 completed\n",
      "\n",
      "1 Failed download:\n",
      "['GOOG']: Exception('%ticker%: No price data found, symbol may be delisted (1d 2022-04-24 -> 2022-04-25)')\n",
      "[*********************100%%**********************]  1 of 1 completed\n",
      "\n",
      "1 Failed download:\n"
     ]
    },
    {
     "name": "stdout",
     "output_type": "stream",
     "text": [
      "Highest price on the day after earnings release: 122.62\n",
      "Average price on the day before earnings release: 115.1\n",
      "Percentage change on earnings day: 6.53%\n",
      "Ticker: GOOG, Date and Time: April 26, 2022 5:00 PM ET\n"
     ]
    },
    {
     "name": "stderr",
     "output_type": "stream",
     "text": [
      "['GOOG']: Exception('%ticker%: No price data found, symbol may be delisted (1d 2022-04-23 -> 2022-04-24)')\n",
      "[*********************100%%**********************]  1 of 1 completed\n",
      "[*********************100%%**********************]  1 of 1 completed\n",
      "[*********************100%%**********************]  1 of 1 completed\n",
      "\n",
      "1 Failed download:\n",
      "['GOOG']: Exception('%ticker%: No price data found, symbol may be delisted (1d 2021-07-25 -> 2021-07-26)')\n"
     ]
    },
    {
     "name": "stdout",
     "output_type": "stream",
     "text": [
      "Highest price on the day after earnings release: 117.5\n",
      "Average price on the day before earnings release: 122.3\n",
      "Percentage change on earnings day: -3.92%\n",
      "Ticker: GOOG, Date and Time: July 27, 2021 4:30 PM ET\n"
     ]
    },
    {
     "name": "stderr",
     "output_type": "stream",
     "text": [
      "[*********************100%%**********************]  1 of 1 completed\n",
      "\n",
      "1 Failed download:\n",
      "['GOOG']: Exception('%ticker%: No price data found, symbol may be delisted (1d 2021-07-24 -> 2021-07-25)')\n",
      "[*********************100%%**********************]  1 of 1 completed\n",
      "[*********************100%%**********************]  1 of 1 completed\n",
      "[*********************100%%**********************]  1 of 1 completed\n",
      "\n",
      "1 Failed download:\n",
      "['GOOG']: Exception('%ticker%: No price data found, symbol may be delisted (1d 2022-01-30 -> 2022-01-31)')\n"
     ]
    },
    {
     "name": "stdout",
     "output_type": "stream",
     "text": [
      "Highest price on the day after earnings release: 139.68\n",
      "Average price on the day before earnings release: 136.75\n",
      "Percentage change on earnings day: 2.14%\n",
      "Ticker: GOOG, Date and Time: February 1, 2022 5:00 PM ET\n"
     ]
    },
    {
     "name": "stderr",
     "output_type": "stream",
     "text": [
      "[*********************100%%**********************]  1 of 1 completed\n",
      "\n",
      "1 Failed download:\n",
      "['GOOG']: Exception('%ticker%: No price data found, symbol may be delisted (1d 2022-01-29 -> 2022-01-30)')\n",
      "[*********************100%%**********************]  1 of 1 completed\n",
      "[*********************100%%**********************]  1 of 1 completed\n",
      "[*********************100%%**********************]  1 of 1 completed"
     ]
    },
    {
     "name": "stdout",
     "output_type": "stream",
     "text": [
      "Highest price on the day after earnings release: 152.1\n",
      "Average price on the day before earnings release: 131.03\n",
      "Percentage change on earnings day: 16.08%\n",
      "Ticker: GOOG, Date and Time: April 23, 2018 4:30 PM ET\n"
     ]
    },
    {
     "name": "stderr",
     "output_type": "stream",
     "text": [
      "\n",
      "[*********************100%%**********************]  1 of 1 completed\n",
      "[*********************100%%**********************]  1 of 1 completed"
     ]
    },
    {
     "name": "stdout",
     "output_type": "stream",
     "text": [
      "Highest price on the day after earnings release: 52.85\n",
      "Average price on the day before earnings release: 54.06\n",
      "Percentage change on earnings day: -2.24%\n",
      "Ticker: GOOG, Date and Time: July 24, 2017 5:00 PM ET\n",
      "Highest price on the day after earnings release: 47.99\n",
      "Average price on the day before earnings release: 48.44\n",
      "Percentage change on earnings day: -0.93%\n"
     ]
    },
    {
     "name": "stderr",
     "output_type": "stream",
     "text": [
      "\n",
      "[*********************100%%**********************]  1 of 1 completed\n",
      "[*********************100%%**********************]  1 of 1 completed\n"
     ]
    },
    {
     "name": "stdout",
     "output_type": "stream",
     "text": [
      "Ticker: GOOG, Date and Time: February 2, 2018 4:30 AM ET\n",
      "Highest price on the day after earnings release: 56.15\n",
      "Average price on the day before earnings release: 58.5\n",
      "Percentage change on earnings day: -4.02%\n",
      "Ticker: GOOG, Date and Time: July 30, 2020 4:30 PM ET\n"
     ]
    },
    {
     "name": "stderr",
     "output_type": "stream",
     "text": [
      "[*********************100%%**********************]  1 of 1 completed\n",
      "[*********************100%%**********************]  1 of 1 completed\n",
      "[*********************100%%**********************]  1 of 1 completed\n",
      "[*********************100%%**********************]  1 of 1 completed\n",
      "\n",
      "1 Failed download:\n",
      "['GOOG']: Exception('%ticker%: No price data found, symbol may be delisted (1d 2021-01-31 -> 2021-02-01)')\n"
     ]
    },
    {
     "name": "stdout",
     "output_type": "stream",
     "text": [
      "Highest price on the day after earnings release: 75.45\n",
      "Average price on the day before earnings release: 75.6\n",
      "Percentage change on earnings day: -0.2%\n",
      "Ticker: GOOG, Date and Time: February 2, 2021 5:00 PM ET\n"
     ]
    },
    {
     "name": "stderr",
     "output_type": "stream",
     "text": [
      "[*********************100%%**********************]  1 of 1 completed\n",
      "\n",
      "1 Failed download:\n",
      "['GOOG']: Exception('%ticker%: No price data found, symbol may be delisted (1d 2021-01-30 -> 2021-01-31)')\n",
      "[*********************100%%**********************]  1 of 1 completed\n",
      "[*********************100%%**********************]  1 of 1 completed\n",
      "[*********************100%%**********************]  1 of 1 completed"
     ]
    },
    {
     "name": "stdout",
     "output_type": "stream",
     "text": [
      "Highest price on the day after earnings release: 105.82\n",
      "Average price on the day before earnings release: 91.69\n",
      "Percentage change on earnings day: 15.41%\n",
      "Ticker: GOOG, Date and Time: February 4, 2019 4:30 PM ET\n",
      "Highest price on the day after earnings release: 57.34\n",
      "Average price on the day before earnings release: 55.32\n",
      "Percentage change on earnings day: 3.65%\n",
      "Ticker: GOOG, Date and Time: January 1, 0000 5:38 PM ET\n",
      "Highest price on the day after earnings release: Data not available due to incorrect date/time format\n",
      "Average price on the day before earnings release: Data not available due to incorrect date/time format\n",
      "Ticker: GOOG, Date and Time: October 16, 2014 4:30 PM ET\n"
     ]
    },
    {
     "name": "stderr",
     "output_type": "stream",
     "text": [
      "\n",
      "[*********************100%%**********************]  1 of 1 completed\n",
      "[*********************100%%**********************]  1 of 1 completed\n",
      "[*********************100%%**********************]  1 of 1 completed\n",
      "[*********************100%%**********************]  1 of 1 completed\n"
     ]
    },
    {
     "name": "stdout",
     "output_type": "stream",
     "text": [
      "Highest price on the day after earnings release: 26.48\n",
      "Average price on the day before earnings release: 26.94\n",
      "Percentage change on earnings day: -1.71%\n",
      "Ticker: GOOG, Date and Time: January 29, 2015 4:30 PM ET\n",
      "Highest price on the day after earnings release: 26.92\n",
      "Average price on the day before earnings release: 26.15\n",
      "Percentage change on earnings day: 2.94%\n",
      "Ticker: GOOG, Date and Time: October 14, 2010 4:30 PM ET\n"
     ]
    },
    {
     "name": "stderr",
     "output_type": "stream",
     "text": [
      "[*********************100%%**********************]  1 of 1 completed\n",
      "\n",
      "1 Failed download:\n",
      "['GOOG']: Exception(\"%ticker%: Data doesn't exist for startDate = 1287115200, endDate = 1287201600\")\n",
      "[*********************100%%**********************]  1 of 1 completed\n",
      "\n",
      "1 Failed download:\n",
      "['GOOG']: Exception(\"%ticker%: Data doesn't exist for startDate = 1287201600, endDate = 1287288000\")\n",
      "[*********************100%%**********************]  1 of 1 completed\n",
      "\n",
      "1 Failed download:\n",
      "['GOOG']: Exception(\"%ticker%: Data doesn't exist for startDate = 1287288000, endDate = 1287374400\")\n",
      "[*********************100%%**********************]  1 of 1 completed\n",
      "\n",
      "1 Failed download:\n",
      "['GOOG']: Exception(\"%ticker%: Data doesn't exist for startDate = 1287374400, endDate = 1287460800\")\n",
      "[*********************100%%**********************]  1 of 1 completed\n",
      "\n",
      "1 Failed download:\n",
      "['GOOG']: Exception(\"%ticker%: Data doesn't exist for startDate = 1286856000, endDate = 1286942400\")\n",
      "[*********************100%%**********************]  1 of 1 completed\n",
      "\n",
      "1 Failed download:\n",
      "['GOOG']: Exception(\"%ticker%: Data doesn't exist for startDate = 1286769600, endDate = 1286856000\")\n",
      "[*********************100%%**********************]  1 of 1 completed\n",
      "\n",
      "1 Failed download:\n",
      "['GOOG']: Exception(\"%ticker%: Data doesn't exist for startDate = 1286683200, endDate = 1286769600\")\n",
      "[*********************100%%**********************]  1 of 1 completed\n",
      "\n",
      "1 Failed download:\n",
      "['GOOG']: Exception(\"%ticker%: Data doesn't exist for startDate = 1286596800, endDate = 1286683200\")\n"
     ]
    },
    {
     "name": "stdout",
     "output_type": "stream",
     "text": [
      "Highest price on the day after earnings release: Data not available after multiple attempts\n",
      "Average price on the day before earnings release: Data not available after multiple attempts\n",
      "Ticker: GOOG, Date and Time: July 18, 2013 4:30 PM ET\n"
     ]
    },
    {
     "name": "stderr",
     "output_type": "stream",
     "text": [
      "[*********************100%%**********************]  1 of 1 completed\n",
      "\n",
      "1 Failed download:\n",
      "['GOOG']: Exception(\"%ticker%: Data doesn't exist for startDate = 1374206400, endDate = 1374292800\")\n",
      "[*********************100%%**********************]  1 of 1 completed\n",
      "\n",
      "1 Failed download:\n",
      "['GOOG']: Exception(\"%ticker%: Data doesn't exist for startDate = 1374292800, endDate = 1374379200\")\n",
      "[*********************100%%**********************]  1 of 1 completed\n",
      "\n",
      "1 Failed download:\n",
      "['GOOG']: Exception(\"%ticker%: Data doesn't exist for startDate = 1374379200, endDate = 1374465600\")\n",
      "[*********************100%%**********************]  1 of 1 completed\n",
      "\n",
      "1 Failed download:\n",
      "['GOOG']: Exception(\"%ticker%: Data doesn't exist for startDate = 1374465600, endDate = 1374552000\")\n",
      "[*********************100%%**********************]  1 of 1 completed\n",
      "\n",
      "1 Failed download:\n",
      "['GOOG']: Exception(\"%ticker%: Data doesn't exist for startDate = 1373947200, endDate = 1374033600\")\n",
      "[*********************100%%**********************]  1 of 1 completed\n",
      "\n",
      "1 Failed download:\n",
      "['GOOG']: Exception(\"%ticker%: Data doesn't exist for startDate = 1373860800, endDate = 1373947200\")\n",
      "[*********************100%%**********************]  1 of 1 completed\n",
      "\n",
      "1 Failed download:\n",
      "['GOOG']: Exception(\"%ticker%: Data doesn't exist for startDate = 1373774400, endDate = 1373860800\")\n",
      "[*********************100%%**********************]  1 of 1 completed\n",
      "\n",
      "1 Failed download:\n",
      "['GOOG']: Exception(\"%ticker%: Data doesn't exist for startDate = 1373688000, endDate = 1373774400\")\n"
     ]
    },
    {
     "name": "stdout",
     "output_type": "stream",
     "text": [
      "Highest price on the day after earnings release: Data not available after multiple attempts\n",
      "Average price on the day before earnings release: Data not available after multiple attempts\n",
      "Ticker: GOOG, Date and Time: April 15, 2010 4:30 PM ET\n"
     ]
    },
    {
     "name": "stderr",
     "output_type": "stream",
     "text": [
      "[*********************100%%**********************]  1 of 1 completed\n",
      "\n",
      "1 Failed download:\n",
      "['GOOG']: Exception(\"%ticker%: Data doesn't exist for startDate = 1271390400, endDate = 1271476800\")\n",
      "[*********************100%%**********************]  1 of 1 completed\n",
      "\n",
      "1 Failed download:\n",
      "['GOOG']: Exception(\"%ticker%: Data doesn't exist for startDate = 1271476800, endDate = 1271563200\")\n",
      "[*********************100%%**********************]  1 of 1 completed\n",
      "\n",
      "1 Failed download:\n",
      "['GOOG']: Exception(\"%ticker%: Data doesn't exist for startDate = 1271563200, endDate = 1271649600\")\n",
      "[*********************100%%**********************]  1 of 1 completed\n",
      "\n",
      "1 Failed download:\n",
      "['GOOG']: Exception(\"%ticker%: Data doesn't exist for startDate = 1271649600, endDate = 1271736000\")\n",
      "[*********************100%%**********************]  1 of 1 completed\n",
      "\n",
      "1 Failed download:\n",
      "['GOOG']: Exception(\"%ticker%: Data doesn't exist for startDate = 1271131200, endDate = 1271217600\")\n",
      "[*********************100%%**********************]  1 of 1 completed\n",
      "\n",
      "1 Failed download:\n",
      "['GOOG']: Exception(\"%ticker%: Data doesn't exist for startDate = 1271044800, endDate = 1271131200\")\n",
      "[*********************100%%**********************]  1 of 1 completed\n",
      "\n",
      "1 Failed download:\n",
      "['GOOG']: Exception(\"%ticker%: Data doesn't exist for startDate = 1270958400, endDate = 1271044800\")\n",
      "[*********************100%%**********************]  1 of 1 completed\n",
      "\n",
      "1 Failed download:\n",
      "['GOOG']: Exception(\"%ticker%: Data doesn't exist for startDate = 1270872000, endDate = 1270958400\")\n"
     ]
    },
    {
     "name": "stdout",
     "output_type": "stream",
     "text": [
      "Highest price on the day after earnings release: Data not available after multiple attempts\n",
      "Average price on the day before earnings release: Data not available after multiple attempts\n",
      "Ticker: GOOG, Date and Time: July 15, 2010 4:30 PM ET\n"
     ]
    },
    {
     "name": "stderr",
     "output_type": "stream",
     "text": [
      "[*********************100%%**********************]  1 of 1 completed\n",
      "\n",
      "1 Failed download:\n",
      "['GOOG']: Exception(\"%ticker%: Data doesn't exist for startDate = 1279252800, endDate = 1279339200\")\n",
      "[*********************100%%**********************]  1 of 1 completed\n",
      "\n",
      "1 Failed download:\n",
      "['GOOG']: Exception(\"%ticker%: Data doesn't exist for startDate = 1279339200, endDate = 1279425600\")\n",
      "[*********************100%%**********************]  1 of 1 completed\n",
      "\n",
      "1 Failed download:\n",
      "['GOOG']: Exception(\"%ticker%: Data doesn't exist for startDate = 1279425600, endDate = 1279512000\")\n",
      "[*********************100%%**********************]  1 of 1 completed\n",
      "\n",
      "1 Failed download:\n",
      "['GOOG']: Exception(\"%ticker%: Data doesn't exist for startDate = 1279512000, endDate = 1279598400\")\n",
      "[*********************100%%**********************]  1 of 1 completed\n",
      "\n",
      "1 Failed download:\n",
      "['GOOG']: Exception(\"%ticker%: Data doesn't exist for startDate = 1278993600, endDate = 1279080000\")\n",
      "[*********************100%%**********************]  1 of 1 completed\n",
      "\n",
      "1 Failed download:\n",
      "['GOOG']: Exception(\"%ticker%: Data doesn't exist for startDate = 1278907200, endDate = 1278993600\")\n",
      "[*********************100%%**********************]  1 of 1 completed\n",
      "\n",
      "1 Failed download:\n",
      "['GOOG']: Exception(\"%ticker%: Data doesn't exist for startDate = 1278820800, endDate = 1278907200\")\n",
      "[*********************100%%**********************]  1 of 1 completed\n",
      "\n",
      "1 Failed download:\n",
      "['GOOG']: Exception(\"%ticker%: Data doesn't exist for startDate = 1278734400, endDate = 1278820800\")\n"
     ]
    },
    {
     "name": "stdout",
     "output_type": "stream",
     "text": [
      "Highest price on the day after earnings release: Data not available after multiple attempts\n",
      "Average price on the day before earnings release: Data not available after multiple attempts\n",
      "Ticker: GOOG, Date and Time: October 15, 2009 4:30 PM ET\n"
     ]
    },
    {
     "name": "stderr",
     "output_type": "stream",
     "text": [
      "[*********************100%%**********************]  1 of 1 completed\n",
      "\n",
      "1 Failed download:\n",
      "['GOOG']: Exception(\"%ticker%: Data doesn't exist for startDate = 1255665600, endDate = 1255752000\")\n",
      "[*********************100%%**********************]  1 of 1 completed\n",
      "\n",
      "1 Failed download:\n",
      "['GOOG']: Exception(\"%ticker%: Data doesn't exist for startDate = 1255752000, endDate = 1255838400\")\n",
      "[*********************100%%**********************]  1 of 1 completed\n",
      "\n",
      "1 Failed download:\n",
      "['GOOG']: Exception(\"%ticker%: Data doesn't exist for startDate = 1255838400, endDate = 1255924800\")\n",
      "[*********************100%%**********************]  1 of 1 completed\n",
      "\n",
      "1 Failed download:\n",
      "['GOOG']: Exception(\"%ticker%: Data doesn't exist for startDate = 1255924800, endDate = 1256011200\")\n",
      "[*********************100%%**********************]  1 of 1 completed\n",
      "\n",
      "1 Failed download:\n",
      "['GOOG']: Exception(\"%ticker%: Data doesn't exist for startDate = 1255406400, endDate = 1255492800\")\n",
      "[*********************100%%**********************]  1 of 1 completed\n",
      "\n",
      "1 Failed download:\n",
      "['GOOG']: Exception(\"%ticker%: Data doesn't exist for startDate = 1255320000, endDate = 1255406400\")\n",
      "[*********************100%%**********************]  1 of 1 completed\n",
      "\n",
      "1 Failed download:\n",
      "['GOOG']: Exception(\"%ticker%: Data doesn't exist for startDate = 1255233600, endDate = 1255320000\")\n",
      "[*********************100%%**********************]  1 of 1 completed\n",
      "\n",
      "1 Failed download:\n",
      "['GOOG']: Exception(\"%ticker%: Data doesn't exist for startDate = 1255147200, endDate = 1255233600\")\n"
     ]
    },
    {
     "name": "stdout",
     "output_type": "stream",
     "text": [
      "Highest price on the day after earnings release: Data not available after multiple attempts\n",
      "Average price on the day before earnings release: Data not available after multiple attempts\n",
      "Ticker: GOOG, Date and Time: January 21, 2010 4:30 PM ET\n"
     ]
    },
    {
     "name": "stderr",
     "output_type": "stream",
     "text": [
      "[*********************100%%**********************]  1 of 1 completed\n",
      "\n",
      "1 Failed download:\n",
      "['GOOG']: Exception(\"%ticker%: Data doesn't exist for startDate = 1264136400, endDate = 1264222800\")\n",
      "[*********************100%%**********************]  1 of 1 completed\n",
      "\n",
      "1 Failed download:\n",
      "['GOOG']: Exception(\"%ticker%: Data doesn't exist for startDate = 1264222800, endDate = 1264309200\")\n",
      "[*********************100%%**********************]  1 of 1 completed\n",
      "\n",
      "1 Failed download:\n",
      "['GOOG']: Exception(\"%ticker%: Data doesn't exist for startDate = 1264309200, endDate = 1264395600\")\n",
      "[*********************100%%**********************]  1 of 1 completed\n",
      "\n",
      "1 Failed download:\n",
      "['GOOG']: Exception(\"%ticker%: Data doesn't exist for startDate = 1264395600, endDate = 1264482000\")\n",
      "[*********************100%%**********************]  1 of 1 completed\n",
      "\n",
      "1 Failed download:\n",
      "['GOOG']: Exception(\"%ticker%: Data doesn't exist for startDate = 1263877200, endDate = 1263963600\")\n",
      "[*********************100%%**********************]  1 of 1 completed\n",
      "\n",
      "1 Failed download:\n",
      "['GOOG']: Exception(\"%ticker%: Data doesn't exist for startDate = 1263790800, endDate = 1263877200\")\n",
      "[*********************100%%**********************]  1 of 1 completed\n",
      "\n",
      "1 Failed download:\n",
      "['GOOG']: Exception(\"%ticker%: Data doesn't exist for startDate = 1263704400, endDate = 1263790800\")\n",
      "[*********************100%%**********************]  1 of 1 completed\n",
      "\n",
      "1 Failed download:\n",
      "['GOOG']: Exception(\"%ticker%: Data doesn't exist for startDate = 1263618000, endDate = 1263704400\")\n",
      "[*********************100%%**********************]  1 of 1 completed\n",
      "\n",
      "1 Failed download:\n",
      "['GOOG']: Exception(\"%ticker%: Data doesn't exist for startDate = 1264136400, endDate = 1264222800\")\n",
      "[*********************100%%**********************]  1 of 1 completed\n",
      "\n",
      "1 Failed download:\n",
      "['GOOG']: Exception(\"%ticker%: Data doesn't exist for startDate = 1264222800, endDate = 1264309200\")\n",
      "[*********************100%%**********************]  1 of 1 completed\n",
      "\n",
      "1 Failed download:\n",
      "['GOOG']: Exception(\"%ticker%: Data doesn't exist for startDate = 1264309200, endDate = 1264395600\")\n",
      "[*********************100%%**********************]  1 of 1 completed\n",
      "\n",
      "1 Failed download:\n",
      "['GOOG']: Exception(\"%ticker%: Data doesn't exist for startDate = 1264395600, endDate = 1264482000\")\n",
      "[*********************100%%**********************]  1 of 1 completed\n",
      "\n",
      "1 Failed download:\n",
      "['GOOG']: Exception(\"%ticker%: Data doesn't exist for startDate = 1263877200, endDate = 1263963600\")\n",
      "[*********************100%%**********************]  1 of 1 completed\n",
      "\n",
      "1 Failed download:\n",
      "['GOOG']: Exception(\"%ticker%: Data doesn't exist for startDate = 1263790800, endDate = 1263877200\")\n",
      "[*********************100%%**********************]  1 of 1 completed\n",
      "\n",
      "1 Failed download:\n",
      "['GOOG']: Exception(\"%ticker%: Data doesn't exist for startDate = 1263704400, endDate = 1263790800\")\n",
      "[*********************100%%**********************]  1 of 1 completed\n",
      "\n",
      "1 Failed download:\n",
      "['GOOG']: Exception(\"%ticker%: Data doesn't exist for startDate = 1263618000, endDate = 1263704400\")\n"
     ]
    },
    {
     "name": "stdout",
     "output_type": "stream",
     "text": [
      "Highest price on the day after earnings release: Data not available after multiple attempts\n",
      "Average price on the day before earnings release: Data not available after multiple attempts\n",
      "Ticker: GOOG, Date and Time: January 21, 2010 6:00 PM ET\n",
      "Highest price on the day after earnings release: Data not available after multiple attempts\n",
      "Average price on the day before earnings release: Data not available after multiple attempts\n",
      "Ticker: GOOG, Date and Time: April 12, 2012 4:30 PM ET\n"
     ]
    },
    {
     "name": "stderr",
     "output_type": "stream",
     "text": [
      "[*********************100%%**********************]  1 of 1 completed\n",
      "\n",
      "1 Failed download:\n",
      "['GOOG']: Exception(\"%ticker%: Data doesn't exist for startDate = 1334289600, endDate = 1334376000\")\n",
      "[*********************100%%**********************]  1 of 1 completed\n",
      "\n",
      "1 Failed download:\n",
      "['GOOG']: Exception(\"%ticker%: Data doesn't exist for startDate = 1334376000, endDate = 1334462400\")\n",
      "[*********************100%%**********************]  1 of 1 completed\n",
      "\n",
      "1 Failed download:\n",
      "['GOOG']: Exception(\"%ticker%: Data doesn't exist for startDate = 1334462400, endDate = 1334548800\")\n",
      "[*********************100%%**********************]  1 of 1 completed\n",
      "\n",
      "1 Failed download:\n",
      "['GOOG']: Exception(\"%ticker%: Data doesn't exist for startDate = 1334548800, endDate = 1334635200\")\n",
      "[*********************100%%**********************]  1 of 1 completed\n",
      "\n",
      "1 Failed download:\n",
      "['GOOG']: Exception(\"%ticker%: Data doesn't exist for startDate = 1334030400, endDate = 1334116800\")\n",
      "[*********************100%%**********************]  1 of 1 completed\n",
      "\n",
      "1 Failed download:\n",
      "['GOOG']: Exception(\"%ticker%: Data doesn't exist for startDate = 1333944000, endDate = 1334030400\")\n",
      "[*********************100%%**********************]  1 of 1 completed\n",
      "\n",
      "1 Failed download:\n",
      "['GOOG']: Exception(\"%ticker%: Data doesn't exist for startDate = 1333857600, endDate = 1333944000\")\n",
      "[*********************100%%**********************]  1 of 1 completed\n",
      "\n",
      "1 Failed download:\n",
      "['GOOG']: Exception(\"%ticker%: Data doesn't exist for startDate = 1333771200, endDate = 1333857600\")\n"
     ]
    },
    {
     "name": "stdout",
     "output_type": "stream",
     "text": [
      "Highest price on the day after earnings release: Data not available after multiple attempts\n",
      "Average price on the day before earnings release: Data not available after multiple attempts\n",
      "Ticker: GOOG, Date and Time: October 13, 2011 4:30 PM ET\n"
     ]
    },
    {
     "name": "stderr",
     "output_type": "stream",
     "text": [
      "[*********************100%%**********************]  1 of 1 completed\n",
      "\n",
      "1 Failed download:\n",
      "['GOOG']: Exception(\"%ticker%: Data doesn't exist for startDate = 1318564800, endDate = 1318651200\")\n",
      "[*********************100%%**********************]  1 of 1 completed\n",
      "\n",
      "1 Failed download:\n",
      "['GOOG']: Exception(\"%ticker%: Data doesn't exist for startDate = 1318651200, endDate = 1318737600\")\n",
      "[*********************100%%**********************]  1 of 1 completed\n",
      "\n",
      "1 Failed download:\n",
      "['GOOG']: Exception(\"%ticker%: Data doesn't exist for startDate = 1318737600, endDate = 1318824000\")\n",
      "[*********************100%%**********************]  1 of 1 completed\n",
      "\n",
      "1 Failed download:\n",
      "['GOOG']: Exception(\"%ticker%: Data doesn't exist for startDate = 1318824000, endDate = 1318910400\")\n",
      "[*********************100%%**********************]  1 of 1 completed\n",
      "\n",
      "1 Failed download:\n",
      "['GOOG']: Exception(\"%ticker%: Data doesn't exist for startDate = 1318305600, endDate = 1318392000\")\n",
      "[*********************100%%**********************]  1 of 1 completed\n",
      "\n",
      "1 Failed download:\n",
      "['GOOG']: Exception(\"%ticker%: Data doesn't exist for startDate = 1318219200, endDate = 1318305600\")\n",
      "[*********************100%%**********************]  1 of 1 completed\n",
      "\n",
      "1 Failed download:\n",
      "['GOOG']: Exception(\"%ticker%: Data doesn't exist for startDate = 1318132800, endDate = 1318219200\")\n",
      "[*********************100%%**********************]  1 of 1 completed\n",
      "\n",
      "1 Failed download:\n",
      "['GOOG']: Exception(\"%ticker%: Data doesn't exist for startDate = 1318046400, endDate = 1318132800\")\n"
     ]
    },
    {
     "name": "stdout",
     "output_type": "stream",
     "text": [
      "Highest price on the day after earnings release: Data not available after multiple attempts\n",
      "Average price on the day before earnings release: Data not available after multiple attempts\n",
      "Ticker: GOOG, Date and Time: January 19, 2012 4:30 PM ET\n"
     ]
    },
    {
     "name": "stderr",
     "output_type": "stream",
     "text": [
      "[*********************100%%**********************]  1 of 1 completed\n",
      "\n",
      "1 Failed download:\n",
      "['GOOG']: Exception(\"%ticker%: Data doesn't exist for startDate = 1327035600, endDate = 1327122000\")\n",
      "[*********************100%%**********************]  1 of 1 completed\n",
      "\n",
      "1 Failed download:\n",
      "['GOOG']: Exception(\"%ticker%: Data doesn't exist for startDate = 1327122000, endDate = 1327208400\")\n",
      "[*********************100%%**********************]  1 of 1 completed\n",
      "\n",
      "1 Failed download:\n",
      "['GOOG']: Exception(\"%ticker%: Data doesn't exist for startDate = 1327208400, endDate = 1327294800\")\n",
      "[*********************100%%**********************]  1 of 1 completed\n",
      "\n",
      "1 Failed download:\n",
      "['GOOG']: Exception(\"%ticker%: Data doesn't exist for startDate = 1327294800, endDate = 1327381200\")\n",
      "[*********************100%%**********************]  1 of 1 completed\n",
      "\n",
      "1 Failed download:\n",
      "['GOOG']: Exception(\"%ticker%: Data doesn't exist for startDate = 1326776400, endDate = 1326862800\")\n",
      "[*********************100%%**********************]  1 of 1 completed\n",
      "\n",
      "1 Failed download:\n",
      "['GOOG']: Exception(\"%ticker%: Data doesn't exist for startDate = 1326690000, endDate = 1326776400\")\n",
      "[*********************100%%**********************]  1 of 1 completed\n",
      "\n",
      "1 Failed download:\n",
      "['GOOG']: Exception(\"%ticker%: Data doesn't exist for startDate = 1326603600, endDate = 1326690000\")\n",
      "[*********************100%%**********************]  1 of 1 completed\n",
      "\n",
      "1 Failed download:\n",
      "['GOOG']: Exception(\"%ticker%: Data doesn't exist for startDate = 1326517200, endDate = 1326603600\")\n",
      "[*********************100%%**********************]  1 of 1 completed\n",
      "[*********************100%%**********************]  1 of 1 completed\n"
     ]
    },
    {
     "name": "stdout",
     "output_type": "stream",
     "text": [
      "Highest price on the day after earnings release: Data not available after multiple attempts\n",
      "Average price on the day before earnings release: Data not available after multiple attempts\n",
      "Ticker: GOOG, Date and Time: July 16, 2015 4:30 PM ET\n",
      "Highest price on the day after earnings release: 33.72\n",
      "Average price on the day before earnings release: 27.81\n",
      "Percentage change on earnings day: 21.25%\n"
     ]
    },
    {
     "name": "stderr",
     "output_type": "stream",
     "text": [
      "[*********************100%%**********************]  1 of 1 completed\n",
      "[*********************100%%**********************]  1 of 1 completed\n"
     ]
    },
    {
     "name": "stdout",
     "output_type": "stream",
     "text": [
      "Ticker: GOOG, Date and Time: April 23, 2015 4:30 PM ET\n",
      "Highest price on the day after earnings release: 28.48\n",
      "Average price on the day before earnings release: 26.75\n",
      "Percentage change on earnings day: 6.47%\n",
      "Ticker: GOOG, Date and Time: April 14, 2011 4:30 PM ET\n"
     ]
    },
    {
     "name": "stderr",
     "output_type": "stream",
     "text": [
      "[*********************100%%**********************]  1 of 1 completed\n",
      "\n",
      "1 Failed download:\n",
      "['GOOG']: Exception(\"%ticker%: Data doesn't exist for startDate = 1302840000, endDate = 1302926400\")\n",
      "[*********************100%%**********************]  1 of 1 completed\n",
      "\n",
      "1 Failed download:\n",
      "['GOOG']: Exception(\"%ticker%: Data doesn't exist for startDate = 1302926400, endDate = 1303012800\")\n",
      "[*********************100%%**********************]  1 of 1 completed\n",
      "\n",
      "1 Failed download:\n",
      "['GOOG']: Exception(\"%ticker%: Data doesn't exist for startDate = 1303012800, endDate = 1303099200\")\n",
      "[*********************100%%**********************]  1 of 1 completed\n",
      "\n",
      "1 Failed download:\n",
      "['GOOG']: Exception(\"%ticker%: Data doesn't exist for startDate = 1303099200, endDate = 1303185600\")\n",
      "[*********************100%%**********************]  1 of 1 completed\n",
      "\n",
      "1 Failed download:\n",
      "['GOOG']: Exception(\"%ticker%: Data doesn't exist for startDate = 1302580800, endDate = 1302667200\")\n",
      "[*********************100%%**********************]  1 of 1 completed\n",
      "\n",
      "1 Failed download:\n",
      "['GOOG']: Exception(\"%ticker%: Data doesn't exist for startDate = 1302494400, endDate = 1302580800\")\n",
      "[*********************100%%**********************]  1 of 1 completed\n",
      "\n",
      "1 Failed download:\n",
      "['GOOG']: Exception(\"%ticker%: Data doesn't exist for startDate = 1302408000, endDate = 1302494400\")\n",
      "[*********************100%%**********************]  1 of 1 completed\n",
      "\n",
      "1 Failed download:\n",
      "['GOOG']: Exception(\"%ticker%: Data doesn't exist for startDate = 1302321600, endDate = 1302408000\")\n"
     ]
    },
    {
     "name": "stdout",
     "output_type": "stream",
     "text": [
      "Highest price on the day after earnings release: Data not available after multiple attempts\n",
      "Average price on the day before earnings release: Data not available after multiple attempts\n",
      "Ticker: GOOG, Date and Time: April 18, 2013 4:30 PM ET\n"
     ]
    },
    {
     "name": "stderr",
     "output_type": "stream",
     "text": [
      "[*********************100%%**********************]  1 of 1 completed\n",
      "\n",
      "1 Failed download:\n",
      "['GOOG']: Exception(\"%ticker%: Data doesn't exist for startDate = 1366344000, endDate = 1366430400\")\n",
      "[*********************100%%**********************]  1 of 1 completed\n",
      "\n",
      "1 Failed download:\n",
      "['GOOG']: Exception(\"%ticker%: Data doesn't exist for startDate = 1366430400, endDate = 1366516800\")\n",
      "[*********************100%%**********************]  1 of 1 completed\n",
      "\n",
      "1 Failed download:\n",
      "['GOOG']: Exception(\"%ticker%: Data doesn't exist for startDate = 1366516800, endDate = 1366603200\")\n",
      "[*********************100%%**********************]  1 of 1 completed\n",
      "\n",
      "1 Failed download:\n",
      "['GOOG']: Exception(\"%ticker%: Data doesn't exist for startDate = 1366603200, endDate = 1366689600\")\n",
      "[*********************100%%**********************]  1 of 1 completed\n",
      "\n",
      "1 Failed download:\n",
      "['GOOG']: Exception(\"%ticker%: Data doesn't exist for startDate = 1366084800, endDate = 1366171200\")\n",
      "[*********************100%%**********************]  1 of 1 completed\n",
      "\n",
      "1 Failed download:\n",
      "['GOOG']: Exception(\"%ticker%: Data doesn't exist for startDate = 1365998400, endDate = 1366084800\")\n",
      "[*********************100%%**********************]  1 of 1 completed\n",
      "\n",
      "1 Failed download:\n",
      "['GOOG']: Exception(\"%ticker%: Data doesn't exist for startDate = 1365912000, endDate = 1365998400\")\n",
      "[*********************100%%**********************]  1 of 1 completed\n",
      "\n",
      "1 Failed download:\n",
      "['GOOG']: Exception(\"%ticker%: Data doesn't exist for startDate = 1365825600, endDate = 1365912000\")\n"
     ]
    },
    {
     "name": "stdout",
     "output_type": "stream",
     "text": [
      "Highest price on the day after earnings release: Data not available after multiple attempts\n",
      "Average price on the day before earnings release: Data not available after multiple attempts\n",
      "Ticker: GOOG, Date and Time: July 14, 2011 4:30 PM ET\n"
     ]
    },
    {
     "name": "stderr",
     "output_type": "stream",
     "text": [
      "[*********************100%%**********************]  1 of 1 completed\n",
      "\n",
      "1 Failed download:\n",
      "['GOOG']: Exception(\"%ticker%: Data doesn't exist for startDate = 1310702400, endDate = 1310788800\")\n",
      "[*********************100%%**********************]  1 of 1 completed\n",
      "\n",
      "1 Failed download:\n",
      "['GOOG']: Exception(\"%ticker%: Data doesn't exist for startDate = 1310788800, endDate = 1310875200\")\n",
      "[*********************100%%**********************]  1 of 1 completed\n",
      "\n",
      "1 Failed download:\n",
      "['GOOG']: Exception(\"%ticker%: Data doesn't exist for startDate = 1310875200, endDate = 1310961600\")\n",
      "[*********************100%%**********************]  1 of 1 completed\n",
      "\n",
      "1 Failed download:\n",
      "['GOOG']: Exception(\"%ticker%: Data doesn't exist for startDate = 1310961600, endDate = 1311048000\")\n",
      "[*********************100%%**********************]  1 of 1 completed\n",
      "\n",
      "1 Failed download:\n",
      "['GOOG']: Exception(\"%ticker%: Data doesn't exist for startDate = 1310443200, endDate = 1310529600\")\n",
      "[*********************100%%**********************]  1 of 1 completed\n",
      "\n",
      "1 Failed download:\n",
      "['GOOG']: Exception(\"%ticker%: Data doesn't exist for startDate = 1310356800, endDate = 1310443200\")\n",
      "[*********************100%%**********************]  1 of 1 completed\n",
      "\n",
      "1 Failed download:\n",
      "['GOOG']: Exception(\"%ticker%: Data doesn't exist for startDate = 1310270400, endDate = 1310356800\")\n",
      "[*********************100%%**********************]  1 of 1 completed\n",
      "\n",
      "1 Failed download:\n",
      "['GOOG']: Exception(\"%ticker%: Data doesn't exist for startDate = 1310184000, endDate = 1310270400\")\n"
     ]
    },
    {
     "name": "stdout",
     "output_type": "stream",
     "text": [
      "Highest price on the day after earnings release: Data not available after multiple attempts\n",
      "Average price on the day before earnings release: Data not available after multiple attempts\n",
      "Ticker: GOOG, Date and Time: October 18, 2012 4:30 AM ET\n"
     ]
    },
    {
     "name": "stderr",
     "output_type": "stream",
     "text": [
      "[*********************100%%**********************]  1 of 1 completed\n",
      "\n",
      "1 Failed download:\n",
      "['GOOG']: Exception(\"%ticker%: Data doesn't exist for startDate = 1350532800, endDate = 1350619200\")\n",
      "[*********************100%%**********************]  1 of 1 completed\n",
      "\n",
      "1 Failed download:\n",
      "['GOOG']: Exception(\"%ticker%: Data doesn't exist for startDate = 1350619200, endDate = 1350705600\")\n",
      "[*********************100%%**********************]  1 of 1 completed\n",
      "\n",
      "1 Failed download:\n",
      "['GOOG']: Exception(\"%ticker%: Data doesn't exist for startDate = 1350705600, endDate = 1350792000\")\n",
      "[*********************100%%**********************]  1 of 1 completed\n",
      "\n",
      "1 Failed download:\n",
      "['GOOG']: Exception(\"%ticker%: Data doesn't exist for startDate = 1350792000, endDate = 1350878400\")\n",
      "[*********************100%%**********************]  1 of 1 completed\n",
      "\n",
      "1 Failed download:\n",
      "['GOOG']: Exception(\"%ticker%: Data doesn't exist for startDate = 1350273600, endDate = 1350360000\")\n",
      "[*********************100%%**********************]  1 of 1 completed\n",
      "\n",
      "1 Failed download:\n",
      "['GOOG']: Exception(\"%ticker%: Data doesn't exist for startDate = 1350187200, endDate = 1350273600\")\n",
      "[*********************100%%**********************]  1 of 1 completed\n",
      "\n",
      "1 Failed download:\n",
      "['GOOG']: Exception(\"%ticker%: Data doesn't exist for startDate = 1350100800, endDate = 1350187200\")\n",
      "[*********************100%%**********************]  1 of 1 completed\n",
      "\n",
      "1 Failed download:\n",
      "['GOOG']: Exception(\"%ticker%: Data doesn't exist for startDate = 1350014400, endDate = 1350100800\")\n"
     ]
    },
    {
     "name": "stdout",
     "output_type": "stream",
     "text": [
      "Highest price on the day after earnings release: Data not available after multiple attempts\n",
      "Average price on the day before earnings release: Data not available after multiple attempts\n",
      "Ticker: GOOG, Date and Time: October 17, 2013 4:30 PM ET\n"
     ]
    },
    {
     "name": "stderr",
     "output_type": "stream",
     "text": [
      "[*********************100%%**********************]  1 of 1 completed\n",
      "\n",
      "1 Failed download:\n",
      "['GOOG']: Exception(\"%ticker%: Data doesn't exist for startDate = 1382068800, endDate = 1382155200\")\n",
      "[*********************100%%**********************]  1 of 1 completed\n",
      "\n",
      "1 Failed download:\n",
      "['GOOG']: Exception(\"%ticker%: Data doesn't exist for startDate = 1382155200, endDate = 1382241600\")\n",
      "[*********************100%%**********************]  1 of 1 completed\n",
      "\n",
      "1 Failed download:\n",
      "['GOOG']: Exception(\"%ticker%: Data doesn't exist for startDate = 1382241600, endDate = 1382328000\")\n",
      "[*********************100%%**********************]  1 of 1 completed\n",
      "\n",
      "1 Failed download:\n",
      "['GOOG']: Exception(\"%ticker%: Data doesn't exist for startDate = 1382328000, endDate = 1382414400\")\n",
      "[*********************100%%**********************]  1 of 1 completed\n",
      "\n",
      "1 Failed download:\n",
      "['GOOG']: Exception(\"%ticker%: Data doesn't exist for startDate = 1381809600, endDate = 1381896000\")\n",
      "[*********************100%%**********************]  1 of 1 completed\n",
      "\n",
      "1 Failed download:\n",
      "['GOOG']: Exception(\"%ticker%: Data doesn't exist for startDate = 1381723200, endDate = 1381809600\")\n",
      "[*********************100%%**********************]  1 of 1 completed\n",
      "\n",
      "1 Failed download:\n",
      "['GOOG']: Exception(\"%ticker%: Data doesn't exist for startDate = 1381636800, endDate = 1381723200\")\n",
      "[*********************100%%**********************]  1 of 1 completed\n",
      "\n",
      "1 Failed download:\n",
      "['GOOG']: Exception(\"%ticker%: Data doesn't exist for startDate = 1381550400, endDate = 1381636800\")\n"
     ]
    },
    {
     "name": "stdout",
     "output_type": "stream",
     "text": [
      "Highest price on the day after earnings release: Data not available after multiple attempts\n",
      "Average price on the day before earnings release: Data not available after multiple attempts\n",
      "Ticker: GOOG, Date and Time: January 20, 2011 4:30 PM ET\n"
     ]
    },
    {
     "name": "stderr",
     "output_type": "stream",
     "text": [
      "[*********************100%%**********************]  1 of 1 completed\n",
      "\n",
      "1 Failed download:\n",
      "['GOOG']: Exception(\"%ticker%: Data doesn't exist for startDate = 1295586000, endDate = 1295672400\")\n",
      "[*********************100%%**********************]  1 of 1 completed\n",
      "\n",
      "1 Failed download:\n",
      "['GOOG']: Exception(\"%ticker%: Data doesn't exist for startDate = 1295672400, endDate = 1295758800\")\n",
      "[*********************100%%**********************]  1 of 1 completed\n",
      "\n",
      "1 Failed download:\n",
      "['GOOG']: Exception(\"%ticker%: Data doesn't exist for startDate = 1295758800, endDate = 1295845200\")\n",
      "[*********************100%%**********************]  1 of 1 completed\n",
      "\n",
      "1 Failed download:\n",
      "['GOOG']: Exception(\"%ticker%: Data doesn't exist for startDate = 1295845200, endDate = 1295931600\")\n",
      "[*********************100%%**********************]  1 of 1 completed\n",
      "\n",
      "1 Failed download:\n",
      "['GOOG']: Exception(\"%ticker%: Data doesn't exist for startDate = 1295326800, endDate = 1295413200\")\n",
      "[*********************100%%**********************]  1 of 1 completed\n",
      "\n",
      "1 Failed download:\n",
      "['GOOG']: Exception(\"%ticker%: Data doesn't exist for startDate = 1295240400, endDate = 1295326800\")\n",
      "[*********************100%%**********************]  1 of 1 completed\n",
      "\n",
      "1 Failed download:\n",
      "['GOOG']: Exception(\"%ticker%: Data doesn't exist for startDate = 1295154000, endDate = 1295240400\")\n",
      "[*********************100%%**********************]  1 of 1 completed\n",
      "\n",
      "1 Failed download:\n",
      "['GOOG']: Exception(\"%ticker%: Data doesn't exist for startDate = 1295067600, endDate = 1295154000\")\n"
     ]
    },
    {
     "name": "stdout",
     "output_type": "stream",
     "text": [
      "Highest price on the day after earnings release: Data not available after multiple attempts\n",
      "Average price on the day before earnings release: Data not available after multiple attempts\n",
      "Ticker: GOOG, Date and Time: January 22, 2013 4:30 PM ET\n"
     ]
    },
    {
     "name": "stderr",
     "output_type": "stream",
     "text": [
      "[*********************100%%**********************]  1 of 1 completed\n",
      "\n",
      "1 Failed download:\n",
      "['GOOG']: Exception(\"%ticker%: Data doesn't exist for startDate = 1358917200, endDate = 1359003600\")\n",
      "[*********************100%%**********************]  1 of 1 completed\n",
      "\n",
      "1 Failed download:\n",
      "['GOOG']: Exception(\"%ticker%: Data doesn't exist for startDate = 1359003600, endDate = 1359090000\")\n",
      "[*********************100%%**********************]  1 of 1 completed\n",
      "\n",
      "1 Failed download:\n",
      "['GOOG']: Exception(\"%ticker%: Data doesn't exist for startDate = 1359090000, endDate = 1359176400\")\n",
      "[*********************100%%**********************]  1 of 1 completed\n",
      "\n",
      "1 Failed download:\n",
      "['GOOG']: Exception(\"%ticker%: Data doesn't exist for startDate = 1359176400, endDate = 1359262800\")\n",
      "[*********************100%%**********************]  1 of 1 completed\n",
      "\n",
      "1 Failed download:\n",
      "['GOOG']: Exception(\"%ticker%: Data doesn't exist for startDate = 1358658000, endDate = 1358744400\")\n",
      "[*********************100%%**********************]  1 of 1 completed\n",
      "\n",
      "1 Failed download:\n",
      "['GOOG']: Exception(\"%ticker%: Data doesn't exist for startDate = 1358571600, endDate = 1358658000\")\n",
      "[*********************100%%**********************]  1 of 1 completed\n",
      "\n",
      "1 Failed download:\n",
      "['GOOG']: Exception(\"%ticker%: Data doesn't exist for startDate = 1358485200, endDate = 1358571600\")\n",
      "[*********************100%%**********************]  1 of 1 completed\n",
      "\n",
      "1 Failed download:\n",
      "['GOOG']: Exception(\"%ticker%: Data doesn't exist for startDate = 1358398800, endDate = 1358485200\")\n",
      "[*********************100%%**********************]  1 of 1 completed\n"
     ]
    },
    {
     "name": "stdout",
     "output_type": "stream",
     "text": [
      "Highest price on the day after earnings release: Data not available after multiple attempts\n",
      "Average price on the day before earnings release: Data not available after multiple attempts\n",
      "Ticker: GOOG, Date and Time: April 16, 2014 4:30 PM ET\n"
     ]
    },
    {
     "name": "stderr",
     "output_type": "stream",
     "text": [
      "[*********************100%%**********************]  1 of 1 completed\n"
     ]
    },
    {
     "name": "stdout",
     "output_type": "stream",
     "text": [
      "Highest price on the day after earnings release: 27.4\n",
      "Average price on the day before earnings release: 26.77\n",
      "Percentage change on earnings day: 2.35%\n",
      "Ticker: GOOG, Date and Time: July 19, 2012 4:30 PM ET\n"
     ]
    },
    {
     "name": "stderr",
     "output_type": "stream",
     "text": [
      "[*********************100%%**********************]  1 of 1 completed\n",
      "\n",
      "1 Failed download:\n",
      "['GOOG']: Exception(\"%ticker%: Data doesn't exist for startDate = 1342756800, endDate = 1342843200\")\n",
      "[*********************100%%**********************]  1 of 1 completed\n",
      "\n",
      "1 Failed download:\n",
      "['GOOG']: Exception(\"%ticker%: Data doesn't exist for startDate = 1342843200, endDate = 1342929600\")\n",
      "[*********************100%%**********************]  1 of 1 completed\n",
      "\n",
      "1 Failed download:\n",
      "['GOOG']: Exception(\"%ticker%: Data doesn't exist for startDate = 1342929600, endDate = 1343016000\")\n",
      "[*********************100%%**********************]  1 of 1 completed\n",
      "\n",
      "1 Failed download:\n",
      "['GOOG']: Exception(\"%ticker%: Data doesn't exist for startDate = 1343016000, endDate = 1343102400\")\n",
      "[*********************100%%**********************]  1 of 1 completed\n",
      "\n",
      "1 Failed download:\n",
      "['GOOG']: Exception(\"%ticker%: Data doesn't exist for startDate = 1342497600, endDate = 1342584000\")\n",
      "[*********************100%%**********************]  1 of 1 completed\n",
      "\n",
      "1 Failed download:\n",
      "['GOOG']: Exception(\"%ticker%: Data doesn't exist for startDate = 1342411200, endDate = 1342497600\")\n",
      "[*********************100%%**********************]  1 of 1 completed\n",
      "\n",
      "1 Failed download:\n",
      "['GOOG']: Exception(\"%ticker%: Data doesn't exist for startDate = 1342324800, endDate = 1342411200\")\n",
      "[*********************100%%**********************]  1 of 1 completed\n",
      "\n",
      "1 Failed download:\n",
      "['GOOG']: Exception(\"%ticker%: Data doesn't exist for startDate = 1342238400, endDate = 1342324800\")\n"
     ]
    },
    {
     "name": "stdout",
     "output_type": "stream",
     "text": [
      "Highest price on the day after earnings release: Data not available after multiple attempts\n",
      "Average price on the day before earnings release: Data not available after multiple attempts\n",
      "Ticker: GOOG, Date and Time: January 30, 2014 4:30 PM ET\n"
     ]
    },
    {
     "name": "stderr",
     "output_type": "stream",
     "text": [
      "[*********************100%%**********************]  1 of 1 completed\n",
      "\n",
      "1 Failed download:\n",
      "['GOOG']: Exception(\"%ticker%: Data doesn't exist for startDate = 1391144400, endDate = 1391230800\")\n",
      "[*********************100%%**********************]  1 of 1 completed\n",
      "\n",
      "1 Failed download:\n",
      "['GOOG']: Exception(\"%ticker%: Data doesn't exist for startDate = 1391230800, endDate = 1391317200\")\n",
      "[*********************100%%**********************]  1 of 1 completed\n",
      "\n",
      "1 Failed download:\n",
      "['GOOG']: Exception(\"%ticker%: Data doesn't exist for startDate = 1391317200, endDate = 1391403600\")\n",
      "[*********************100%%**********************]  1 of 1 completed\n",
      "\n",
      "1 Failed download:\n",
      "['GOOG']: Exception(\"%ticker%: Data doesn't exist for startDate = 1391403600, endDate = 1391490000\")\n",
      "[*********************100%%**********************]  1 of 1 completed\n",
      "\n",
      "1 Failed download:\n",
      "['GOOG']: Exception(\"%ticker%: Data doesn't exist for startDate = 1390885200, endDate = 1390971600\")\n",
      "[*********************100%%**********************]  1 of 1 completed\n",
      "\n",
      "1 Failed download:\n",
      "['GOOG']: Exception(\"%ticker%: Data doesn't exist for startDate = 1390798800, endDate = 1390885200\")\n",
      "[*********************100%%**********************]  1 of 1 completed\n",
      "\n",
      "1 Failed download:\n",
      "['GOOG']: Exception(\"%ticker%: Data doesn't exist for startDate = 1390712400, endDate = 1390798800\")\n",
      "[*********************100%%**********************]  1 of 1 completed\n",
      "\n",
      "1 Failed download:\n",
      "['GOOG']: Exception(\"%ticker%: Data doesn't exist for startDate = 1390626000, endDate = 1390712400\")\n",
      "[*********************100%%**********************]  1 of 1 completed\n"
     ]
    },
    {
     "name": "stdout",
     "output_type": "stream",
     "text": [
      "Highest price on the day after earnings release: Data not available after multiple attempts\n",
      "Average price on the day before earnings release: Data not available after multiple attempts\n",
      "Ticker: AMZN, Date and Time: January 28, 2016 5:00 PM ET\n"
     ]
    },
    {
     "name": "stderr",
     "output_type": "stream",
     "text": [
      "[*********************100%%**********************]  1 of 1 completed\n",
      "[*********************100%%**********************]  1 of 1 completed"
     ]
    },
    {
     "name": "stdout",
     "output_type": "stream",
     "text": [
      "Highest price on the day after earnings release: 29.65\n",
      "Average price on the day before earnings release: 29.87\n",
      "Percentage change on earnings day: -0.74%\n",
      "Ticker: AMZN, Date and Time: April 28, 2016 5:00 PM ET\n"
     ]
    },
    {
     "name": "stderr",
     "output_type": "stream",
     "text": [
      "\n",
      "[*********************100%%**********************]  1 of 1 completed\n",
      "[*********************100%%**********************]  1 of 1 completed"
     ]
    },
    {
     "name": "stdout",
     "output_type": "stream",
     "text": [
      "Highest price on the day after earnings release: 33.5\n",
      "Average price on the day before earnings release: 31.04\n",
      "Percentage change on earnings day: 7.93%\n",
      "Ticker: AMZN, Date and Time: April 27, 2017 5:30 PM ET\n"
     ]
    },
    {
     "name": "stderr",
     "output_type": "stream",
     "text": [
      "\n",
      "[*********************100%%**********************]  1 of 1 completed\n",
      "[*********************100%%**********************]  1 of 1 completed\n"
     ]
    },
    {
     "name": "stdout",
     "output_type": "stream",
     "text": [
      "Highest price on the day after earnings release: 47.48\n",
      "Average price on the day before earnings release: 45.31\n",
      "Percentage change on earnings day: 4.79%\n",
      "Ticker: AMZN, Date and Time: April 26, 2018 5:30 PM ET\n"
     ]
    },
    {
     "name": "stderr",
     "output_type": "stream",
     "text": [
      "[*********************100%%**********************]  1 of 1 completed\n",
      "[*********************100%%**********************]  1 of 1 completed\n"
     ]
    },
    {
     "name": "stdout",
     "output_type": "stream",
     "text": [
      "Highest price on the day after earnings release: 81.9\n",
      "Average price on the day before earnings release: 74.7\n",
      "Percentage change on earnings day: 9.64%\n",
      "Ticker: AMZN, Date and Time: July 23, 2015 5:00 PM ET\n"
     ]
    },
    {
     "name": "stderr",
     "output_type": "stream",
     "text": [
      "[*********************100%%**********************]  1 of 1 completed\n",
      "[*********************100%%**********************]  1 of 1 completed"
     ]
    },
    {
     "name": "stdout",
     "output_type": "stream",
     "text": [
      "Highest price on the day after earnings release: 29.03\n",
      "Average price on the day before earnings release: 24.29\n",
      "Percentage change on earnings day: 19.51%\n",
      "Ticker: AMZN, Date and Time: July 28, 2016 5:30 PM ET\n"
     ]
    },
    {
     "name": "stderr",
     "output_type": "stream",
     "text": [
      "\n",
      "[*********************100%%**********************]  1 of 1 completed\n",
      "[*********************100%%**********************]  1 of 1 completed\n"
     ]
    },
    {
     "name": "stdout",
     "output_type": "stream",
     "text": [
      "Highest price on the day after earnings release: 38.3\n",
      "Average price on the day before earnings release: 36.9\n",
      "Percentage change on earnings day: 3.79%\n",
      "Ticker: AMZN, Date and Time: July 27, 2017 5:30 PM ET\n"
     ]
    },
    {
     "name": "stderr",
     "output_type": "stream",
     "text": [
      "[*********************100%%**********************]  1 of 1 completed\n",
      "[*********************100%%**********************]  1 of 1 completed\n"
     ]
    },
    {
     "name": "stdout",
     "output_type": "stream",
     "text": [
      "Highest price on the day after earnings release: 51.64\n",
      "Average price on the day before earnings release: 51.9\n",
      "Percentage change on earnings day: -0.5%\n",
      "Ticker: AMZN, Date and Time: July 26, 2018 5:30 PM ET\n"
     ]
    },
    {
     "name": "stderr",
     "output_type": "stream",
     "text": [
      "[*********************100%%**********************]  1 of 1 completed\n",
      "[*********************100%%**********************]  1 of 1 completed\n"
     ]
    },
    {
     "name": "stdout",
     "output_type": "stream",
     "text": [
      "Highest price on the day after earnings release: 94.0\n",
      "Average price on the day before earnings release: 91.23\n",
      "Percentage change on earnings day: 3.04%\n",
      "Ticker: AMZN, Date and Time: October 23, 2014 5:00 PM ET\n"
     ]
    },
    {
     "name": "stderr",
     "output_type": "stream",
     "text": [
      "[*********************100%%**********************]  1 of 1 completed\n",
      "[*********************100%%**********************]  1 of 1 completed"
     ]
    },
    {
     "name": "stdout",
     "output_type": "stream",
     "text": [
      "Highest price on the day after earnings release: 14.69\n",
      "Average price on the day before earnings release: 15.57\n",
      "Percentage change on earnings day: -5.65%\n",
      "Ticker: AMZN, Date and Time: October 22, 2015 5:00 PM ET\n"
     ]
    },
    {
     "name": "stderr",
     "output_type": "stream",
     "text": [
      "\n",
      "[*********************100%%**********************]  1 of 1 completed\n",
      "[*********************100%%**********************]  1 of 1 completed"
     ]
    },
    {
     "name": "stdout",
     "output_type": "stream",
     "text": [
      "Highest price on the day after earnings release: 30.97\n",
      "Average price on the day before earnings release: 28.21\n",
      "Percentage change on earnings day: 9.78%\n",
      "Ticker: AMZN, Date and Time: October 27, 2016 5:30 PM ET\n"
     ]
    },
    {
     "name": "stderr",
     "output_type": "stream",
     "text": [
      "\n",
      "[*********************100%%**********************]  1 of 1 completed\n",
      "[*********************100%%**********************]  1 of 1 completed"
     ]
    },
    {
     "name": "stdout",
     "output_type": "stream",
     "text": [
      "Highest price on the day after earnings release: 39.47\n",
      "Average price on the day before earnings release: 41.91\n",
      "Percentage change on earnings day: -5.82%\n",
      "Ticker: AMZN, Date and Time: October 26, 2017 5:30 PM ET\n"
     ]
    },
    {
     "name": "stderr",
     "output_type": "stream",
     "text": [
      "\n",
      "[*********************100%%**********************]  1 of 1 completed\n",
      "[*********************100%%**********************]  1 of 1 completed"
     ]
    },
    {
     "name": "stdout",
     "output_type": "stream",
     "text": [
      "Highest price on the day after earnings release: 55.28\n",
      "Average price on the day before earnings release: 48.62\n",
      "Percentage change on earnings day: 13.7%\n",
      "Ticker: AMZN, Date and Time: October 25, 2018 5:30 PM ET\n"
     ]
    },
    {
     "name": "stderr",
     "output_type": "stream",
     "text": [
      "\n",
      "[*********************100%%**********************]  1 of 1 completed\n",
      "[*********************100%%**********************]  1 of 1 completed"
     ]
    },
    {
     "name": "stdout",
     "output_type": "stream",
     "text": [
      "Highest price on the day after earnings release: 84.92\n",
      "Average price on the day before earnings release: 87.26\n",
      "Percentage change on earnings day: -2.68%\n",
      "Ticker: AMZN, Date and Time: February 2, 2017 5:30 PM ET\n"
     ]
    },
    {
     "name": "stderr",
     "output_type": "stream",
     "text": [
      "\n",
      "[*********************100%%**********************]  1 of 1 completed\n",
      "[*********************100%%**********************]  1 of 1 completed"
     ]
    },
    {
     "name": "stdout",
     "output_type": "stream",
     "text": [
      "Highest price on the day after earnings release: 40.92\n",
      "Average price on the day before earnings release: 41.16\n",
      "Percentage change on earnings day: -0.58%\n",
      "Ticker: AMZN, Date and Time: July 24, 2014 5:00 PM ET\n"
     ]
    },
    {
     "name": "stderr",
     "output_type": "stream",
     "text": [
      "\n",
      "[*********************100%%**********************]  1 of 1 completed\n",
      "[*********************100%%**********************]  1 of 1 completed"
     ]
    },
    {
     "name": "stdout",
     "output_type": "stream",
     "text": [
      "Highest price on the day after earnings release: 16.24\n",
      "Average price on the day before earnings release: 17.95\n",
      "Percentage change on earnings day: -9.53%\n",
      "Ticker: AMZN, Date and Time: July 30, 2020 5:30 PM ET\n"
     ]
    },
    {
     "name": "stderr",
     "output_type": "stream",
     "text": [
      "\n",
      "[*********************100%%**********************]  1 of 1 completed\n",
      "[*********************100%%**********************]  1 of 1 completed\n"
     ]
    },
    {
     "name": "stdout",
     "output_type": "stream",
     "text": [
      "Highest price on the day after earnings release: 162.34\n",
      "Average price on the day before earnings release: 151.82\n",
      "Percentage change on earnings day: 6.93%\n",
      "Ticker: AMZN, Date and Time: February 1, 2018 5:30 PM ET\n"
     ]
    },
    {
     "name": "stderr",
     "output_type": "stream",
     "text": [
      "[*********************100%%**********************]  1 of 1 completed\n",
      "[*********************100%%**********************]  1 of 1 completed\n"
     ]
    },
    {
     "name": "stdout",
     "output_type": "stream",
     "text": [
      "Highest price on the day after earnings release: 74.9\n",
      "Average price on the day before earnings release: 70.78\n",
      "Percentage change on earnings day: 5.82%\n",
      "Ticker: AMZN, Date and Time: April 23, 2015 5:30 PM ET\n"
     ]
    },
    {
     "name": "stderr",
     "output_type": "stream",
     "text": [
      "[*********************100%%**********************]  1 of 1 completed\n",
      "[*********************100%%**********************]  1 of 1 completed\n"
     ]
    },
    {
     "name": "stdout",
     "output_type": "stream",
     "text": [
      "Highest price on the day after earnings release: 22.63\n",
      "Average price on the day before earnings release: 19.53\n",
      "Percentage change on earnings day: 15.87%\n",
      "Ticker: AMZN, Date and Time: October 29, 2020 5:30 PM ET\n"
     ]
    },
    {
     "name": "stderr",
     "output_type": "stream",
     "text": [
      "[*********************100%%**********************]  1 of 1 completed\n",
      "[*********************100%%**********************]  1 of 1 completed"
     ]
    },
    {
     "name": "stdout",
     "output_type": "stream",
     "text": [
      "Highest price on the day after earnings release: 158.35\n",
      "Average price on the day before earnings release: 162.57\n",
      "Percentage change on earnings day: -2.6%\n",
      "Ticker: AMZN, Date and Time: January 29, 2015 5:00 PM ET\n"
     ]
    },
    {
     "name": "stderr",
     "output_type": "stream",
     "text": [
      "\n",
      "[*********************100%%**********************]  1 of 1 completed\n",
      "[*********************100%%**********************]  1 of 1 completed"
     ]
    },
    {
     "name": "stdout",
     "output_type": "stream",
     "text": [
      "Highest price on the day after earnings release: 17.98\n",
      "Average price on the day before earnings release: 15.32\n",
      "Percentage change on earnings day: 17.36%\n",
      "Ticker: AMZN, Date and Time: April 24, 2014 5:00 PM ET\n"
     ]
    },
    {
     "name": "stderr",
     "output_type": "stream",
     "text": [
      "\n",
      "[*********************100%%**********************]  1 of 1 completed\n",
      "[*********************100%%**********************]  1 of 1 completed"
     ]
    },
    {
     "name": "stdout",
     "output_type": "stream",
     "text": [
      "Highest price on the day after earnings release: 15.82\n",
      "Average price on the day before earnings release: 16.66\n",
      "Percentage change on earnings day: -5.04%\n",
      "Ticker: AMZN, Date and Time: October 24, 2013 5:00 PM ET\n"
     ]
    },
    {
     "name": "stderr",
     "output_type": "stream",
     "text": [
      "\n",
      "[*********************100%%**********************]  1 of 1 completed\n",
      "[*********************100%%**********************]  1 of 1 completed\n"
     ]
    },
    {
     "name": "stdout",
     "output_type": "stream",
     "text": [
      "Highest price on the day after earnings release: 18.42\n",
      "Average price on the day before earnings release: 16.57\n",
      "Percentage change on earnings day: 11.16%\n",
      "Ticker: AMZN, Date and Time: January 30, 2014 5:00 PM ET\n"
     ]
    },
    {
     "name": "stderr",
     "output_type": "stream",
     "text": [
      "[*********************100%%**********************]  1 of 1 completed\n",
      "[*********************100%%**********************]  1 of 1 completed\n"
     ]
    },
    {
     "name": "stdout",
     "output_type": "stream",
     "text": [
      "Highest price on the day after earnings release: 18.77\n",
      "Average price on the day before earnings release: 19.55\n",
      "Percentage change on earnings day: -3.99%\n",
      "Ticker: AMZN, Date and Time: January 30, 2020 5:30 PM ET\n"
     ]
    },
    {
     "name": "stderr",
     "output_type": "stream",
     "text": [
      "[*********************100%%**********************]  1 of 1 completed\n",
      "[*********************100%%**********************]  1 of 1 completed"
     ]
    },
    {
     "name": "stdout",
     "output_type": "stream",
     "text": [
      "Highest price on the day after earnings release: 102.79\n",
      "Average price on the day before earnings release: 92.2\n",
      "Percentage change on earnings day: 11.49%\n",
      "Ticker: AMZN, Date and Time: October 24, 2019 5:30 AM ET\n"
     ]
    },
    {
     "name": "stderr",
     "output_type": "stream",
     "text": [
      "\n",
      "[*********************100%%**********************]  1 of 1 completed\n",
      "[*********************100%%**********************]  1 of 1 completed\n"
     ]
    },
    {
     "name": "stdout",
     "output_type": "stream",
     "text": [
      "Highest price on the day after earnings release: 89.42\n",
      "Average price on the day before earnings release: 88.77\n",
      "Percentage change on earnings day: 0.73%\n",
      "Ticker: AMZN, Date and Time: April 25, 2019 5:30 PM ET\n"
     ]
    },
    {
     "name": "stderr",
     "output_type": "stream",
     "text": [
      "[*********************100%%**********************]  1 of 1 completed\n",
      "[*********************100%%**********************]  1 of 1 completed\n"
     ]
    },
    {
     "name": "stdout",
     "output_type": "stream",
     "text": [
      "Highest price on the day after earnings release: 97.55\n",
      "Average price on the day before earnings release: 95.47\n",
      "Percentage change on earnings day: 2.18%\n",
      "Ticker: AMZN, Date and Time: April 30, 2020 5:30 PM ET\n"
     ]
    },
    {
     "name": "stderr",
     "output_type": "stream",
     "text": [
      "[*********************100%%**********************]  1 of 1 completed\n",
      "[*********************100%%**********************]  1 of 1 completed\n",
      "[*********************100%%**********************]  1 of 1 completed"
     ]
    },
    {
     "name": "stdout",
     "output_type": "stream",
     "text": [
      "Highest price on the day after earnings release: 118.12\n",
      "Average price on the day before earnings release: 116.99\n",
      "Percentage change on earnings day: 0.97%\n",
      "Ticker: AMZN, Date and Time: April 27, 2023 5:30 PM ET\n"
     ]
    },
    {
     "name": "stderr",
     "output_type": "stream",
     "text": [
      "\n",
      "[*********************100%%**********************]  1 of 1 completed\n"
     ]
    },
    {
     "name": "stdout",
     "output_type": "stream",
     "text": [
      "Highest price on the day after earnings release: 109.48\n",
      "Average price on the day before earnings release: 103.95\n",
      "Percentage change on earnings day: 5.32%\n",
      "Ticker: AMZN, Date and Time: July 25, 2019 5:30 PM ET\n"
     ]
    },
    {
     "name": "stderr",
     "output_type": "stream",
     "text": [
      "[*********************100%%**********************]  1 of 1 completed\n",
      "[*********************100%%**********************]  1 of 1 completed\n",
      "[*********************100%%**********************]  1 of 1 completed\n"
     ]
    },
    {
     "name": "stdout",
     "output_type": "stream",
     "text": [
      "Highest price on the day after earnings release: 97.54\n",
      "Average price on the day before earnings release: 99.27\n",
      "Percentage change on earnings day: -1.74%\n",
      "Ticker: AMZN, Date and Time: July 29, 2021 5:30 PM ET\n",
      "Highest price on the day after earnings release: 168.41\n",
      "Average price on the day before earnings release: 182.12\n",
      "Percentage change on earnings day: -7.53%\n",
      "Ticker: AMZN, Date and Time: July 28, 2022 5:30 PM ET\n"
     ]
    },
    {
     "name": "stderr",
     "output_type": "stream",
     "text": [
      "[*********************100%%**********************]  1 of 1 completed\n",
      "[*********************100%%**********************]  1 of 1 completed\n",
      "[*********************100%%**********************]  1 of 1 completed\n"
     ]
    },
    {
     "name": "stdout",
     "output_type": "stream",
     "text": [
      "Highest price on the day after earnings release: 137.65\n",
      "Average price on the day before earnings release: 116.34\n",
      "Percentage change on earnings day: 18.32%\n",
      "Ticker: AMZN, Date and Time: August 3, 2023 5:30 PM ET\n"
     ]
    },
    {
     "name": "stderr",
     "output_type": "stream",
     "text": [
      "[*********************100%%**********************]  1 of 1 completed\n",
      "[*********************100%%**********************]  1 of 1 completed\n",
      "[*********************100%%**********************]  1 of 1 completed"
     ]
    },
    {
     "name": "stdout",
     "output_type": "stream",
     "text": [
      "Highest price on the day after earnings release: 143.63\n",
      "Average price on the day before earnings release: 132.65\n",
      "Percentage change on earnings day: 8.28%\n",
      "Ticker: AMZN, Date and Time: October 28, 2021 5:30 PM ET\n",
      "Highest price on the day after earnings release: 168.74\n",
      "Average price on the day before earnings release: 169.0\n",
      "Percentage change on earnings day: -0.15%\n",
      "Ticker: AMZN, Date and Time: October 27, 2022 5:30 PM ET\n"
     ]
    },
    {
     "name": "stderr",
     "output_type": "stream",
     "text": [
      "\n",
      "[*********************100%%**********************]  1 of 1 completed\n",
      "[*********************100%%**********************]  1 of 1 completed\n",
      "[*********************100%%**********************]  1 of 1 completed\n"
     ]
    },
    {
     "name": "stdout",
     "output_type": "stream",
     "text": [
      "Highest price on the day after earnings release: 103.96\n",
      "Average price on the day before earnings release: 120.13\n",
      "Percentage change on earnings day: -13.46%\n",
      "Ticker: AMZN, Date and Time: October 26, 2023 5:30 PM ET\n"
     ]
    },
    {
     "name": "stderr",
     "output_type": "stream",
     "text": [
      "[*********************100%%**********************]  1 of 1 completed\n",
      "[*********************100%%**********************]  1 of 1 completed\n",
      "[*********************100%%**********************]  1 of 1 completed\n"
     ]
    },
    {
     "name": "stdout",
     "output_type": "stream",
     "text": [
      "Highest price on the day after earnings release: 130.02\n",
      "Average price on the day before earnings release: 127.57\n",
      "Percentage change on earnings day: 1.92%\n",
      "Ticker: AMZN, Date and Time: January 31, 2019 5:30 PM ET\n",
      "Highest price on the day after earnings release: 83.65\n",
      "Average price on the day before earnings release: 80.58\n",
      "Percentage change on earnings day: 3.81%\n"
     ]
    },
    {
     "name": "stderr",
     "output_type": "stream",
     "text": [
      "[*********************100%%**********************]  1 of 1 completed\n",
      "[*********************100%%**********************]  1 of 1 completed\n",
      "\n",
      "1 Failed download:\n",
      "['AMZN']: Exception('%ticker%: No price data found, symbol may be delisted (1d 2021-01-31 -> 2021-02-01)')\n",
      "[*********************100%%**********************]  1 of 1 completed"
     ]
    },
    {
     "name": "stdout",
     "output_type": "stream",
     "text": [
      "Ticker: AMZN, Date and Time: February 2, 2021 5:30 PM ET\n"
     ]
    },
    {
     "name": "stderr",
     "output_type": "stream",
     "text": [
      "\n",
      "\n",
      "1 Failed download:\n",
      "['AMZN']: Exception('%ticker%: No price data found, symbol may be delisted (1d 2021-01-30 -> 2021-01-31)')\n",
      "[*********************100%%**********************]  1 of 1 completed\n",
      "[*********************100%%**********************]  1 of 1 completed\n",
      "[*********************100%%**********************]  1 of 1 completed"
     ]
    },
    {
     "name": "stdout",
     "output_type": "stream",
     "text": [
      "Highest price on the day after earnings release: 171.7\n",
      "Average price on the day before earnings release: 160.54\n",
      "Percentage change on earnings day: 6.95%\n",
      "Ticker: AMZN, Date and Time: February 2, 2023 5:30 PM ET\n",
      "Highest price on the day after earnings release: 108.78\n",
      "Average price on the day before earnings release: 102.24\n",
      "Percentage change on earnings day: 6.4%\n",
      "Ticker: AMZN, Date and Time: February 1, 2024 5:30 PM ET\n"
     ]
    },
    {
     "name": "stderr",
     "output_type": "stream",
     "text": [
      "\n",
      "[*********************100%%**********************]  1 of 1 completed\n",
      "[*********************100%%**********************]  1 of 1 completed\n",
      "[*********************100%%**********************]  1 of 1 completed\n"
     ]
    },
    {
     "name": "stdout",
     "output_type": "stream",
     "text": [
      "Highest price on the day after earnings release: 172.5\n",
      "Average price on the day before earnings release: 160.11\n",
      "Percentage change on earnings day: 7.74%\n",
      "Ticker: AMZN, Date and Time: April 29, 2021 5:30 PM ET\n"
     ]
    },
    {
     "name": "stderr",
     "output_type": "stream",
     "text": [
      "[*********************100%%**********************]  1 of 1 completed\n",
      "[*********************100%%**********************]  1 of 1 completed"
     ]
    },
    {
     "name": "stdout",
     "output_type": "stream",
     "text": [
      "Highest price on the day after earnings release: 177.7\n",
      "Average price on the day before earnings release: 171.45\n",
      "Percentage change on earnings day: 3.65%\n",
      "Ticker: AMZN, Date and Time: April 28, 2022 5:30 PM ET\n"
     ]
    },
    {
     "name": "stderr",
     "output_type": "stream",
     "text": [
      "\n",
      "[*********************100%%**********************]  1 of 1 completed\n",
      "[*********************100%%**********************]  1 of 1 completed\n",
      "[*********************100%%**********************]  1 of 1 completed"
     ]
    },
    {
     "name": "stdout",
     "output_type": "stream",
     "text": [
      "Highest price on the day after earnings release: 130.76\n",
      "Average price on the day before earnings release: 141.89\n",
      "Percentage change on earnings day: -7.84%\n",
      "Ticker: AMZN, Date and Time: February 3, 2022 5:30 PM ET\n",
      "Highest price on the day after earnings release: 161.2\n",
      "Average price on the day before earnings release: 149.67\n",
      "Percentage change on earnings day: 7.7%\n",
      "Ticker: AAPL, Date and Time: January 31, 2017 5:00 PM ET\n"
     ]
    },
    {
     "name": "stderr",
     "output_type": "stream",
     "text": [
      "\n",
      "[*********************100%%**********************]  1 of 1 completed\n",
      "[*********************100%%**********************]  1 of 1 completed\n",
      "\n",
      "1 Failed download:\n",
      "['AAPL']: Exception('%ticker%: No price data found, symbol may be delisted (1d 2017-01-29 -> 2017-01-30)')\n",
      "[*********************100%%**********************]  1 of 1 completed\n",
      "\n",
      "1 Failed download:\n",
      "['AAPL']: Exception('%ticker%: No price data found, symbol may be delisted (1d 2017-01-28 -> 2017-01-29)')\n",
      "[*********************100%%**********************]  1 of 1 completed\n",
      "[*********************100%%**********************]  1 of 1 completed\n"
     ]
    },
    {
     "name": "stdout",
     "output_type": "stream",
     "text": [
      "Highest price on the day after earnings release: 32.62\n",
      "Average price on the day before earnings release: 30.49\n",
      "Percentage change on earnings day: 6.99%\n",
      "Ticker: AAPL, Date and Time: May 2, 2017 5:00 PM ET\n"
     ]
    },
    {
     "name": "stderr",
     "output_type": "stream",
     "text": [
      "[*********************100%%**********************]  1 of 1 completed\n",
      "\n",
      "1 Failed download:\n",
      "['AAPL']: Exception('%ticker%: No price data found, symbol may be delisted (1d 2017-04-30 -> 2017-05-01)')\n",
      "[*********************100%%**********************]  1 of 1 completed\n",
      "\n",
      "1 Failed download:\n",
      "['AAPL']: Exception('%ticker%: No price data found, symbol may be delisted (1d 2017-04-29 -> 2017-04-30)')\n",
      "[*********************100%%**********************]  1 of 1 completed\n",
      "[*********************100%%**********************]  1 of 1 completed\n"
     ]
    },
    {
     "name": "stdout",
     "output_type": "stream",
     "text": [
      "Highest price on the day after earnings release: 36.87\n",
      "Average price on the day before earnings release: 35.95\n",
      "Percentage change on earnings day: 2.56%\n",
      "Ticker: AAPL, Date and Time: May 1, 2018 5:00 PM ET\n"
     ]
    },
    {
     "name": "stderr",
     "output_type": "stream",
     "text": [
      "[*********************100%%**********************]  1 of 1 completed\n",
      "\n",
      "1 Failed download:\n",
      "['AAPL']: Exception('%ticker%: No price data found, symbol may be delisted (1d 2018-04-29 -> 2018-04-30)')\n",
      "[*********************100%%**********************]  1 of 1 completed\n",
      "\n",
      "1 Failed download:\n",
      "['AAPL']: Exception('%ticker%: No price data found, symbol may be delisted (1d 2018-04-28 -> 2018-04-29)')\n",
      "[*********************100%%**********************]  1 of 1 completed\n",
      "[*********************100%%**********************]  1 of 1 completed\n"
     ]
    },
    {
     "name": "stdout",
     "output_type": "stream",
     "text": [
      "Highest price on the day after earnings release: 44.44\n",
      "Average price on the day before earnings release: 40.62\n",
      "Percentage change on earnings day: 9.4%\n",
      "Ticker: AAPL, Date and Time: May 4, 2023 5:00 PM ET\n"
     ]
    },
    {
     "name": "stderr",
     "output_type": "stream",
     "text": [
      "[*********************100%%**********************]  1 of 1 completed\n",
      "[*********************100%%**********************]  1 of 1 completed\n"
     ]
    },
    {
     "name": "stdout",
     "output_type": "stream",
     "text": [
      "Highest price on the day after earnings release: 174.3\n",
      "Average price on the day before earnings release: 168.94\n",
      "Percentage change on earnings day: 3.17%\n",
      "Ticker: AAPL, Date and Time: July 26, 2016 5:00 PM ET\n"
     ]
    },
    {
     "name": "stderr",
     "output_type": "stream",
     "text": [
      "[*********************100%%**********************]  1 of 1 completed\n",
      "\n",
      "1 Failed download:\n",
      "['AAPL']: Exception('%ticker%: No price data found, symbol may be delisted (1d 2016-07-24 -> 2016-07-25)')\n",
      "[*********************100%%**********************]  1 of 1 completed\n",
      "\n",
      "1 Failed download:\n",
      "['AAPL']: Exception('%ticker%: No price data found, symbol may be delisted (1d 2016-07-23 -> 2016-07-24)')\n",
      "[*********************100%%**********************]  1 of 1 completed\n",
      "[*********************100%%**********************]  1 of 1 completed\n"
     ]
    },
    {
     "name": "stdout",
     "output_type": "stream",
     "text": [
      "Highest price on the day after earnings release: 26.09\n",
      "Average price on the day before earnings release: 24.7\n",
      "Percentage change on earnings day: 5.63%\n",
      "Ticker: AAPL, Date and Time: August 1, 2017 5:00 PM ET\n"
     ]
    },
    {
     "name": "stderr",
     "output_type": "stream",
     "text": [
      "[*********************100%%**********************]  1 of 1 completed\n",
      "\n",
      "1 Failed download:\n",
      "['AAPL']: Exception('%ticker%: No price data found, symbol may be delisted (1d 2017-07-30 -> 2017-07-31)')\n",
      "[*********************100%%**********************]  1 of 1 completed\n",
      "\n",
      "1 Failed download:\n",
      "['AAPL']: Exception('%ticker%: No price data found, symbol may be delisted (1d 2017-07-29 -> 2017-07-30)')\n",
      "[*********************100%%**********************]  1 of 1 completed\n",
      "[*********************100%%**********************]  1 of 1 completed\n"
     ]
    },
    {
     "name": "stdout",
     "output_type": "stream",
     "text": [
      "Highest price on the day after earnings release: 39.94\n",
      "Average price on the day before earnings release: 37.43\n",
      "Percentage change on earnings day: 6.71%\n",
      "Ticker: AAPL, Date and Time: July 31, 2018 5:00 PM ET\n"
     ]
    },
    {
     "name": "stderr",
     "output_type": "stream",
     "text": [
      "[*********************100%%**********************]  1 of 1 completed\n",
      "\n",
      "1 Failed download:\n",
      "['AAPL']: Exception('%ticker%: No price data found, symbol may be delisted (1d 2018-07-29 -> 2018-07-30)')\n",
      "[*********************100%%**********************]  1 of 1 completed\n",
      "\n",
      "1 Failed download:\n",
      "['AAPL']: Exception('%ticker%: No price data found, symbol may be delisted (1d 2018-07-28 -> 2018-07-29)')\n",
      "[*********************100%%**********************]  1 of 1 completed\n",
      "[*********************100%%**********************]  1 of 1 completed\n"
     ]
    },
    {
     "name": "stdout",
     "output_type": "stream",
     "text": [
      "Highest price on the day after earnings release: 50.44\n",
      "Average price on the day before earnings release: 48.16\n",
      "Percentage change on earnings day: 4.73%\n",
      "Ticker: AAPL, Date and Time: October 25, 2016 5:00 PM ET\n"
     ]
    },
    {
     "name": "stderr",
     "output_type": "stream",
     "text": [
      "[*********************100%%**********************]  1 of 1 completed\n",
      "\n",
      "1 Failed download:\n",
      "['AAPL']: Exception('%ticker%: No price data found, symbol may be delisted (1d 2016-10-23 -> 2016-10-24)')\n",
      "[*********************100%%**********************]  1 of 1 completed\n",
      "\n",
      "1 Failed download:\n",
      "['AAPL']: Exception('%ticker%: No price data found, symbol may be delisted (1d 2016-10-22 -> 2016-10-23)')\n",
      "[*********************100%%**********************]  1 of 1 completed\n",
      "[*********************100%%**********************]  1 of 1 completed\n"
     ]
    },
    {
     "name": "stdout",
     "output_type": "stream",
     "text": [
      "Highest price on the day after earnings release: 28.92\n",
      "Average price on the day before earnings release: 29.15\n",
      "Percentage change on earnings day: -0.79%\n",
      "Ticker: AAPL, Date and Time: November 2, 2017 5:00 PM ET\n"
     ]
    },
    {
     "name": "stderr",
     "output_type": "stream",
     "text": [
      "[*********************100%%**********************]  1 of 1 completed\n",
      "[*********************100%%**********************]  1 of 1 completed\n"
     ]
    },
    {
     "name": "stdout",
     "output_type": "stream",
     "text": [
      "Highest price on the day after earnings release: 43.56\n",
      "Average price on the day before earnings release: 42.07\n",
      "Percentage change on earnings day: 3.54%\n",
      "Ticker: AAPL, Date and Time: November 1, 2018 5:00 PM ET\n"
     ]
    },
    {
     "name": "stderr",
     "output_type": "stream",
     "text": [
      "[*********************100%%**********************]  1 of 1 completed\n",
      "[*********************100%%**********************]  1 of 1 completed"
     ]
    },
    {
     "name": "stdout",
     "output_type": "stream",
     "text": [
      "Highest price on the day after earnings release: 53.41\n",
      "Average price on the day before earnings release: 53.06\n",
      "Percentage change on earnings day: 0.66%\n",
      "Ticker: AAPL, Date and Time: July 21, 2015 5:00 PM ET\n"
     ]
    },
    {
     "name": "stderr",
     "output_type": "stream",
     "text": [
      "\n",
      "[*********************100%%**********************]  1 of 1 completed\n",
      "\n",
      "1 Failed download:\n",
      "['AAPL']: Exception('%ticker%: No price data found, symbol may be delisted (1d 2015-07-19 -> 2015-07-20)')\n",
      "[*********************100%%**********************]  1 of 1 completed\n",
      "\n",
      "1 Failed download:\n",
      "['AAPL']: Exception('%ticker%: No price data found, symbol may be delisted (1d 2015-07-18 -> 2015-07-19)')\n",
      "[*********************100%%**********************]  1 of 1 completed\n",
      "[*********************100%%**********************]  1 of 1 completed\n"
     ]
    },
    {
     "name": "stdout",
     "output_type": "stream",
     "text": [
      "Highest price on the day after earnings release: 31.38\n",
      "Average price on the day before earnings release: 32.24\n",
      "Percentage change on earnings day: -2.67%\n",
      "Ticker: AAPL, Date and Time: April 26, 2016 5:00 PM ET\n"
     ]
    },
    {
     "name": "stderr",
     "output_type": "stream",
     "text": [
      "[*********************100%%**********************]  1 of 1 completed\n",
      "\n",
      "1 Failed download:\n",
      "['AAPL']: Exception('%ticker%: No price data found, symbol may be delisted (1d 2016-04-24 -> 2016-04-25)')\n",
      "[*********************100%%**********************]  1 of 1 completed\n",
      "\n",
      "1 Failed download:\n",
      "['AAPL']: Exception('%ticker%: No price data found, symbol may be delisted (1d 2016-04-23 -> 2016-04-24)')\n",
      "[*********************100%%**********************]  1 of 1 completed\n"
     ]
    },
    {
     "name": "stdout",
     "output_type": "stream",
     "text": [
      "Highest price on the day after earnings release: 24.68\n",
      "Average price on the day before earnings release: 26.39\n",
      "Percentage change on earnings day: -6.48%\n",
      "Ticker: AAPL, Date and Time: January 29, 2019 5:00 PM ET\n"
     ]
    },
    {
     "name": "stderr",
     "output_type": "stream",
     "text": [
      "[*********************100%%**********************]  1 of 1 completed\n",
      "[*********************100%%**********************]  1 of 1 completed\n",
      "\n",
      "1 Failed download:\n",
      "['AAPL']: Exception('%ticker%: No price data found, symbol may be delisted (1d 2019-01-27 -> 2019-01-28)')\n",
      "[*********************100%%**********************]  1 of 1 completed\n",
      "\n",
      "1 Failed download:\n",
      "['AAPL']: Exception('%ticker%: No price data found, symbol may be delisted (1d 2019-01-26 -> 2019-01-27)')\n",
      "[*********************100%%**********************]  1 of 1 completed\n",
      "[*********************100%%**********************]  1 of 1 completed"
     ]
    },
    {
     "name": "stdout",
     "output_type": "stream",
     "text": [
      "Highest price on the day after earnings release: 41.54\n",
      "Average price on the day before earnings release: 39.06\n",
      "Percentage change on earnings day: 6.35%\n",
      "Ticker: AAPL, Date and Time: January 28, 2020 5:00 PM ET\n"
     ]
    },
    {
     "name": "stderr",
     "output_type": "stream",
     "text": [
      "\n",
      "[*********************100%%**********************]  1 of 1 completed\n",
      "\n",
      "1 Failed download:\n",
      "['AAPL']: Exception('%ticker%: No price data found, symbol may be delisted (1d 2020-01-26 -> 2020-01-27)')\n",
      "[*********************100%%**********************]  1 of 1 completed\n",
      "\n",
      "1 Failed download:\n",
      "['AAPL']: Exception('%ticker%: No price data found, symbol may be delisted (1d 2020-01-25 -> 2020-01-26)')\n",
      "[*********************100%%**********************]  1 of 1 completed\n",
      "[*********************100%%**********************]  1 of 1 completed\n"
     ]
    },
    {
     "name": "stdout",
     "output_type": "stream",
     "text": [
      "Highest price on the day after earnings release: 81.96\n",
      "Average price on the day before earnings release: 80.11\n",
      "Percentage change on earnings day: 2.31%\n",
      "Ticker: AAPL, Date and Time: January 27, 2021 5:00 PM ET\n"
     ]
    },
    {
     "name": "stderr",
     "output_type": "stream",
     "text": [
      "[*********************100%%**********************]  1 of 1 completed\n",
      "[*********************100%%**********************]  1 of 1 completed"
     ]
    },
    {
     "name": "stdout",
     "output_type": "stream",
     "text": [
      "Highest price on the day after earnings release: 141.99\n",
      "Average price on the day before earnings release: 140.81\n",
      "Percentage change on earnings day: 0.84%\n",
      "Ticker: AAPL, Date and Time: January 27, 2022 5:00 PM ET\n"
     ]
    },
    {
     "name": "stderr",
     "output_type": "stream",
     "text": [
      "\n",
      "[*********************100%%**********************]  1 of 1 completed\n",
      "[*********************100%%**********************]  1 of 1 completed\n"
     ]
    },
    {
     "name": "stdout",
     "output_type": "stream",
     "text": [
      "Highest price on the day after earnings release: 170.35\n",
      "Average price on the day before earnings release: 159.89\n",
      "Percentage change on earnings day: 6.54%\n",
      "Ticker: AAPL, Date and Time: April 30, 2020 5:00 PM ET\n"
     ]
    },
    {
     "name": "stderr",
     "output_type": "stream",
     "text": [
      "[*********************100%%**********************]  1 of 1 completed\n",
      "[*********************100%%**********************]  1 of 1 completed"
     ]
    },
    {
     "name": "stdout",
     "output_type": "stream",
     "text": [
      "Highest price on the day after earnings release: 74.75\n",
      "Average price on the day before earnings release: 70.5\n",
      "Percentage change on earnings day: 6.03%\n",
      "Ticker: AAPL, Date and Time: April 28, 2021 5:00 PM ET\n"
     ]
    },
    {
     "name": "stderr",
     "output_type": "stream",
     "text": [
      "\n",
      "[*********************100%%**********************]  1 of 1 completed\n"
     ]
    },
    {
     "name": "stdout",
     "output_type": "stream",
     "text": [
      "Highest price on the day after earnings release: 137.07\n",
      "Average price on the day before earnings release: 134.31\n",
      "Percentage change on earnings day: 2.05%\n",
      "Ticker: AAPL, Date and Time: April 28, 2022 5:00 PM ET\n"
     ]
    },
    {
     "name": "stderr",
     "output_type": "stream",
     "text": [
      "[*********************100%%**********************]  1 of 1 completed\n",
      "[*********************100%%**********************]  1 of 1 completed\n"
     ]
    },
    {
     "name": "stdout",
     "output_type": "stream",
     "text": [
      "Highest price on the day after earnings release: 166.2\n",
      "Average price on the day before earnings release: 159.53\n",
      "Percentage change on earnings day: 4.18%\n",
      "Ticker: AAPL, Date and Time: July 30, 2020 5:00 PM ET\n"
     ]
    },
    {
     "name": "stderr",
     "output_type": "stream",
     "text": [
      "[*********************100%%**********************]  1 of 1 completed\n",
      "[*********************100%%**********************]  1 of 1 completed\n",
      "[*********************100%%**********************]  1 of 1 completed\n"
     ]
    },
    {
     "name": "stdout",
     "output_type": "stream",
     "text": [
      "Highest price on the day after earnings release: 106.42\n",
      "Average price on the day before earnings release: 93.9\n",
      "Percentage change on earnings day: 13.33%\n",
      "Ticker: AAPL, Date and Time: July 27, 2021 5:00 PM ET\n"
     ]
    },
    {
     "name": "stderr",
     "output_type": "stream",
     "text": [
      "[*********************100%%**********************]  1 of 1 completed\n",
      "\n",
      "1 Failed download:\n",
      "['AAPL']: Exception('%ticker%: No price data found, symbol may be delisted (1d 2021-07-25 -> 2021-07-26)')\n",
      "[*********************100%%**********************]  1 of 1 completed\n",
      "\n",
      "1 Failed download:\n",
      "['AAPL']: Exception('%ticker%: No price data found, symbol may be delisted (1d 2021-07-24 -> 2021-07-25)')\n",
      "[*********************100%%**********************]  1 of 1 completed\n",
      "[*********************100%%**********************]  1 of 1 completed\n"
     ]
    },
    {
     "name": "stdout",
     "output_type": "stream",
     "text": [
      "Highest price on the day after earnings release: 146.97\n",
      "Average price on the day before earnings release: 147.82\n",
      "Percentage change on earnings day: -0.58%\n",
      "Ticker: AAPL, Date and Time: October 30, 2019 5:00 PM ET\n"
     ]
    },
    {
     "name": "stderr",
     "output_type": "stream",
     "text": [
      "[*********************100%%**********************]  1 of 1 completed\n",
      "[*********************100%%**********************]  1 of 1 completed"
     ]
    },
    {
     "name": "stdout",
     "output_type": "stream",
     "text": [
      "Highest price on the day after earnings release: 62.29\n",
      "Average price on the day before earnings release: 62.0\n",
      "Percentage change on earnings day: 0.47%\n",
      "Ticker: AAPL, Date and Time: October 29, 2020 5:00 PM ET\n"
     ]
    },
    {
     "name": "stderr",
     "output_type": "stream",
     "text": [
      "\n",
      "[*********************100%%**********************]  1 of 1 completed\n",
      "[*********************100%%**********************]  1 of 1 completed\n"
     ]
    },
    {
     "name": "stdout",
     "output_type": "stream",
     "text": [
      "Highest price on the day after earnings release: 111.99\n",
      "Average price on the day before earnings release: 115.91\n",
      "Percentage change on earnings day: -3.38%\n",
      "Ticker: AAPL, Date and Time: October 28, 2021 5:00 PM ET\n"
     ]
    },
    {
     "name": "stderr",
     "output_type": "stream",
     "text": [
      "[*********************100%%**********************]  1 of 1 completed\n",
      "[*********************100%%**********************]  1 of 1 completed\n"
     ]
    },
    {
     "name": "stdout",
     "output_type": "stream",
     "text": [
      "Highest price on the day after earnings release: 149.94\n",
      "Average price on the day before earnings release: 149.92\n",
      "Percentage change on earnings day: 0.01%\n",
      "Ticker: AAPL, Date and Time: February 1, 2024 5:00 PM ET\n"
     ]
    },
    {
     "name": "stderr",
     "output_type": "stream",
     "text": [
      "[*********************100%%**********************]  1 of 1 completed\n",
      "[*********************100%%**********************]  1 of 1 completed\n"
     ]
    },
    {
     "name": "stdout",
     "output_type": "stream",
     "text": [
      "Highest price on the day after earnings release: 187.33\n",
      "Average price on the day before earnings release: 189.64\n",
      "Percentage change on earnings day: -1.22%\n",
      "Ticker: AAPL, Date and Time: August 3, 2023 5:00 PM ET\n"
     ]
    },
    {
     "name": "stderr",
     "output_type": "stream",
     "text": [
      "[*********************100%%**********************]  1 of 1 completed\n",
      "[*********************100%%**********************]  1 of 1 completed"
     ]
    },
    {
     "name": "stdout",
     "output_type": "stream",
     "text": [
      "Highest price on the day after earnings release: 187.38\n",
      "Average price on the day before earnings release: 196.0\n",
      "Percentage change on earnings day: -4.4%\n",
      "Ticker: AAPL, Date and Time: October 27, 2022 5:00 PM ET\n"
     ]
    },
    {
     "name": "stderr",
     "output_type": "stream",
     "text": [
      "\n",
      "[*********************100%%**********************]  1 of 1 completed\n",
      "[*********************100%%**********************]  1 of 1 completed"
     ]
    },
    {
     "name": "stdout",
     "output_type": "stream",
     "text": [
      "Highest price on the day after earnings release: 157.5\n",
      "Average price on the day before earnings release: 150.93\n",
      "Percentage change on earnings day: 4.35%\n",
      "Ticker: AAPL, Date and Time: November 2, 2023 5:00 PM ET\n"
     ]
    },
    {
     "name": "stderr",
     "output_type": "stream",
     "text": [
      "\n",
      "[*********************100%%**********************]  1 of 1 completed\n",
      "[*********************100%%**********************]  1 of 1 completed"
     ]
    },
    {
     "name": "stdout",
     "output_type": "stream",
     "text": [
      "Highest price on the day after earnings release: 176.82\n",
      "Average price on the day before earnings release: 169.4\n",
      "Percentage change on earnings day: 4.38%\n",
      "Ticker: AAPL, Date and Time: January 27, 2015 5:00 PM ET\n"
     ]
    },
    {
     "name": "stderr",
     "output_type": "stream",
     "text": [
      "\n",
      "[*********************100%%**********************]  1 of 1 completed\n",
      "\n",
      "1 Failed download:\n",
      "['AAPL']: Exception('%ticker%: No price data found, symbol may be delisted (1d 2015-01-25 -> 2015-01-26)')\n",
      "[*********************100%%**********************]  1 of 1 completed\n",
      "\n",
      "1 Failed download:\n",
      "['AAPL']: Exception('%ticker%: No price data found, symbol may be delisted (1d 2015-01-24 -> 2015-01-25)')\n",
      "[*********************100%%**********************]  1 of 1 completed\n",
      "[*********************100%%**********************]  1 of 1 completed\n"
     ]
    },
    {
     "name": "stdout",
     "output_type": "stream",
     "text": [
      "Highest price on the day after earnings release: 29.53\n",
      "Average price on the day before earnings release: 28.16\n",
      "Percentage change on earnings day: 4.87%\n",
      "Ticker: AAPL, Date and Time: January 26, 2016 5:00 PM ET\n"
     ]
    },
    {
     "name": "stderr",
     "output_type": "stream",
     "text": [
      "[*********************100%%**********************]  1 of 1 completed\n",
      "\n",
      "1 Failed download:\n",
      "['AAPL']: Exception('%ticker%: No price data found, symbol may be delisted (1d 2016-01-24 -> 2016-01-25)')\n",
      "[*********************100%%**********************]  1 of 1 completed\n",
      "\n",
      "1 Failed download:\n",
      "['AAPL']: Exception('%ticker%: No price data found, symbol may be delisted (1d 2016-01-23 -> 2016-01-24)')\n",
      "[*********************100%%**********************]  1 of 1 completed\n",
      "[*********************100%%**********************]  1 of 1 completed\n"
     ]
    },
    {
     "name": "stdout",
     "output_type": "stream",
     "text": [
      "Highest price on the day after earnings release: 24.16\n",
      "Average price on the day before earnings release: 24.98\n",
      "Percentage change on earnings day: -3.28%\n",
      "Ticker: AAPL, Date and Time: February 1, 2018 5:00 PM ET\n"
     ]
    },
    {
     "name": "stderr",
     "output_type": "stream",
     "text": [
      "[*********************100%%**********************]  1 of 1 completed\n"
     ]
    },
    {
     "name": "stdout",
     "output_type": "stream",
     "text": [
      "Highest price on the day after earnings release: 41.7\n",
      "Average price on the day before earnings release: 41.51\n",
      "Percentage change on earnings day: 0.46%\n",
      "Ticker: AAPL, Date and Time: April 27, 2015 5:00 PM ET\n"
     ]
    },
    {
     "name": "stderr",
     "output_type": "stream",
     "text": [
      "[*********************100%%**********************]  1 of 1 completed\n",
      "[*********************100%%**********************]  1 of 1 completed\n",
      "[*********************100%%**********************]  1 of 1 completed"
     ]
    },
    {
     "name": "stdout",
     "output_type": "stream",
     "text": [
      "Highest price on the day after earnings release: 33.63\n",
      "Average price on the day before earnings release: 32.32\n",
      "Percentage change on earnings day: 4.05%\n",
      "Ticker: AAPL, Date and Time: July 22, 2014 5:00 AM ET\n"
     ]
    },
    {
     "name": "stderr",
     "output_type": "stream",
     "text": [
      "\n",
      "[*********************100%%**********************]  1 of 1 completed\n",
      "[*********************100%%**********************]  1 of 1 completed"
     ]
    },
    {
     "name": "stdout",
     "output_type": "stream",
     "text": [
      "Highest price on the day after earnings release: 23.72\n",
      "Average price on the day before earnings release: 23.48\n",
      "Percentage change on earnings day: 1.02%\n",
      "Ticker: AAPL, Date and Time: October 20, 2014 5:00 PM ET\n"
     ]
    },
    {
     "name": "stderr",
     "output_type": "stream",
     "text": [
      "\n",
      "[*********************100%%**********************]  1 of 1 completed\n"
     ]
    },
    {
     "name": "stdout",
     "output_type": "stream",
     "text": [
      "Highest price on the day after earnings release: 25.75\n",
      "Average price on the day before earnings release: 24.14\n",
      "Percentage change on earnings day: 6.67%\n",
      "Ticker: AAPL, Date and Time: October 27, 2015 5:00 PM ET\n"
     ]
    },
    {
     "name": "stderr",
     "output_type": "stream",
     "text": [
      "[*********************100%%**********************]  1 of 1 completed\n",
      "[*********************100%%**********************]  1 of 1 completed\n",
      "\n",
      "1 Failed download:\n",
      "['AAPL']: Exception('%ticker%: No price data found, symbol may be delisted (1d 2015-10-25 -> 2015-10-26)')\n",
      "[*********************100%%**********************]  1 of 1 completed\n",
      "\n",
      "1 Failed download:\n",
      "['AAPL']: Exception('%ticker%: No price data found, symbol may be delisted (1d 2015-10-24 -> 2015-10-25)')\n",
      "[*********************100%%**********************]  1 of 1 completed\n"
     ]
    },
    {
     "name": "stdout",
     "output_type": "stream",
     "text": [
      "Highest price on the day after earnings release: 29.83\n",
      "Average price on the day before earnings release: 29.45\n",
      "Percentage change on earnings day: 1.29%\n",
      "Ticker: AAPL, Date and Time: April 30, 2019 5:00 PM ET\n"
     ]
    },
    {
     "name": "stderr",
     "output_type": "stream",
     "text": [
      "[*********************100%%**********************]  1 of 1 completed\n",
      "[*********************100%%**********************]  1 of 1 completed\n",
      "\n",
      "1 Failed download:\n",
      "['AAPL']: Exception('%ticker%: No price data found, symbol may be delisted (1d 2019-04-28 -> 2019-04-29)')\n",
      "[*********************100%%**********************]  1 of 1 completed\n",
      "\n",
      "1 Failed download:\n",
      "['AAPL']: Exception('%ticker%: No price data found, symbol may be delisted (1d 2019-04-27 -> 2019-04-28)')\n",
      "[*********************100%%**********************]  1 of 1 completed\n",
      "[*********************100%%**********************]  1 of 1 completed\n"
     ]
    },
    {
     "name": "stdout",
     "output_type": "stream",
     "text": [
      "Highest price on the day after earnings release: 53.83\n",
      "Average price on the day before earnings release: 50.89\n",
      "Percentage change on earnings day: 5.78%\n",
      "Ticker: AAPL, Date and Time: July 30, 2019 5:00 PM ET\n"
     ]
    },
    {
     "name": "stderr",
     "output_type": "stream",
     "text": [
      "[*********************100%%**********************]  1 of 1 completed\n",
      "\n",
      "1 Failed download:\n",
      "['AAPL']: Exception('%ticker%: No price data found, symbol may be delisted (1d 2019-07-28 -> 2019-07-29)')\n",
      "[*********************100%%**********************]  1 of 1 completed\n",
      "\n",
      "1 Failed download:\n",
      "['AAPL']: Exception('%ticker%: No price data found, symbol may be delisted (1d 2019-07-27 -> 2019-07-28)')\n",
      "[*********************100%%**********************]  1 of 1 completed\n",
      "[*********************100%%**********************]  1 of 1 completed\n"
     ]
    },
    {
     "name": "stdout",
     "output_type": "stream",
     "text": [
      "Highest price on the day after earnings release: 55.34\n",
      "Average price on the day before earnings release: 52.11\n",
      "Percentage change on earnings day: 6.2%\n",
      "Ticker: AAPL, Date and Time: July 28, 2022 5:00 PM ET\n"
     ]
    },
    {
     "name": "stderr",
     "output_type": "stream",
     "text": [
      "[*********************100%%**********************]  1 of 1 completed\n",
      "[*********************100%%**********************]  1 of 1 completed"
     ]
    },
    {
     "name": "stdout",
     "output_type": "stream",
     "text": [
      "Highest price on the day after earnings release: 163.63\n",
      "Average price on the day before earnings release: 151.94\n",
      "Percentage change on earnings day: 7.69%\n",
      "Ticker: AAPL, Date and Time: February 2, 2023 5:00 PM ET\n"
     ]
    },
    {
     "name": "stderr",
     "output_type": "stream",
     "text": [
      "\n",
      "[*********************100%%**********************]  1 of 1 completed\n",
      "[*********************100%%**********************]  1 of 1 completed"
     ]
    },
    {
     "name": "stdout",
     "output_type": "stream",
     "text": [
      "Highest price on the day after earnings release: 157.38\n",
      "Average price on the day before earnings release: 143.31\n",
      "Percentage change on earnings day: 9.82%\n",
      "Ticker: AMAT, Date and Time: February 18, 2016 4:30 PM ET\n"
     ]
    },
    {
     "name": "stderr",
     "output_type": "stream",
     "text": [
      "\n",
      "[*********************100%%**********************]  1 of 1 completed\n",
      "[*********************100%%**********************]  1 of 1 completed"
     ]
    },
    {
     "name": "stdout",
     "output_type": "stream",
     "text": [
      "Highest price on the day after earnings release: 18.85\n",
      "Average price on the day before earnings release: 16.57\n",
      "Percentage change on earnings day: 13.76%\n",
      "Ticker: AMAT, Date and Time: May 14, 2015 4:30 PM ET\n"
     ]
    },
    {
     "name": "stderr",
     "output_type": "stream",
     "text": [
      "\n",
      "[*********************100%%**********************]  1 of 1 completed\n",
      "[*********************100%%**********************]  1 of 1 completed"
     ]
    },
    {
     "name": "stdout",
     "output_type": "stream",
     "text": [
      "Highest price on the day after earnings release: 20.59\n",
      "Average price on the day before earnings release: 19.89\n",
      "Percentage change on earnings day: 3.52%\n",
      "Ticker: AMAT, Date and Time: August 13, 2015 4:30 PM ET\n"
     ]
    },
    {
     "name": "stderr",
     "output_type": "stream",
     "text": [
      "\n",
      "[*********************100%%**********************]  1 of 1 completed\n",
      "[*********************100%%**********************]  1 of 1 completed"
     ]
    },
    {
     "name": "stdout",
     "output_type": "stream",
     "text": [
      "Highest price on the day after earnings release: 16.78\n",
      "Average price on the day before earnings release: 17.3\n",
      "Percentage change on earnings day: -3.01%\n",
      "Ticker: AMAT, Date and Time: November 12, 2015 4:30 PM ET\n"
     ]
    },
    {
     "name": "stderr",
     "output_type": "stream",
     "text": [
      "\n",
      "[*********************100%%**********************]  1 of 1 completed\n",
      "[*********************100%%**********************]  1 of 1 completed\n"
     ]
    },
    {
     "name": "stdout",
     "output_type": "stream",
     "text": [
      "Highest price on the day after earnings release: 17.5\n",
      "Average price on the day before earnings release: 16.72\n",
      "Percentage change on earnings day: 4.67%\n",
      "Ticker: AMAT, Date and Time: February 11, 2015 4:30 PM ET\n"
     ]
    },
    {
     "name": "stderr",
     "output_type": "stream",
     "text": [
      "[*********************100%%**********************]  1 of 1 completed\n",
      "[*********************100%%**********************]  1 of 1 completed\n"
     ]
    },
    {
     "name": "stdout",
     "output_type": "stream",
     "text": [
      "Highest price on the day after earnings release: 24.31\n",
      "Average price on the day before earnings release: 23.76\n",
      "Percentage change on earnings day: 2.31%\n",
      "Ticker: AMAT, Date and Time: February 15, 2017 4:30 PM ET\n"
     ]
    },
    {
     "name": "stderr",
     "output_type": "stream",
     "text": [
      "[*********************100%%**********************]  1 of 1 completed\n",
      "[*********************100%%**********************]  1 of 1 completed"
     ]
    },
    {
     "name": "stdout",
     "output_type": "stream",
     "text": [
      "Highest price on the day after earnings release: 35.65\n",
      "Average price on the day before earnings release: 35.6\n",
      "Percentage change on earnings day: 0.14%\n",
      "Ticker: AMAT, Date and Time: February 14, 2018 4:30 PM ET\n"
     ]
    },
    {
     "name": "stderr",
     "output_type": "stream",
     "text": [
      "\n",
      "[*********************100%%**********************]  1 of 1 completed\n",
      "[*********************100%%**********************]  1 of 1 completed"
     ]
    },
    {
     "name": "stdout",
     "output_type": "stream",
     "text": [
      "Highest price on the day after earnings release: 54.0\n",
      "Average price on the day before earnings release: 49.15\n",
      "Percentage change on earnings day: 9.87%\n",
      "Ticker: AMAT, Date and Time: August 13, 2020 4:30 PM ET\n"
     ]
    },
    {
     "name": "stderr",
     "output_type": "stream",
     "text": [
      "\n",
      "[*********************100%%**********************]  1 of 1 completed\n",
      "[*********************100%%**********************]  1 of 1 completed"
     ]
    },
    {
     "name": "stdout",
     "output_type": "stream",
     "text": [
      "Highest price on the day after earnings release: 69.9\n",
      "Average price on the day before earnings release: 65.18\n",
      "Percentage change on earnings day: 7.24%\n",
      "Ticker: AMAT, Date and Time: November 13, 2014 4:30 PM ET\n"
     ]
    },
    {
     "name": "stderr",
     "output_type": "stream",
     "text": [
      "\n",
      "[*********************100%%**********************]  1 of 1 completed\n"
     ]
    },
    {
     "name": "stdout",
     "output_type": "stream",
     "text": [
      "Highest price on the day after earnings release: 22.98\n",
      "Average price on the day before earnings release: 22.6\n",
      "Percentage change on earnings day: 1.68%\n",
      "Ticker: AMAT, Date and Time: November 16, 2017 4:30 PM ET\n"
     ]
    },
    {
     "name": "stderr",
     "output_type": "stream",
     "text": [
      "[*********************100%%**********************]  1 of 1 completed\n",
      "[*********************100%%**********************]  1 of 1 completed\n",
      "[*********************100%%**********************]  1 of 1 completed"
     ]
    },
    {
     "name": "stdout",
     "output_type": "stream",
     "text": [
      "Highest price on the day after earnings release: 60.89\n",
      "Average price on the day before earnings release: 56.35\n",
      "Percentage change on earnings day: 8.06%\n",
      "Ticker: AMAT, Date and Time: November 14, 2019 4:30 PM ET\n"
     ]
    },
    {
     "name": "stderr",
     "output_type": "stream",
     "text": [
      "\n",
      "[*********************100%%**********************]  1 of 1 completed\n",
      "[*********************100%%**********************]  1 of 1 completed"
     ]
    },
    {
     "name": "stdout",
     "output_type": "stream",
     "text": [
      "Highest price on the day after earnings release: 62.92\n",
      "Average price on the day before earnings release: 56.73\n",
      "Percentage change on earnings day: 10.91%\n",
      "Ticker: AMAT, Date and Time: May 15, 2014 4:30 PM ET\n"
     ]
    },
    {
     "name": "stderr",
     "output_type": "stream",
     "text": [
      "\n",
      "[*********************100%%**********************]  1 of 1 completed\n",
      "[*********************100%%**********************]  1 of 1 completed"
     ]
    },
    {
     "name": "stdout",
     "output_type": "stream",
     "text": [
      "Highest price on the day after earnings release: 20.29\n",
      "Average price on the day before earnings release: 19.18\n",
      "Percentage change on earnings day: 5.79%\n",
      "Ticker: AMAT, Date and Time: May 19, 2016 4:30 PM ET\n"
     ]
    },
    {
     "name": "stderr",
     "output_type": "stream",
     "text": [
      "\n",
      "[*********************100%%**********************]  1 of 1 completed\n",
      "[*********************100%%**********************]  1 of 1 completed"
     ]
    },
    {
     "name": "stdout",
     "output_type": "stream",
     "text": [
      "Highest price on the day after earnings release: 22.78\n",
      "Average price on the day before earnings release: 19.78\n",
      "Percentage change on earnings day: 15.17%\n",
      "Ticker: AMAT, Date and Time: May 18, 2017 4:30 PM ET\n"
     ]
    },
    {
     "name": "stderr",
     "output_type": "stream",
     "text": [
      "\n",
      "[*********************100%%**********************]  1 of 1 completed\n",
      "[*********************100%%**********************]  1 of 1 completed\n"
     ]
    },
    {
     "name": "stdout",
     "output_type": "stream",
     "text": [
      "Highest price on the day after earnings release: 45.74\n",
      "Average price on the day before earnings release: 44.7\n",
      "Percentage change on earnings day: 2.33%\n",
      "Ticker: AMAT, Date and Time: May 17, 2018 4:30 PM ET\n"
     ]
    },
    {
     "name": "stderr",
     "output_type": "stream",
     "text": [
      "[*********************100%%**********************]  1 of 1 completed\n",
      "[*********************100%%**********************]  1 of 1 completed\n"
     ]
    },
    {
     "name": "stdout",
     "output_type": "stream",
     "text": [
      "Highest price on the day after earnings release: 50.46\n",
      "Average price on the day before earnings release: 54.17\n",
      "Percentage change on earnings day: -6.85%\n",
      "Ticker: AMAT, Date and Time: May 16, 2019 4:30 PM ET\n"
     ]
    },
    {
     "name": "stderr",
     "output_type": "stream",
     "text": [
      "[*********************100%%**********************]  1 of 1 completed\n",
      "[*********************100%%**********************]  1 of 1 completed"
     ]
    },
    {
     "name": "stdout",
     "output_type": "stream",
     "text": [
      "Highest price on the day after earnings release: 44.36\n",
      "Average price on the day before earnings release: 39.9\n",
      "Percentage change on earnings day: 11.18%\n",
      "Ticker: AMAT, Date and Time: May 14, 2020 4:30 PM ET\n"
     ]
    },
    {
     "name": "stderr",
     "output_type": "stream",
     "text": [
      "\n",
      "[*********************100%%**********************]  1 of 1 completed\n",
      "[*********************100%%**********************]  1 of 1 completed"
     ]
    },
    {
     "name": "stdout",
     "output_type": "stream",
     "text": [
      "Highest price on the day after earnings release: 53.47\n",
      "Average price on the day before earnings release: 53.45\n",
      "Percentage change on earnings day: 0.04%\n",
      "Ticker: AMAT, Date and Time: August 14, 2014 4:30 PM ET\n"
     ]
    },
    {
     "name": "stderr",
     "output_type": "stream",
     "text": [
      "\n",
      "[*********************100%%**********************]  1 of 1 completed\n",
      "[*********************100%%**********************]  1 of 1 completed\n"
     ]
    },
    {
     "name": "stdout",
     "output_type": "stream",
     "text": [
      "Highest price on the day after earnings release: 22.59\n",
      "Average price on the day before earnings release: 20.92\n",
      "Percentage change on earnings day: 7.98%\n",
      "Ticker: AMAT, Date and Time: August 18, 2016 4:30 PM ET\n"
     ]
    },
    {
     "name": "stderr",
     "output_type": "stream",
     "text": [
      "[*********************100%%**********************]  1 of 1 completed\n",
      "[*********************100%%**********************]  1 of 1 completed"
     ]
    },
    {
     "name": "stdout",
     "output_type": "stream",
     "text": [
      "Highest price on the day after earnings release: 29.74\n",
      "Average price on the day before earnings release: 27.36\n",
      "Percentage change on earnings day: 8.7%\n",
      "Ticker: AMAT, Date and Time: August 17, 2017 4:30 PM ET\n"
     ]
    },
    {
     "name": "stderr",
     "output_type": "stream",
     "text": [
      "\n",
      "[*********************100%%**********************]  1 of 1 completed\n",
      "[*********************100%%**********************]  1 of 1 completed\n"
     ]
    },
    {
     "name": "stdout",
     "output_type": "stream",
     "text": [
      "Highest price on the day after earnings release: 45.25\n",
      "Average price on the day before earnings release: 43.97\n",
      "Percentage change on earnings day: 2.91%\n",
      "Ticker: AMAT, Date and Time: November 17, 2016 4:30 PM ET\n"
     ]
    },
    {
     "name": "stderr",
     "output_type": "stream",
     "text": [
      "[*********************100%%**********************]  1 of 1 completed\n",
      "[*********************100%%**********************]  1 of 1 completed\n"
     ]
    },
    {
     "name": "stdout",
     "output_type": "stream",
     "text": [
      "Highest price on the day after earnings release: 31.25\n",
      "Average price on the day before earnings release: 29.37\n",
      "Percentage change on earnings day: 6.4%\n",
      "Ticker: AMAT, Date and Time: November 12, 2020 4:30 PM ET\n"
     ]
    },
    {
     "name": "stderr",
     "output_type": "stream",
     "text": [
      "[*********************100%%**********************]  1 of 1 completed\n",
      "[*********************100%%**********************]  1 of 1 completed"
     ]
    },
    {
     "name": "stdout",
     "output_type": "stream",
     "text": [
      "Highest price on the day after earnings release: 73.94\n",
      "Average price on the day before earnings release: 70.29\n",
      "Percentage change on earnings day: 5.19%\n",
      "Ticker: AMAT, Date and Time: February 14, 2019 4:30 PM ET\n"
     ]
    },
    {
     "name": "stderr",
     "output_type": "stream",
     "text": [
      "\n",
      "[*********************100%%**********************]  1 of 1 completed\n",
      "[*********************100%%**********************]  1 of 1 completed"
     ]
    },
    {
     "name": "stdout",
     "output_type": "stream",
     "text": [
      "Highest price on the day after earnings release: 40.2\n",
      "Average price on the day before earnings release: 40.58\n",
      "Percentage change on earnings day: -0.94%\n",
      "Ticker: AMAT, Date and Time: February 12, 2020 4:30 PM ET\n"
     ]
    },
    {
     "name": "stderr",
     "output_type": "stream",
     "text": [
      "\n",
      "[*********************100%%**********************]  1 of 1 completed\n",
      "[*********************100%%**********************]  1 of 1 completed\n"
     ]
    },
    {
     "name": "stdout",
     "output_type": "stream",
     "text": [
      "Highest price on the day after earnings release: 69.44\n",
      "Average price on the day before earnings release: 62.02\n",
      "Percentage change on earnings day: 11.96%\n",
      "Ticker: AMAT, Date and Time: May 19, 2022 4:30 PM ET\n"
     ]
    },
    {
     "name": "stderr",
     "output_type": "stream",
     "text": [
      "[*********************100%%**********************]  1 of 1 completed\n"
     ]
    },
    {
     "name": "stdout",
     "output_type": "stream",
     "text": [
      "Highest price on the day after earnings release: 112.74\n",
      "Average price on the day before earnings release: 115.33\n",
      "Percentage change on earnings day: -2.25%\n",
      "Ticker: AMAT, Date and Time: August 16, 2018 4:30 PM ET\n"
     ]
    },
    {
     "name": "stderr",
     "output_type": "stream",
     "text": [
      "[*********************100%%**********************]  1 of 1 completed\n",
      "[*********************100%%**********************]  1 of 1 completed\n",
      "[*********************100%%**********************]  1 of 1 completed\n"
     ]
    },
    {
     "name": "stdout",
     "output_type": "stream",
     "text": [
      "Highest price on the day after earnings release: 44.82\n",
      "Average price on the day before earnings release: 48.56\n",
      "Percentage change on earnings day: -7.7%\n",
      "Ticker: AMAT, Date and Time: August 15, 2019 4:30 PM ET\n"
     ]
    },
    {
     "name": "stderr",
     "output_type": "stream",
     "text": [
      "[*********************100%%**********************]  1 of 1 completed\n",
      "[*********************100%%**********************]  1 of 1 completed\n"
     ]
    },
    {
     "name": "stdout",
     "output_type": "stream",
     "text": [
      "Highest price on the day after earnings release: 46.99\n",
      "Average price on the day before earnings release: 47.16\n",
      "Percentage change on earnings day: -0.36%\n",
      "Ticker: AMAT, Date and Time: August 19, 2021 4:30 PM ET\n"
     ]
    },
    {
     "name": "stderr",
     "output_type": "stream",
     "text": [
      "[*********************100%%**********************]  1 of 1 completed\n",
      "[*********************100%%**********************]  1 of 1 completed\n"
     ]
    },
    {
     "name": "stdout",
     "output_type": "stream",
     "text": [
      "Highest price on the day after earnings release: 131.99\n",
      "Average price on the day before earnings release: 128.77\n",
      "Percentage change on earnings day: 2.5%\n",
      "Ticker: AMAT, Date and Time: November 15, 2018 4:30 PM ET\n"
     ]
    },
    {
     "name": "stderr",
     "output_type": "stream",
     "text": [
      "[*********************100%%**********************]  1 of 1 completed\n",
      "[*********************100%%**********************]  1 of 1 completed"
     ]
    },
    {
     "name": "stdout",
     "output_type": "stream",
     "text": [
      "Highest price on the day after earnings release: 35.82\n",
      "Average price on the day before earnings release: 33.38\n",
      "Percentage change on earnings day: 7.31%\n",
      "Ticker: AMAT, Date and Time: January 1, 0000 5:31 PM ET\n",
      "Highest price on the day after earnings release: Data not available due to incorrect date/time format\n",
      "Average price on the day before earnings release: Data not available due to incorrect date/time format\n",
      "Ticker: AMAT, Date and Time: February 16, 2023 4:30 PM ET\n"
     ]
    },
    {
     "name": "stderr",
     "output_type": "stream",
     "text": [
      "\n",
      "[*********************100%%**********************]  1 of 1 completed\n",
      "[*********************100%%**********************]  1 of 1 completed"
     ]
    },
    {
     "name": "stdout",
     "output_type": "stream",
     "text": [
      "Highest price on the day after earnings release: 117.4\n",
      "Average price on the day before earnings release: 116.43\n",
      "Percentage change on earnings day: 0.83%\n",
      "Ticker: AMAT, Date and Time: February 15, 2024 4:30 PM ET\n"
     ]
    },
    {
     "name": "stderr",
     "output_type": "stream",
     "text": [
      "\n",
      "[*********************100%%**********************]  1 of 1 completed\n",
      "[*********************100%%**********************]  1 of 1 completed\n"
     ]
    },
    {
     "name": "stdout",
     "output_type": "stream",
     "text": [
      "Highest price on the day after earnings release: 206.77\n",
      "Average price on the day before earnings release: 179.57\n",
      "Percentage change on earnings day: 15.15%\n",
      "Ticker: AMAT, Date and Time: May 18, 2023 4:30 PM ET\n"
     ]
    },
    {
     "name": "stderr",
     "output_type": "stream",
     "text": [
      "[*********************100%%**********************]  1 of 1 completed\n",
      "[*********************100%%**********************]  1 of 1 completed"
     ]
    },
    {
     "name": "stdout",
     "output_type": "stream",
     "text": [
      "Highest price on the day after earnings release: 128.32\n",
      "Average price on the day before earnings release: 121.76\n",
      "Percentage change on earnings day: 5.39%\n",
      "Ticker: AMAT, Date and Time: August 17, 2023 4:30 PM ET\n"
     ]
    },
    {
     "name": "stderr",
     "output_type": "stream",
     "text": [
      "\n",
      "[*********************100%%**********************]  1 of 1 completed\n",
      "[*********************100%%**********************]  1 of 1 completed"
     ]
    },
    {
     "name": "stdout",
     "output_type": "stream",
     "text": [
      "Highest price on the day after earnings release: 143.65\n",
      "Average price on the day before earnings release: 140.8\n",
      "Percentage change on earnings day: 2.02%\n",
      "Ticker: AMAT, Date and Time: November 17, 2022 4:30 PM ET\n"
     ]
    },
    {
     "name": "stderr",
     "output_type": "stream",
     "text": [
      "\n",
      "[*********************100%%**********************]  1 of 1 completed\n",
      "[*********************100%%**********************]  1 of 1 completed"
     ]
    },
    {
     "name": "stdout",
     "output_type": "stream",
     "text": [
      "Highest price on the day after earnings release: 110.0\n",
      "Average price on the day before earnings release: 110.44\n",
      "Percentage change on earnings day: -0.4%\n",
      "Ticker: AMAT, Date and Time: November 16, 2023 4:30 PM ET\n"
     ]
    },
    {
     "name": "stderr",
     "output_type": "stream",
     "text": [
      "\n",
      "[*********************100%%**********************]  1 of 1 completed\n",
      "[*********************100%%**********************]  1 of 1 completed"
     ]
    },
    {
     "name": "stdout",
     "output_type": "stream",
     "text": [
      "Highest price on the day after earnings release: 149.05\n",
      "Average price on the day before earnings release: 153.53\n",
      "Percentage change on earnings day: -2.92%\n",
      "Ticker: AMAT, Date and Time: February 18, 2021 4:30 PM ET\n"
     ]
    },
    {
     "name": "stderr",
     "output_type": "stream",
     "text": [
      "\n",
      "[*********************100%%**********************]  1 of 1 completed\n",
      "[*********************100%%**********************]  1 of 1 completed"
     ]
    },
    {
     "name": "stdout",
     "output_type": "stream",
     "text": [
      "Highest price on the day after earnings release: 124.5\n",
      "Average price on the day before earnings release: 119.41\n",
      "Percentage change on earnings day: 4.26%\n",
      "Ticker: AMAT, Date and Time: February 16, 2022 4:30 PM ET\n"
     ]
    },
    {
     "name": "stderr",
     "output_type": "stream",
     "text": [
      "\n",
      "[*********************100%%**********************]  1 of 1 completed\n",
      "[*********************100%%**********************]  1 of 1 completed"
     ]
    },
    {
     "name": "stdout",
     "output_type": "stream",
     "text": [
      "Highest price on the day after earnings release: 143.79\n",
      "Average price on the day before earnings release: 132.04\n",
      "Percentage change on earnings day: 8.9%\n",
      "Ticker: AMAT, Date and Time: May 20, 2021 4:30 PM ET\n"
     ]
    },
    {
     "name": "stderr",
     "output_type": "stream",
     "text": [
      "\n",
      "[*********************100%%**********************]  1 of 1 completed\n",
      "[*********************100%%**********************]  1 of 1 completed"
     ]
    },
    {
     "name": "stdout",
     "output_type": "stream",
     "text": [
      "Highest price on the day after earnings release: 130.69\n",
      "Average price on the day before earnings release: 123.54\n",
      "Percentage change on earnings day: 5.79%\n",
      "Ticker: AMAT, Date and Time: August 18, 2022 4:30 PM ET\n"
     ]
    },
    {
     "name": "stderr",
     "output_type": "stream",
     "text": [
      "\n",
      "[*********************100%%**********************]  1 of 1 completed\n"
     ]
    },
    {
     "name": "stdout",
     "output_type": "stream",
     "text": [
      "Highest price on the day after earnings release: 107.3\n",
      "Average price on the day before earnings release: 108.3\n",
      "Percentage change on earnings day: -0.92%\n",
      "Ticker: Ticker Symbol Not Found, Date and Time: January 31, 2017 7:30 AM ET\n",
      "Highest price on the day after earnings release: Data not available due to missing information\n",
      "Average price on the day before earnings release: Data not available due to missing information\n",
      "Ticker: Ticker Symbol Not Found, Date and Time: July 23, 2015 8:00 AM ET\n",
      "Highest price on the day after earnings release: Data not available due to missing information\n",
      "Average price on the day before earnings release: Data not available due to missing information\n",
      "Ticker: Ticker Symbol Not Found, Date and Time: April 21, 2016 8:00 AM ET\n",
      "Highest price on the day after earnings release: Data not available due to missing information\n",
      "Average price on the day before earnings release: Data not available due to missing information\n",
      "Ticker: Ticker Symbol Not Found, Date and Time: July 25, 2016 8:00 AM ET\n",
      "Highest price on the day after earnings release: Data not available due to missing information\n",
      "Average price on the day before earnings release: Data not available due to missing information\n",
      "Ticker: Ticker Symbol Not Found, Date and Time: October 22, 2015 8:00 AM ET\n",
      "Highest price on the day after earnings release: Data not available due to missing information\n",
      "Average price on the day before earnings release: Data not available due to missing information\n",
      "Ticker: Ticker Symbol Not Found, Date and Time: January 26, 2016 8:00 AM ET\n",
      "Highest price on the day after earnings release: Data not available due to missing information\n",
      "Average price on the day before earnings release: Data not available due to missing information\n",
      "Ticker: Ticker Symbol Not Found, Date and Time: July 18, 2013 8:00 AM ET\n",
      "Highest price on the day after earnings release: Data not available due to missing information\n",
      "Average price on the day before earnings release: Data not available due to missing information\n",
      "Ticker: Ticker Symbol Not Found, Date and Time: April 22, 2021 8:00 AM ET\n",
      "Highest price on the day after earnings release: Data not available due to missing information\n",
      "Average price on the day before earnings release: Data not available due to missing information\n",
      "Ticker: Ticker Symbol Not Found, Date and Time: April 21, 2022 8:00 AM ET\n",
      "Highest price on the day after earnings release: Data not available due to missing information\n",
      "Average price on the day before earnings release: Data not available due to missing information\n",
      "Ticker: Ticker Symbol Not Found, Date and Time: July 22, 2021 8:00 AM ET\n",
      "Highest price on the day after earnings release: Data not available due to missing information\n",
      "Average price on the day before earnings release: Data not available due to missing information\n",
      "Ticker: Ticker Symbol Not Found, Date and Time: October 22, 2020 8:00 AM ET\n",
      "Highest price on the day after earnings release: Data not available due to missing information\n",
      "Average price on the day before earnings release: Data not available due to missing information\n",
      "Ticker: Ticker Symbol Not Found, Date and Time: October 21, 2021 8:00 AM ET\n",
      "Highest price on the day after earnings release: Data not available due to missing information\n",
      "Average price on the day before earnings release: Data not available due to missing information\n",
      "Ticker: Ticker Symbol Not Found, Date and Time: January 28, 2021 8:00 AM ET\n",
      "Highest price on the day after earnings release: Data not available due to missing information\n",
      "Average price on the day before earnings release: Data not available due to missing information\n",
      "Ticker: Ticker Symbol Not Found, Date and Time: January 27, 2022 8:00 AM ET\n",
      "Highest price on the day after earnings release: Data not available due to missing information\n",
      "Average price on the day before earnings release: Data not available due to missing information\n",
      "Ticker: Ticker Symbol Not Found, Date and Time: October 24, 2019 8:00 AM ET\n",
      "Highest price on the day after earnings release: Data not available due to missing information\n",
      "Average price on the day before earnings release: Data not available due to missing information\n",
      "Ticker: Ticker Symbol Not Found, Date and Time: July 18, 2019 8:00 AM ET\n",
      "Highest price on the day after earnings release: Data not available due to missing information\n",
      "Average price on the day before earnings release: Data not available due to missing information\n",
      "Ticker: Ticker Symbol Not Found, Date and Time: April 18, 2019 8:00 AM ET\n",
      "Highest price on the day after earnings release: Data not available due to missing information\n",
      "Average price on the day before earnings release: Data not available due to missing information\n",
      "Ticker: Ticker Symbol Not Found, Date and Time: May 7, 2020 8:00 AM ET\n",
      "Highest price on the day after earnings release: Data not available due to missing information\n",
      "Average price on the day before earnings release: Data not available due to missing information\n",
      "Ticker: Ticker Symbol Not Found, Date and Time: July 19, 2018 8:00 AM ET\n",
      "Highest price on the day after earnings release: Data not available due to missing information\n",
      "Average price on the day before earnings release: Data not available due to missing information\n",
      "Ticker: Ticker Symbol Not Found, Date and Time: July 23, 2020 8:00 AM ET\n",
      "Highest price on the day after earnings release: Data not available due to missing information\n",
      "Average price on the day before earnings release: Data not available due to missing information\n",
      "Ticker: Ticker Symbol Not Found, Date and Time: January 30, 2020 7:30 AM ET\n",
      "Highest price on the day after earnings release: Data not available due to missing information\n",
      "Average price on the day before earnings release: Data not available due to missing information\n",
      "Ticker: Ticker Symbol Not Found, Date and Time: April 25, 2023 8:00 AM ET\n",
      "Highest price on the day after earnings release: Data not available due to missing information\n",
      "Average price on the day before earnings release: Data not available due to missing information\n",
      "Ticker: Ticker Symbol Not Found, Date and Time: July 25, 2023 8:00 AM ET\n",
      "Highest price on the day after earnings release: Data not available due to missing information\n",
      "Average price on the day before earnings release: Data not available due to missing information\n",
      "Ticker: Ticker Symbol Not Found, Date and Time: October 20, 2022 8:00 AM ET\n",
      "Highest price on the day after earnings release: Data not available due to missing information\n",
      "Average price on the day before earnings release: Data not available due to missing information\n",
      "Ticker: Ticker Symbol Not Found, Date and Time: October 24, 2023 8:00 AM ET\n",
      "Highest price on the day after earnings release: Data not available due to missing information\n",
      "Average price on the day before earnings release: Data not available due to missing information\n",
      "Ticker: Ticker Symbol Not Found, Date and Time: January 24, 2023 8:00 AM ET\n",
      "Highest price on the day after earnings release: Data not available due to missing information\n",
      "Average price on the day before earnings release: Data not available due to missing information\n",
      "Ticker: Ticker Symbol Not Found, Date and Time: January 30, 2024 8:00 AM ET\n",
      "Highest price on the day after earnings release: Data not available due to missing information\n",
      "Average price on the day before earnings release: Data not available due to missing information\n",
      "Ticker: Ticker Symbol Not Found, Date and Time: July 21, 2022 8:00 AM ET\n",
      "Highest price on the day after earnings release: Data not available due to missing information\n",
      "Average price on the day before earnings release: Data not available due to missing information\n",
      "Ticker: Ticker Symbol Not Found, Date and Time: October 19, 2017 8:00 AM ET\n",
      "Highest price on the day after earnings release: Data not available due to missing information\n",
      "Average price on the day before earnings release: Data not available due to missing information\n",
      "Ticker: Ticker Symbol Not Found, Date and Time: July 20, 2017 8:00 AM ET\n",
      "Highest price on the day after earnings release: Data not available due to missing information\n",
      "Average price on the day before earnings release: Data not available due to missing information\n",
      "Ticker: Ticker Symbol Not Found, Date and Time: January 29, 2019 8:00 AM ET\n",
      "Highest price on the day after earnings release: Data not available due to missing information\n",
      "Average price on the day before earnings release: Data not available due to missing information\n",
      "Ticker: Ticker Symbol Not Found, Date and Time: July 17, 2014 8:00 AM ET\n",
      "Highest price on the day after earnings release: Data not available due to missing information\n",
      "Average price on the day before earnings release: Data not available due to missing information\n",
      "Ticker: Ticker Symbol Not Found, Date and Time: April 23, 2015 8:00 AM ET\n",
      "Highest price on the day after earnings release: Data not available due to missing information\n",
      "Average price on the day before earnings release: Data not available due to missing information\n",
      "Ticker: Ticker Symbol Not Found, Date and Time: April 20, 2017 8:00 AM ET\n",
      "Highest price on the day after earnings release: Data not available due to missing information\n",
      "Average price on the day before earnings release: Data not available due to missing information\n",
      "Ticker: Ticker Symbol Not Found, Date and Time: April 19, 2018 8:00 AM ET\n",
      "Highest price on the day after earnings release: Data not available due to missing information\n",
      "Average price on the day before earnings release: Data not available due to missing information\n",
      "Ticker: Ticker Symbol Not Found, Date and Time: October 16, 2014 8:00 AM ET\n",
      "Highest price on the day after earnings release: Data not available due to missing information\n",
      "Average price on the day before earnings release: Data not available due to missing information\n",
      "Ticker: Ticker Symbol Not Found, Date and Time: October 20, 2016 8:00 AM ET\n",
      "Highest price on the day after earnings release: Data not available due to missing information\n",
      "Average price on the day before earnings release: Data not available due to missing information\n",
      "Ticker: Ticker Symbol Not Found, Date and Time: January 27, 2015 8:00 AM ET\n",
      "Highest price on the day after earnings release: Data not available due to missing information\n",
      "Average price on the day before earnings release: Data not available due to missing information\n",
      "Ticker: Ticker Symbol Not Found, Date and Time: January 30, 2018 8:00 AM ET\n",
      "Highest price on the day after earnings release: Data not available due to missing information\n",
      "Average price on the day before earnings release: Data not available due to missing information\n",
      "Ticker: Ticker Symbol Not Found, Date and Time: April 22, 2015 5:00 PM ET\n",
      "Highest price on the day after earnings release: Data not available due to missing information\n",
      "Average price on the day before earnings release: Data not available due to missing information\n",
      "Ticker: Ticker Symbol Not Found, Date and Time: April 27, 2016 5:00 PM ET\n",
      "Highest price on the day after earnings release: Data not available due to missing information\n",
      "Average price on the day before earnings release: Data not available due to missing information\n",
      "Ticker: Ticker Symbol Not Found, Date and Time: July 29, 2015 5:00 PM ET\n",
      "Highest price on the day after earnings release: Data not available due to missing information\n",
      "Average price on the day before earnings release: Data not available due to missing information\n",
      "Ticker: Ticker Symbol Not Found, Date and Time: July 27, 2016 5:00 PM ET\n",
      "Highest price on the day after earnings release: Data not available due to missing information\n",
      "Average price on the day before earnings release: Data not available due to missing information\n",
      "Ticker: Ticker Symbol Not Found, Date and Time: November 4, 2015 5:00 PM ET\n",
      "Highest price on the day after earnings release: Data not available due to missing information\n",
      "Average price on the day before earnings release: Data not available due to missing information\n",
      "Ticker: Ticker Symbol Not Found, Date and Time: May 3, 2017 5:00 PM ET\n",
      "Highest price on the day after earnings release: Data not available due to missing information\n",
      "Average price on the day before earnings release: Data not available due to missing information\n",
      "Ticker: Ticker Symbol Not Found, Date and Time: April 25, 2018 5:00 PM ET\n",
      "Highest price on the day after earnings release: Data not available due to missing information\n",
      "Average price on the day before earnings release: Data not available due to missing information\n",
      "Ticker: Ticker Symbol Not Found, Date and Time: July 26, 2017 5:00 PM ET\n",
      "Highest price on the day after earnings release: Data not available due to missing information\n",
      "Average price on the day before earnings release: Data not available due to missing information\n",
      "Ticker: Ticker Symbol Not Found, Date and Time: July 25, 2018 5:00 PM ET\n",
      "Highest price on the day after earnings release: Data not available due to missing information\n",
      "Average price on the day before earnings release: Data not available due to missing information\n",
      "Ticker: Ticker Symbol Not Found, Date and Time: November 2, 2016 5:00 PM ET\n",
      "Highest price on the day after earnings release: Data not available due to missing information\n",
      "Average price on the day before earnings release: Data not available due to missing information\n",
      "Ticker: Ticker Symbol Not Found, Date and Time: November 1, 2017 5:00 PM ET\n",
      "Highest price on the day after earnings release: Data not available due to missing information\n",
      "Average price on the day before earnings release: Data not available due to missing information\n",
      "Ticker: Ticker Symbol Not Found, Date and Time: October 30, 2018 5:00 PM ET\n",
      "Highest price on the day after earnings release: Data not available due to missing information\n",
      "Average price on the day before earnings release: Data not available due to missing information\n",
      "Ticker: Ticker Symbol Not Found, Date and Time: February 1, 2017 5:00 PM ET\n",
      "Highest price on the day after earnings release: Data not available due to missing information\n",
      "Average price on the day before earnings release: Data not available due to missing information\n",
      "Ticker: Ticker Symbol Not Found, Date and Time: April 24, 2019 5:00 PM ET\n",
      "Highest price on the day after earnings release: Data not available due to missing information\n",
      "Average price on the day before earnings release: Data not available due to missing information\n",
      "Ticker: Ticker Symbol Not Found, Date and Time: July 24, 2019 5:00 PM ET\n",
      "Highest price on the day after earnings release: Data not available due to missing information\n",
      "Average price on the day before earnings release: Data not available due to missing information\n",
      "Ticker: Ticker Symbol Not Found, Date and Time: October 29, 2020 6:00 PM ET\n",
      "Highest price on the day after earnings release: Data not available due to missing information\n",
      "Average price on the day before earnings release: Data not available due to missing information\n",
      "Ticker: Ticker Symbol Not Found, Date and Time: January 28, 2015 5:00 PM ET\n",
      "Highest price on the day after earnings release: Data not available due to missing information\n",
      "Average price on the day before earnings release: Data not available due to missing information\n",
      "Ticker: Ticker Symbol Not Found, Date and Time: January 27, 2016 5:00 PM ET\n",
      "Highest price on the day after earnings release: Data not available due to missing information\n",
      "Average price on the day before earnings release: Data not available due to missing information\n",
      "Ticker: Ticker Symbol Not Found, Date and Time: January 31, 2018 5:00 PM ET\n",
      "Highest price on the day after earnings release: Data not available due to missing information\n",
      "Average price on the day before earnings release: Data not available due to missing information\n",
      "Ticker: Ticker Symbol Not Found, Date and Time: April 29, 2020 5:00 PM ET\n",
      "Highest price on the day after earnings release: Data not available due to missing information\n",
      "Average price on the day before earnings release: Data not available due to missing information\n",
      "Ticker: Ticker Symbol Not Found, Date and Time: April 28, 2021 5:00 PM ET\n",
      "Highest price on the day after earnings release: Data not available due to missing information\n",
      "Average price on the day before earnings release: Data not available due to missing information\n",
      "Ticker: Ticker Symbol Not Found, Date and Time: July 30, 2020 6:00 PM ET\n",
      "Highest price on the day after earnings release: Data not available due to missing information\n",
      "Average price on the day before earnings release: Data not available due to missing information\n",
      "Ticker: Ticker Symbol Not Found, Date and Time: July 28, 2021 5:00 PM ET\n",
      "Highest price on the day after earnings release: Data not available due to missing information\n",
      "Average price on the day before earnings release: Data not available due to missing information\n",
      "Ticker: Ticker Symbol Not Found, Date and Time: October 30, 2019 5:00 PM ET\n",
      "Highest price on the day after earnings release: Data not available due to missing information\n",
      "Average price on the day before earnings release: Data not available due to missing information\n",
      "Ticker: Ticker Symbol Not Found, Date and Time: October 25, 2021 5:00 PM ET\n",
      "Highest price on the day after earnings release: Data not available due to missing information\n",
      "Average price on the day before earnings release: Data not available due to missing information\n",
      "Ticker: Ticker Symbol Not Found, Date and Time: January 30, 2019 5:00 PM ET\n",
      "Highest price on the day after earnings release: Data not available due to missing information\n",
      "Average price on the day before earnings release: Data not available due to missing information\n",
      "Ticker: Ticker Symbol Not Found, Date and Time: January 29, 2020 5:00 PM ET\n",
      "Highest price on the day after earnings release: Data not available due to missing information\n",
      "Average price on the day before earnings release: Data not available due to missing information\n",
      "Ticker: Ticker Symbol Not Found, Date and Time: January 27, 2021 5:00 PM ET\n",
      "Highest price on the day after earnings release: Data not available due to missing information\n",
      "Average price on the day before earnings release: Data not available due to missing information\n",
      "Ticker: META, Date and Time: July 27, 2022 5:00 PM ET\n"
     ]
    },
    {
     "name": "stderr",
     "output_type": "stream",
     "text": [
      "[*********************100%%**********************]  1 of 1 completed\n",
      "[*********************100%%**********************]  1 of 1 completed\n",
      "[*********************100%%**********************]  1 of 1 completed"
     ]
    },
    {
     "name": "stdout",
     "output_type": "stream",
     "text": [
      "Highest price on the day after earnings release: 161.51\n",
      "Average price on the day before earnings release: 167.69\n",
      "Percentage change on earnings day: -3.69%\n",
      "Ticker: META, Date and Time: April 26, 2023 5:00 PM ET\n"
     ]
    },
    {
     "name": "stderr",
     "output_type": "stream",
     "text": [
      "\n",
      "[*********************100%%**********************]  1 of 1 completed\n",
      "[*********************100%%**********************]  1 of 1 completed"
     ]
    },
    {
     "name": "stdout",
     "output_type": "stream",
     "text": [
      "Highest price on the day after earnings release: 241.69\n",
      "Average price on the day before earnings release: 212.32\n",
      "Percentage change on earnings day: 13.83%\n",
      "Ticker: META, Date and Time: July 26, 2023 5:00 PM ET\n"
     ]
    },
    {
     "name": "stderr",
     "output_type": "stream",
     "text": [
      "\n",
      "[*********************100%%**********************]  1 of 1 completed\n",
      "[*********************100%%**********************]  1 of 1 completed"
     ]
    },
    {
     "name": "stdout",
     "output_type": "stream",
     "text": [
      "Highest price on the day after earnings release: 325.35\n",
      "Average price on the day before earnings release: 292.91\n",
      "Percentage change on earnings day: 11.08%\n",
      "Ticker: META, Date and Time: October 26, 2022 5:00 PM ET\n"
     ]
    },
    {
     "name": "stderr",
     "output_type": "stream",
     "text": [
      "\n",
      "[*********************100%%**********************]  1 of 1 completed\n",
      "[*********************100%%**********************]  1 of 1 completed"
     ]
    },
    {
     "name": "stdout",
     "output_type": "stream",
     "text": [
      "Highest price on the day after earnings release: 102.5\n",
      "Average price on the day before earnings release: 129.02\n",
      "Percentage change on earnings day: -20.55%\n",
      "Ticker: META, Date and Time: October 25, 2023 5:00 PM ET\n"
     ]
    },
    {
     "name": "stderr",
     "output_type": "stream",
     "text": [
      "\n",
      "[*********************100%%**********************]  1 of 1 completed\n",
      "[*********************100%%**********************]  1 of 1 completed"
     ]
    },
    {
     "name": "stdout",
     "output_type": "stream",
     "text": [
      "Highest price on the day after earnings release: 295.0\n",
      "Average price on the day before earnings release: 312.31\n",
      "Percentage change on earnings day: -5.54%\n",
      "Ticker: META, Date and Time: February 1, 2023 5:00 PM ET\n"
     ]
    },
    {
     "name": "stderr",
     "output_type": "stream",
     "text": [
      "\n",
      "[*********************100%%**********************]  1 of 1 completed\n",
      "[*********************100%%**********************]  1 of 1 completed\n",
      "[*********************100%%**********************]  1 of 1 completed"
     ]
    },
    {
     "name": "stdout",
     "output_type": "stream",
     "text": [
      "Highest price on the day after earnings release: 197.16\n",
      "Average price on the day before earnings release: 149.03\n",
      "Percentage change on earnings day: 32.3%\n",
      "Ticker: META, Date and Time: February 1, 2024 4:30 PM ET\n",
      "Highest price on the day after earnings release: 485.96\n",
      "Average price on the day before earnings release: 402.96\n",
      "Percentage change on earnings day: 20.6%\n",
      "Ticker: Ticker Symbol Not Found, Date and Time: April 27, 2022 5:00 PM ET\n",
      "Highest price on the day after earnings release: Data not available due to missing information\n",
      "Average price on the day before earnings release: Data not available due to missing information\n",
      "Ticker: Ticker Symbol Not Found, Date and Time: February 2, 2022 5:00 PM ET\n",
      "Highest price on the day after earnings release: Data not available due to missing information\n",
      "Average price on the day before earnings release: Data not available due to missing information\n",
      "Ticker: MSFT, Date and Time: October 22, 2015 5:30 PM ET\n"
     ]
    },
    {
     "name": "stderr",
     "output_type": "stream",
     "text": [
      "\n",
      "[*********************100%%**********************]  1 of 1 completed\n",
      "[*********************100%%**********************]  1 of 1 completed\n",
      "[*********************100%%**********************]  1 of 1 completed\n"
     ]
    },
    {
     "name": "stdout",
     "output_type": "stream",
     "text": [
      "Highest price on the day after earnings release: 54.07\n",
      "Average price on the day before earnings release: 47.42\n",
      "Percentage change on earnings day: 14.02%\n",
      "Ticker: MSFT, Date and Time: October 26, 2017 5:30 PM ET\n"
     ]
    },
    {
     "name": "stderr",
     "output_type": "stream",
     "text": [
      "[*********************100%%**********************]  1 of 1 completed\n",
      "[*********************100%%**********************]  1 of 1 completed"
     ]
    },
    {
     "name": "stdout",
     "output_type": "stream",
     "text": [
      "Highest price on the day after earnings release: 86.2\n",
      "Average price on the day before earnings release: 78.83\n",
      "Percentage change on earnings day: 9.35%\n",
      "Ticker: MSFT, Date and Time: October 24, 2018 5:30 PM ET\n"
     ]
    },
    {
     "name": "stderr",
     "output_type": "stream",
     "text": [
      "\n",
      "[*********************100%%**********************]  1 of 1 completed\n",
      "[*********************100%%**********************]  1 of 1 completed\n",
      "[*********************100%%**********************]  1 of 1 completed"
     ]
    },
    {
     "name": "stdout",
     "output_type": "stream",
     "text": [
      "Highest price on the day after earnings release: 109.27\n",
      "Average price on the day before earnings release: 109.39\n",
      "Percentage change on earnings day: -0.11%\n",
      "Ticker: MSFT, Date and Time: January 28, 2016 5:30 PM ET\n",
      "Highest price on the day after earnings release: 55.09\n",
      "Average price on the day before earnings release: 51.99\n",
      "Percentage change on earnings day: 5.96%\n"
     ]
    },
    {
     "name": "stderr",
     "output_type": "stream",
     "text": [
      "\n",
      "[*********************100%%**********************]  1 of 1 completed\n"
     ]
    },
    {
     "name": "stdout",
     "output_type": "stream",
     "text": [
      "Ticker: MSFT, Date and Time: January 26, 2017 5:30 PM ET\n"
     ]
    },
    {
     "name": "stderr",
     "output_type": "stream",
     "text": [
      "[*********************100%%**********************]  1 of 1 completed\n",
      "[*********************100%%**********************]  1 of 1 completed"
     ]
    },
    {
     "name": "stdout",
     "output_type": "stream",
     "text": [
      "Highest price on the day after earnings release: 65.91\n",
      "Average price on the day before earnings release: 63.34\n",
      "Percentage change on earnings day: 4.06%\n",
      "Ticker: MSFT, Date and Time: April 21, 2016 5:30 PM ET\n"
     ]
    },
    {
     "name": "stderr",
     "output_type": "stream",
     "text": [
      "\n",
      "[*********************100%%**********************]  1 of 1 completed\n",
      "[*********************100%%**********************]  1 of 1 completed\n"
     ]
    },
    {
     "name": "stdout",
     "output_type": "stream",
     "text": [
      "Highest price on the day after earnings release: 52.43\n",
      "Average price on the day before earnings release: 56.23\n",
      "Percentage change on earnings day: -6.76%\n",
      "Ticker: MSFT, Date and Time: April 27, 2017 5:30 PM ET\n"
     ]
    },
    {
     "name": "stderr",
     "output_type": "stream",
     "text": [
      "[*********************100%%**********************]  1 of 1 completed\n",
      "[*********************100%%**********************]  1 of 1 completed\n"
     ]
    },
    {
     "name": "stdout",
     "output_type": "stream",
     "text": [
      "Highest price on the day after earnings release: 69.14\n",
      "Average price on the day before earnings release: 67.82\n",
      "Percentage change on earnings day: 1.95%\n",
      "Ticker: MSFT, Date and Time: April 26, 2018 5:30 PM ET\n"
     ]
    },
    {
     "name": "stderr",
     "output_type": "stream",
     "text": [
      "[*********************100%%**********************]  1 of 1 completed\n",
      "[*********************100%%**********************]  1 of 1 completed\n"
     ]
    },
    {
     "name": "stdout",
     "output_type": "stream",
     "text": [
      "Highest price on the day after earnings release: 97.9\n",
      "Average price on the day before earnings release: 94.44\n",
      "Percentage change on earnings day: 3.66%\n",
      "Ticker: MSFT, Date and Time: July 21, 2015 5:30 PM ET\n"
     ]
    },
    {
     "name": "stderr",
     "output_type": "stream",
     "text": [
      "[*********************100%%**********************]  1 of 1 completed\n",
      "\n",
      "1 Failed download:\n",
      "['MSFT']: Exception('%ticker%: No price data found, symbol may be delisted (1d 2015-07-19 -> 2015-07-20)')\n",
      "[*********************100%%**********************]  1 of 1 completed\n",
      "\n",
      "1 Failed download:\n",
      "['MSFT']: Exception('%ticker%: No price data found, symbol may be delisted (1d 2015-07-18 -> 2015-07-19)')\n",
      "[*********************100%%**********************]  1 of 1 completed\n",
      "[*********************100%%**********************]  1 of 1 completed\n"
     ]
    },
    {
     "name": "stdout",
     "output_type": "stream",
     "text": [
      "Highest price on the day after earnings release: 46.93\n",
      "Average price on the day before earnings release: 46.52\n",
      "Percentage change on earnings day: 0.88%\n",
      "Ticker: MSFT, Date and Time: July 19, 2016 5:30 PM ET\n"
     ]
    },
    {
     "name": "stderr",
     "output_type": "stream",
     "text": [
      "[*********************100%%**********************]  1 of 1 completed\n",
      "\n",
      "1 Failed download:\n",
      "['MSFT']: Exception('%ticker%: No price data found, symbol may be delisted (1d 2016-07-17 -> 2016-07-18)')\n",
      "[*********************100%%**********************]  1 of 1 completed\n",
      "\n",
      "1 Failed download:\n",
      "['MSFT']: Exception('%ticker%: No price data found, symbol may be delisted (1d 2016-07-16 -> 2016-07-17)')\n",
      "[*********************100%%**********************]  1 of 1 completed\n",
      "[*********************100%%**********************]  1 of 1 completed\n"
     ]
    },
    {
     "name": "stdout",
     "output_type": "stream",
     "text": [
      "Highest price on the day after earnings release: 56.84\n",
      "Average price on the day before earnings release: 53.6\n",
      "Percentage change on earnings day: 6.04%\n",
      "Ticker: MSFT, Date and Time: January 30, 2019 5:30 PM ET\n"
     ]
    },
    {
     "name": "stderr",
     "output_type": "stream",
     "text": [
      "[*********************100%%**********************]  1 of 1 completed\n",
      "[*********************100%%**********************]  1 of 1 completed"
     ]
    },
    {
     "name": "stdout",
     "output_type": "stream",
     "text": [
      "Highest price on the day after earnings release: 105.22\n",
      "Average price on the day before earnings release: 105.57\n",
      "Percentage change on earnings day: -0.33%\n",
      "Ticker: MSFT, Date and Time: April 29, 2020 5:30 PM ET\n"
     ]
    },
    {
     "name": "stderr",
     "output_type": "stream",
     "text": [
      "\n",
      "[*********************100%%**********************]  1 of 1 completed\n",
      "[*********************100%%**********************]  1 of 1 completed"
     ]
    },
    {
     "name": "stdout",
     "output_type": "stream",
     "text": [
      "Highest price on the day after earnings release: 180.4\n",
      "Average price on the day before earnings release: 175.1\n",
      "Percentage change on earnings day: 3.03%\n",
      "Ticker: MSFT, Date and Time: October 23, 2019 5:30 PM ET\n"
     ]
    },
    {
     "name": "stderr",
     "output_type": "stream",
     "text": [
      "\n",
      "[*********************100%%**********************]  1 of 1 completed\n",
      "[*********************100%%**********************]  1 of 1 completed"
     ]
    },
    {
     "name": "stdout",
     "output_type": "stream",
     "text": [
      "Highest price on the day after earnings release: 140.42\n",
      "Average price on the day before earnings release: 137.75\n",
      "Percentage change on earnings day: 1.94%\n",
      "Ticker: MSFT, Date and Time: July 22, 2020 5:30 PM ET\n"
     ]
    },
    {
     "name": "stderr",
     "output_type": "stream",
     "text": [
      "\n",
      "[*********************100%%**********************]  1 of 1 completed\n",
      "[*********************100%%**********************]  1 of 1 completed"
     ]
    },
    {
     "name": "stdout",
     "output_type": "stream",
     "text": [
      "Highest price on the day after earnings release: 210.92\n",
      "Average price on the day before earnings release: 207.65\n",
      "Percentage change on earnings day: 1.57%\n",
      "Ticker: MSFT, Date and Time: October 27, 2020 5:30 PM ET\n"
     ]
    },
    {
     "name": "stderr",
     "output_type": "stream",
     "text": [
      "\n",
      "[*********************100%%**********************]  1 of 1 completed\n",
      "\n",
      "1 Failed download:\n",
      "['MSFT']: Exception('%ticker%: No price data found, symbol may be delisted (1d 2020-10-25 -> 2020-10-26)')\n",
      "[*********************100%%**********************]  1 of 1 completed\n",
      "\n",
      "1 Failed download:\n",
      "['MSFT']: Exception('%ticker%: No price data found, symbol may be delisted (1d 2020-10-24 -> 2020-10-25)')\n",
      "[*********************100%%**********************]  1 of 1 completed\n",
      "[*********************100%%**********************]  1 of 1 completed\n"
     ]
    },
    {
     "name": "stdout",
     "output_type": "stream",
     "text": [
      "Highest price on the day after earnings release: 208.84\n",
      "Average price on the day before earnings release: 214.72\n",
      "Percentage change on earnings day: -2.74%\n",
      "Ticker: MSFT, Date and Time: October 26, 2021 5:30 PM ET\n"
     ]
    },
    {
     "name": "stderr",
     "output_type": "stream",
     "text": [
      "[*********************100%%**********************]  1 of 1 completed\n",
      "\n",
      "1 Failed download:\n",
      "['MSFT']: Exception('%ticker%: No price data found, symbol may be delisted (1d 2021-10-24 -> 2021-10-25)')\n",
      "[*********************100%%**********************]  1 of 1 completed\n",
      "\n",
      "1 Failed download:\n",
      "['MSFT']: Exception('%ticker%: No price data found, symbol may be delisted (1d 2021-10-23 -> 2021-10-24)')\n",
      "[*********************100%%**********************]  1 of 1 completed\n",
      "[*********************100%%**********************]  1 of 1 completed\n"
     ]
    },
    {
     "name": "stdout",
     "output_type": "stream",
     "text": [
      "Highest price on the day after earnings release: 326.1\n",
      "Average price on the day before earnings release: 309.44\n",
      "Percentage change on earnings day: 5.38%\n",
      "Ticker: MSFT, Date and Time: January 29, 2020 5:30 PM ET\n"
     ]
    },
    {
     "name": "stderr",
     "output_type": "stream",
     "text": [
      "[*********************100%%**********************]  1 of 1 completed\n",
      "[*********************100%%**********************]  1 of 1 completed\n"
     ]
    },
    {
     "name": "stdout",
     "output_type": "stream",
     "text": [
      "Highest price on the day after earnings release: 174.05\n",
      "Average price on the day before earnings release: 161.79\n",
      "Percentage change on earnings day: 7.58%\n",
      "Ticker: MSFT, Date and Time: April 24, 2019 5:30 PM ET\n"
     ]
    },
    {
     "name": "stderr",
     "output_type": "stream",
     "text": [
      "[*********************100%%**********************]  1 of 1 completed\n",
      "[*********************100%%**********************]  1 of 1 completed"
     ]
    },
    {
     "name": "stdout",
     "output_type": "stream",
     "text": [
      "Highest price on the day after earnings release: 131.37\n",
      "Average price on the day before earnings release: 123.28\n",
      "Percentage change on earnings day: 6.56%\n",
      "Ticker: MSFT, Date and Time: July 19, 2018 5:30 PM ET\n"
     ]
    },
    {
     "name": "stderr",
     "output_type": "stream",
     "text": [
      "\n",
      "[*********************100%%**********************]  1 of 1 completed\n",
      "[*********************100%%**********************]  1 of 1 completed"
     ]
    },
    {
     "name": "stdout",
     "output_type": "stream",
     "text": [
      "Highest price on the day after earnings release: 108.2\n",
      "Average price on the day before earnings release: 105.41\n",
      "Percentage change on earnings day: 2.65%\n",
      "Ticker: MSFT, Date and Time: July 18, 2019 5:30 PM ET\n"
     ]
    },
    {
     "name": "stderr",
     "output_type": "stream",
     "text": [
      "\n",
      "[*********************100%%**********************]  1 of 1 completed\n",
      "[*********************100%%**********************]  1 of 1 completed\n",
      "[*********************100%%**********************]  1 of 1 completed"
     ]
    },
    {
     "name": "stdout",
     "output_type": "stream",
     "text": [
      "Highest price on the day after earnings release: 140.67\n",
      "Average price on the day before earnings release: 137.79\n",
      "Percentage change on earnings day: 2.09%\n",
      "Ticker: MSFT, Date and Time: July 27, 2021 5:00 PM ET\n"
     ]
    },
    {
     "name": "stderr",
     "output_type": "stream",
     "text": [
      "\n",
      "\n",
      "1 Failed download:\n",
      "['MSFT']: Exception('%ticker%: No price data found, symbol may be delisted (1d 2021-07-25 -> 2021-07-26)')\n",
      "[*********************100%%**********************]  1 of 1 completed\n",
      "\n",
      "1 Failed download:\n",
      "['MSFT']: Exception('%ticker%: No price data found, symbol may be delisted (1d 2021-07-24 -> 2021-07-25)')\n",
      "[*********************100%%**********************]  1 of 1 completed\n",
      "[*********************100%%**********************]  1 of 1 completed\n"
     ]
    },
    {
     "name": "stdout",
     "output_type": "stream",
     "text": [
      "Highest price on the day after earnings release: 290.15\n",
      "Average price on the day before earnings release: 288.24\n",
      "Percentage change on earnings day: 0.66%\n",
      "Ticker: MSFT, Date and Time: July 26, 2022 5:30 PM ET\n"
     ]
    },
    {
     "name": "stderr",
     "output_type": "stream",
     "text": [
      "[*********************100%%**********************]  1 of 1 completed\n",
      "\n",
      "1 Failed download:\n",
      "['MSFT']: Exception('%ticker%: No price data found, symbol may be delisted (1d 2022-07-24 -> 2022-07-25)')\n",
      "[*********************100%%**********************]  1 of 1 completed\n",
      "\n",
      "1 Failed download:\n",
      "['MSFT']: Exception('%ticker%: No price data found, symbol may be delisted (1d 2022-07-23 -> 2022-07-24)')\n",
      "[*********************100%%**********************]  1 of 1 completed\n",
      "[*********************100%%**********************]  1 of 1 completed\n"
     ]
    },
    {
     "name": "stdout",
     "output_type": "stream",
     "text": [
      "Highest price on the day after earnings release: 270.05\n",
      "Average price on the day before earnings release: 262.2\n",
      "Percentage change on earnings day: 2.99%\n",
      "Ticker: MSFT, Date and Time: July 18, 2013 5:30 PM ET\n"
     ]
    },
    {
     "name": "stderr",
     "output_type": "stream",
     "text": [
      "[*********************100%%**********************]  1 of 1 completed\n",
      "[*********************100%%**********************]  1 of 1 completed"
     ]
    },
    {
     "name": "stdout",
     "output_type": "stream",
     "text": [
      "Highest price on the day after earnings release: 32.67\n",
      "Average price on the day before earnings release: 36.19\n",
      "Percentage change on earnings day: -9.73%\n",
      "Ticker: MSFT, Date and Time: October 25, 2022 5:30 PM ET\n"
     ]
    },
    {
     "name": "stderr",
     "output_type": "stream",
     "text": [
      "\n",
      "[*********************100%%**********************]  1 of 1 completed\n",
      "\n",
      "1 Failed download:\n",
      "['MSFT']: Exception('%ticker%: No price data found, symbol may be delisted (1d 2022-10-23 -> 2022-10-24)')\n",
      "[*********************100%%**********************]  1 of 1 completed\n",
      "\n",
      "1 Failed download:\n",
      "['MSFT']: Exception('%ticker%: No price data found, symbol may be delisted (1d 2022-10-22 -> 2022-10-23)')\n",
      "[*********************100%%**********************]  1 of 1 completed\n",
      "[*********************100%%**********************]  1 of 1 completed\n"
     ]
    },
    {
     "name": "stdout",
     "output_type": "stream",
     "text": [
      "Highest price on the day after earnings release: 238.3\n",
      "Average price on the day before earnings release: 238.75\n",
      "Percentage change on earnings day: -0.19%\n",
      "Ticker: MSFT, Date and Time: October 24, 2023 5:30 PM ET\n"
     ]
    },
    {
     "name": "stderr",
     "output_type": "stream",
     "text": [
      "[*********************100%%**********************]  1 of 1 completed\n",
      "\n",
      "1 Failed download:\n",
      "['MSFT']: Exception('%ticker%: No price data found, symbol may be delisted (1d 2023-10-22 -> 2023-10-23)')\n",
      "[*********************100%%**********************]  1 of 1 completed\n",
      "\n",
      "1 Failed download:\n",
      "['MSFT']: Exception('%ticker%: No price data found, symbol may be delisted (1d 2023-10-21 -> 2023-10-22)')\n",
      "[*********************100%%**********************]  1 of 1 completed\n",
      "[*********************100%%**********************]  1 of 1 completed\n"
     ]
    },
    {
     "name": "stdout",
     "output_type": "stream",
     "text": [
      "Highest price on the day after earnings release: 346.2\n",
      "Average price on the day before earnings release: 328.69\n",
      "Percentage change on earnings day: 5.33%\n",
      "Ticker: MSFT, Date and Time: January 24, 2023 5:30 PM ET\n"
     ]
    },
    {
     "name": "stderr",
     "output_type": "stream",
     "text": [
      "[*********************100%%**********************]  1 of 1 completed\n",
      "\n",
      "1 Failed download:\n",
      "['MSFT']: Exception('%ticker%: No price data found, symbol may be delisted (1d 2023-01-22 -> 2023-01-23)')\n",
      "[*********************100%%**********************]  1 of 1 completed\n",
      "\n",
      "1 Failed download:\n",
      "['MSFT']: Exception('%ticker%: No price data found, symbol may be delisted (1d 2023-01-21 -> 2023-01-22)')\n",
      "[*********************100%%**********************]  1 of 1 completed\n",
      "[*********************100%%**********************]  1 of 1 completed\n"
     ]
    },
    {
     "name": "stdout",
     "output_type": "stream",
     "text": [
      "Highest price on the day after earnings release: 243.3\n",
      "Average price on the day before earnings release: 237.62\n",
      "Percentage change on earnings day: 2.39%\n",
      "Ticker: MSFT, Date and Time: January 30, 2024 5:30 PM ET\n"
     ]
    },
    {
     "name": "stderr",
     "output_type": "stream",
     "text": [
      "[*********************100%%**********************]  1 of 1 completed\n",
      "\n",
      "1 Failed download:\n",
      "['MSFT']: Exception('%ticker%: No price data found, symbol may be delisted (1d 2024-01-28 -> 2024-01-29)')\n",
      "[*********************100%%**********************]  1 of 1 completed\n",
      "\n",
      "1 Failed download:\n",
      "['MSFT']: Exception('%ticker%: No price data found, symbol may be delisted (1d 2024-01-27 -> 2024-01-28)')\n",
      "[*********************100%%**********************]  1 of 1 completed\n",
      "[*********************100%%**********************]  1 of 1 completed\n"
     ]
    },
    {
     "name": "stdout",
     "output_type": "stream",
     "text": [
      "Highest price on the day after earnings release: 415.32\n",
      "Average price on the day before earnings release: 404.3\n",
      "Percentage change on earnings day: 2.73%\n",
      "Ticker: MSFT, Date and Time: April 25, 2023 5:30 PM ET\n"
     ]
    },
    {
     "name": "stderr",
     "output_type": "stream",
     "text": [
      "[*********************100%%**********************]  1 of 1 completed\n",
      "\n",
      "1 Failed download:\n",
      "['MSFT']: Exception('%ticker%: No price data found, symbol may be delisted (1d 2023-04-23 -> 2023-04-24)')\n",
      "[*********************100%%**********************]  1 of 1 completed\n",
      "\n",
      "1 Failed download:\n",
      "['MSFT']: Exception('%ticker%: No price data found, symbol may be delisted (1d 2023-04-22 -> 2023-04-23)')\n",
      "[*********************100%%**********************]  1 of 1 completed\n",
      "[*********************100%%**********************]  1 of 1 completed\n",
      "[*********************100%%**********************]  1 of 1 completed"
     ]
    },
    {
     "name": "stdout",
     "output_type": "stream",
     "text": [
      "Highest price on the day after earnings release: 299.57\n",
      "Average price on the day before earnings release: 284.66\n",
      "Percentage change on earnings day: 5.24%\n",
      "Ticker: MSFT, Date and Time: July 25, 2023 5:30 PM ET\n"
     ]
    },
    {
     "name": "stderr",
     "output_type": "stream",
     "text": [
      "\n",
      "\n",
      "1 Failed download:\n",
      "['MSFT']: Exception('%ticker%: No price data found, symbol may be delisted (1d 2023-07-23 -> 2023-07-24)')\n",
      "[*********************100%%**********************]  1 of 1 completed\n",
      "\n",
      "1 Failed download:\n",
      "['MSFT']: Exception('%ticker%: No price data found, symbol may be delisted (1d 2023-07-22 -> 2023-07-23)')\n",
      "[*********************100%%**********************]  1 of 1 completed\n",
      "[*********************100%%**********************]  1 of 1 completed\n"
     ]
    },
    {
     "name": "stdout",
     "output_type": "stream",
     "text": [
      "Highest price on the day after earnings release: 344.67\n",
      "Average price on the day before earnings release: 345.06\n",
      "Percentage change on earnings day: -0.11%\n",
      "Ticker: MSFT, Date and Time: January 26, 2021 5:30 PM ET\n"
     ]
    },
    {
     "name": "stderr",
     "output_type": "stream",
     "text": [
      "[*********************100%%**********************]  1 of 1 completed\n",
      "\n",
      "1 Failed download:\n",
      "['MSFT']: Exception('%ticker%: No price data found, symbol may be delisted (1d 2021-01-24 -> 2021-01-25)')\n",
      "[*********************100%%**********************]  1 of 1 completed\n",
      "\n",
      "1 Failed download:\n",
      "['MSFT']: Exception('%ticker%: No price data found, symbol may be delisted (1d 2021-01-23 -> 2021-01-24)')\n",
      "[*********************100%%**********************]  1 of 1 completed\n",
      "[*********************100%%**********************]  1 of 1 completed\n"
     ]
    },
    {
     "name": "stdout",
     "output_type": "stream",
     "text": [
      "Highest price on the day after earnings release: 240.44\n",
      "Average price on the day before earnings release: 227.94\n",
      "Percentage change on earnings day: 5.48%\n",
      "Ticker: MSFT, Date and Time: January 25, 2022 5:30 PM ET\n"
     ]
    },
    {
     "name": "stderr",
     "output_type": "stream",
     "text": [
      "[*********************100%%**********************]  1 of 1 completed\n",
      "\n",
      "1 Failed download:\n",
      "['MSFT']: Exception('%ticker%: No price data found, symbol may be delisted (1d 2022-01-23 -> 2022-01-24)')\n",
      "[*********************100%%**********************]  1 of 1 completed\n",
      "\n",
      "1 Failed download:\n",
      "['MSFT']: Exception('%ticker%: No price data found, symbol may be delisted (1d 2022-01-22 -> 2022-01-23)')\n",
      "[*********************100%%**********************]  1 of 1 completed\n",
      "[*********************100%%**********************]  1 of 1 completed\n",
      "[*********************100%%**********************]  1 of 1 completed"
     ]
    },
    {
     "name": "stdout",
     "output_type": "stream",
     "text": [
      "Highest price on the day after earnings release: 308.5\n",
      "Average price on the day before earnings release: 299.86\n",
      "Percentage change on earnings day: 2.88%\n",
      "Ticker: MSFT, Date and Time: April 27, 2021 5:30 PM ET\n"
     ]
    },
    {
     "name": "stderr",
     "output_type": "stream",
     "text": [
      "\n",
      "\n",
      "1 Failed download:\n",
      "['MSFT']: Exception('%ticker%: No price data found, symbol may be delisted (1d 2021-04-25 -> 2021-04-26)')\n",
      "[*********************100%%**********************]  1 of 1 completed\n",
      "\n",
      "1 Failed download:\n",
      "['MSFT']: Exception('%ticker%: No price data found, symbol may be delisted (1d 2021-04-24 -> 2021-04-25)')\n",
      "[*********************100%%**********************]  1 of 1 completed\n",
      "[*********************100%%**********************]  1 of 1 completed\n"
     ]
    },
    {
     "name": "stdout",
     "output_type": "stream",
     "text": [
      "Highest price on the day after earnings release: 256.54\n",
      "Average price on the day before earnings release: 259.39\n",
      "Percentage change on earnings day: -1.1%\n",
      "Ticker: MSFT, Date and Time: October 23, 2014 5:30 PM ET\n"
     ]
    },
    {
     "name": "stderr",
     "output_type": "stream",
     "text": [
      "[*********************100%%**********************]  1 of 1 completed\n",
      "[*********************100%%**********************]  1 of 1 completed\n"
     ]
    },
    {
     "name": "stdout",
     "output_type": "stream",
     "text": [
      "Highest price on the day after earnings release: 46.9\n",
      "Average price on the day before earnings release: 44.58\n",
      "Percentage change on earnings day: 5.2%\n",
      "Ticker: MSFT, Date and Time: October 20, 2016 5:30 PM ET\n"
     ]
    },
    {
     "name": "stderr",
     "output_type": "stream",
     "text": [
      "[*********************100%%**********************]  1 of 1 completed\n",
      "[*********************100%%**********************]  1 of 1 completed"
     ]
    },
    {
     "name": "stdout",
     "output_type": "stream",
     "text": [
      "Highest price on the day after earnings release: 60.45\n",
      "Average price on the day before earnings release: 57.68\n",
      "Percentage change on earnings day: 4.8%\n",
      "Ticker: MSFT, Date and Time: January 26, 2015 5:30 PM ET\n"
     ]
    },
    {
     "name": "stderr",
     "output_type": "stream",
     "text": [
      "\n",
      "[*********************100%%**********************]  1 of 1 completed\n",
      "[*********************100%%**********************]  1 of 1 completed"
     ]
    },
    {
     "name": "stdout",
     "output_type": "stream",
     "text": [
      "Highest price on the day after earnings release: 43.2\n",
      "Average price on the day before earnings release: 46.61\n",
      "Percentage change on earnings day: -7.32%\n",
      "Ticker: MSFT, Date and Time: January 31, 2018 5:30 PM ET\n"
     ]
    },
    {
     "name": "stderr",
     "output_type": "stream",
     "text": [
      "\n",
      "[*********************100%%**********************]  1 of 1 completed\n",
      "[*********************100%%**********************]  1 of 1 completed\n"
     ]
    },
    {
     "name": "stdout",
     "output_type": "stream",
     "text": [
      "Highest price on the day after earnings release: 96.07\n",
      "Average price on the day before earnings release: 94.58\n",
      "Percentage change on earnings day: 1.58%\n",
      "Ticker: MSFT, Date and Time: April 23, 2015 5:30 PM ET\n"
     ]
    },
    {
     "name": "stderr",
     "output_type": "stream",
     "text": [
      "[*********************100%%**********************]  1 of 1 completed\n",
      "[*********************100%%**********************]  1 of 1 completed"
     ]
    },
    {
     "name": "stdout",
     "output_type": "stream",
     "text": [
      "Highest price on the day after earnings release: 48.14\n",
      "Average price on the day before earnings release: 42.84\n",
      "Percentage change on earnings day: 12.37%\n",
      "Ticker: MSFT, Date and Time: April 26, 2022 5:30 PM ET\n"
     ]
    },
    {
     "name": "stderr",
     "output_type": "stream",
     "text": [
      "\n",
      "[*********************100%%**********************]  1 of 1 completed\n",
      "\n",
      "1 Failed download:\n",
      "['MSFT']: Exception('%ticker%: No price data found, symbol may be delisted (1d 2022-04-24 -> 2022-04-25)')\n",
      "[*********************100%%**********************]  1 of 1 completed\n",
      "\n",
      "1 Failed download:\n",
      "['MSFT']: Exception('%ticker%: No price data found, symbol may be delisted (1d 2022-04-23 -> 2022-04-24)')\n",
      "[*********************100%%**********************]  1 of 1 completed\n",
      "[*********************100%%**********************]  1 of 1 completed\n"
     ]
    },
    {
     "name": "stdout",
     "output_type": "stream",
     "text": [
      "Highest price on the day after earnings release: 290.97\n",
      "Average price on the day before earnings release: 278.29\n",
      "Percentage change on earnings day: 4.56%\n",
      "Ticker: MSFT, Date and Time: July 22, 2014 5:30 PM ET\n"
     ]
    },
    {
     "name": "stderr",
     "output_type": "stream",
     "text": [
      "[*********************100%%**********************]  1 of 1 completed\n",
      "\n",
      "1 Failed download:\n",
      "['MSFT']: Exception('%ticker%: No price data found, symbol may be delisted (1d 2014-07-20 -> 2014-07-21)')\n",
      "[*********************100%%**********************]  1 of 1 completed\n",
      "\n",
      "1 Failed download:\n",
      "['MSFT']: Exception('%ticker%: No price data found, symbol may be delisted (1d 2014-07-19 -> 2014-07-20)')\n",
      "[*********************100%%**********************]  1 of 1 completed\n",
      "[*********************100%%**********************]  1 of 1 completed\n"
     ]
    },
    {
     "name": "stdout",
     "output_type": "stream",
     "text": [
      "Highest price on the day after earnings release: 45.45\n",
      "Average price on the day before earnings release: 44.55\n",
      "Percentage change on earnings day: 2.02%\n",
      "Ticker: MSFT, Date and Time: July 20, 2017 5:30 PM ET\n"
     ]
    },
    {
     "name": "stderr",
     "output_type": "stream",
     "text": [
      "[*********************100%%**********************]  1 of 1 completed\n",
      "[*********************100%%**********************]  1 of 1 completed\n",
      "[*********************100%%**********************]  1 of 1 completed"
     ]
    },
    {
     "name": "stdout",
     "output_type": "stream",
     "text": [
      "Highest price on the day after earnings release: 74.29\n",
      "Average price on the day before earnings release: 73.03\n",
      "Percentage change on earnings day: 1.73%\n",
      "Ticker: NVDA, Date and Time: May 7, 2015 5:00 PM ET\n"
     ]
    },
    {
     "name": "stderr",
     "output_type": "stream",
     "text": [
      "\n",
      "[*********************100%%**********************]  1 of 1 completed\n",
      "[*********************100%%**********************]  1 of 1 completed\n"
     ]
    },
    {
     "name": "stdout",
     "output_type": "stream",
     "text": [
      "Highest price on the day after earnings release: 5.46\n",
      "Average price on the day before earnings release: 5.56\n",
      "Percentage change on earnings day: -1.8%\n",
      "Ticker: NVDA, Date and Time: May 12, 2016 5:00 PM ET\n",
      "Highest price on the day after earnings release: 10.25\n",
      "Average price on the day before earnings release: 8.9\n",
      "Percentage change on earnings day: 15.17%\n"
     ]
    },
    {
     "name": "stderr",
     "output_type": "stream",
     "text": [
      "[*********************100%%**********************]  1 of 1 completed\n",
      "[*********************100%%**********************]  1 of 1 completed\n"
     ]
    },
    {
     "name": "stdout",
     "output_type": "stream",
     "text": [
      "Ticker: NVDA, Date and Time: August 6, 2015 5:00 PM ET\n",
      "Highest price on the day after earnings release: 5.84\n",
      "Average price on the day before earnings release: 5.07\n",
      "Percentage change on earnings day: 15.19%\n",
      "Ticker: NVDA, Date and Time: August 11, 2016 5:00 PM ET\n"
     ]
    },
    {
     "name": "stderr",
     "output_type": "stream",
     "text": [
      "[*********************100%%**********************]  1 of 1 completed\n",
      "[*********************100%%**********************]  1 of 1 completed\n",
      "[*********************100%%**********************]  1 of 1 completed"
     ]
    },
    {
     "name": "stdout",
     "output_type": "stream",
     "text": [
      "Highest price on the day after earnings release: 15.85\n",
      "Average price on the day before earnings release: 14.78\n",
      "Percentage change on earnings day: 7.24%\n",
      "Ticker: NVDA, Date and Time: November 5, 2015 5:00 PM ET\n"
     ]
    },
    {
     "name": "stderr",
     "output_type": "stream",
     "text": [
      "\n",
      "[*********************100%%**********************]  1 of 1 completed\n",
      "[*********************100%%**********************]  1 of 1 completed\n",
      "[*********************100%%**********************]  1 of 1 completed\n",
      "\n",
      "1 Failed download:\n",
      "['NVDA']: Exception('%ticker%: No price data found, symbol may be delisted (1d 2016-02-15 -> 2016-02-16)')\n"
     ]
    },
    {
     "name": "stdout",
     "output_type": "stream",
     "text": [
      "Highest price on the day after earnings release: 7.99\n",
      "Average price on the day before earnings release: 7.11\n",
      "Percentage change on earnings day: 12.38%\n",
      "Ticker: NVDA, Date and Time: February 17, 2016 5:00 PM ET\n"
     ]
    },
    {
     "name": "stderr",
     "output_type": "stream",
     "text": [
      "[*********************100%%**********************]  1 of 1 completed\n",
      "\n",
      "1 Failed download:\n",
      "['NVDA']: Exception('%ticker%: No price data found, symbol may be delisted (1d 2016-02-14 -> 2016-02-15)')\n",
      "[*********************100%%**********************]  1 of 1 completed\n",
      "\n",
      "1 Failed download:\n",
      "['NVDA']: Exception('%ticker%: No price data found, symbol may be delisted (1d 2016-02-13 -> 2016-02-14)')\n",
      "[*********************100%%**********************]  1 of 1 completed\n"
     ]
    },
    {
     "name": "stdout",
     "output_type": "stream",
     "text": [
      "Highest price on the day after earnings release: 7.74\n",
      "Average price on the day before earnings release: 6.32\n",
      "Percentage change on earnings day: 22.47%\n",
      "Ticker: NVDA, Date and Time: May 9, 2017 5:00 PM ET\n"
     ]
    },
    {
     "name": "stderr",
     "output_type": "stream",
     "text": [
      "[*********************100%%**********************]  1 of 1 completed\n",
      "[*********************100%%**********************]  1 of 1 completed\n",
      "\n",
      "1 Failed download:\n",
      "['NVDA']: Exception('%ticker%: No price data found, symbol may be delisted (1d 2017-05-07 -> 2017-05-08)')\n",
      "[*********************100%%**********************]  1 of 1 completed\n",
      "\n",
      "1 Failed download:\n",
      "['NVDA']: Exception('%ticker%: No price data found, symbol may be delisted (1d 2017-05-06 -> 2017-05-07)')\n",
      "[*********************100%%**********************]  1 of 1 completed\n",
      "[*********************100%%**********************]  1 of 1 completed\n",
      "[*********************100%%**********************]  1 of 1 completed\n"
     ]
    },
    {
     "name": "stdout",
     "output_type": "stream",
     "text": [
      "Highest price on the day after earnings release: 30.45\n",
      "Average price on the day before earnings release: 25.86\n",
      "Percentage change on earnings day: 17.75%\n",
      "Ticker: NVDA, Date and Time: May 10, 2018 5:00 PM ET\n",
      "Highest price on the day after earnings release: 64.95\n",
      "Average price on the day before earnings release: 62.15\n",
      "Percentage change on earnings day: 4.51%\n",
      "Ticker: NVDA, Date and Time: August 10, 2017 5:00 PM ET\n"
     ]
    },
    {
     "name": "stderr",
     "output_type": "stream",
     "text": [
      "[*********************100%%**********************]  1 of 1 completed\n",
      "[*********************100%%**********************]  1 of 1 completed\n",
      "[*********************100%%**********************]  1 of 1 completed"
     ]
    },
    {
     "name": "stdout",
     "output_type": "stream",
     "text": [
      "Highest price on the day after earnings release: 39.75\n",
      "Average price on the day before earnings release: 42.91\n",
      "Percentage change on earnings day: -7.36%\n",
      "Ticker: NVDA, Date and Time: November 10, 2016 5:00 PM ET\n"
     ]
    },
    {
     "name": "stderr",
     "output_type": "stream",
     "text": [
      "\n",
      "[*********************100%%**********************]  1 of 1 completed\n",
      "[*********************100%%**********************]  1 of 1 completed\n",
      "[*********************100%%**********************]  1 of 1 completed"
     ]
    },
    {
     "name": "stdout",
     "output_type": "stream",
     "text": [
      "Highest price on the day after earnings release: 22.19\n",
      "Average price on the day before earnings release: 17.78\n",
      "Percentage change on earnings day: 24.8%\n",
      "Ticker: NVDA, Date and Time: February 11, 2015 5:00 PM ET\n",
      "Highest price on the day after earnings release: 5.62\n",
      "Average price on the day before earnings release: 5.07\n",
      "Percentage change on earnings day: 10.85%\n"
     ]
    },
    {
     "name": "stderr",
     "output_type": "stream",
     "text": [
      "\n",
      "[*********************100%%**********************]  1 of 1 completed\n",
      "[*********************100%%**********************]  1 of 1 completed\n"
     ]
    },
    {
     "name": "stdout",
     "output_type": "stream",
     "text": [
      "Ticker: NVDA, Date and Time: February 9, 2017 5:00 PM ET\n",
      "Highest price on the day after earnings release: 30.17\n",
      "Average price on the day before earnings release: 29.85\n",
      "Percentage change on earnings day: 1.07%\n",
      "Ticker: NVDA, Date and Time: November 15, 2018 5:30 PM ET\n"
     ]
    },
    {
     "name": "stderr",
     "output_type": "stream",
     "text": [
      "[*********************100%%**********************]  1 of 1 completed\n",
      "[*********************100%%**********************]  1 of 1 completed\n",
      "[*********************100%%**********************]  1 of 1 completed\n",
      "[*********************100%%**********************]  1 of 1 completed"
     ]
    },
    {
     "name": "stdout",
     "output_type": "stream",
     "text": [
      "Highest price on the day after earnings release: 42.67\n",
      "Average price on the day before earnings release: 49.68\n",
      "Percentage change on earnings day: -14.11%\n",
      "Ticker: NVDA, Date and Time: May 21, 2020 5:30 PM ET\n",
      "Highest price on the day after earnings release: 90.93\n",
      "Average price on the day before earnings release: 89.25\n",
      "Percentage change on earnings day: 1.88%\n",
      "Ticker: NVDA, Date and Time: May 24, 2023 5:00 PM ET\n"
     ]
    },
    {
     "name": "stderr",
     "output_type": "stream",
     "text": [
      "\n",
      "[*********************100%%**********************]  1 of 1 completed\n",
      "[*********************100%%**********************]  1 of 1 completed\n",
      "[*********************100%%**********************]  1 of 1 completed\n"
     ]
    },
    {
     "name": "stdout",
     "output_type": "stream",
     "text": [
      "Highest price on the day after earnings release: 394.8\n",
      "Average price on the day before earnings release: 311.0\n",
      "Percentage change on earnings day: 26.95%\n",
      "Ticker: NVDA, Date and Time: August 23, 2023 5:00 PM ET\n"
     ]
    },
    {
     "name": "stderr",
     "output_type": "stream",
     "text": [
      "[*********************100%%**********************]  1 of 1 completed\n",
      "[*********************100%%**********************]  1 of 1 completed\n",
      "[*********************100%%**********************]  1 of 1 completed\n",
      "\n",
      "1 Failed download:\n",
      "['NVDA']: Exception('%ticker%: No price data found, symbol may be delisted (1d 2023-02-20 -> 2023-02-21)')\n"
     ]
    },
    {
     "name": "stdout",
     "output_type": "stream",
     "text": [
      "Highest price on the day after earnings release: 502.66\n",
      "Average price on the day before earnings release: 456.43\n",
      "Percentage change on earnings day: 10.13%\n",
      "Ticker: NVDA, Date and Time: February 22, 2023 5:00 PM ET\n"
     ]
    },
    {
     "name": "stderr",
     "output_type": "stream",
     "text": [
      "[*********************100%%**********************]  1 of 1 completed\n",
      "\n",
      "1 Failed download:\n",
      "['NVDA']: Exception('%ticker%: No price data found, symbol may be delisted (1d 2023-02-19 -> 2023-02-20)')\n",
      "[*********************100%%**********************]  1 of 1 completed\n",
      "\n",
      "1 Failed download:\n",
      "['NVDA']: Exception('%ticker%: No price data found, symbol may be delisted (1d 2023-02-18 -> 2023-02-19)')\n",
      "[*********************100%%**********************]  1 of 1 completed\n",
      "[*********************100%%**********************]  1 of 1 completed\n",
      "[*********************100%%**********************]  1 of 1 completed"
     ]
    },
    {
     "name": "stdout",
     "output_type": "stream",
     "text": [
      "Highest price on the day after earnings release: 238.88\n",
      "Average price on the day before earnings release: 213.57\n",
      "Percentage change on earnings day: 11.85%\n",
      "Ticker: NVDA, Date and Time: November 14, 2019 5:30 PM ET\n",
      "Highest price on the day after earnings release: 52.94\n",
      "Average price on the day before earnings release: 52.52\n",
      "Percentage change on earnings day: 0.8%\n",
      "Ticker: NVDA, Date and Time: May 16, 2019 5:30 PM ET\n"
     ]
    },
    {
     "name": "stderr",
     "output_type": "stream",
     "text": [
      "\n",
      "[*********************100%%**********************]  1 of 1 completed\n",
      "[*********************100%%**********************]  1 of 1 completed\n",
      "[*********************100%%**********************]  1 of 1 completed\n",
      "[*********************100%%**********************]  1 of 1 completed\n"
     ]
    },
    {
     "name": "stdout",
     "output_type": "stream",
     "text": [
      "Highest price on the day after earnings release: 40.93\n",
      "Average price on the day before earnings release: 40.24\n",
      "Percentage change on earnings day: 1.71%\n",
      "Ticker: NVDA, Date and Time: August 15, 2019 5:30 PM ET\n",
      "Highest price on the day after earnings release: 40.38\n",
      "Average price on the day before earnings release: 38.47\n",
      "Percentage change on earnings day: 4.96%\n",
      "Ticker: NVDA, Date and Time: November 6, 2014 5:00 PM ET\n"
     ]
    },
    {
     "name": "stderr",
     "output_type": "stream",
     "text": [
      "[*********************100%%**********************]  1 of 1 completed\n",
      "[*********************100%%**********************]  1 of 1 completed\n",
      "[*********************100%%**********************]  1 of 1 completed\n",
      "[*********************100%%**********************]  1 of 1 completed\n"
     ]
    },
    {
     "name": "stdout",
     "output_type": "stream",
     "text": [
      "Highest price on the day after earnings release: 5.17\n",
      "Average price on the day before earnings release: 4.98\n",
      "Percentage change on earnings day: 3.82%\n",
      "Ticker: NVDA, Date and Time: February 14, 2019 5:30 PM ET\n",
      "Highest price on the day after earnings release: 40.97\n",
      "Average price on the day before earnings release: 37.4\n",
      "Percentage change on earnings day: 9.55%\n",
      "Ticker: NVDA, Date and Time: May 25, 2022 5:00 PM ET\n"
     ]
    },
    {
     "name": "stderr",
     "output_type": "stream",
     "text": [
      "[*********************100%%**********************]  1 of 1 completed\n",
      "[*********************100%%**********************]  1 of 1 completed\n",
      "[*********************100%%**********************]  1 of 1 completed\n"
     ]
    },
    {
     "name": "stdout",
     "output_type": "stream",
     "text": [
      "Highest price on the day after earnings release: 180.92\n",
      "Average price on the day before earnings release: 165.47\n",
      "Percentage change on earnings day: 9.34%\n",
      "Ticker: NVDA, Date and Time: August 16, 2018 5:30 PM ET\n"
     ]
    },
    {
     "name": "stderr",
     "output_type": "stream",
     "text": [
      "[*********************100%%**********************]  1 of 1 completed\n",
      "[*********************100%%**********************]  1 of 1 completed"
     ]
    },
    {
     "name": "stdout",
     "output_type": "stream",
     "text": [
      "Highest price on the day after earnings release: 63.24\n",
      "Average price on the day before earnings release: 64.88\n",
      "Percentage change on earnings day: -2.53%\n",
      "Ticker: NVDA, Date and Time: August 19, 2020 5:00 PM ET\n"
     ]
    },
    {
     "name": "stderr",
     "output_type": "stream",
     "text": [
      "\n",
      "[*********************100%%**********************]  1 of 1 completed\n",
      "[*********************100%%**********************]  1 of 1 completed\n",
      "[*********************100%%**********************]  1 of 1 completed"
     ]
    },
    {
     "name": "stdout",
     "output_type": "stream",
     "text": [
      "Highest price on the day after earnings release: 123.75\n",
      "Average price on the day before earnings release: 121.14\n",
      "Percentage change on earnings day: 2.15%\n",
      "Ticker: NVDA, Date and Time: August 18, 2021 5:00 PM ET\n"
     ]
    },
    {
     "name": "stderr",
     "output_type": "stream",
     "text": [
      "\n",
      "[*********************100%%**********************]  1 of 1 completed\n"
     ]
    },
    {
     "name": "stdout",
     "output_type": "stream",
     "text": [
      "Highest price on the day after earnings release: 204.95\n",
      "Average price on the day before earnings release: 198.7\n",
      "Percentage change on earnings day: 3.15%\n",
      "Ticker: NVDA, Date and Time: August 24, 2022 5:00 PM ET\n"
     ]
    },
    {
     "name": "stderr",
     "output_type": "stream",
     "text": [
      "[*********************100%%**********************]  1 of 1 completed\n",
      "[*********************100%%**********************]  1 of 1 completed\n"
     ]
    },
    {
     "name": "stdout",
     "output_type": "stream",
     "text": [
      "Highest price on the day after earnings release: 179.47\n",
      "Average price on the day before earnings release: 172.62\n",
      "Percentage change on earnings day: 3.97%\n",
      "Ticker: NVDA, Date and Time: November 18, 2020 5:00 PM ET\n"
     ]
    },
    {
     "name": "stderr",
     "output_type": "stream",
     "text": [
      "[*********************100%%**********************]  1 of 1 completed\n",
      "[*********************100%%**********************]  1 of 1 completed\n",
      "[*********************100%%**********************]  1 of 1 completed\n"
     ]
    },
    {
     "name": "stdout",
     "output_type": "stream",
     "text": [
      "Highest price on the day after earnings release: 134.88\n",
      "Average price on the day before earnings release: 134.03\n",
      "Percentage change on earnings day: 0.63%\n",
      "Ticker: NVDA, Date and Time: February 13, 2020 5:30 PM ET\n",
      "Highest price on the day after earnings release: 73.74\n",
      "Average price on the day before earnings release: 67.17\n",
      "Percentage change on earnings day: 9.78%\n",
      "Ticker: NVDA, Date and Time: November 16, 2022 5:00 PM ET\n"
     ]
    },
    {
     "name": "stderr",
     "output_type": "stream",
     "text": [
      "[*********************100%%**********************]  1 of 1 completed\n",
      "[*********************100%%**********************]  1 of 1 completed\n",
      "[*********************100%%**********************]  1 of 1 completed\n",
      "[*********************100%%**********************]  1 of 1 completed\n",
      "\n",
      "1 Failed download:\n",
      "['NVDA']: Exception('%ticker%: No price data found, symbol may be delisted (1d 2023-11-19 -> 2023-11-20)')\n"
     ]
    },
    {
     "name": "stdout",
     "output_type": "stream",
     "text": [
      "Highest price on the day after earnings release: 162.66\n",
      "Average price on the day before earnings release: 162.31\n",
      "Percentage change on earnings day: 0.22%\n",
      "Ticker: NVDA, Date and Time: November 21, 2023 5:00 PM ET\n"
     ]
    },
    {
     "name": "stderr",
     "output_type": "stream",
     "text": [
      "[*********************100%%**********************]  1 of 1 completed\n",
      "\n",
      "1 Failed download:\n",
      "['NVDA']: Exception('%ticker%: No price data found, symbol may be delisted (1d 2023-11-18 -> 2023-11-19)')\n",
      "[*********************100%%**********************]  1 of 1 completed\n",
      "[*********************100%%**********************]  1 of 1 completed\n"
     ]
    },
    {
     "name": "stdout",
     "output_type": "stream",
     "text": [
      "Highest price on the day after earnings release: 503.35\n",
      "Average price on the day before earnings release: 493.62\n",
      "Percentage change on earnings day: 1.97%\n",
      "Ticker: NVDA, Date and Time: February 21, 2024 5:00 PM ET\n"
     ]
    },
    {
     "name": "stderr",
     "output_type": "stream",
     "text": [
      "[*********************100%%**********************]  1 of 1 completed\n",
      "\n",
      "1 Failed download:\n",
      "['NVDA']: Exception('%ticker%: No price data found, symbol may be delisted (1d 2024-02-19 -> 2024-02-20)')\n",
      "[*********************100%%**********************]  1 of 1 completed\n",
      "\n",
      "1 Failed download:\n",
      "['NVDA']: Exception('%ticker%: No price data found, symbol may be delisted (1d 2024-02-18 -> 2024-02-19)')\n",
      "[*********************100%%**********************]  1 of 1 completed\n",
      "\n",
      "1 Failed download:\n",
      "['NVDA']: Exception('%ticker%: No price data found, symbol may be delisted (1d 2024-02-17 -> 2024-02-18)')\n",
      "[*********************100%%**********************]  1 of 1 completed\n",
      "[*********************100%%**********************]  1 of 1 completed\n"
     ]
    },
    {
     "name": "stdout",
     "output_type": "stream",
     "text": [
      "Highest price on the day after earnings release: 785.75\n",
      "Average price on the day before earnings release: 734.52\n",
      "Percentage change on earnings day: 6.97%\n",
      "Ticker: NVDA, Date and Time: May 26, 2021 5:00 PM ET\n"
     ]
    },
    {
     "name": "stderr",
     "output_type": "stream",
     "text": [
      "[*********************100%%**********************]  1 of 1 completed\n",
      "[*********************100%%**********************]  1 of 1 completed"
     ]
    },
    {
     "name": "stdout",
     "output_type": "stream",
     "text": [
      "Highest price on the day after earnings release: 157.5\n",
      "Average price on the day before earnings release: 154.6\n",
      "Percentage change on earnings day: 1.88%\n",
      "Ticker: NVDA, Date and Time: February 24, 2021 5:00 PM ET\n"
     ]
    },
    {
     "name": "stderr",
     "output_type": "stream",
     "text": [
      "\n",
      "[*********************100%%**********************]  1 of 1 completed\n",
      "[*********************100%%**********************]  1 of 1 completed"
     ]
    },
    {
     "name": "stdout",
     "output_type": "stream",
     "text": [
      "Highest price on the day after earnings release: 143.75\n",
      "Average price on the day before earnings release: 147.29\n",
      "Percentage change on earnings day: -2.4%\n",
      "Ticker: NVDA, Date and Time: February 16, 2022 5:30 PM ET\n"
     ]
    },
    {
     "name": "stderr",
     "output_type": "stream",
     "text": [
      "\n",
      "[*********************100%%**********************]  1 of 1 completed\n",
      "[*********************100%%**********************]  1 of 1 completed\n"
     ]
    },
    {
     "name": "stdout",
     "output_type": "stream",
     "text": [
      "Highest price on the day after earnings release: 257.85\n",
      "Average price on the day before earnings release: 243.15\n",
      "Percentage change on earnings day: 6.05%\n",
      "Ticker: NVDA, Date and Time: November 8, 2012 5:00 PM ET\n"
     ]
    },
    {
     "name": "stderr",
     "output_type": "stream",
     "text": [
      "[*********************100%%**********************]  1 of 1 completed\n",
      "[*********************100%%**********************]  1 of 1 completed"
     ]
    },
    {
     "name": "stdout",
     "output_type": "stream",
     "text": [
      "Highest price on the day after earnings release: 3.22\n",
      "Average price on the day before earnings release: 3.23\n",
      "Percentage change on earnings day: -0.31%\n",
      "Ticker: NVDA, Date and Time: May 13, 2010 5:00 PM ET\n"
     ]
    },
    {
     "name": "stderr",
     "output_type": "stream",
     "text": [
      "\n",
      "[*********************100%%**********************]  1 of 1 completed\n",
      "[*********************100%%**********************]  1 of 1 completed\n"
     ]
    },
    {
     "name": "stdout",
     "output_type": "stream",
     "text": [
      "Highest price on the day after earnings release: 3.42\n",
      "Average price on the day before earnings release: 3.62\n",
      "Percentage change on earnings day: -5.52%\n",
      "Ticker: NVDA, Date and Time: May 8, 2014 5:00 PM ET\n"
     ]
    },
    {
     "name": "stderr",
     "output_type": "stream",
     "text": [
      "[*********************100%%**********************]  1 of 1 completed\n",
      "[*********************100%%**********************]  1 of 1 completed"
     ]
    },
    {
     "name": "stdout",
     "output_type": "stream",
     "text": [
      "Highest price on the day after earnings release: 4.53\n",
      "Average price on the day before earnings release: 4.65\n",
      "Percentage change on earnings day: -2.58%\n",
      "Ticker: NVDA, Date and Time: August 7, 2014 5:00 PM ET\n"
     ]
    },
    {
     "name": "stderr",
     "output_type": "stream",
     "text": [
      "\n",
      "[*********************100%%**********************]  1 of 1 completed\n",
      "[*********************100%%**********************]  1 of 1 completed"
     ]
    },
    {
     "name": "stdout",
     "output_type": "stream",
     "text": [
      "Highest price on the day after earnings release: 4.78\n",
      "Average price on the day before earnings release: 4.42\n",
      "Percentage change on earnings day: 8.14%\n",
      "Ticker: NVDA, Date and Time: November 9, 2017 5:00 PM ET\n"
     ]
    },
    {
     "name": "stderr",
     "output_type": "stream",
     "text": [
      "\n",
      "[*********************100%%**********************]  1 of 1 completed\n",
      "[*********************100%%**********************]  1 of 1 completed"
     ]
    },
    {
     "name": "stdout",
     "output_type": "stream",
     "text": [
      "Highest price on the day after earnings release: 54.67\n",
      "Average price on the day before earnings release: 52.87\n",
      "Percentage change on earnings day: 3.4%\n",
      "Ticker: NVDA, Date and Time: February 8, 2018 5:00 AM ET\n"
     ]
    },
    {
     "name": "stderr",
     "output_type": "stream",
     "text": [
      "\n",
      "[*********************100%%**********************]  1 of 1 completed\n",
      "[*********************100%%**********************]  1 of 1 completed"
     ]
    },
    {
     "name": "stdout",
     "output_type": "stream",
     "text": [
      "Highest price on the day after earnings release: 58.81\n",
      "Average price on the day before earnings release: 54.78\n",
      "Percentage change on earnings day: 7.36%\n",
      "Ticker: NVDA, Date and Time: November 7, 2013 5:00 PM ET\n"
     ]
    },
    {
     "name": "stderr",
     "output_type": "stream",
     "text": [
      "\n",
      "[*********************100%%**********************]  1 of 1 completed\n",
      "[*********************100%%**********************]  1 of 1 completed"
     ]
    },
    {
     "name": "stdout",
     "output_type": "stream",
     "text": [
      "Highest price on the day after earnings release: 3.9\n",
      "Average price on the day before earnings release: 3.68\n",
      "Percentage change on earnings day: 5.98%\n",
      "Ticker: NVDA, Date and Time: February 12, 2014 5:00 PM ET\n"
     ]
    },
    {
     "name": "stderr",
     "output_type": "stream",
     "text": [
      "\n",
      "[*********************100%%**********************]  1 of 1 completed\n",
      "[*********************100%%**********************]  1 of 1 completed"
     ]
    },
    {
     "name": "stdout",
     "output_type": "stream",
     "text": [
      "Highest price on the day after earnings release: 4.36\n",
      "Average price on the day before earnings release: 4.0\n",
      "Percentage change on earnings day: 9.0%\n",
      "Ticker: NVDA, Date and Time: May 12, 2011 5:00 PM ET\n"
     ]
    },
    {
     "name": "stderr",
     "output_type": "stream",
     "text": [
      "\n",
      "[*********************100%%**********************]  1 of 1 completed\n",
      "[*********************100%%**********************]  1 of 1 completed"
     ]
    },
    {
     "name": "stdout",
     "output_type": "stream",
     "text": [
      "Highest price on the day after earnings release: 4.81\n",
      "Average price on the day before earnings release: 4.94\n",
      "Percentage change on earnings day: -2.63%\n",
      "Ticker: NVDA, Date and Time: May 11, 2012 8:00 AM ET\n"
     ]
    },
    {
     "name": "stderr",
     "output_type": "stream",
     "text": [
      "\n",
      "[*********************100%%**********************]  1 of 1 completed\n",
      "[*********************100%%**********************]  1 of 1 completed\n"
     ]
    },
    {
     "name": "stdout",
     "output_type": "stream",
     "text": [
      "Highest price on the day after earnings release: 3.42\n",
      "Average price on the day before earnings release: 3.09\n",
      "Percentage change on earnings day: 10.68%\n",
      "Ticker: NVDA, Date and Time: August 11, 2011 5:00 PM ET\n"
     ]
    },
    {
     "name": "stderr",
     "output_type": "stream",
     "text": [
      "[*********************100%%**********************]  1 of 1 completed\n",
      "[*********************100%%**********************]  1 of 1 completed"
     ]
    },
    {
     "name": "stdout",
     "output_type": "stream",
     "text": [
      "Highest price on the day after earnings release: 3.71\n",
      "Average price on the day before earnings release: 3.12\n",
      "Percentage change on earnings day: 18.91%\n",
      "Ticker: NVDA, Date and Time: November 10, 2011 5:00 PM ET\n"
     ]
    },
    {
     "name": "stderr",
     "output_type": "stream",
     "text": [
      "\n",
      "[*********************100%%**********************]  1 of 1 completed\n",
      "[*********************100%%**********************]  1 of 1 completed"
     ]
    },
    {
     "name": "stdout",
     "output_type": "stream",
     "text": [
      "Highest price on the day after earnings release: 3.78\n",
      "Average price on the day before earnings release: 3.73\n",
      "Percentage change on earnings day: 1.34%\n",
      "Ticker: NVDA, Date and Time: February 16, 2011 5:00 PM ET\n"
     ]
    },
    {
     "name": "stderr",
     "output_type": "stream",
     "text": [
      "\n",
      "[*********************100%%**********************]  1 of 1 completed\n",
      "[*********************100%%**********************]  1 of 1 completed"
     ]
    },
    {
     "name": "stdout",
     "output_type": "stream",
     "text": [
      "Highest price on the day after earnings release: 6.5\n",
      "Average price on the day before earnings release: 5.94\n",
      "Percentage change on earnings day: 9.43%\n",
      "Ticker: NVDA, Date and Time: February 15, 2012 5:00 PM ET\n"
     ]
    },
    {
     "name": "stderr",
     "output_type": "stream",
     "text": [
      "\n",
      "[*********************100%%**********************]  1 of 1 completed\n"
     ]
    },
    {
     "name": "stdout",
     "output_type": "stream",
     "text": [
      "Highest price on the day after earnings release: 4.14\n",
      "Average price on the day before earnings release: 4.02\n",
      "Percentage change on earnings day: 2.99%\n",
      "Ticker: Ticker Symbol Not Found, Date and Time: August 3, 2023 11:00 AM ET\n",
      "Highest price on the day after earnings release: Data not available due to missing information\n",
      "Average price on the day before earnings release: Data not available due to missing information\n",
      "Ticker: Ticker Symbol Not Found, Date and Time: January 27, 2015 11:00 AM ET\n",
      "Highest price on the day after earnings release: Data not available due to missing information\n",
      "Average price on the day before earnings release: Data not available due to missing information\n",
      "Ticker: Ticker Symbol Not Found, Date and Time: November 1, 2018 11:00 AM ET\n",
      "Highest price on the day after earnings release: Data not available due to missing information\n",
      "Average price on the day before earnings release: Data not available due to missing information\n",
      "Ticker: Ticker Symbol Not Found, Date and Time: April 27, 2017 11:00 AM ET\n",
      "Highest price on the day after earnings release: Data not available due to missing information\n",
      "Average price on the day before earnings release: Data not available due to missing information\n",
      "Ticker: Ticker Symbol Not Found, Date and Time: April 26, 2018 11:00 AM ET\n",
      "Highest price on the day after earnings release: Data not available due to missing information\n",
      "Average price on the day before earnings release: Data not available due to missing information\n",
      "Ticker: Ticker Symbol Not Found, Date and Time: August 3, 2017 11:00 AM ET\n",
      "Highest price on the day after earnings release: Data not available due to missing information\n",
      "Average price on the day before earnings release: Data not available due to missing information\n",
      "Ticker: Ticker Symbol Not Found, Date and Time: August 2, 2018 11:00 AM ET\n",
      "Highest price on the day after earnings release: Data not available due to missing information\n",
      "Average price on the day before earnings release: Data not available due to missing information\n",
      "Ticker: Ticker Symbol Not Found, Date and Time: October 22, 2015 10:00 AM ET\n",
      "Highest price on the day after earnings release: Data not available due to missing information\n",
      "Average price on the day before earnings release: Data not available due to missing information\n",
      "Ticker: Ticker Symbol Not Found, Date and Time: January 26, 2016 11:00 AM ET\n",
      "Highest price on the day after earnings release: Data not available due to missing information\n",
      "Average price on the day before earnings release: Data not available due to missing information\n",
      "Ticker: Ticker Symbol Not Found, Date and Time: August 4, 2016 11:00 AM ET\n",
      "Highest price on the day after earnings release: Data not available due to missing information\n",
      "Average price on the day before earnings release: Data not available due to missing information\n",
      "Ticker: Ticker Symbol Not Found, Date and Time: November 5, 2020 11:00 AM ET\n",
      "Highest price on the day after earnings release: Data not available due to missing information\n",
      "Average price on the day before earnings release: Data not available due to missing information\n",
      "Ticker: Ticker Symbol Not Found, Date and Time: February 4, 2021 11:00 AM ET\n",
      "Highest price on the day after earnings release: Data not available due to missing information\n",
      "Average price on the day before earnings release: Data not available due to missing information\n",
      "Ticker: Ticker Symbol Not Found, Date and Time: November 4, 2021 11:00 AM ET\n",
      "Highest price on the day after earnings release: Data not available due to missing information\n",
      "Average price on the day before earnings release: Data not available due to missing information\n",
      "Ticker: Ticker Symbol Not Found, Date and Time: January 8, 2019 11:00 AM ET\n",
      "Highest price on the day after earnings release: Data not available due to missing information\n",
      "Average price on the day before earnings release: Data not available due to missing information\n",
      "Ticker: Ticker Symbol Not Found, Date and Time: April 29, 2021 11:00 AM ET\n",
      "Highest price on the day after earnings release: Data not available due to missing information\n",
      "Average price on the day before earnings release: Data not available due to missing information\n",
      "Ticker: Ticker Symbol Not Found, Date and Time: January 30, 2020 11:00 AM ET\n",
      "Highest price on the day after earnings release: Data not available due to missing information\n",
      "Average price on the day before earnings release: Data not available due to missing information\n",
      "Ticker: Ticker Symbol Not Found, Date and Time: February 3, 2022 11:00 AM ET\n",
      "Highest price on the day after earnings release: Data not available due to missing information\n",
      "Average price on the day before earnings release: Data not available due to missing information\n",
      "Ticker: Ticker Symbol Not Found, Date and Time: April 30, 2020 11:00 AM ET\n",
      "Highest price on the day after earnings release: Data not available due to missing information\n",
      "Average price on the day before earnings release: Data not available due to missing information\n",
      "Ticker: Ticker Symbol Not Found, Date and Time: May 5, 2022 11:00 AM ET\n",
      "Highest price on the day after earnings release: Data not available due to missing information\n",
      "Average price on the day before earnings release: Data not available due to missing information\n",
      "Ticker: Ticker Symbol Not Found, Date and Time: August 1, 2019 11:00 AM ET\n",
      "Highest price on the day after earnings release: Data not available due to missing information\n",
      "Average price on the day before earnings release: Data not available due to missing information\n",
      "Ticker: Ticker Symbol Not Found, Date and Time: August 6, 2020 12:00 PM ET\n",
      "Highest price on the day after earnings release: Data not available due to missing information\n",
      "Average price on the day before earnings release: Data not available due to missing information\n",
      "Ticker: Ticker Symbol Not Found, Date and Time: August 5, 2021 11:00 AM ET\n",
      "Highest price on the day after earnings release: Data not available due to missing information\n",
      "Average price on the day before earnings release: Data not available due to missing information\n",
      "Ticker: Ticker Symbol Not Found, Date and Time: August 4, 2022 11:00 AM ET\n",
      "Highest price on the day after earnings release: Data not available due to missing information\n",
      "Average price on the day before earnings release: Data not available due to missing information\n",
      "Ticker: Ticker Symbol Not Found, Date and Time: November 3, 2022 11:00 AM ET\n",
      "Highest price on the day after earnings release: Data not available due to missing information\n",
      "Average price on the day before earnings release: Data not available due to missing information\n",
      "Ticker: Ticker Symbol Not Found, Date and Time: November 2, 2023 11:00 AM ET\n",
      "Highest price on the day after earnings release: Data not available due to missing information\n",
      "Average price on the day before earnings release: Data not available due to missing information\n",
      "Ticker: Ticker Symbol Not Found, Date and Time: February 2, 2023 11:00 AM ET\n",
      "Highest price on the day after earnings release: Data not available due to missing information\n",
      "Average price on the day before earnings release: Data not available due to missing information\n",
      "Ticker: Ticker Symbol Not Found, Date and Time: January 1, 0000 11:49 AM ET\n",
      "Highest price on the day after earnings release: Data not available due to missing information\n",
      "Average price on the day before earnings release: Data not available due to missing information\n",
      "Ticker: Ticker Symbol Not Found, Date and Time: May 4, 2023 11:00 AM ET\n",
      "Highest price on the day after earnings release: Data not available due to missing information\n",
      "Average price on the day before earnings release: Data not available due to missing information\n",
      "Ticker: Ticker Symbol Not Found, Date and Time: October 31, 2019 11:00 AM ET\n",
      "Highest price on the day after earnings release: Data not available due to missing information\n",
      "Average price on the day before earnings release: Data not available due to missing information\n",
      "Ticker: Ticker Symbol Not Found, Date and Time: August 4, 2015 11:00 AM ET\n",
      "Highest price on the day after earnings release: Data not available due to missing information\n",
      "Average price on the day before earnings release: Data not available due to missing information\n",
      "Ticker: Ticker Symbol Not Found, Date and Time: October 28, 2014 10:00 AM ET\n",
      "Highest price on the day after earnings release: Data not available due to missing information\n",
      "Average price on the day before earnings release: Data not available due to missing information\n",
      "Ticker: Ticker Symbol Not Found, Date and Time: November 2, 2017 11:00 AM ET\n",
      "Highest price on the day after earnings release: Data not available due to missing information\n",
      "Average price on the day before earnings release: Data not available due to missing information\n",
      "Ticker: Ticker Symbol Not Found, Date and Time: April 28, 2015 11:00 AM ET\n",
      "Highest price on the day after earnings release: Data not available due to missing information\n",
      "Average price on the day before earnings release: Data not available due to missing information\n",
      "Ticker: Ticker Symbol Not Found, Date and Time: October 21, 2016 11:00 AM ET\n",
      "Highest price on the day after earnings release: Data not available due to missing information\n",
      "Average price on the day before earnings release: Data not available due to missing information\n",
      "Ticker: Ticker Symbol Not Found, Date and Time: February 2, 2017 11:00 AM ET\n",
      "Highest price on the day after earnings release: Data not available due to missing information\n",
      "Average price on the day before earnings release: Data not available due to missing information\n",
      "Ticker: Ticker Symbol Not Found, Date and Time: February 1, 2018 11:00 AM ET\n",
      "Highest price on the day after earnings release: Data not available due to missing information\n",
      "Average price on the day before earnings release: Data not available due to missing information\n",
      "Ticker: Ticker Symbol Not Found, Date and Time: May 2, 2019 11:00 AM ET\n",
      "Highest price on the day after earnings release: Data not available due to missing information\n",
      "Average price on the day before earnings release: Data not available due to missing information\n",
      "Ticker: Ticker Symbol Not Found, Date and Time: April 26, 2016 11:00 AM ET\n",
      "Highest price on the day after earnings release: Data not available due to missing information\n",
      "Average price on the day before earnings release: Data not available due to missing information\n",
      "Ticker: Ticker Symbol Not Found, Date and Time: October 25, 2017 5:00 PM ET\n",
      "Highest price on the day after earnings release: Data not available due to missing information\n",
      "Average price on the day before earnings release: Data not available due to missing information\n",
      "Ticker: Ticker Symbol Not Found, Date and Time: July 29, 2015 5:00 PM ET\n",
      "Highest price on the day after earnings release: Data not available due to missing information\n",
      "Average price on the day before earnings release: Data not available due to missing information\n",
      "Ticker: Ticker Symbol Not Found, Date and Time: October 21, 2015 5:00 PM ET\n",
      "Highest price on the day after earnings release: Data not available due to missing information\n",
      "Average price on the day before earnings release: Data not available due to missing information\n",
      "Ticker: Ticker Symbol Not Found, Date and Time: January 27, 2016 5:00 PM ET\n",
      "Highest price on the day after earnings release: Data not available due to missing information\n",
      "Average price on the day before earnings release: Data not available due to missing information\n",
      "Ticker: Ticker Symbol Not Found, Date and Time: April 26, 2017 5:00 PM ET\n",
      "Highest price on the day after earnings release: Data not available due to missing information\n",
      "Average price on the day before earnings release: Data not available due to missing information\n",
      "Ticker: Ticker Symbol Not Found, Date and Time: April 25, 2018 5:00 PM ET\n",
      "Highest price on the day after earnings release: Data not available due to missing information\n",
      "Average price on the day before earnings release: Data not available due to missing information\n",
      "Ticker: Ticker Symbol Not Found, Date and Time: July 27, 2016 5:00 PM ET\n",
      "Highest price on the day after earnings release: Data not available due to missing information\n",
      "Average price on the day before earnings release: Data not available due to missing information\n",
      "Ticker: Ticker Symbol Not Found, Date and Time: July 26, 2017 5:00 PM ET\n",
      "Highest price on the day after earnings release: Data not available due to missing information\n",
      "Average price on the day before earnings release: Data not available due to missing information\n",
      "Ticker: Ticker Symbol Not Found, Date and Time: July 25, 2018 5:00 PM ET\n",
      "Highest price on the day after earnings release: Data not available due to missing information\n",
      "Average price on the day before earnings release: Data not available due to missing information\n",
      "Ticker: Ticker Symbol Not Found, Date and Time: October 26, 2016 5:00 PM ET\n",
      "Highest price on the day after earnings release: Data not available due to missing information\n",
      "Average price on the day before earnings release: Data not available due to missing information\n",
      "Ticker: Ticker Symbol Not Found, Date and Time: October 24, 2018 5:00 PM ET\n",
      "Highest price on the day after earnings release: Data not available due to missing information\n",
      "Average price on the day before earnings release: Data not available due to missing information\n",
      "Ticker: Ticker Symbol Not Found, Date and Time: January 27, 2021 5:00 PM ET\n",
      "Highest price on the day after earnings release: Data not available due to missing information\n",
      "Average price on the day before earnings release: Data not available due to missing information\n",
      "Ticker: Ticker Symbol Not Found, Date and Time: January 26, 2022 5:00 PM ET\n",
      "Highest price on the day after earnings release: Data not available due to missing information\n",
      "Average price on the day before earnings release: Data not available due to missing information\n",
      "Ticker: Ticker Symbol Not Found, Date and Time: April 20, 2016 5:00 PM ET\n",
      "Highest price on the day after earnings release: Data not available due to missing information\n",
      "Average price on the day before earnings release: Data not available due to missing information\n",
      "Ticker: Ticker Symbol Not Found, Date and Time: July 30, 2014 5:00 PM ET\n",
      "Highest price on the day after earnings release: Data not available due to missing information\n",
      "Average price on the day before earnings release: Data not available due to missing information\n",
      "Ticker: Ticker Symbol Not Found, Date and Time: October 22, 2014 5:00 PM ET\n",
      "Highest price on the day after earnings release: Data not available due to missing information\n",
      "Average price on the day before earnings release: Data not available due to missing information\n",
      "Ticker: Ticker Symbol Not Found, Date and Time: January 28, 2015 5:00 PM ET\n",
      "Highest price on the day after earnings release: Data not available due to missing information\n",
      "Average price on the day before earnings release: Data not available due to missing information\n",
      "Ticker: Ticker Symbol Not Found, Date and Time: January 31, 2018 5:00 PM ET\n",
      "Highest price on the day after earnings release: Data not available due to missing information\n",
      "Average price on the day before earnings release: Data not available due to missing information\n",
      "Ticker: Ticker Symbol Not Found, Date and Time: January 30, 2019 5:00 PM ET\n",
      "Highest price on the day after earnings release: Data not available due to missing information\n",
      "Average price on the day before earnings release: Data not available due to missing information\n",
      "Ticker: Ticker Symbol Not Found, Date and Time: January 25, 2017 5:00 PM ET\n",
      "Highest price on the day after earnings release: Data not available due to missing information\n",
      "Average price on the day before earnings release: Data not available due to missing information\n",
      "Ticker: Ticker Symbol Not Found, Date and Time: April 16, 2015 5:00 PM ET\n",
      "Highest price on the day after earnings release: Data not available due to missing information\n",
      "Average price on the day before earnings release: Data not available due to missing information\n",
      "Ticker: Ticker Symbol Not Found, Date and Time: April 29, 2020 5:00 PM ET\n",
      "Highest price on the day after earnings release: Data not available due to missing information\n",
      "Average price on the day before earnings release: Data not available due to missing information\n",
      "Ticker: Ticker Symbol Not Found, Date and Time: April 27, 2022 5:00 PM ET\n",
      "Highest price on the day after earnings release: Data not available due to missing information\n",
      "Average price on the day before earnings release: Data not available due to missing information\n",
      "Ticker: Ticker Symbol Not Found, Date and Time: July 29, 2020 5:00 PM ET\n",
      "Highest price on the day after earnings release: Data not available due to missing information\n",
      "Average price on the day before earnings release: Data not available due to missing information\n",
      "Ticker: Ticker Symbol Not Found, Date and Time: July 27, 2022 5:00 PM ET\n",
      "Highest price on the day after earnings release: Data not available due to missing information\n",
      "Average price on the day before earnings release: Data not available due to missing information\n",
      "Ticker: Ticker Symbol Not Found, Date and Time: October 28, 2020 5:00 PM ET\n",
      "Highest price on the day after earnings release: Data not available due to missing information\n",
      "Average price on the day before earnings release: Data not available due to missing information\n",
      "Ticker: Ticker Symbol Not Found, Date and Time: October 27, 2021 5:00 PM ET\n",
      "Highest price on the day after earnings release: Data not available due to missing information\n",
      "Average price on the day before earnings release: Data not available due to missing information\n",
      "Ticker: Ticker Symbol Not Found, Date and Time: January 29, 2020 5:00 PM ET\n",
      "Highest price on the day after earnings release: Data not available due to missing information\n",
      "Average price on the day before earnings release: Data not available due to missing information\n",
      "Ticker: Ticker Symbol Not Found, Date and Time: April 24, 2019 5:00 PM ET\n",
      "Highest price on the day after earnings release: Data not available due to missing information\n",
      "Average price on the day before earnings release: Data not available due to missing information\n",
      "Ticker: Ticker Symbol Not Found, Date and Time: July 24, 2019 5:00 PM ET\n",
      "Highest price on the day after earnings release: Data not available due to missing information\n",
      "Average price on the day before earnings release: Data not available due to missing information\n",
      "Ticker: Ticker Symbol Not Found, Date and Time: October 23, 2019 5:00 PM ET\n",
      "Highest price on the day after earnings release: Data not available due to missing information\n",
      "Average price on the day before earnings release: Data not available due to missing information\n",
      "Ticker: Ticker Symbol Not Found, Date and Time: April 26, 2023 5:00 PM ET\n",
      "Highest price on the day after earnings release: Data not available due to missing information\n",
      "Average price on the day before earnings release: Data not available due to missing information\n",
      "Ticker: Ticker Symbol Not Found, Date and Time: July 26, 2023 5:00 PM ET\n",
      "Highest price on the day after earnings release: Data not available due to missing information\n",
      "Average price on the day before earnings release: Data not available due to missing information\n",
      "Ticker: Ticker Symbol Not Found, Date and Time: October 26, 2022 5:00 PM ET\n",
      "Highest price on the day after earnings release: Data not available due to missing information\n",
      "Average price on the day before earnings release: Data not available due to missing information\n",
      "Ticker: Ticker Symbol Not Found, Date and Time: October 25, 2023 5:00 PM ET\n",
      "Highest price on the day after earnings release: Data not available due to missing information\n",
      "Average price on the day before earnings release: Data not available due to missing information\n",
      "Ticker: Ticker Symbol Not Found, Date and Time: January 25, 2023 5:00 PM ET\n",
      "Highest price on the day after earnings release: Data not available due to missing information\n",
      "Average price on the day before earnings release: Data not available due to missing information\n",
      "Ticker: Ticker Symbol Not Found, Date and Time: January 24, 2024 5:00 PM ET\n",
      "Highest price on the day after earnings release: Data not available due to missing information\n",
      "Average price on the day before earnings release: Data not available due to missing information\n",
      "Ticker: Ticker Symbol Not Found, Date and Time: July 28, 2021 5:00 PM ET\n",
      "Highest price on the day after earnings release: Data not available due to missing information\n",
      "Average price on the day before earnings release: Data not available due to missing information\n",
      "Ticker: Ticker Symbol Not Found, Date and Time: April 28, 2021 5:00 PM ET\n",
      "Highest price on the day after earnings release: Data not available due to missing information\n",
      "Average price on the day before earnings release: Data not available due to missing information\n",
      "Ticker: TXN, Date and Time: July 24, 2018 4:30 PM ET\n"
     ]
    },
    {
     "name": "stderr",
     "output_type": "stream",
     "text": [
      "[*********************100%%**********************]  1 of 1 completed\n",
      "[*********************100%%**********************]  1 of 1 completed\n",
      "\n",
      "1 Failed download:\n",
      "['TXN']: Exception('%ticker%: No price data found, symbol may be delisted (1d 2018-07-22 -> 2018-07-23)')\n",
      "[*********************100%%**********************]  1 of 1 completed\n",
      "\n",
      "1 Failed download:\n",
      "['TXN']: Exception('%ticker%: No price data found, symbol may be delisted (1d 2018-07-21 -> 2018-07-22)')\n",
      "[*********************100%%**********************]  1 of 1 completed\n"
     ]
    },
    {
     "name": "stdout",
     "output_type": "stream",
     "text": [
      "Highest price on the day after earnings release: 114.39\n",
      "Average price on the day before earnings release: 114.99\n",
      "Percentage change on earnings day: -0.52%\n",
      "Ticker: TXN, Date and Time: April 22, 2015 5:30 PM ET\n"
     ]
    },
    {
     "name": "stderr",
     "output_type": "stream",
     "text": [
      "[*********************100%%**********************]  1 of 1 completed\n",
      "[*********************100%%**********************]  1 of 1 completed\n"
     ]
    },
    {
     "name": "stdout",
     "output_type": "stream",
     "text": [
      "Highest price on the day after earnings release: 54.93\n",
      "Average price on the day before earnings release: 58.06\n",
      "Percentage change on earnings day: -5.39%\n",
      "Ticker: Ticker Symbol Not Found, Date and Time: April 24, 2018 4:30 PM ET\n",
      "Highest price on the day after earnings release: Data not available due to missing information\n",
      "Average price on the day before earnings release: Data not available due to missing information\n",
      "Ticker: TXN, Date and Time: July 25, 2017 5:00 PM ET\n"
     ]
    },
    {
     "name": "stderr",
     "output_type": "stream",
     "text": [
      "[*********************100%%**********************]  1 of 1 completed\n",
      "[*********************100%%**********************]  1 of 1 completed\n",
      "\n",
      "1 Failed download:\n",
      "['TXN']: Exception('%ticker%: No price data found, symbol may be delisted (1d 2017-07-23 -> 2017-07-24)')\n",
      "[*********************100%%**********************]  1 of 1 completed\n",
      "\n",
      "1 Failed download:\n",
      "['TXN']: Exception('%ticker%: No price data found, symbol may be delisted (1d 2017-07-22 -> 2017-07-23)')\n",
      "[*********************100%%**********************]  1 of 1 completed\n",
      "[*********************100%%**********************]  1 of 1 completed\n"
     ]
    },
    {
     "name": "stdout",
     "output_type": "stream",
     "text": [
      "Highest price on the day after earnings release: 84.24\n",
      "Average price on the day before earnings release: 81.5\n",
      "Percentage change on earnings day: 3.36%\n",
      "Ticker: TXN, Date and Time: October 23, 2018 4:30 PM ET\n"
     ]
    },
    {
     "name": "stderr",
     "output_type": "stream",
     "text": [
      "[*********************100%%**********************]  1 of 1 completed\n",
      "\n",
      "1 Failed download:\n",
      "['TXN']: Exception('%ticker%: No price data found, symbol may be delisted (1d 2018-10-21 -> 2018-10-22)')\n",
      "[*********************100%%**********************]  1 of 1 completed\n",
      "\n",
      "1 Failed download:\n",
      "['TXN']: Exception('%ticker%: No price data found, symbol may be delisted (1d 2018-10-20 -> 2018-10-21)')\n",
      "[*********************100%%**********************]  1 of 1 completed\n",
      "[*********************100%%**********************]  1 of 1 completed"
     ]
    },
    {
     "name": "stdout",
     "output_type": "stream",
     "text": [
      "Highest price on the day after earnings release: 96.98\n",
      "Average price on the day before earnings release: 98.86\n",
      "Percentage change on earnings day: -1.9%\n",
      "Ticker: TXN, Date and Time: January 24, 2017 5:30 PM ET\n"
     ]
    },
    {
     "name": "stderr",
     "output_type": "stream",
     "text": [
      "\n",
      "[*********************100%%**********************]  1 of 1 completed\n",
      "\n",
      "1 Failed download:\n",
      "['TXN']: Exception('%ticker%: No price data found, symbol may be delisted (1d 2017-01-22 -> 2017-01-23)')\n",
      "[*********************100%%**********************]  1 of 1 completed\n",
      "\n",
      "1 Failed download:\n",
      "['TXN']: Exception('%ticker%: No price data found, symbol may be delisted (1d 2017-01-21 -> 2017-01-22)')\n",
      "[*********************100%%**********************]  1 of 1 completed\n"
     ]
    },
    {
     "name": "stdout",
     "output_type": "stream",
     "text": [
      "Highest price on the day after earnings release: 78.72\n",
      "Average price on the day before earnings release: 74.53\n",
      "Percentage change on earnings day: 5.62%\n",
      "Ticker: TXN, Date and Time: April 21, 2020 4:30 PM ET\n"
     ]
    },
    {
     "name": "stderr",
     "output_type": "stream",
     "text": [
      "[*********************100%%**********************]  1 of 1 completed\n",
      "[*********************100%%**********************]  1 of 1 completed\n",
      "\n",
      "1 Failed download:\n",
      "['TXN']: Exception('%ticker%: No price data found, symbol may be delisted (1d 2020-04-19 -> 2020-04-20)')\n",
      "[*********************100%%**********************]  1 of 1 completed\n",
      "\n",
      "1 Failed download:\n",
      "['TXN']: Exception('%ticker%: No price data found, symbol may be delisted (1d 2020-04-18 -> 2020-04-19)')\n",
      "[*********************100%%**********************]  1 of 1 completed\n",
      "[*********************100%%**********************]  1 of 1 completed"
     ]
    },
    {
     "name": "stdout",
     "output_type": "stream",
     "text": [
      "Highest price on the day after earnings release: 112.46\n",
      "Average price on the day before earnings release: 112.4\n",
      "Percentage change on earnings day: 0.05%\n",
      "Ticker: TXN, Date and Time: April 26, 2022 4:30 PM ET\n"
     ]
    },
    {
     "name": "stderr",
     "output_type": "stream",
     "text": [
      "\n",
      "[*********************100%%**********************]  1 of 1 completed\n",
      "\n",
      "1 Failed download:\n",
      "['TXN']: Exception('%ticker%: No price data found, symbol may be delisted (1d 2022-04-24 -> 2022-04-25)')\n",
      "[*********************100%%**********************]  1 of 1 completed\n",
      "\n",
      "1 Failed download:\n",
      "['TXN']: Exception('%ticker%: No price data found, symbol may be delisted (1d 2022-04-23 -> 2022-04-24)')\n",
      "[*********************100%%**********************]  1 of 1 completed\n",
      "[*********************100%%**********************]  1 of 1 completed"
     ]
    },
    {
     "name": "stdout",
     "output_type": "stream",
     "text": [
      "Highest price on the day after earnings release: 171.92\n",
      "Average price on the day before earnings release: 175.28\n",
      "Percentage change on earnings day: -1.92%\n",
      "Ticker: TXN, Date and Time: January 23, 2019 4:30 PM ET\n"
     ]
    },
    {
     "name": "stderr",
     "output_type": "stream",
     "text": [
      "\n",
      "[*********************100%%**********************]  1 of 1 completed\n",
      "\n",
      "1 Failed download:\n",
      "['TXN']: Exception('%ticker%: No price data found, symbol may be delisted (1d 2019-01-21 -> 2019-01-22)')\n",
      "[*********************100%%**********************]  1 of 1 completed\n",
      "\n",
      "1 Failed download:\n",
      "['TXN']: Exception('%ticker%: No price data found, symbol may be delisted (1d 2019-01-20 -> 2019-01-21)')\n",
      "[*********************100%%**********************]  1 of 1 completed\n",
      "\n",
      "1 Failed download:\n",
      "['TXN']: Exception('%ticker%: No price data found, symbol may be delisted (1d 2019-01-19 -> 2019-01-20)')\n",
      "[*********************100%%**********************]  1 of 1 completed\n",
      "[*********************100%%**********************]  1 of 1 completed"
     ]
    },
    {
     "name": "stdout",
     "output_type": "stream",
     "text": [
      "Highest price on the day after earnings release: 102.51\n",
      "Average price on the day before earnings release: 98.96\n",
      "Percentage change on earnings day: 3.59%\n",
      "Ticker: TXN, Date and Time: January 25, 2022 4:15 PM ET\n"
     ]
    },
    {
     "name": "stderr",
     "output_type": "stream",
     "text": [
      "\n",
      "[*********************100%%**********************]  1 of 1 completed\n",
      "\n",
      "1 Failed download:\n",
      "['TXN']: Exception('%ticker%: No price data found, symbol may be delisted (1d 2022-01-23 -> 2022-01-24)')\n",
      "[*********************100%%**********************]  1 of 1 completed\n",
      "\n",
      "1 Failed download:\n",
      "['TXN']: Exception('%ticker%: No price data found, symbol may be delisted (1d 2022-01-22 -> 2022-01-23)')\n",
      "[*********************100%%**********************]  1 of 1 completed\n"
     ]
    },
    {
     "name": "stdout",
     "output_type": "stream",
     "text": [
      "Highest price on the day after earnings release: 183.25\n",
      "Average price on the day before earnings release: 176.44\n",
      "Percentage change on earnings day: 3.86%\n",
      "Ticker: TXN, Date and Time: April 23, 2019 4:30 PM ET\n"
     ]
    },
    {
     "name": "stderr",
     "output_type": "stream",
     "text": [
      "[*********************100%%**********************]  1 of 1 completed\n",
      "[*********************100%%**********************]  1 of 1 completed\n",
      "\n",
      "1 Failed download:\n",
      "['TXN']: Exception('%ticker%: No price data found, symbol may be delisted (1d 2019-04-21 -> 2019-04-22)')\n",
      "[*********************100%%**********************]  1 of 1 completed\n",
      "\n",
      "1 Failed download:\n",
      "['TXN']: Exception('%ticker%: No price data found, symbol may be delisted (1d 2019-04-20 -> 2019-04-21)')\n",
      "[*********************100%%**********************]  1 of 1 completed\n",
      "\n",
      "1 Failed download:\n",
      "['TXN']: Exception('%ticker%: No price data found, symbol may be delisted (1d 2019-04-19 -> 2019-04-20)')\n",
      "[*********************100%%**********************]  1 of 1 completed\n",
      "[*********************100%%**********************]  1 of 1 completed\n"
     ]
    },
    {
     "name": "stdout",
     "output_type": "stream",
     "text": [
      "Highest price on the day after earnings release: 119.32\n",
      "Average price on the day before earnings release: 115.65\n",
      "Percentage change on earnings day: 3.17%\n",
      "Ticker: TXN, Date and Time: July 23, 2019 4:30 PM ET\n"
     ]
    },
    {
     "name": "stderr",
     "output_type": "stream",
     "text": [
      "[*********************100%%**********************]  1 of 1 completed\n",
      "\n",
      "1 Failed download:\n",
      "['TXN']: Exception('%ticker%: No price data found, symbol may be delisted (1d 2019-07-21 -> 2019-07-22)')\n",
      "[*********************100%%**********************]  1 of 1 completed\n",
      "\n",
      "1 Failed download:\n",
      "['TXN']: Exception('%ticker%: No price data found, symbol may be delisted (1d 2019-07-20 -> 2019-07-21)')\n",
      "[*********************100%%**********************]  1 of 1 completed\n",
      "[*********************100%%**********************]  1 of 1 completed\n"
     ]
    },
    {
     "name": "stdout",
     "output_type": "stream",
     "text": [
      "Highest price on the day after earnings release: 129.8\n",
      "Average price on the day before earnings release: 118.02\n",
      "Percentage change on earnings day: 9.98%\n",
      "Ticker: TXN, Date and Time: July 21, 2020 4:30 PM ET\n"
     ]
    },
    {
     "name": "stderr",
     "output_type": "stream",
     "text": [
      "[*********************100%%**********************]  1 of 1 completed\n",
      "\n",
      "1 Failed download:\n",
      "['TXN']: Exception('%ticker%: No price data found, symbol may be delisted (1d 2020-07-19 -> 2020-07-20)')\n",
      "[*********************100%%**********************]  1 of 1 completed\n",
      "\n",
      "1 Failed download:\n",
      "['TXN']: Exception('%ticker%: No price data found, symbol may be delisted (1d 2020-07-18 -> 2020-07-19)')\n",
      "[*********************100%%**********************]  1 of 1 completed\n"
     ]
    },
    {
     "name": "stdout",
     "output_type": "stream",
     "text": [
      "Highest price on the day after earnings release: 135.18\n",
      "Average price on the day before earnings release: 133.62\n",
      "Percentage change on earnings day: 1.17%\n",
      "Ticker: TXN, Date and Time: April 25, 2017 5:30 PM ET\n"
     ]
    },
    {
     "name": "stderr",
     "output_type": "stream",
     "text": [
      "[*********************100%%**********************]  1 of 1 completed\n",
      "[*********************100%%**********************]  1 of 1 completed\n",
      "\n",
      "1 Failed download:\n",
      "['TXN']: Exception('%ticker%: No price data found, symbol may be delisted (1d 2017-04-23 -> 2017-04-24)')\n",
      "[*********************100%%**********************]  1 of 1 completed\n",
      "\n",
      "1 Failed download:\n",
      "['TXN']: Exception('%ticker%: No price data found, symbol may be delisted (1d 2017-04-22 -> 2017-04-23)')\n",
      "[*********************100%%**********************]  1 of 1 completed\n",
      "[*********************100%%**********************]  1 of 1 completed\n"
     ]
    },
    {
     "name": "stdout",
     "output_type": "stream",
     "text": [
      "Highest price on the day after earnings release: 82.92\n",
      "Average price on the day before earnings release: 79.83\n",
      "Percentage change on earnings day: 3.87%\n",
      "Ticker: TXN, Date and Time: April 27, 2021 4:30 PM ET\n"
     ]
    },
    {
     "name": "stderr",
     "output_type": "stream",
     "text": [
      "[*********************100%%**********************]  1 of 1 completed\n",
      "\n",
      "1 Failed download:\n",
      "['TXN']: Exception('%ticker%: No price data found, symbol may be delisted (1d 2021-04-25 -> 2021-04-26)')\n",
      "[*********************100%%**********************]  1 of 1 completed\n",
      "\n",
      "1 Failed download:\n",
      "['TXN']: Exception('%ticker%: No price data found, symbol may be delisted (1d 2021-04-24 -> 2021-04-25)')\n",
      "[*********************100%%**********************]  1 of 1 completed\n"
     ]
    },
    {
     "name": "stdout",
     "output_type": "stream",
     "text": [
      "Highest price on the day after earnings release: 184.0\n",
      "Average price on the day before earnings release: 188.26\n",
      "Percentage change on earnings day: -2.26%\n",
      "Ticker: TXN, Date and Time: April 25, 2023 4:30 PM ET\n"
     ]
    },
    {
     "name": "stderr",
     "output_type": "stream",
     "text": [
      "[*********************100%%**********************]  1 of 1 completed\n",
      "[*********************100%%**********************]  1 of 1 completed\n",
      "\n",
      "1 Failed download:\n",
      "['TXN']: Exception('%ticker%: No price data found, symbol may be delisted (1d 2023-04-23 -> 2023-04-24)')\n",
      "[*********************100%%**********************]  1 of 1 completed\n",
      "\n",
      "1 Failed download:\n",
      "['TXN']: Exception('%ticker%: No price data found, symbol may be delisted (1d 2023-04-22 -> 2023-04-23)')\n",
      "[*********************100%%**********************]  1 of 1 completed\n",
      "[*********************100%%**********************]  1 of 1 completed\n"
     ]
    },
    {
     "name": "stdout",
     "output_type": "stream",
     "text": [
      "Highest price on the day after earnings release: 170.97\n",
      "Average price on the day before earnings release: 176.21\n",
      "Percentage change on earnings day: -2.97%\n",
      "Ticker: TXN, Date and Time: July 21, 2021 4:30 PM ET\n"
     ]
    },
    {
     "name": "stderr",
     "output_type": "stream",
     "text": [
      "[*********************100%%**********************]  1 of 1 completed\n",
      "[*********************100%%**********************]  1 of 1 completed\n"
     ]
    },
    {
     "name": "stdout",
     "output_type": "stream",
     "text": [
      "Highest price on the day after earnings release: 187.66\n",
      "Average price on the day before earnings release: 184.85\n",
      "Percentage change on earnings day: 1.52%\n",
      "Ticker: TXN, Date and Time: July 26, 2022 4:30 PM ET\n"
     ]
    },
    {
     "name": "stderr",
     "output_type": "stream",
     "text": [
      "[*********************100%%**********************]  1 of 1 completed\n",
      "\n",
      "1 Failed download:\n",
      "['TXN']: Exception('%ticker%: No price data found, symbol may be delisted (1d 2022-07-24 -> 2022-07-25)')\n",
      "[*********************100%%**********************]  1 of 1 completed\n",
      "\n",
      "1 Failed download:\n",
      "['TXN']: Exception('%ticker%: No price data found, symbol may be delisted (1d 2022-07-23 -> 2022-07-24)')\n",
      "[*********************100%%**********************]  1 of 1 completed\n"
     ]
    },
    {
     "name": "stdout",
     "output_type": "stream",
     "text": [
      "Highest price on the day after earnings release: 171.99\n",
      "Average price on the day before earnings release: 165.29\n",
      "Percentage change on earnings day: 4.05%\n",
      "Ticker: TXN, Date and Time: July 25, 2023 4:30 PM ET\n"
     ]
    },
    {
     "name": "stderr",
     "output_type": "stream",
     "text": [
      "[*********************100%%**********************]  1 of 1 completed\n",
      "[*********************100%%**********************]  1 of 1 completed\n",
      "\n",
      "1 Failed download:\n",
      "['TXN']: Exception('%ticker%: No price data found, symbol may be delisted (1d 2023-07-23 -> 2023-07-24)')\n",
      "[*********************100%%**********************]  1 of 1 completed\n",
      "\n",
      "1 Failed download:\n",
      "['TXN']: Exception('%ticker%: No price data found, symbol may be delisted (1d 2023-07-22 -> 2023-07-23)')\n",
      "[*********************100%%**********************]  1 of 1 completed\n",
      "[*********************100%%**********************]  1 of 1 completed\n"
     ]
    },
    {
     "name": "stdout",
     "output_type": "stream",
     "text": [
      "Highest price on the day after earnings release: 177.7\n",
      "Average price on the day before earnings release: 183.47\n",
      "Percentage change on earnings day: -3.14%\n",
      "Ticker: TXN, Date and Time: October 24, 2017 5:00 PM ET\n"
     ]
    },
    {
     "name": "stderr",
     "output_type": "stream",
     "text": [
      "[*********************100%%**********************]  1 of 1 completed\n",
      "\n",
      "1 Failed download:\n",
      "['TXN']: Exception('%ticker%: No price data found, symbol may be delisted (1d 2017-10-22 -> 2017-10-23)')\n",
      "[*********************100%%**********************]  1 of 1 completed\n",
      "\n",
      "1 Failed download:\n",
      "['TXN']: Exception('%ticker%: No price data found, symbol may be delisted (1d 2017-10-21 -> 2017-10-22)')\n",
      "[*********************100%%**********************]  1 of 1 completed\n",
      "[*********************100%%**********************]  1 of 1 completed\n"
     ]
    },
    {
     "name": "stdout",
     "output_type": "stream",
     "text": [
      "Highest price on the day after earnings release: 96.7\n",
      "Average price on the day before earnings release: 94.7\n",
      "Percentage change on earnings day: 2.11%\n",
      "Ticker: TXN, Date and Time: October 22, 2019 4:30 PM ET\n"
     ]
    },
    {
     "name": "stderr",
     "output_type": "stream",
     "text": [
      "[*********************100%%**********************]  1 of 1 completed\n",
      "\n",
      "1 Failed download:\n",
      "['TXN']: Exception('%ticker%: No price data found, symbol may be delisted (1d 2019-10-20 -> 2019-10-21)')\n",
      "[*********************100%%**********************]  1 of 1 completed\n",
      "\n",
      "1 Failed download:\n",
      "['TXN']: Exception('%ticker%: No price data found, symbol may be delisted (1d 2019-10-19 -> 2019-10-20)')\n",
      "[*********************100%%**********************]  1 of 1 completed\n",
      "[*********************100%%**********************]  1 of 1 completed\n"
     ]
    },
    {
     "name": "stdout",
     "output_type": "stream",
     "text": [
      "Highest price on the day after earnings release: 121.62\n",
      "Average price on the day before earnings release: 129.49\n",
      "Percentage change on earnings day: -6.08%\n",
      "Ticker: TXN, Date and Time: October 20, 2020 4:30 PM ET\n"
     ]
    },
    {
     "name": "stderr",
     "output_type": "stream",
     "text": [
      "[*********************100%%**********************]  1 of 1 completed\n",
      "\n",
      "1 Failed download:\n",
      "['TXN']: Exception('%ticker%: No price data found, symbol may be delisted (1d 2020-10-18 -> 2020-10-19)')\n",
      "[*********************100%%**********************]  1 of 1 completed\n",
      "\n",
      "1 Failed download:\n",
      "['TXN']: Exception('%ticker%: No price data found, symbol may be delisted (1d 2020-10-17 -> 2020-10-18)')\n",
      "[*********************100%%**********************]  1 of 1 completed\n",
      "[*********************100%%**********************]  1 of 1 completed\n"
     ]
    },
    {
     "name": "stdout",
     "output_type": "stream",
     "text": [
      "Highest price on the day after earnings release: 149.46\n",
      "Average price on the day before earnings release: 153.82\n",
      "Percentage change on earnings day: -2.83%\n",
      "Ticker: TXN, Date and Time: October 26, 2021 4:30 PM ET\n"
     ]
    },
    {
     "name": "stderr",
     "output_type": "stream",
     "text": [
      "[*********************100%%**********************]  1 of 1 completed\n",
      "\n",
      "1 Failed download:\n",
      "['TXN']: Exception('%ticker%: No price data found, symbol may be delisted (1d 2021-10-24 -> 2021-10-25)')\n",
      "[*********************100%%**********************]  1 of 1 completed\n",
      "\n",
      "1 Failed download:\n",
      "['TXN']: Exception('%ticker%: No price data found, symbol may be delisted (1d 2021-10-23 -> 2021-10-24)')\n",
      "[*********************100%%**********************]  1 of 1 completed\n",
      "[*********************100%%**********************]  1 of 1 completed\n"
     ]
    },
    {
     "name": "stdout",
     "output_type": "stream",
     "text": [
      "Highest price on the day after earnings release: 188.52\n",
      "Average price on the day before earnings release: 200.18\n",
      "Percentage change on earnings day: -5.82%\n",
      "Ticker: TXN, Date and Time: October 25, 2022 4:30 PM ET\n"
     ]
    },
    {
     "name": "stderr",
     "output_type": "stream",
     "text": [
      "[*********************100%%**********************]  1 of 1 completed\n",
      "\n",
      "1 Failed download:\n",
      "['TXN']: Exception('%ticker%: No price data found, symbol may be delisted (1d 2022-10-23 -> 2022-10-24)')\n",
      "[*********************100%%**********************]  1 of 1 completed\n",
      "\n",
      "1 Failed download:\n",
      "['TXN']: Exception('%ticker%: No price data found, symbol may be delisted (1d 2022-10-22 -> 2022-10-23)')\n",
      "[*********************100%%**********************]  1 of 1 completed\n",
      "[*********************100%%**********************]  1 of 1 completed\n"
     ]
    },
    {
     "name": "stdout",
     "output_type": "stream",
     "text": [
      "Highest price on the day after earnings release: 161.16\n",
      "Average price on the day before earnings release: 156.99\n",
      "Percentage change on earnings day: 2.66%\n",
      "Ticker: TXN, Date and Time: October 24, 2023 4:30 PM ET\n"
     ]
    },
    {
     "name": "stderr",
     "output_type": "stream",
     "text": [
      "[*********************100%%**********************]  1 of 1 completed\n",
      "\n",
      "1 Failed download:\n",
      "['TXN']: Exception('%ticker%: No price data found, symbol may be delisted (1d 2023-10-22 -> 2023-10-23)')\n",
      "[*********************100%%**********************]  1 of 1 completed\n",
      "\n",
      "1 Failed download:\n",
      "['TXN']: Exception('%ticker%: No price data found, symbol may be delisted (1d 2023-10-21 -> 2023-10-22)')\n",
      "[*********************100%%**********************]  1 of 1 completed\n",
      "[*********************100%%**********************]  1 of 1 completed\n"
     ]
    },
    {
     "name": "stdout",
     "output_type": "stream",
     "text": [
      "Highest price on the day after earnings release: 144.59\n",
      "Average price on the day before earnings release: 149.71\n",
      "Percentage change on earnings day: -3.42%\n",
      "Ticker: TXN, Date and Time: January 24, 2023 4:30 PM ET\n"
     ]
    },
    {
     "name": "stderr",
     "output_type": "stream",
     "text": [
      "[*********************100%%**********************]  1 of 1 completed\n",
      "\n",
      "1 Failed download:\n",
      "['TXN']: Exception('%ticker%: No price data found, symbol may be delisted (1d 2023-01-22 -> 2023-01-23)')\n",
      "[*********************100%%**********************]  1 of 1 completed\n",
      "\n",
      "1 Failed download:\n",
      "['TXN']: Exception('%ticker%: No price data found, symbol may be delisted (1d 2023-01-21 -> 2023-01-22)')\n",
      "[*********************100%%**********************]  1 of 1 completed\n"
     ]
    },
    {
     "name": "stdout",
     "output_type": "stream",
     "text": [
      "Highest price on the day after earnings release: 178.21\n",
      "Average price on the day before earnings release: 171.67\n",
      "Percentage change on earnings day: 3.81%\n",
      "Ticker: TXN, Date and Time: January 23, 2024 4:30 PM ET\n"
     ]
    },
    {
     "name": "stderr",
     "output_type": "stream",
     "text": [
      "[*********************100%%**********************]  1 of 1 completed\n",
      "[*********************100%%**********************]  1 of 1 completed\n",
      "\n",
      "1 Failed download:\n",
      "['TXN']: Exception('%ticker%: No price data found, symbol may be delisted (1d 2024-01-21 -> 2024-01-22)')\n",
      "[*********************100%%**********************]  1 of 1 completed\n",
      "\n",
      "1 Failed download:\n",
      "['TXN']: Exception('%ticker%: No price data found, symbol may be delisted (1d 2024-01-20 -> 2024-01-21)')\n",
      "[*********************100%%**********************]  1 of 1 completed\n",
      "[*********************100%%**********************]  1 of 1 completed"
     ]
    },
    {
     "name": "stdout",
     "output_type": "stream",
     "text": [
      "Highest price on the day after earnings release: 172.9\n",
      "Average price on the day before earnings release: 172.7\n",
      "Percentage change on earnings day: 0.12%\n",
      "Ticker: TXN, Date and Time: April 27, 2016 5:30 PM ET\n"
     ]
    },
    {
     "name": "stderr",
     "output_type": "stream",
     "text": [
      "\n",
      "[*********************100%%**********************]  1 of 1 completed\n"
     ]
    },
    {
     "name": "stdout",
     "output_type": "stream",
     "text": [
      "Highest price on the day after earnings release: 60.6\n",
      "Average price on the day before earnings release: 58.88\n",
      "Percentage change on earnings day: 2.92%\n",
      "Ticker: TXN, Date and Time: July 21, 2014 5:30 PM ET\n"
     ]
    },
    {
     "name": "stderr",
     "output_type": "stream",
     "text": [
      "[*********************100%%**********************]  1 of 1 completed\n",
      "[*********************100%%**********************]  1 of 1 completed\n"
     ]
    },
    {
     "name": "stdout",
     "output_type": "stream",
     "text": [
      "Highest price on the day after earnings release: 49.24\n",
      "Average price on the day before earnings release: 48.5\n",
      "Percentage change on earnings day: 1.53%\n",
      "Ticker: TXN, Date and Time: October 20, 2014 5:30 PM ET\n"
     ]
    },
    {
     "name": "stderr",
     "output_type": "stream",
     "text": [
      "[*********************100%%**********************]  1 of 1 completed\n",
      "[*********************100%%**********************]  1 of 1 completed\n",
      "[*********************100%%**********************]  1 of 1 completed"
     ]
    },
    {
     "name": "stdout",
     "output_type": "stream",
     "text": [
      "Highest price on the day after earnings release: 46.84\n",
      "Average price on the day before earnings release: 42.97\n",
      "Percentage change on earnings day: 9.01%\n",
      "Ticker: TXN, Date and Time: January 26, 2021 4:30 PM ET\n"
     ]
    },
    {
     "name": "stderr",
     "output_type": "stream",
     "text": [
      "\n",
      "[*********************100%%**********************]  1 of 1 completed\n",
      "\n",
      "1 Failed download:\n",
      "['TXN']: Exception('%ticker%: No price data found, symbol may be delisted (1d 2021-01-24 -> 2021-01-25)')\n",
      "[*********************100%%**********************]  1 of 1 completed\n",
      "\n",
      "1 Failed download:\n",
      "['TXN']: Exception('%ticker%: No price data found, symbol may be delisted (1d 2021-01-23 -> 2021-01-24)')\n",
      "[*********************100%%**********************]  1 of 1 completed\n",
      "[*********************100%%**********************]  1 of 1 completed\n"
     ]
    },
    {
     "name": "stdout",
     "output_type": "stream",
     "text": [
      "Highest price on the day after earnings release: 167.62\n",
      "Average price on the day before earnings release: 174.1\n",
      "Percentage change on earnings day: -3.72%\n",
      "Ticker: TXN, Date and Time: October 26, 2016 5:30 PM ET\n"
     ]
    },
    {
     "name": "stderr",
     "output_type": "stream",
     "text": [
      "[*********************100%%**********************]  1 of 1 completed\n",
      "[*********************100%%**********************]  1 of 1 completed"
     ]
    },
    {
     "name": "stdout",
     "output_type": "stream",
     "text": [
      "Highest price on the day after earnings release: 72.18\n",
      "Average price on the day before earnings release: 70.99\n",
      "Percentage change on earnings day: 1.68%\n",
      "Ticker: TXN, Date and Time: January 26, 2015 5:30 PM ET\n"
     ]
    },
    {
     "name": "stderr",
     "output_type": "stream",
     "text": [
      "\n",
      "[*********************100%%**********************]  1 of 1 completed\n",
      "[*********************100%%**********************]  1 of 1 completed\n"
     ]
    },
    {
     "name": "stdout",
     "output_type": "stream",
     "text": [
      "Highest price on the day after earnings release: 55.46\n",
      "Average price on the day before earnings release: 54.16\n",
      "Percentage change on earnings day: 2.4%\n",
      "Ticker: TXN, Date and Time: January 23, 2018 4:30 PM ET\n"
     ]
    },
    {
     "name": "stderr",
     "output_type": "stream",
     "text": [
      "[*********************100%%**********************]  1 of 1 completed\n",
      "\n",
      "1 Failed download:\n",
      "['TXN']: Exception('%ticker%: No price data found, symbol may be delisted (1d 2018-01-21 -> 2018-01-22)')\n",
      "[*********************100%%**********************]  1 of 1 completed\n",
      "\n",
      "1 Failed download:\n",
      "['TXN']: Exception('%ticker%: No price data found, symbol may be delisted (1d 2018-01-20 -> 2018-01-21)')\n",
      "[*********************100%%**********************]  1 of 1 completed\n",
      "[*********************100%%**********************]  1 of 1 completed\n"
     ]
    },
    {
     "name": "stdout",
     "output_type": "stream",
     "text": [
      "Highest price on the day after earnings release: 114.0\n",
      "Average price on the day before earnings release: 116.63\n",
      "Percentage change on earnings day: -2.25%\n",
      "Ticker: TXN, Date and Time: January 22, 2020 4:30 PM ET\n"
     ]
    },
    {
     "name": "stderr",
     "output_type": "stream",
     "text": [
      "[*********************100%%**********************]  1 of 1 completed\n",
      "\n",
      "1 Failed download:\n",
      "['TXN']: Exception('%ticker%: No price data found, symbol may be delisted (1d 2020-01-20 -> 2020-01-21)')\n",
      "[*********************100%%**********************]  1 of 1 completed\n",
      "\n",
      "1 Failed download:\n",
      "['TXN']: Exception('%ticker%: No price data found, symbol may be delisted (1d 2020-01-19 -> 2020-01-20)')\n",
      "[*********************100%%**********************]  1 of 1 completed\n",
      "\n",
      "1 Failed download:\n",
      "['TXN']: Exception('%ticker%: No price data found, symbol may be delisted (1d 2020-01-18 -> 2020-01-19)')\n",
      "[*********************100%%**********************]  1 of 1 completed\n"
     ]
    },
    {
     "name": "stdout",
     "output_type": "stream",
     "text": [
      "Highest price on the day after earnings release: 134.41\n",
      "Average price on the day before earnings release: 131.24\n",
      "Percentage change on earnings day: 2.42%\n",
      "Ticker: TXN, Date and Time: July 22, 2015 5:30 PM ET\n"
     ]
    },
    {
     "name": "stderr",
     "output_type": "stream",
     "text": [
      "[*********************100%%**********************]  1 of 1 completed\n",
      "[*********************100%%**********************]  1 of 1 completed\n",
      "[*********************100%%**********************]  1 of 1 completed\n"
     ]
    },
    {
     "name": "stdout",
     "output_type": "stream",
     "text": [
      "Highest price on the day after earnings release: 51.26\n",
      "Average price on the day before earnings release: 50.45\n",
      "Percentage change on earnings day: 1.61%\n",
      "Ticker: TXN, Date and Time: July 25, 2016 5:30 PM ET\n"
     ]
    },
    {
     "name": "stderr",
     "output_type": "stream",
     "text": [
      "[*********************100%%**********************]  1 of 1 completed\n"
     ]
    },
    {
     "name": "stdout",
     "output_type": "stream",
     "text": [
      "Highest price on the day after earnings release: 72.58\n",
      "Average price on the day before earnings release: 65.15\n",
      "Percentage change on earnings day: 11.4%\n",
      "Ticker: TXN, Date and Time: October 21, 2015 5:30 PM ET\n"
     ]
    },
    {
     "name": "stderr",
     "output_type": "stream",
     "text": [
      "[*********************100%%**********************]  1 of 1 completed\n",
      "[*********************100%%**********************]  1 of 1 completed\n",
      "[*********************100%%**********************]  1 of 1 completed\n"
     ]
    },
    {
     "name": "stdout",
     "output_type": "stream",
     "text": [
      "Highest price on the day after earnings release: 58.12\n",
      "Average price on the day before earnings release: 52.59\n",
      "Percentage change on earnings day: 10.52%\n",
      "Ticker: TXN, Date and Time: January 27, 2016 5:30 PM ET\n"
     ]
    },
    {
     "name": "stderr",
     "output_type": "stream",
     "text": [
      "[*********************100%%**********************]  1 of 1 completed\n"
     ]
    },
    {
     "name": "stdout",
     "output_type": "stream",
     "text": [
      "Highest price on the day after earnings release: 52.0\n",
      "Average price on the day before earnings release: 50.5\n",
      "Percentage change on earnings day: 2.97%\n",
      "Ticker: Ticker Symbol Not Found, Date and Time: August 8, 2019 5:00 PM ET\n",
      "Highest price on the day after earnings release: Data not available due to missing information\n",
      "Average price on the day before earnings release: Data not available due to missing information\n",
      "Ticker: Ticker Symbol Not Found, Date and Time: August 6, 2020 4:30 PM ET\n",
      "Highest price on the day after earnings release: Data not available due to missing information\n",
      "Average price on the day before earnings release: Data not available due to missing information\n",
      "Ticker: Ticker Symbol Not Found, Date and Time: February 6, 2020 4:30 PM ET\n",
      "Highest price on the day after earnings release: Data not available due to missing information\n",
      "Average price on the day before earnings release: Data not available due to missing information\n",
      "Ticker: Ticker Symbol Not Found, Date and Time: November 4, 2019 5:00 PM ET\n",
      "Highest price on the day after earnings release: Data not available due to missing information\n",
      "Average price on the day before earnings release: Data not available due to missing information\n",
      "Ticker: Ticker Symbol Not Found, Date and Time: May 7, 2020 4:30 PM ET\n",
      "Highest price on the day after earnings release: Data not available due to missing information\n",
      "Average price on the day before earnings release: Data not available due to missing information\n",
      "Ticker: Ticker Symbol Not Found, Date and Time: May 5, 2021 4:30 PM ET\n",
      "Highest price on the day after earnings release: Data not available due to missing information\n",
      "Average price on the day before earnings release: Data not available due to missing information\n",
      "Ticker: Ticker Symbol Not Found, Date and Time: May 4, 2022 8:00 AM ET\n",
      "Highest price on the day after earnings release: Data not available due to missing information\n",
      "Average price on the day before earnings release: Data not available due to missing information\n",
      "Ticker: Ticker Symbol Not Found, Date and Time: August 4, 2021 4:30 PM ET\n",
      "Highest price on the day after earnings release: Data not available due to missing information\n",
      "Average price on the day before earnings release: Data not available due to missing information\n",
      "Ticker: Ticker Symbol Not Found, Date and Time: August 2, 2022 8:00 AM ET\n",
      "Highest price on the day after earnings release: Data not available due to missing information\n",
      "Average price on the day before earnings release: Data not available due to missing information\n",
      "Ticker: Ticker Symbol Not Found, Date and Time: November 5, 2020 4:30 PM ET\n",
      "Highest price on the day after earnings release: Data not available due to missing information\n",
      "Average price on the day before earnings release: Data not available due to missing information\n",
      "Ticker: Ticker Symbol Not Found, Date and Time: November 4, 2021 5:00 PM ET\n",
      "Highest price on the day after earnings release: Data not available due to missing information\n",
      "Average price on the day before earnings release: Data not available due to missing information\n",
      "Ticker: Ticker Symbol Not Found, Date and Time: February 9, 2022 5:00 PM ET\n",
      "Highest price on the day after earnings release: Data not available due to missing information\n",
      "Average price on the day before earnings release: Data not available due to missing information\n",
      "Ticker: Ticker Symbol Not Found, Date and Time: May 2, 2023 8:00 AM ET\n",
      "Highest price on the day after earnings release: Data not available due to missing information\n",
      "Average price on the day before earnings release: Data not available due to missing information\n",
      "Ticker: Ticker Symbol Not Found, Date and Time: August 1, 2023 8:00 AM ET\n",
      "Highest price on the day after earnings release: Data not available due to missing information\n",
      "Average price on the day before earnings release: Data not available due to missing information\n",
      "Ticker: Ticker Symbol Not Found, Date and Time: November 1, 2022 8:00 AM ET\n",
      "Highest price on the day after earnings release: Data not available due to missing information\n",
      "Average price on the day before earnings release: Data not available due to missing information\n",
      "Ticker: Ticker Symbol Not Found, Date and Time: November 7, 2023 8:00 AM ET\n",
      "Highest price on the day after earnings release: Data not available due to missing information\n",
      "Average price on the day before earnings release: Data not available due to missing information\n",
      "Ticker: Ticker Symbol Not Found, Date and Time: February 8, 2023 8:00 AM ET\n",
      "Highest price on the day after earnings release: Data not available due to missing information\n",
      "Average price on the day before earnings release: Data not available due to missing information\n",
      "Ticker: Ticker Symbol Not Found, Date and Time: February 7, 2024 8:00 AM ET\n",
      "Highest price on the day after earnings release: Data not available due to missing information\n",
      "Average price on the day before earnings release: Data not available due to missing information\n",
      "Ticker: Ticker Symbol Not Found, Date and Time: May 30, 2019 4:30 PM ET\n",
      "Highest price on the day after earnings release: Data not available due to missing information\n",
      "Average price on the day before earnings release: Data not available due to missing information\n",
      "Ticker: Ticker Symbol Not Found, Date and Time: February 10, 2021 4:30 PM ET\n",
      "Highest price on the day after earnings release: Data not available due to missing information\n",
      "Average price on the day before earnings release: Data not available due to missing information\n",
      "Ticker: Ticker Symbol Not Found, Date and Time: Date and Time Not Found\n",
      "Highest price on the day after earnings release: Data not available due to missing information\n",
      "Average price on the day before earnings release: Data not available due to missing information\n",
      "Ticker: Ticker Symbol Not Found, Date and Time: April 21, 2016 8:45 AM ET\n",
      "Highest price on the day after earnings release: Data not available due to missing information\n",
      "Average price on the day before earnings release: Data not available due to missing information\n",
      "Ticker: Ticker Symbol Not Found, Date and Time: April 27, 2017 8:45 AM ET\n",
      "Highest price on the day after earnings release: Data not available due to missing information\n",
      "Average price on the day before earnings release: Data not available due to missing information\n",
      "Ticker: Ticker Symbol Not Found, Date and Time: April 26, 2018 8:45 AM ET\n",
      "Highest price on the day after earnings release: Data not available due to missing information\n",
      "Average price on the day before earnings release: Data not available due to missing information\n",
      "Ticker: Ticker Symbol Not Found, Date and Time: October 26, 2017 8:45 AM ET\n",
      "Highest price on the day after earnings release: Data not available due to missing information\n",
      "Average price on the day before earnings release: Data not available due to missing information\n",
      "Ticker: Ticker Symbol Not Found, Date and Time: October 25, 2018 8:45 AM ET\n",
      "Highest price on the day after earnings release: Data not available due to missing information\n",
      "Average price on the day before earnings release: Data not available due to missing information\n",
      "Ticker: Ticker Symbol Not Found, Date and Time: July 23, 2020 8:45 AM ET\n",
      "Highest price on the day after earnings release: Data not available due to missing information\n",
      "Average price on the day before earnings release: Data not available due to missing information\n",
      "Ticker: Ticker Symbol Not Found, Date and Time: April 23, 2015 8:45 AM ET\n",
      "Highest price on the day after earnings release: Data not available due to missing information\n",
      "Average price on the day before earnings release: Data not available due to missing information\n",
      "Ticker: Ticker Symbol Not Found, Date and Time: April 18, 2019 8:45 AM ET\n",
      "Highest price on the day after earnings release: Data not available due to missing information\n",
      "Average price on the day before earnings release: Data not available due to missing information\n",
      "Ticker: Ticker Symbol Not Found, Date and Time: April 23, 2020 8:45 AM ET\n",
      "Highest price on the day after earnings release: Data not available due to missing information\n",
      "Average price on the day before earnings release: Data not available due to missing information\n",
      "Ticker: Ticker Symbol Not Found, Date and Time: April 22, 2021 8:45 AM ET\n",
      "Highest price on the day after earnings release: Data not available due to missing information\n",
      "Average price on the day before earnings release: Data not available due to missing information\n",
      "Ticker: Ticker Symbol Not Found, Date and Time: April 21, 2022 8:45 AM ET\n",
      "Highest price on the day after earnings release: Data not available due to missing information\n",
      "Average price on the day before earnings release: Data not available due to missing information\n",
      "Ticker: Ticker Symbol Not Found, Date and Time: July 19, 2018 8:45 AM ET\n",
      "Highest price on the day after earnings release: Data not available due to missing information\n",
      "Average price on the day before earnings release: Data not available due to missing information\n",
      "Ticker: Ticker Symbol Not Found, Date and Time: July 18, 2019 8:45 AM ET\n",
      "Highest price on the day after earnings release: Data not available due to missing information\n",
      "Average price on the day before earnings release: Data not available due to missing information\n",
      "Ticker: Ticker Symbol Not Found, Date and Time: October 22, 2020 8:45 AM ET\n",
      "Highest price on the day after earnings release: Data not available due to missing information\n",
      "Average price on the day before earnings release: Data not available due to missing information\n",
      "Ticker: Ticker Symbol Not Found, Date and Time: October 21, 2021 8:45 AM ET\n",
      "Highest price on the day after earnings release: Data not available due to missing information\n",
      "Average price on the day before earnings release: Data not available due to missing information\n",
      "Ticker: Ticker Symbol Not Found, Date and Time: January 24, 2019 8:45 AM ET\n",
      "Highest price on the day after earnings release: Data not available due to missing information\n",
      "Average price on the day before earnings release: Data not available due to missing information\n",
      "Ticker: Ticker Symbol Not Found, Date and Time: January 20, 2021 8:45 AM ET\n",
      "Highest price on the day after earnings release: Data not available due to missing information\n",
      "Average price on the day before earnings release: Data not available due to missing information\n",
      "Ticker: Ticker Symbol Not Found, Date and Time: April 20, 2023 8:45 AM ET\n",
      "Highest price on the day after earnings release: Data not available due to missing information\n",
      "Average price on the day before earnings release: Data not available due to missing information\n",
      "Ticker: Ticker Symbol Not Found, Date and Time: July 26, 2023 8:45 AM ET\n",
      "Highest price on the day after earnings release: Data not available due to missing information\n",
      "Average price on the day before earnings release: Data not available due to missing information\n",
      "Ticker: Ticker Symbol Not Found, Date and Time: October 20, 2022 8:45 AM ET\n",
      "Highest price on the day after earnings release: Data not available due to missing information\n",
      "Average price on the day before earnings release: Data not available due to missing information\n",
      "Ticker: Ticker Symbol Not Found, Date and Time: October 19, 2023 8:45 AM ET\n",
      "Highest price on the day after earnings release: Data not available due to missing information\n",
      "Average price on the day before earnings release: Data not available due to missing information\n",
      "Ticker: Ticker Symbol Not Found, Date and Time: January 24, 2023 8:45 AM ET\n",
      "Highest price on the day after earnings release: Data not available due to missing information\n",
      "Average price on the day before earnings release: Data not available due to missing information\n",
      "Ticker: Ticker Symbol Not Found, Date and Time: January 25, 2024 8:45 AM ET\n",
      "Highest price on the day after earnings release: Data not available due to missing information\n",
      "Average price on the day before earnings release: Data not available due to missing information\n",
      "Ticker: Ticker Symbol Not Found, Date and Time: July 22, 2021 8:45 AM ET\n",
      "Highest price on the day after earnings release: Data not available due to missing information\n",
      "Average price on the day before earnings release: Data not available due to missing information\n",
      "Ticker: Ticker Symbol Not Found, Date and Time: July 21, 2022 8:45 AM ET\n",
      "Highest price on the day after earnings release: Data not available due to missing information\n",
      "Average price on the day before earnings release: Data not available due to missing information\n",
      "Ticker: Ticker Symbol Not Found, Date and Time: October 17, 2019 8:45 AM ET\n",
      "Highest price on the day after earnings release: Data not available due to missing information\n",
      "Average price on the day before earnings release: Data not available due to missing information\n",
      "Ticker: Ticker Symbol Not Found, Date and Time: January 23, 2020 8:45 AM ET\n",
      "Highest price on the day after earnings release: Data not available due to missing information\n",
      "Average price on the day before earnings release: Data not available due to missing information\n",
      "Ticker: Ticker Symbol Not Found, Date and Time: January 21, 2021 8:45 AM ET\n",
      "Highest price on the day after earnings release: Data not available due to missing information\n",
      "Average price on the day before earnings release: Data not available due to missing information\n",
      "Ticker: Ticker Symbol Not Found, Date and Time: Date and Time Not Found\n",
      "Highest price on the day after earnings release: Data not available due to missing information\n",
      "Average price on the day before earnings release: Data not available due to missing information\n",
      "Ticker: Ticker Symbol Not Found, Date and Time: Date and Time Not Found\n",
      "Highest price on the day after earnings release: Data not available due to missing information\n",
      "Average price on the day before earnings release: Data not available due to missing information\n",
      "Ticker: Ticker Symbol Not Found, Date and Time: July 23, 2015 8:45 AM ET\n",
      "Highest price on the day after earnings release: Data not available due to missing information\n",
      "Average price on the day before earnings release: Data not available due to missing information\n"
     ]
    },
    {
     "name": "stderr",
     "output_type": "stream",
     "text": [
      "C:\\Users\\spatan5\\AppData\\Local\\Temp\\ipykernel_9212\\614123346.py:11: MarkupResemblesLocatorWarning: The input looks more like a filename than markup. You may want to open this file and pass the filehandle into Beautiful Soup.\n",
      "  soup = BeautifulSoup(content, 'html.parser')\n"
     ]
    },
    {
     "name": "stdout",
     "output_type": "stream",
     "text": [
      "Ticker: Ticker Symbol Not Found, Date and Time: July 20, 2017 8:45 AM ET\n",
      "Highest price on the day after earnings release: Data not available due to missing information\n",
      "Average price on the day before earnings release: Data not available due to missing information\n",
      "Ticker: Ticker Symbol Not Found, Date and Time: October 22, 2015 8:45 AM ET\n",
      "Highest price on the day after earnings release: Data not available due to missing information\n",
      "Average price on the day before earnings release: Data not available due to missing information\n",
      "Ticker: Ticker Symbol Not Found, Date and Time: January 20, 2016 8:45 AM ET\n",
      "Highest price on the day after earnings release: Data not available due to missing information\n",
      "Average price on the day before earnings release: Data not available due to missing information\n",
      "Ticker: Ticker Symbol Not Found, Date and Time: January 19, 2017 8:45 AM ET\n",
      "Highest price on the day after earnings release: Data not available due to missing information\n",
      "Average price on the day before earnings release: Data not available due to missing information\n",
      "Ticker: Ticker Symbol Not Found, Date and Time: January 25, 2017 8:45 PM ET\n",
      "Highest price on the day after earnings release: Data not available due to missing information\n",
      "Average price on the day before earnings release: Data not available due to missing information\n",
      "Ticker: Ticker Symbol Not Found, Date and Time: October 20, 2016 8:45 AM ET\n",
      "Highest price on the day after earnings release: Data not available due to missing information\n",
      "Average price on the day before earnings release: Data not available due to missing information\n",
      "Ticker: Ticker Symbol Not Found, Date and Time: January 22, 2015 8:30 AM ET\n",
      "Highest price on the day after earnings release: Data not available due to missing information\n",
      "Average price on the day before earnings release: Data not available due to missing information\n",
      "Ticker: Ticker Symbol Not Found, Date and Time: July 24, 2018 8:30 AM ET\n",
      "Highest price on the day after earnings release: Data not available due to missing information\n",
      "Average price on the day before earnings release: Data not available due to missing information\n",
      "Ticker: Ticker Symbol Not Found, Date and Time: January 23, 2018 8:30 AM ET\n",
      "Highest price on the day after earnings release: Data not available due to missing information\n",
      "Average price on the day before earnings release: Data not available due to missing information\n",
      "Ticker: Ticker Symbol Not Found, Date and Time: July 26, 2016 8:30 AM ET\n",
      "Highest price on the day after earnings release: Data not available due to missing information\n",
      "Average price on the day before earnings release: Data not available due to missing information\n",
      "Ticker: Ticker Symbol Not Found, Date and Time: April 24, 2018 8:30 AM ET\n",
      "Highest price on the day after earnings release: Data not available due to missing information\n",
      "Average price on the day before earnings release: Data not available due to missing information\n",
      "Ticker: Ticker Symbol Not Found, Date and Time: January 21, 2016 8:30 AM ET\n",
      "Highest price on the day after earnings release: Data not available due to missing information\n",
      "Average price on the day before earnings release: Data not available due to missing information\n",
      "Ticker: Ticker Symbol Not Found, Date and Time: April 21, 2016 8:30 AM ET\n",
      "Highest price on the day after earnings release: Data not available due to missing information\n",
      "Average price on the day before earnings release: Data not available due to missing information\n",
      "Ticker: Ticker Symbol Not Found, Date and Time: April 20, 2017 8:30 AM ET\n",
      "Highest price on the day after earnings release: Data not available due to missing information\n",
      "Average price on the day before earnings release: Data not available due to missing information\n",
      "Ticker: Ticker Symbol Not Found, Date and Time: July 21, 2015 8:30 AM ET\n",
      "Highest price on the day after earnings release: Data not available due to missing information\n",
      "Average price on the day before earnings release: Data not available due to missing information\n",
      "Ticker: Ticker Symbol Not Found, Date and Time: July 27, 2017 8:30 AM ET\n",
      "Highest price on the day after earnings release: Data not available due to missing information\n",
      "Average price on the day before earnings release: Data not available due to missing information\n",
      "Ticker: Ticker Symbol Not Found, Date and Time: October 21, 2014 8:30 AM ET\n",
      "Highest price on the day after earnings release: Data not available due to missing information\n",
      "Average price on the day before earnings release: Data not available due to missing information\n",
      "Ticker: Ticker Symbol Not Found, Date and Time: October 20, 2015 8:30 AM ET\n",
      "Highest price on the day after earnings release: Data not available due to missing information\n",
      "Average price on the day before earnings release: Data not available due to missing information\n",
      "Ticker: Ticker Symbol Not Found, Date and Time: October 19, 2017 8:30 AM ET\n",
      "Highest price on the day after earnings release: Data not available due to missing information\n",
      "Average price on the day before earnings release: Data not available due to missing information\n",
      "Ticker: Ticker Symbol Not Found, Date and Time: January 24, 2017 8:30 AM ET\n",
      "Highest price on the day after earnings release: Data not available due to missing information\n",
      "Average price on the day before earnings release: Data not available due to missing information\n",
      "Ticker: Ticker Symbol Not Found, Date and Time: July 18, 2013 8:30 AM ET\n",
      "Highest price on the day after earnings release: Data not available due to missing information\n",
      "Average price on the day before earnings release: Data not available due to missing information\n",
      "Ticker: Ticker Symbol Not Found, Date and Time: April 23, 2019 8:30 AM ET\n",
      "Highest price on the day after earnings release: Data not available due to missing information\n",
      "Average price on the day before earnings release: Data not available due to missing information\n",
      "Ticker: Ticker Symbol Not Found, Date and Time: April 24, 2020 8:30 AM ET\n",
      "Highest price on the day after earnings release: Data not available due to missing information\n",
      "Average price on the day before earnings release: Data not available due to missing information\n",
      "Ticker: Ticker Symbol Not Found, Date and Time: August 1, 2019 8:30 AM ET\n",
      "Highest price on the day after earnings release: Data not available due to missing information\n",
      "Average price on the day before earnings release: Data not available due to missing information\n",
      "Ticker: Ticker Symbol Not Found, Date and Time: July 24, 2020 8:30 AM ET\n",
      "Highest price on the day after earnings release: Data not available due to missing information\n",
      "Average price on the day before earnings release: Data not available due to missing information\n",
      "Ticker: Ticker Symbol Not Found, Date and Time: July 21, 2021 8:30 AM ET\n",
      "Highest price on the day after earnings release: Data not available due to missing information\n",
      "Average price on the day before earnings release: Data not available due to missing information\n",
      "Ticker: Ticker Symbol Not Found, Date and Time: July 22, 2022 8:30 AM ET\n",
      "Highest price on the day after earnings release: Data not available due to missing information\n",
      "Average price on the day before earnings release: Data not available due to missing information\n",
      "Ticker: Ticker Symbol Not Found, Date and Time: October 21, 2020 8:30 AM ET\n",
      "Highest price on the day after earnings release: Data not available due to missing information\n",
      "Average price on the day before earnings release: Data not available due to missing information\n",
      "Ticker: Ticker Symbol Not Found, Date and Time: January 29, 2019 8:30 AM ET\n",
      "Highest price on the day after earnings release: Data not available due to missing information\n",
      "Average price on the day before earnings release: Data not available due to missing information\n",
      "Ticker: Ticker Symbol Not Found, Date and Time: January 30, 2020 8:30 AM ET\n",
      "Highest price on the day after earnings release: Data not available due to missing information\n",
      "Average price on the day before earnings release: Data not available due to missing information\n",
      "Ticker: Ticker Symbol Not Found, Date and Time: January 26, 2021 8:30 AM ET\n",
      "Highest price on the day after earnings release: Data not available due to missing information\n",
      "Average price on the day before earnings release: Data not available due to missing information\n",
      "Ticker: Ticker Symbol Not Found, Date and Time: January 25, 2022 8:30 AM ET\n",
      "Highest price on the day after earnings release: Data not available due to missing information\n",
      "Average price on the day before earnings release: Data not available due to missing information\n",
      "Ticker: Ticker Symbol Not Found, Date and Time: April 25, 2023 8:30 AM ET\n",
      "Highest price on the day after earnings release: Data not available due to missing information\n",
      "Average price on the day before earnings release: Data not available due to missing information\n",
      "Ticker: Ticker Symbol Not Found, Date and Time: July 25, 2023 8:30 AM ET\n",
      "Highest price on the day after earnings release: Data not available due to missing information\n",
      "Average price on the day before earnings release: Data not available due to missing information\n",
      "Ticker: Ticker Symbol Not Found, Date and Time: October 23, 2018 8:30 AM ET\n",
      "Highest price on the day after earnings release: Data not available due to missing information\n",
      "Average price on the day before earnings release: Data not available due to missing information\n",
      "Ticker: Ticker Symbol Not Found, Date and Time: October 21, 2022 8:30 AM ET\n",
      "Highest price on the day after earnings release: Data not available due to missing information\n",
      "Average price on the day before earnings release: Data not available due to missing information\n",
      "Ticker: Ticker Symbol Not Found, Date and Time: October 24, 2023 8:30 AM ET\n",
      "Highest price on the day after earnings release: Data not available due to missing information\n",
      "Average price on the day before earnings release: Data not available due to missing information\n",
      "Ticker: Ticker Symbol Not Found, Date and Time: January 24, 2023 8:30 AM ET\n",
      "Highest price on the day after earnings release: Data not available due to missing information\n",
      "Average price on the day before earnings release: Data not available due to missing information\n",
      "Ticker: Ticker Symbol Not Found, Date and Time: January 23, 2024 8:30 AM ET\n",
      "Highest price on the day after earnings release: Data not available due to missing information\n",
      "Average price on the day before earnings release: Data not available due to missing information\n",
      "Ticker: Ticker Symbol Not Found, Date and Time: April 21, 2021 8:30 AM ET\n",
      "Highest price on the day after earnings release: Data not available due to missing information\n",
      "Average price on the day before earnings release: Data not available due to missing information\n",
      "Ticker: Ticker Symbol Not Found, Date and Time: April 22, 2022 8:30 AM ET\n",
      "Highest price on the day after earnings release: Data not available due to missing information\n",
      "Average price on the day before earnings release: Data not available due to missing information\n",
      "Ticker: Ticker Symbol Not Found, Date and Time: October 20, 2021 8:30 AM ET\n",
      "Highest price on the day after earnings release: Data not available due to missing information\n",
      "Average price on the day before earnings release: Data not available due to missing information\n",
      "Ticker: Ticker Symbol Not Found, Date and Time: October 20, 2016 8:30 AM ET\n",
      "Highest price on the day after earnings release: Data not available due to missing information\n",
      "Average price on the day before earnings release: Data not available due to missing information\n",
      "Ticker: Ticker Symbol Not Found, Date and Time: April 21, 2015 8:30 AM ET\n",
      "Highest price on the day after earnings release: Data not available due to missing information\n",
      "Average price on the day before earnings release: Data not available due to missing information\n",
      "Ticker: Ticker Symbol Not Found, Date and Time: October 25, 2019 8:30 AM ET\n",
      "Highest price on the day after earnings release: Data not available due to missing information\n",
      "Average price on the day before earnings release: Data not available due to missing information\n"
     ]
    }
   ],
   "source": [
    "base_path = r\"C:\\Users\\spatan5\\Desktop\\EarningsNLP\"\n",
    "\n",
    "for company_folder in os.listdir(base_path):\n",
    "    company_path = os.path.join(base_path, company_folder)\n",
    "    if os.path.isdir(company_path):\n",
    "        for file_name in os.listdir(company_path):\n",
    "            file_path = os.path.join(company_path, file_name)\n",
    "            if os.path.isfile(file_path):\n",
    "                with open(file_path, 'rb') as file:\n",
    "                    content = file.read()\n",
    "                    soup = BeautifulSoup(content, 'html.parser')\n",
    "                    text_content = soup.get_text()\n",
    "                    ticker, date_time = extract_earnings_call_info(text_content)\n",
    "                    print(f\"Ticker: {ticker}, Date and Time: {date_time}\")\n",
    "                    day_after_high, day_before_avg = get_stock_prices(ticker, date_time)\n",
    "                    if isinstance(day_after_high, float):\n",
    "                        day_after_high = round(day_after_high, 2)\n",
    "                    else:\n",
    "                        day_after_high = day_after_high  # Or handle the string message as needed\n",
    "                    if isinstance(day_before_avg, float):\n",
    "                        day_before_avg = round(day_before_avg, 2)\n",
    "                    else:\n",
    "                        day_before_avg = day_before_avg\n",
    "                    print(f\"Highest price on the day after earnings release: {day_after_high}\")\n",
    "                    print(f\"Average price on the day before earnings release: {day_before_avg}\")\n",
    "                    if isinstance(day_after_high, float) and isinstance(day_before_avg, float):\n",
    "                        print(f\"Percentage change on earnings day: {round((float(day_after_high) - float(day_before_avg)) * 100 / float(day_before_avg), 2)}%\")"
   ]
  },
  {
   "cell_type": "code",
   "execution_count": null,
   "id": "ec00d848-4e7b-4790-bb3b-783038df171a",
   "metadata": {},
   "outputs": [],
   "source": []
  },
  {
   "cell_type": "code",
   "execution_count": null,
   "id": "556b0909-adff-4d8f-846a-4729f7522fb2",
   "metadata": {},
   "outputs": [],
   "source": []
  }
 ],
 "metadata": {
  "kernelspec": {
   "display_name": "Python 3 (ipykernel)",
   "language": "python",
   "name": "python3"
  },
  "language_info": {
   "codemirror_mode": {
    "name": "ipython",
    "version": 3
   },
   "file_extension": ".py",
   "mimetype": "text/x-python",
   "name": "python",
   "nbconvert_exporter": "python",
   "pygments_lexer": "ipython3",
   "version": "3.9.19"
  }
 },
 "nbformat": 4,
 "nbformat_minor": 5
}
