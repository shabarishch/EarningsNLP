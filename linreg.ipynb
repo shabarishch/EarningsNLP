{
 "cells": [
  {
   "cell_type": "code",
   "execution_count": 541,
   "metadata": {},
   "outputs": [],
   "source": [
    "import pandas as pd\n",
    "from sklearn.model_selection import train_test_split\n",
    "import numpy as np\n",
    "from sklearn.preprocessing import StandardScaler\n",
    "from sklearn.preprocessing import PolynomialFeatures\n",
    "from sklearn.linear_model import LinearRegression\n",
    "from sklearn.metrics import mean_squared_error\n",
    "\n",
    "\n",
    "file_path = 'final_data.csv'\n",
    "data = pd.read_csv(file_path).dropna()\n",
    "data['Month'] = data['Month'].apply(lambda x : int(x))\n",
    "data['Month'] = data['Month'].astype('category')\n"
   ]
  },
  {
   "cell_type": "code",
   "execution_count": 542,
   "metadata": {},
   "outputs": [],
   "source": [
    "#Calculates multiplier for the following trading startegies on earnings days in X_test\n",
    "#1. Given a prediction, take a long position for a day if prediction is positive, else short for a day\n",
    "#2. Randomly go long or short for a day based on coin toss\n",
    "#3. Always buy stock on earnings dal and sell it next day\n",
    "\n",
    "def profit_compare(y_pred, y_test, X_test):\n",
    "    X_test['DateTime'] = pd.to_datetime(X_test['Earnings Date and Time'])\n",
    "    X_test.drop('Earnings Date and Time', axis = 1, inplace=True)\n",
    "    X_test = X_test.reset_index()\n",
    "    X_test = X_test.sort_values(by=['DateTime'])\n",
    "\n",
    "    tickers = set(X_test['Ticker'].values)\n",
    "    diffs = []\n",
    "\n",
    "    for ticker in tickers:\n",
    "        #print(ticker)\n",
    "        mult_strat = 1\n",
    "        mult_rand = 1\n",
    "        mult_buy = 1\n",
    "        X_ticker = X_test[X_test['Ticker']==ticker]\n",
    "        indices = X_ticker.index\n",
    "\n",
    "        for i in indices:\n",
    "            #Update multiplier for strategy 1\n",
    "            if y_pred[i] >= 0:\n",
    "                mult_strat=mult_strat*(1+(y_test[i]/100))\n",
    "            else:\n",
    "                mult_strat=mult_strat*(1-(y_test[i]/100))\n",
    "            #Update multiplier for strategy 2\n",
    "            toss = np.random.binomial(1,0.5)\n",
    "            if toss > 0:\n",
    "                mult_rand=mult_rand*(1+(y_test[i]/100))\n",
    "            else:\n",
    "                mult_rand=mult_rand*(1-(y_test[i]/100))\n",
    "            #Update multiplier for strategy 3\n",
    "            mult_buy=mult_buy*(1+(y_test[i]/100))\n",
    "\n",
    "        diffs.append([mult_strat, mult_rand, mult_buy])\n",
    "\n",
    "    return(np.mean(diffs, axis=0))        "
   ]
  },
  {
   "cell_type": "code",
   "execution_count": 543,
   "metadata": {},
   "outputs": [],
   "source": [
    "relevant_cols = ['average_volume_50_days', 'quant_score_NER',\n",
    "       'financial_performance_score', 'market_position_score',\n",
    "       'strategic_direction_score', 'operational_aspects_score',\n",
    "       'financial_indicators_score', 'risks_challenges_score',\n",
    "       'economic_factors_score', '% Change Revenue', '% Change EPS GAAP',\n",
    "       '% Change EPS Normalized',\n",
    "       'perc_change_prev_7', 'perc_change_7_15']"
   ]
  },
  {
   "cell_type": "code",
   "execution_count": 544,
   "metadata": {},
   "outputs": [],
   "source": [
    "mses = []\n",
    "mses_drop_outlier = []\n",
    "signaccus = []\n",
    "signaccus_drop_outlier = []\n",
    "profits = []\n",
    "\n",
    "for i in range(1000):\n",
    "    data_train, data_test = train_test_split(data, test_size=0.2, shuffle=True, stratify=data['Ticker'])\n",
    "    data_train = data_train.sort_values(by=['perc_change_next_prev'])\n",
    "\n",
    "    #Uncomment the following for time based split\n",
    "    #split_idx = int((1 - 0.2) * len(data))\n",
    "    #data_train = data.iloc[:split_idx]\n",
    "    #data_test = data.iloc[split_idx:]\n",
    "    \n",
    "    scaler = StandardScaler()\n",
    "    scaler.fit(data_train[relevant_cols])\n",
    "    data_train[relevant_cols] = scaler.transform(data_train[relevant_cols])\n",
    "    \n",
    "    months_onehot_train = pd.get_dummies(data=data_train['Month'], dtype=int)\n",
    "    months_onehot_train.columns = months_onehot_train.columns.astype(str)\n",
    "    data_train_final = pd.concat([data_train[relevant_cols], months_onehot_train], axis=1)\n",
    "\n",
    "    linreg = LinearRegression()\n",
    "    linreg.fit(data_train_final, data_train['perc_change_next_prev'])\n",
    "\n",
    "    #linreg_drop_outlier = LinearRegression()\n",
    "    #linreg_drop_outlier.fit(data_train_final.iloc[20:-20], data_train['perc_change_next_prev'].iloc[20:-20])\n",
    "\n",
    "    data_test[relevant_cols] = scaler.transform(data_test[relevant_cols])\n",
    "\n",
    "    months_onehot_test = pd.get_dummies(data=data_test['Month'], dtype=int)\n",
    "    months_onehot_test.columns = months_onehot_test.columns.astype(str)\n",
    "    data_test_final = pd.concat([data_test[relevant_cols], months_onehot_test], axis=1)\n",
    "\n",
    "    y_predict = linreg.predict(data_test_final)\n",
    "    #y_predict_drop_outlier = linreg_drop_outlier.predict(data_test_final)\n",
    "\n",
    "    mses.append(mean_squared_error(data_test['perc_change_next_prev'], y_predict))\n",
    "    #mses_drop_outlier.append(mean_squared_error(data_test['perc_change_next_prev'], y_predict_drop_outlier))\n",
    "    \n",
    "    signaccus.append((np.count_nonzero(np.sign(data_test['perc_change_next_prev'])+np.sign(y_predict))/len(y_predict)))\n",
    "    #signaccus_drop_outlier.append((np.count_nonzero(np.sign(data_test['perc_change_next_prev'])+np.sign(y_predict_drop_outlier))/len(y_predict_drop_outlier)))\n",
    "\n",
    "    profits.append(profit_compare(y_predict, data_test['perc_change_next_prev'].values, data_test))"
   ]
  },
  {
   "cell_type": "code",
   "execution_count": 545,
   "metadata": {},
   "outputs": [
    {
     "data": {
      "text/plain": [
       "array([1.03160187, 0.99901604, 1.02145182])"
      ]
     },
     "execution_count": 545,
     "metadata": {},
     "output_type": "execute_result"
    }
   ],
   "source": [
    "np.mean(profits, axis=0)"
   ]
  },
  {
   "cell_type": "code",
   "execution_count": 546,
   "metadata": {},
   "outputs": [
    {
     "data": {
      "text/plain": [
       "26.008179706209337"
      ]
     },
     "execution_count": 546,
     "metadata": {},
     "output_type": "execute_result"
    }
   ],
   "source": [
    "np.mean(mses)"
   ]
  },
  {
   "cell_type": "code",
   "execution_count": 547,
   "metadata": {},
   "outputs": [
    {
     "name": "stderr",
     "output_type": "stream",
     "text": [
      "/Users/shabarishch/opt/anaconda3/envs/erdos/lib/python3.10/site-packages/numpy/core/fromnumeric.py:3504: RuntimeWarning: Mean of empty slice.\n",
      "  return _methods._mean(a, axis=axis, dtype=dtype,\n",
      "/Users/shabarishch/opt/anaconda3/envs/erdos/lib/python3.10/site-packages/numpy/core/_methods.py:129: RuntimeWarning: invalid value encountered in scalar divide\n",
      "  ret = ret.dtype.type(ret / rcount)\n"
     ]
    },
    {
     "data": {
      "text/plain": [
       "nan"
      ]
     },
     "execution_count": 547,
     "metadata": {},
     "output_type": "execute_result"
    }
   ],
   "source": [
    "np.mean(mses_drop_outlier)"
   ]
  },
  {
   "cell_type": "code",
   "execution_count": 548,
   "metadata": {},
   "outputs": [
    {
     "data": {
      "text/plain": [
       "0.5626784922394678"
      ]
     },
     "execution_count": 548,
     "metadata": {},
     "output_type": "execute_result"
    }
   ],
   "source": [
    "np.mean(signaccus)"
   ]
  },
  {
   "cell_type": "code",
   "execution_count": 549,
   "metadata": {},
   "outputs": [
    {
     "data": {
      "text/plain": [
       "nan"
      ]
     },
     "execution_count": 549,
     "metadata": {},
     "output_type": "execute_result"
    }
   ],
   "source": [
    "np.mean(signaccus_drop_outlier)"
   ]
  },
  {
   "cell_type": "code",
   "execution_count": 550,
   "metadata": {},
   "outputs": [
    {
     "data": {
      "text/plain": [
       "array([ 0.05648714, -0.15782029,  0.36386665, -0.12192343,  0.21666329,\n",
       "       -0.11237763,  0.18758229, -0.32396728,  0.03033194,  0.69632008,\n",
       "       -0.56234186, -0.1283891 , -0.59230456,  0.14426428, -0.4733881 ,\n",
       "       -0.4124459 ,  1.18324947, -0.45529712, -0.21522229,  0.4973902 ,\n",
       "        0.15477917,  1.0730595 , -1.70711824, -0.15849942,  0.95008337,\n",
       "       -0.43659064])"
      ]
     },
     "execution_count": 550,
     "metadata": {},
     "output_type": "execute_result"
    }
   ],
   "source": [
    "linreg.coef_"
   ]
  },
  {
   "cell_type": "code",
   "execution_count": null,
   "metadata": {},
   "outputs": [],
   "source": []
  }
 ],
 "metadata": {
  "kernelspec": {
   "display_name": "erdos",
   "language": "python",
   "name": "python3"
  },
  "language_info": {
   "codemirror_mode": {
    "name": "ipython",
    "version": 3
   },
   "file_extension": ".py",
   "mimetype": "text/x-python",
   "name": "python",
   "nbconvert_exporter": "python",
   "pygments_lexer": "ipython3",
   "version": "3.10.12"
  }
 },
 "nbformat": 4,
 "nbformat_minor": 2
}
