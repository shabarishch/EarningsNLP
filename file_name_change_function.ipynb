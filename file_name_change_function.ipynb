{
 "cells": [
  {
   "cell_type": "code",
   "execution_count": 1,
   "metadata": {},
   "outputs": [],
   "source": [
    "import os\n",
    "import re"
   ]
  },
  {
   "cell_type": "code",
   "execution_count": 2,
   "metadata": {},
   "outputs": [
    {
     "data": {
      "text/plain": [
       "\"/Users/apple/Desktop/Zhengjun Liang/Graduate School/Industry/Erdos Bootcamp W'24/Project/Scraping\""
      ]
     },
     "execution_count": 2,
     "metadata": {},
     "output_type": "execute_result"
    }
   ],
   "source": [
    "# Obtain the directory where one is working right now. Note that this assumes that one works locally.\n",
    "os.getcwd()"
   ]
  },
  {
   "cell_type": "code",
   "execution_count": 3,
   "metadata": {},
   "outputs": [],
   "source": [
    "# The input of this function is file path and company symbol in stock market. File path may or may not be the same as what one gets above\n",
    "def changeFileName (path, sym):\n",
    "    file_path = path \n",
    "    file_name = os.listdir(file_path)   #obtain file names in the directory following file path\n",
    "    os.chdir(file_path) #makes sure one works in the desired directory\n",
    "    for i in range(len(file_name)): #rename files using some regex commands\n",
    "        old_name = file_name[i] \n",
    "        search_1 = re.search(\"Q[1-4]\", old_name)\n",
    "        search_2 = re.search(\"20[0-9]{2}\", old_name)\n",
    "        if search_1 != None and search_2 != None:\n",
    "            str_1 = search_1.group()\n",
    "            str_2 = search_2.group()\n",
    "            new_name = sym + str_1 + str_2\n",
    "            os.rename(old_name, new_name)\n",
    "    \n",
    "    new_file_name = os.listdir(file_path)\n",
    "    \n",
    "    return new_file_name"
   ]
  },
  {
   "cell_type": "code",
   "execution_count": null,
   "metadata": {},
   "outputs": [],
   "source": []
  }
 ],
 "metadata": {
  "kernelspec": {
   "display_name": "base",
   "language": "python",
   "name": "python3"
  },
  "language_info": {
   "codemirror_mode": {
    "name": "ipython",
    "version": 3
   },
   "file_extension": ".py",
   "mimetype": "text/x-python",
   "name": "python",
   "nbconvert_exporter": "python",
   "pygments_lexer": "ipython3",
   "version": "3.10.9"
  }
 },
 "nbformat": 4,
 "nbformat_minor": 2
}
